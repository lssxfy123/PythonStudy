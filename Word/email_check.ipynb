{
 "cells": [
  {
   "cell_type": "code",
   "execution_count": 1,
   "metadata": {},
   "outputs": [],
   "source": [
    "import poplib\n",
    "from email.parser import Parser\n",
    "import base64\n",
    "import time\n",
    "# 用来解析邮件主题\n",
    "from email.header import decode_header\n",
    "# 用来解析邮件来源\n",
    "from email.utils import parseaddr"
   ]
  },
  {
   "cell_type": "code",
   "execution_count": 2,
   "metadata": {},
   "outputs": [],
   "source": [
    "class AcceptEmail:\n",
    "    def __init__(self, user_email, password, pop3_server):\n",
    "        self.user_email = user_email\n",
    "        self.password = password\n",
    "        self.pop3_server = pop3_server\n",
    "\n",
    "        self.connect_email_server()\n",
    "\n",
    "    def connect_email_server(self):\n",
    "        self.server = poplib.POP3(self.pop3_server)\n",
    "\n",
    "        # 开始进行身份验证\n",
    "        self.server.user(self.user_email)\n",
    "        self.server.pass_(self.password)\n",
    "\n",
    "    def __del__(self):\n",
    "        # 关闭与服务器的连接，释放资源\n",
    "        self.server.quit()\n",
    "\n",
    "    def get_email_count(self):\n",
    "        # 返回邮件总数目和占用服务器的空间大小（字节数）， 通过stat()方法即可\n",
    "        email_num, email_size = self.server.stat()\n",
    "        # print(\"消息的数量: {0}, 消息的总大小: {1}\".format(email_num, email_size))\n",
    "        return email_num\n",
    "\n",
    "    def receive_email_info(self, now_count=None):\n",
    "        # 返回邮件总数目和占用服务器的空间大小（字节数）， 通过stat()方法即可\n",
    "        email_num, email_size = self.server.stat()\n",
    "        # print(\"消息的数量: {0}, 消息的总大小: {1}\".format(email_num, email_size))\n",
    "        self.email_count = email_num\n",
    "        self.email_sumsize = email_size\n",
    "\n",
    "        # 使用list()返回所有邮件的编号，默认为字节类型的串\n",
    "        rsp, msg_list, rsp_siz = self.server.list()\n",
    "        # print(msg_list, '邮件数量',len(msg_list))\n",
    "        # print(\"服务器的响应: {0},\\n消息列表： {1},\\n返回消息的大小： {2}\".format(rsp, msg_list, rsp_siz))\n",
    "        # print('邮件总数： {}'.format(len(msg_list)))\n",
    "        self.response_status = rsp\n",
    "        self.response_size = rsp_siz\n",
    "        \n",
    "        # 动态取消息\n",
    "        total_mail_numbers = now_count\n",
    "\n",
    "        rsp, msglines, msgsiz = self.server.retr(total_mail_numbers)\n",
    "\n",
    "        # 从邮件原内容中解析\n",
    "        msg_content = b'\\r\\n'.join(msglines).decode('gbk')\n",
    "        msg = Parser().parsestr(text=msg_content)\n",
    "        self.msg = msg\n",
    "\n",
    "    def recv(self, now_count=None):\n",
    "        self.receive_email_info(now_count)\n",
    "        self.parser()\n",
    "\n",
    "    def get_sender_info(self):\n",
    "        hdr, addr = parseaddr(self.msg['From'])\n",
    "        # name 发送人邮箱名称， addr 发送人邮箱地址\n",
    "        name, charset = decode_header(hdr)[0]\n",
    "        if charset:\n",
    "            name = name.decode('gbk')\n",
    "        self.sender_qq_name = name\n",
    "        self.sender_qq_email = addr\n",
    "\n",
    "    def parser(self):\n",
    "        self.get_sender_info()"
   ]
  },
  {
   "cell_type": "code",
   "execution_count": 9,
   "metadata": {},
   "outputs": [],
   "source": [
    "def get_new_mail(dic, second=5):\n",
    "    t = AcceptEmail(**dic)\n",
    "    now_count = t.get_email_count()\n",
    "    print('开启的时候的邮件数量为:{0}'.format(now_count))\n",
    "    # 每次需要重新连接邮箱服务器，才能获取到最新的消息\n",
    "    # 默认每隔5秒看一次是否有新内容\n",
    "    while True:\n",
    "        obj = AcceptEmail(**dic)\n",
    "        count = obj.get_email_count()\n",
    "        if count > now_count:\n",
    "            new_mail_count = count - now_count\n",
    "            print('有新的邮件数量:{0}'.format(new_mail_count))\n",
    "            for i in range(1, new_mail_count + 1):\n",
    "                obj = AcceptEmail(**dic)\n",
    "                now_count += 1\n",
    "                obj.recv(now_count)\n",
    "                if obj.sender_qq_email == \"\":\n",
    "                    break\n",
    "            time.sleep(second)"
   ]
  },
  {
   "cell_type": "code",
   "execution_count": 10,
   "metadata": {},
   "outputs": [
    {
     "ename": "error_proto",
     "evalue": "b'-ERR \\xb5\\xc7\\xc2\\xbc\\xcc\\xab\\xc6\\xb5\\xb7\\xb1!\\xc7\\xeb\\xbc\\xec\\xb2\\xe9\\xc4\\xfa\\xb5\\xc4outlook,foxmail\\xbb\\xf2\\xd5\\xdf\\xc6\\xe4\\xcb\\xfc\\xd7\\xd4\\xb6\\xaf\\xbc\\xec\\xb2\\xe2\\xd3\\xca\\xcf\\xe4\\xb5\\xc4\\xb9\\xa4\\xbe\\xdf(\\xc0\\xfd\\xc8\\xe7\\xcd\\xf8\\xd2\\xd7popo\\xb5\\xc8\\xc1\\xc4\\xcc\\xec\\xb9\\xa4\\xbe\\xdf),\\xbd\\xab\\xbc\\xec\\xb2\\xe2\\xb5\\xc4\\xca\\xb1\\xbc\\xe4\\xbc\\xe4\\xb8\\xf4\\xb5\\xf7\\xb4\\xf3\\xd2\\xbb\\xd0\\xa9\\xa3\\xac\\xc0\\xfd\\xc8\\xe75\\xb7\\xd6\\xd6\\xd3\\xbc\\xe0\\xb2\\xe2\\xd2\\xbb\\xb4\\xce.'",
     "output_type": "error",
     "traceback": [
      "\u001b[1;31m---------------------------------------------------------------------------\u001b[0m",
      "\u001b[1;31merror_proto\u001b[0m                               Traceback (most recent call last)",
      "\u001b[1;32m<ipython-input-10-a7e1abc74b3a>\u001b[0m in \u001b[0;36m<module>\u001b[1;34m\u001b[0m\n\u001b[0;32m      1\u001b[0m \u001b[0mdic\u001b[0m \u001b[1;33m=\u001b[0m \u001b[1;33m{\u001b[0m\u001b[1;34m'user_email'\u001b[0m\u001b[1;33m:\u001b[0m \u001b[1;34m'liushenshenxfy@126.com'\u001b[0m\u001b[1;33m,\u001b[0m\u001b[1;34m'password'\u001b[0m\u001b[1;33m:\u001b[0m \u001b[1;34m'lss19871203'\u001b[0m\u001b[1;33m,\u001b[0m\u001b[1;34m'pop3_server'\u001b[0m\u001b[1;33m:\u001b[0m\u001b[1;34m'pop.126.com'\u001b[0m\u001b[1;33m}\u001b[0m\u001b[1;33m\u001b[0m\u001b[1;33m\u001b[0m\u001b[0m\n\u001b[0;32m      2\u001b[0m \u001b[1;32mtry\u001b[0m\u001b[1;33m:\u001b[0m\u001b[1;33m\u001b[0m\u001b[1;33m\u001b[0m\u001b[0m\n\u001b[1;32m----> 3\u001b[1;33m     \u001b[0mget_new_mail\u001b[0m\u001b[1;33m(\u001b[0m\u001b[0mdic\u001b[0m\u001b[1;33m)\u001b[0m\u001b[1;33m\u001b[0m\u001b[1;33m\u001b[0m\u001b[0m\n\u001b[0m\u001b[0;32m      4\u001b[0m \u001b[1;32mexcept\u001b[0m \u001b[0mTypeError\u001b[0m\u001b[1;33m:\u001b[0m\u001b[1;33m\u001b[0m\u001b[1;33m\u001b[0m\u001b[0m\n\u001b[0;32m      5\u001b[0m     \u001b[0mprint\u001b[0m\u001b[1;33m(\u001b[0m\u001b[1;34m'监听的内容有误，有图片数据等,无法解析而报错，不是纯文本内容'\u001b[0m\u001b[1;33m)\u001b[0m\u001b[1;33m\u001b[0m\u001b[1;33m\u001b[0m\u001b[0m\n",
      "\u001b[1;32m<ipython-input-9-3d558f5a8b53>\u001b[0m in \u001b[0;36mget_new_mail\u001b[1;34m(dic, second)\u001b[0m\n\u001b[0;32m      1\u001b[0m \u001b[1;32mdef\u001b[0m \u001b[0mget_new_mail\u001b[0m\u001b[1;33m(\u001b[0m\u001b[0mdic\u001b[0m\u001b[1;33m,\u001b[0m \u001b[0msecond\u001b[0m\u001b[1;33m=\u001b[0m\u001b[1;36m5\u001b[0m\u001b[1;33m)\u001b[0m\u001b[1;33m:\u001b[0m\u001b[1;33m\u001b[0m\u001b[1;33m\u001b[0m\u001b[0m\n\u001b[1;32m----> 2\u001b[1;33m     \u001b[0mt\u001b[0m \u001b[1;33m=\u001b[0m \u001b[0mAcceptEmail\u001b[0m\u001b[1;33m(\u001b[0m\u001b[1;33m**\u001b[0m\u001b[0mdic\u001b[0m\u001b[1;33m)\u001b[0m\u001b[1;33m\u001b[0m\u001b[1;33m\u001b[0m\u001b[0m\n\u001b[0m\u001b[0;32m      3\u001b[0m     \u001b[0mnow_count\u001b[0m \u001b[1;33m=\u001b[0m \u001b[0mt\u001b[0m\u001b[1;33m.\u001b[0m\u001b[0mget_email_count\u001b[0m\u001b[1;33m(\u001b[0m\u001b[1;33m)\u001b[0m\u001b[1;33m\u001b[0m\u001b[1;33m\u001b[0m\u001b[0m\n\u001b[0;32m      4\u001b[0m     \u001b[0mprint\u001b[0m\u001b[1;33m(\u001b[0m\u001b[1;34m'开启的时候的邮件数量为:{0}'\u001b[0m\u001b[1;33m.\u001b[0m\u001b[0mformat\u001b[0m\u001b[1;33m(\u001b[0m\u001b[0mnow_count\u001b[0m\u001b[1;33m)\u001b[0m\u001b[1;33m)\u001b[0m\u001b[1;33m\u001b[0m\u001b[1;33m\u001b[0m\u001b[0m\n\u001b[0;32m      5\u001b[0m     \u001b[1;31m# 每次需要重新连接邮箱服务器，才能获取到最新的消息\u001b[0m\u001b[1;33m\u001b[0m\u001b[1;33m\u001b[0m\u001b[1;33m\u001b[0m\u001b[0m\n",
      "\u001b[1;32m<ipython-input-2-0eb1ae1b2904>\u001b[0m in \u001b[0;36m__init__\u001b[1;34m(self, user_email, password, pop3_server)\u001b[0m\n\u001b[0;32m      5\u001b[0m         \u001b[0mself\u001b[0m\u001b[1;33m.\u001b[0m\u001b[0mpop3_server\u001b[0m \u001b[1;33m=\u001b[0m \u001b[0mpop3_server\u001b[0m\u001b[1;33m\u001b[0m\u001b[1;33m\u001b[0m\u001b[0m\n\u001b[0;32m      6\u001b[0m \u001b[1;33m\u001b[0m\u001b[0m\n\u001b[1;32m----> 7\u001b[1;33m         \u001b[0mself\u001b[0m\u001b[1;33m.\u001b[0m\u001b[0mconnect_email_server\u001b[0m\u001b[1;33m(\u001b[0m\u001b[1;33m)\u001b[0m\u001b[1;33m\u001b[0m\u001b[1;33m\u001b[0m\u001b[0m\n\u001b[0m\u001b[0;32m      8\u001b[0m \u001b[1;33m\u001b[0m\u001b[0m\n\u001b[0;32m      9\u001b[0m     \u001b[1;32mdef\u001b[0m \u001b[0mconnect_email_server\u001b[0m\u001b[1;33m(\u001b[0m\u001b[0mself\u001b[0m\u001b[1;33m)\u001b[0m\u001b[1;33m:\u001b[0m\u001b[1;33m\u001b[0m\u001b[1;33m\u001b[0m\u001b[0m\n",
      "\u001b[1;32m<ipython-input-2-0eb1ae1b2904>\u001b[0m in \u001b[0;36mconnect_email_server\u001b[1;34m(self)\u001b[0m\n\u001b[0;32m     12\u001b[0m         \u001b[1;31m# 开始进行身份验证\u001b[0m\u001b[1;33m\u001b[0m\u001b[1;33m\u001b[0m\u001b[1;33m\u001b[0m\u001b[0m\n\u001b[0;32m     13\u001b[0m         \u001b[0mself\u001b[0m\u001b[1;33m.\u001b[0m\u001b[0mserver\u001b[0m\u001b[1;33m.\u001b[0m\u001b[0muser\u001b[0m\u001b[1;33m(\u001b[0m\u001b[0mself\u001b[0m\u001b[1;33m.\u001b[0m\u001b[0muser_email\u001b[0m\u001b[1;33m)\u001b[0m\u001b[1;33m\u001b[0m\u001b[1;33m\u001b[0m\u001b[0m\n\u001b[1;32m---> 14\u001b[1;33m         \u001b[0mself\u001b[0m\u001b[1;33m.\u001b[0m\u001b[0mserver\u001b[0m\u001b[1;33m.\u001b[0m\u001b[0mpass_\u001b[0m\u001b[1;33m(\u001b[0m\u001b[0mself\u001b[0m\u001b[1;33m.\u001b[0m\u001b[0mpassword\u001b[0m\u001b[1;33m)\u001b[0m\u001b[1;33m\u001b[0m\u001b[1;33m\u001b[0m\u001b[0m\n\u001b[0m\u001b[0;32m     15\u001b[0m \u001b[1;33m\u001b[0m\u001b[0m\n\u001b[0;32m     16\u001b[0m     \u001b[1;32mdef\u001b[0m \u001b[0m__del__\u001b[0m\u001b[1;33m(\u001b[0m\u001b[0mself\u001b[0m\u001b[1;33m)\u001b[0m\u001b[1;33m:\u001b[0m\u001b[1;33m\u001b[0m\u001b[1;33m\u001b[0m\u001b[0m\n",
      "\u001b[1;32mC:\\ProgramData\\Anaconda3\\lib\\poplib.py\u001b[0m in \u001b[0;36mpass_\u001b[1;34m(self, pswd)\u001b[0m\n\u001b[0;32m    211\u001b[0m         \u001b[0mNB\u001b[0m\u001b[1;33m:\u001b[0m \u001b[0mmailbox\u001b[0m \u001b[1;32mis\u001b[0m \u001b[0mlocked\u001b[0m \u001b[0mby\u001b[0m \u001b[0mserver\u001b[0m \u001b[1;32mfrom\u001b[0m \u001b[0mhere\u001b[0m \u001b[0mto\u001b[0m \u001b[1;34m'quit()'\u001b[0m\u001b[1;33m\u001b[0m\u001b[1;33m\u001b[0m\u001b[0m\n\u001b[0;32m    212\u001b[0m         \"\"\"\n\u001b[1;32m--> 213\u001b[1;33m         \u001b[1;32mreturn\u001b[0m \u001b[0mself\u001b[0m\u001b[1;33m.\u001b[0m\u001b[0m_shortcmd\u001b[0m\u001b[1;33m(\u001b[0m\u001b[1;34m'PASS %s'\u001b[0m \u001b[1;33m%\u001b[0m \u001b[0mpswd\u001b[0m\u001b[1;33m)\u001b[0m\u001b[1;33m\u001b[0m\u001b[1;33m\u001b[0m\u001b[0m\n\u001b[0m\u001b[0;32m    214\u001b[0m \u001b[1;33m\u001b[0m\u001b[0m\n\u001b[0;32m    215\u001b[0m \u001b[1;33m\u001b[0m\u001b[0m\n",
      "\u001b[1;32mC:\\ProgramData\\Anaconda3\\lib\\poplib.py\u001b[0m in \u001b[0;36m_shortcmd\u001b[1;34m(self, line)\u001b[0m\n\u001b[0;32m    174\u001b[0m     \u001b[1;32mdef\u001b[0m \u001b[0m_shortcmd\u001b[0m\u001b[1;33m(\u001b[0m\u001b[0mself\u001b[0m\u001b[1;33m,\u001b[0m \u001b[0mline\u001b[0m\u001b[1;33m)\u001b[0m\u001b[1;33m:\u001b[0m\u001b[1;33m\u001b[0m\u001b[1;33m\u001b[0m\u001b[0m\n\u001b[0;32m    175\u001b[0m         \u001b[0mself\u001b[0m\u001b[1;33m.\u001b[0m\u001b[0m_putcmd\u001b[0m\u001b[1;33m(\u001b[0m\u001b[0mline\u001b[0m\u001b[1;33m)\u001b[0m\u001b[1;33m\u001b[0m\u001b[1;33m\u001b[0m\u001b[0m\n\u001b[1;32m--> 176\u001b[1;33m         \u001b[1;32mreturn\u001b[0m \u001b[0mself\u001b[0m\u001b[1;33m.\u001b[0m\u001b[0m_getresp\u001b[0m\u001b[1;33m(\u001b[0m\u001b[1;33m)\u001b[0m\u001b[1;33m\u001b[0m\u001b[1;33m\u001b[0m\u001b[0m\n\u001b[0m\u001b[0;32m    177\u001b[0m \u001b[1;33m\u001b[0m\u001b[0m\n\u001b[0;32m    178\u001b[0m \u001b[1;33m\u001b[0m\u001b[0m\n",
      "\u001b[1;32mC:\\ProgramData\\Anaconda3\\lib\\poplib.py\u001b[0m in \u001b[0;36m_getresp\u001b[1;34m(self)\u001b[0m\n\u001b[0;32m    150\u001b[0m         \u001b[1;32mif\u001b[0m \u001b[0mself\u001b[0m\u001b[1;33m.\u001b[0m\u001b[0m_debugging\u001b[0m \u001b[1;33m>\u001b[0m \u001b[1;36m1\u001b[0m\u001b[1;33m:\u001b[0m \u001b[0mprint\u001b[0m\u001b[1;33m(\u001b[0m\u001b[1;34m'*resp*'\u001b[0m\u001b[1;33m,\u001b[0m \u001b[0mrepr\u001b[0m\u001b[1;33m(\u001b[0m\u001b[0mresp\u001b[0m\u001b[1;33m)\u001b[0m\u001b[1;33m)\u001b[0m\u001b[1;33m\u001b[0m\u001b[1;33m\u001b[0m\u001b[0m\n\u001b[0;32m    151\u001b[0m         \u001b[1;32mif\u001b[0m \u001b[1;32mnot\u001b[0m \u001b[0mresp\u001b[0m\u001b[1;33m.\u001b[0m\u001b[0mstartswith\u001b[0m\u001b[1;33m(\u001b[0m\u001b[1;34mb'+'\u001b[0m\u001b[1;33m)\u001b[0m\u001b[1;33m:\u001b[0m\u001b[1;33m\u001b[0m\u001b[1;33m\u001b[0m\u001b[0m\n\u001b[1;32m--> 152\u001b[1;33m             \u001b[1;32mraise\u001b[0m \u001b[0merror_proto\u001b[0m\u001b[1;33m(\u001b[0m\u001b[0mresp\u001b[0m\u001b[1;33m)\u001b[0m\u001b[1;33m\u001b[0m\u001b[1;33m\u001b[0m\u001b[0m\n\u001b[0m\u001b[0;32m    153\u001b[0m         \u001b[1;32mreturn\u001b[0m \u001b[0mresp\u001b[0m\u001b[1;33m\u001b[0m\u001b[1;33m\u001b[0m\u001b[0m\n\u001b[0;32m    154\u001b[0m \u001b[1;33m\u001b[0m\u001b[0m\n",
      "\u001b[1;31merror_proto\u001b[0m: b'-ERR \\xb5\\xc7\\xc2\\xbc\\xcc\\xab\\xc6\\xb5\\xb7\\xb1!\\xc7\\xeb\\xbc\\xec\\xb2\\xe9\\xc4\\xfa\\xb5\\xc4outlook,foxmail\\xbb\\xf2\\xd5\\xdf\\xc6\\xe4\\xcb\\xfc\\xd7\\xd4\\xb6\\xaf\\xbc\\xec\\xb2\\xe2\\xd3\\xca\\xcf\\xe4\\xb5\\xc4\\xb9\\xa4\\xbe\\xdf(\\xc0\\xfd\\xc8\\xe7\\xcd\\xf8\\xd2\\xd7popo\\xb5\\xc8\\xc1\\xc4\\xcc\\xec\\xb9\\xa4\\xbe\\xdf),\\xbd\\xab\\xbc\\xec\\xb2\\xe2\\xb5\\xc4\\xca\\xb1\\xbc\\xe4\\xbc\\xe4\\xb8\\xf4\\xb5\\xf7\\xb4\\xf3\\xd2\\xbb\\xd0\\xa9\\xa3\\xac\\xc0\\xfd\\xc8\\xe75\\xb7\\xd6\\xd6\\xd3\\xbc\\xe0\\xb2\\xe2\\xd2\\xbb\\xb4\\xce.'"
     ]
    }
   ],
   "source": [
    "dic = {'user_email': 'liushenshenxfy@126.com','password': 'lss19871203','pop3_server':'pop.126.com'}\n",
    "try:\n",
    "    get_new_mail(dic)\n",
    "except TypeError:\n",
    "    print('监听的内容有误，有图片数据等,无法解析而报错，不是纯文本内容')\n"
   ]
  },
  {
   "cell_type": "code",
   "execution_count": 18,
   "metadata": {},
   "outputs": [
    {
     "name": "stdout",
     "output_type": "stream",
     "text": [
      "*cmd* 'USER liushenshenxfy@126.com'\n",
      "*cmd* 'PASS lss19871203'\n"
     ]
    },
    {
     "ename": "error_proto",
     "evalue": "b'-ERR Unable to log on'",
     "output_type": "error",
     "traceback": [
      "\u001b[1;31m---------------------------------------------------------------------------\u001b[0m",
      "\u001b[1;31merror_proto\u001b[0m                               Traceback (most recent call last)",
      "\u001b[1;32m<ipython-input-18-9a1891b6097b>\u001b[0m in \u001b[0;36m<module>\u001b[1;34m\u001b[0m\n\u001b[0;32m      7\u001b[0m \u001b[1;33m\u001b[0m\u001b[0m\n\u001b[0;32m      8\u001b[0m \u001b[0mserver\u001b[0m\u001b[1;33m.\u001b[0m\u001b[0muser\u001b[0m\u001b[1;33m(\u001b[0m\u001b[0memail\u001b[0m\u001b[1;33m)\u001b[0m\u001b[1;33m\u001b[0m\u001b[1;33m\u001b[0m\u001b[0m\n\u001b[1;32m----> 9\u001b[1;33m \u001b[0mserver\u001b[0m\u001b[1;33m.\u001b[0m\u001b[0mpass_\u001b[0m\u001b[1;33m(\u001b[0m\u001b[0mpassword\u001b[0m\u001b[1;33m)\u001b[0m\u001b[1;33m\u001b[0m\u001b[1;33m\u001b[0m\u001b[0m\n\u001b[0m\u001b[0;32m     10\u001b[0m \u001b[0mprint\u001b[0m\u001b[1;33m(\u001b[0m\u001b[1;34m'Messages: {0}, Size: {1}'\u001b[0m\u001b[1;33m.\u001b[0m\u001b[0mformat\u001b[0m\u001b[1;33m(\u001b[0m\u001b[0mserver\u001b[0m\u001b[1;33m.\u001b[0m\u001b[0mstat\u001b[0m\u001b[1;33m(\u001b[0m\u001b[1;33m)\u001b[0m\u001b[1;33m[\u001b[0m\u001b[1;36m0\u001b[0m\u001b[1;33m]\u001b[0m\u001b[1;33m,\u001b[0m \u001b[0mserver\u001b[0m\u001b[1;33m.\u001b[0m\u001b[0mstat\u001b[0m\u001b[1;33m(\u001b[0m\u001b[1;33m)\u001b[0m\u001b[1;33m[\u001b[0m\u001b[1;36m1\u001b[0m\u001b[1;33m]\u001b[0m\u001b[1;33m)\u001b[0m\u001b[1;33m)\u001b[0m\u001b[1;33m\u001b[0m\u001b[1;33m\u001b[0m\u001b[0m\n\u001b[0;32m     11\u001b[0m \u001b[1;33m\u001b[0m\u001b[0m\n",
      "\u001b[1;32mC:\\ProgramData\\Anaconda3\\lib\\poplib.py\u001b[0m in \u001b[0;36mpass_\u001b[1;34m(self, pswd)\u001b[0m\n\u001b[0;32m    211\u001b[0m         \u001b[0mNB\u001b[0m\u001b[1;33m:\u001b[0m \u001b[0mmailbox\u001b[0m \u001b[1;32mis\u001b[0m \u001b[0mlocked\u001b[0m \u001b[0mby\u001b[0m \u001b[0mserver\u001b[0m \u001b[1;32mfrom\u001b[0m \u001b[0mhere\u001b[0m \u001b[0mto\u001b[0m \u001b[1;34m'quit()'\u001b[0m\u001b[1;33m\u001b[0m\u001b[1;33m\u001b[0m\u001b[0m\n\u001b[0;32m    212\u001b[0m         \"\"\"\n\u001b[1;32m--> 213\u001b[1;33m         \u001b[1;32mreturn\u001b[0m \u001b[0mself\u001b[0m\u001b[1;33m.\u001b[0m\u001b[0m_shortcmd\u001b[0m\u001b[1;33m(\u001b[0m\u001b[1;34m'PASS %s'\u001b[0m \u001b[1;33m%\u001b[0m \u001b[0mpswd\u001b[0m\u001b[1;33m)\u001b[0m\u001b[1;33m\u001b[0m\u001b[1;33m\u001b[0m\u001b[0m\n\u001b[0m\u001b[0;32m    214\u001b[0m \u001b[1;33m\u001b[0m\u001b[0m\n\u001b[0;32m    215\u001b[0m \u001b[1;33m\u001b[0m\u001b[0m\n",
      "\u001b[1;32mC:\\ProgramData\\Anaconda3\\lib\\poplib.py\u001b[0m in \u001b[0;36m_shortcmd\u001b[1;34m(self, line)\u001b[0m\n\u001b[0;32m    174\u001b[0m     \u001b[1;32mdef\u001b[0m \u001b[0m_shortcmd\u001b[0m\u001b[1;33m(\u001b[0m\u001b[0mself\u001b[0m\u001b[1;33m,\u001b[0m \u001b[0mline\u001b[0m\u001b[1;33m)\u001b[0m\u001b[1;33m:\u001b[0m\u001b[1;33m\u001b[0m\u001b[1;33m\u001b[0m\u001b[0m\n\u001b[0;32m    175\u001b[0m         \u001b[0mself\u001b[0m\u001b[1;33m.\u001b[0m\u001b[0m_putcmd\u001b[0m\u001b[1;33m(\u001b[0m\u001b[0mline\u001b[0m\u001b[1;33m)\u001b[0m\u001b[1;33m\u001b[0m\u001b[1;33m\u001b[0m\u001b[0m\n\u001b[1;32m--> 176\u001b[1;33m         \u001b[1;32mreturn\u001b[0m \u001b[0mself\u001b[0m\u001b[1;33m.\u001b[0m\u001b[0m_getresp\u001b[0m\u001b[1;33m(\u001b[0m\u001b[1;33m)\u001b[0m\u001b[1;33m\u001b[0m\u001b[1;33m\u001b[0m\u001b[0m\n\u001b[0m\u001b[0;32m    177\u001b[0m \u001b[1;33m\u001b[0m\u001b[0m\n\u001b[0;32m    178\u001b[0m \u001b[1;33m\u001b[0m\u001b[0m\n",
      "\u001b[1;32mC:\\ProgramData\\Anaconda3\\lib\\poplib.py\u001b[0m in \u001b[0;36m_getresp\u001b[1;34m(self)\u001b[0m\n\u001b[0;32m    150\u001b[0m         \u001b[1;32mif\u001b[0m \u001b[0mself\u001b[0m\u001b[1;33m.\u001b[0m\u001b[0m_debugging\u001b[0m \u001b[1;33m>\u001b[0m \u001b[1;36m1\u001b[0m\u001b[1;33m:\u001b[0m \u001b[0mprint\u001b[0m\u001b[1;33m(\u001b[0m\u001b[1;34m'*resp*'\u001b[0m\u001b[1;33m,\u001b[0m \u001b[0mrepr\u001b[0m\u001b[1;33m(\u001b[0m\u001b[0mresp\u001b[0m\u001b[1;33m)\u001b[0m\u001b[1;33m)\u001b[0m\u001b[1;33m\u001b[0m\u001b[1;33m\u001b[0m\u001b[0m\n\u001b[0;32m    151\u001b[0m         \u001b[1;32mif\u001b[0m \u001b[1;32mnot\u001b[0m \u001b[0mresp\u001b[0m\u001b[1;33m.\u001b[0m\u001b[0mstartswith\u001b[0m\u001b[1;33m(\u001b[0m\u001b[1;34mb'+'\u001b[0m\u001b[1;33m)\u001b[0m\u001b[1;33m:\u001b[0m\u001b[1;33m\u001b[0m\u001b[1;33m\u001b[0m\u001b[0m\n\u001b[1;32m--> 152\u001b[1;33m             \u001b[1;32mraise\u001b[0m \u001b[0merror_proto\u001b[0m\u001b[1;33m(\u001b[0m\u001b[0mresp\u001b[0m\u001b[1;33m)\u001b[0m\u001b[1;33m\u001b[0m\u001b[1;33m\u001b[0m\u001b[0m\n\u001b[0m\u001b[0;32m    153\u001b[0m         \u001b[1;32mreturn\u001b[0m \u001b[0mresp\u001b[0m\u001b[1;33m\u001b[0m\u001b[1;33m\u001b[0m\u001b[0m\n\u001b[0;32m    154\u001b[0m \u001b[1;33m\u001b[0m\u001b[0m\n",
      "\u001b[1;31merror_proto\u001b[0m: b'-ERR Unable to log on'"
     ]
    }
   ],
   "source": [
    "email = 'liushenshenxfy@126.com'\n",
    "password = 'lss19871203'\n",
    "pop3_server = 'pop.126.com'\n",
    "\n",
    "server = poplib.POP3(pop3_server)\n",
    "server.set_debuglevel(1)\n",
    "\n",
    "server.user(email)\n",
    "server.pass_(password)\n",
    "print('Messages: {0}, Size: {1}'.format(server.stat()[0], server.stat()[1]))\n",
    "\n",
    "resp, mails, octets = server.list()\n",
    "\n",
    "# 获取最新邮件\n",
    "index = len(mails)\n",
    "resp, lines, octets = server.retr(index)\n",
    "message_content = b'\\r\\n'.join(lines).decode('utf-8')\n",
    "message = Parser().parsestr(message_content)\n",
    "\n",
    "server.quit()"
   ]
  },
  {
   "cell_type": "code",
   "execution_count": null,
   "metadata": {},
   "outputs": [],
   "source": []
  }
 ],
 "metadata": {
  "kernelspec": {
   "display_name": "Python 3",
   "language": "python",
   "name": "python3"
  },
  "language_info": {
   "codemirror_mode": {
    "name": "ipython",
    "version": 3
   },
   "file_extension": ".py",
   "mimetype": "text/x-python",
   "name": "python",
   "nbconvert_exporter": "python",
   "pygments_lexer": "ipython3",
   "version": "3.7.1"
  }
 },
 "nbformat": 4,
 "nbformat_minor": 2
}
