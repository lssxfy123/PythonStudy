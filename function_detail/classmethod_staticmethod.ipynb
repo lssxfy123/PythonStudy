{
 "cells": [
  {
   "cell_type": "code",
   "execution_count": 21,
   "metadata": {},
   "outputs": [],
   "source": [
    "class Date:\n",
    "    def __init__(self, month, day, year):\n",
    "        self.month = month\n",
    "        self.day   = day\n",
    "        self.year  = year\n",
    "\n",
    "    def display(self):\n",
    "        return \"{0}-{1}-{2}\".format(self.month, self.day, self.year)\n",
    "\n",
    "    @classmethod\n",
    "    def millenium(cls, month, day):\n",
    "        return cls(month, day, 2000)"
   ]
  },
  {
   "cell_type": "code",
   "execution_count": 22,
   "metadata": {},
   "outputs": [],
   "source": [
    "class DateTime(Date):\n",
    "    def display(self):\n",
    "        return \"{0}-{1}-{2} - 00:00:00PM\".format(self.month, self.day, self.year)"
   ]
  },
  {
   "cell_type": "code",
   "execution_count": 23,
   "metadata": {},
   "outputs": [
    {
     "name": "stdout",
     "output_type": "stream",
     "text": [
      "True\n",
      "True\n",
      "10-10-1990 - 00:00:00PM\n",
      "10-10-2000 - 00:00:00PM\n"
     ]
    }
   ],
   "source": [
    "datetime1 = DateTime(10, 10, 1990)\n",
    "datetime2 = DateTime.millenium(10, 10)\n",
    "\n",
    "print(isinstance(datetime1, DateTime)) # True\n",
    "print(isinstance(datetime2, DateTime)) # False\n",
    "\n",
    "print(datetime1.display()) # returns \"10-10-1990 - 00:00:00PM\"\n",
    "print(datetime2.display()) # returns \"10-10-2000- 00:00:00PM\""
   ]
  },
  {
   "cell_type": "code",
   "execution_count": null,
   "metadata": {},
   "outputs": [],
   "source": []
  }
 ],
 "metadata": {
  "kernelspec": {
   "display_name": "Python 3",
   "language": "python",
   "name": "python3"
  },
  "language_info": {
   "codemirror_mode": {
    "name": "ipython",
    "version": 3
   },
   "file_extension": ".py",
   "mimetype": "text/x-python",
   "name": "python",
   "nbconvert_exporter": "python",
   "pygments_lexer": "ipython3",
   "version": "3.7.1"
  }
 },
 "nbformat": 4,
 "nbformat_minor": 2
}
