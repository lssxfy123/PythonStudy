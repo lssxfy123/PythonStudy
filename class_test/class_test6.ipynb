{
 "cells": [
  {
   "cell_type": "code",
   "execution_count": 1,
   "metadata": {},
   "outputs": [],
   "source": [
    "# Copyright(C) 2021 刘珅珅\n",
    "# Environment: python 3.7\n",
    "# Date: 2021.7.29\n",
    "# python中类方法覆盖的本质"
   ]
  },
  {
   "cell_type": "code",
   "execution_count": 1,
   "metadata": {},
   "outputs": [],
   "source": [
    "class Animal:\n",
    "    def speak(self):\n",
    "        print(\"I'm animal\")\n",
    "\n",
    "class Plant:\n",
    "    def speak(self):\n",
    "        print(\"I'm plant\")\n",
    "\n",
    "class Dog(Animal):\n",
    "    def barking(self):\n",
    "        print(\"Dog barking!\")\n",
    "        \n",
    "\n",
    "class LittleDog(Dog, Plant):\n",
    "    def __init__(self):\n",
    "        self.name = \"little dog\"\n",
    "\n",
    "\n"
   ]
  },
  {
   "cell_type": "code",
   "execution_count": 2,
   "metadata": {},
   "outputs": [
    {
     "name": "stdout",
     "output_type": "stream",
     "text": [
      "I'm animal\n"
     ]
    }
   ],
   "source": [
    "little_dog = LittleDog()\n",
    "little_dog.speak()"
   ]
  },
  {
   "cell_type": "code",
   "execution_count": 3,
   "metadata": {},
   "outputs": [
    {
     "name": "stdout",
     "output_type": "stream",
     "text": [
      "[<class '__main__.LittleDog'>, <class '__main__.Dog'>, <class '__main__.Animal'>, <class '__main__.Plant'>, <class 'object'>]\n"
     ]
    }
   ],
   "source": [
    "print(LittleDog.mro())"
   ]
  },
  {
   "cell_type": "code",
   "execution_count": 12,
   "metadata": {},
   "outputs": [],
   "source": [
    "class A:\n",
    "    local_a = A(\"local A\")\n",
    "    def __init__(self, name):\n",
    "        self.name = name\n",
    "        \n",
    "    def print(self):\n",
    "        print(self.local_a.name)\n",
    "        "
   ]
  },
  {
   "cell_type": "code",
   "execution_count": 13,
   "metadata": {},
   "outputs": [
    {
     "name": "stdout",
     "output_type": "stream",
     "text": [
      "local A\n"
     ]
    }
   ],
   "source": [
    "a = A(\"class A\")\n",
    "a.print()"
   ]
  },
  {
   "cell_type": "code",
   "execution_count": null,
   "metadata": {},
   "outputs": [],
   "source": []
  }
 ],
 "metadata": {
  "kernelspec": {
   "display_name": "Python 3",
   "language": "python",
   "name": "python3"
  },
  "language_info": {
   "codemirror_mode": {
    "name": "ipython",
    "version": 3
   },
   "file_extension": ".py",
   "mimetype": "text/x-python",
   "name": "python",
   "nbconvert_exporter": "python",
   "pygments_lexer": "ipython3",
   "version": "3.7.1"
  }
 },
 "nbformat": 4,
 "nbformat_minor": 2
}
