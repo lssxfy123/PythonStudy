{
 "cells": [
  {
   "cell_type": "code",
   "execution_count": 1,
   "metadata": {},
   "outputs": [
    {
     "name": "stderr",
     "output_type": "stream",
     "text": [
      "Using TensorFlow backend.\n"
     ]
    }
   ],
   "source": [
    "from sklearn.datasets import load_files       \n",
    "from keras.utils import np_utils\n",
    "from keras.layers import Lambda\n",
    "from keras.applications.resnet50 import ResNet50\n",
    "from keras.applications.resnet50 import preprocess_input as resnet50_pre\n",
    "from keras.applications.inception_v3 import InceptionV3\n",
    "from keras.applications.inception_v3 import preprocess_input as inceptionV3_pre\n",
    "from keras.applications.xception import Xception\n",
    "from keras.applications.xception import preprocess_input as xception_pre\n",
    "from keras.preprocessing import image                  \n",
    "from tqdm import tqdm\n",
    "from PIL import ImageFile  \n",
    "from keras.applications.resnet50 import preprocess_input, decode_predictions\n",
    "from keras.layers import Conv2D, MaxPooling2D, GlobalAveragePooling2D\n",
    "from keras.layers import Dropout, Flatten, Dense, Input\n",
    "from keras.models import Sequential, Model\n",
    "from keras.preprocessing.image import ImageDataGenerator\n",
    "from keras.callbacks import ModelCheckpoint  \n",
    "import numpy as np\n",
    "import pandas as pd\n",
    "from glob import glob\n",
    "import cv2                \n",
    "import matplotlib.pyplot as plt    \n",
    "import matplotlib.image as mpimg\n",
    "%matplotlib inline \n",
    "import random\n",
    "import os\n",
    "import shutil\n",
    "import h5py"
   ]
  },
  {
   "cell_type": "markdown",
   "metadata": {},
   "source": [
    "## 对图片进行分类"
   ]
  },
  {
   "cell_type": "code",
   "execution_count": 2,
   "metadata": {},
   "outputs": [],
   "source": [
    "\n",
    "train_path = 'dogs-vs-cats/train1/'\n",
    "test_path = 'dogs-vs-cats/test1/'\n",
    "\n",
    "dog_path = train_path + 'dog/'\n",
    "cat_path = train_path + 'cat/'\n",
    "\n",
    "if not os.path.exists(dog_path):\n",
    "    names= os.listdir(train_path)\n",
    "    os.mkdir(dog_path)\n",
    "    os.mkdir(cat_path)\n",
    "    [shutil.move(train_path + name, cat_path + name) for name in names if name.startswith('cat')]\n",
    "    [shutil.move(train_path + name, dog_path + name) for name in names if name.startswith('dog')]\n",
    "    \n"
   ]
  },
  {
   "cell_type": "code",
   "execution_count": 3,
   "metadata": {},
   "outputs": [],
   "source": [
    "def write_gap(MODEL, image_size, lambda_func=None):\n",
    "    width = image_size[0]\n",
    "    height = image_size[1]\n",
    "    input_tensor = Input((height, width, 3))\n",
    "    x = input_tensor\n",
    "    if lambda_func:\n",
    "        x = Lambda(lambda_func)(x)\n",
    "\n",
    "    base_model = MODEL(input_tensor=x, weights='imagenet', include_top=False)\n",
    "    #进行这一步时会从Keras网站中下载imagenet模型，如果网速慢或缺乏连接，\n",
    "    #可以直接在上面的连接下载，放到C:\\Users\\用户名\\.keras\\models 下\n",
    "    #（模型有可能不是最新的，导致进行到这一步仍然报错），\n",
    "    #或者直接点击报错的GitHub链接进行下载\n",
    "    model = Model(base_model.input, GlobalAveragePooling2D()(base_model.output))\n",
    "\n",
    "    gen = ImageDataGenerator()\n",
    "    train_path = \"dogs-vs-cats/train1/\"\n",
    "    test_path = 'dogs-vs-cats/test1/'\n",
    "    train_generator = gen.flow_from_directory(train_path, image_size, shuffle=False,\n",
    "                                              batch_size=1)\n",
    "    test_generator = gen.flow_from_directory(test_path, image_size, shuffle=False,\n",
    "                                             batch_size=1, class_mode=None)\n",
    "\n",
    "    train = model.predict_generator(train_generator, train_generator.samples)\n",
    "    test = model.predict_generator(test_generator, test_generator.samples)\n",
    "    with h5py.File(\"gap_{0}.h5\".format(base_model.name)) as h:\n",
    "        h.create_dataset(\"train\", data=train)\n",
    "        h.create_dataset(\"test\", data=test)\n",
    "        h.create_dataset(\"label\", data=train_generator.classes)"
   ]
  },
  {
   "cell_type": "code",
   "execution_count": 4,
   "metadata": {},
   "outputs": [
    {
     "name": "stderr",
     "output_type": "stream",
     "text": [
      "WARNING: Logging before flag parsing goes to stderr.\n",
      "W0320 18:28:56.875257  4688 deprecation.py:506] From C:\\ProgramData\\Anaconda3\\envs\\graduate\\lib\\site-packages\\tensorflow\\python\\training\\moving_averages.py:210: calling Zeros.__init__ (from tensorflow.python.ops.init_ops) with dtype is deprecated and will be removed in a future version.\n",
      "Instructions for updating:\n",
      "Call initializer instance with the dtype argument instead of passing it to the constructor\n",
      "C:\\ProgramData\\Anaconda3\\envs\\graduate\\lib\\site-packages\\keras_applications\\resnet50.py:265: UserWarning: The output shape of `ResNet50(include_top=False)` has been changed since Keras 2.2.0.\n",
      "  warnings.warn('The output shape of `ResNet50(include_top=False)` '\n"
     ]
    },
    {
     "name": "stdout",
     "output_type": "stream",
     "text": [
      "Found 200 images belonging to 2 classes.\n",
      "Found 100 images belonging to 1 classes.\n"
     ]
    }
   ],
   "source": [
    "write_gap(ResNet50, (224, 224))\n"
   ]
  },
  {
   "cell_type": "code",
   "execution_count": 5,
   "metadata": {},
   "outputs": [
    {
     "name": "stdout",
     "output_type": "stream",
     "text": [
      "Found 200 images belonging to 2 classes.\n",
      "Found 100 images belonging to 1 classes.\n"
     ]
    }
   ],
   "source": [
    "write_gap(InceptionV3, (299, 299), inceptionV3_pre)"
   ]
  },
  {
   "cell_type": "code",
   "execution_count": 6,
   "metadata": {},
   "outputs": [
    {
     "name": "stdout",
     "output_type": "stream",
     "text": [
      "Found 200 images belonging to 2 classes.\n",
      "Found 100 images belonging to 1 classes.\n"
     ]
    }
   ],
   "source": [
    "write_gap(Xception, (299, 299), xception_pre)"
   ]
  },
  {
   "cell_type": "code",
   "execution_count": 7,
   "metadata": {},
   "outputs": [],
   "source": [
    "np.random.seed(2017)\n",
    "\n",
    "X_train = []\n",
    "X_test = []\n",
    "for filenames in [\"gap_resnet50.h5\", \"gap_inception_v3.h5\", \"gap_xception.h5\"]:\n",
    "    filename = filenames\n",
    "    with h5py.File(filename, 'r') as h:\n",
    "        X_train.append(np.array(h['train']))\n",
    "        X_test.append(np.array(h['test']))\n",
    "        y_train = np.array(h['label'])\n",
    "X_train = np.concatenate(X_train, axis=1)\n",
    "X_test = np.concatenate(X_test, axis=1)\n"
   ]
  },
  {
   "cell_type": "code",
   "execution_count": 8,
   "metadata": {},
   "outputs": [
    {
     "name": "stderr",
     "output_type": "stream",
     "text": [
      "W0320 18:58:33.689949  4688 deprecation.py:506] From C:\\ProgramData\\Anaconda3\\envs\\graduate\\lib\\site-packages\\keras\\backend\\tensorflow_backend.py:3445: calling dropout (from tensorflow.python.ops.nn_ops) with keep_prob is deprecated and will be removed in a future version.\n",
      "Instructions for updating:\n",
      "Please use `rate` instead of `keep_prob`. Rate should be set to `rate = 1 - keep_prob`.\n"
     ]
    }
   ],
   "source": [
    "inputs = Input(X_train.shape[1:])#shape=（2048*3，）\n",
    "x = Dropout(0.5)(inputs)\n",
    "x = Dense(1, activation='sigmoid')(x)\n",
    "model = Model(inputs, x)\n",
    "model.compile(optimizer='adadelta',\n",
    "              loss='binary_crossentropy',\n",
    "              metrics=['accuracy'])\n"
   ]
  },
  {
   "cell_type": "code",
   "execution_count": 9,
   "metadata": {},
   "outputs": [
    {
     "name": "stderr",
     "output_type": "stream",
     "text": [
      "C:\\ProgramData\\Anaconda3\\envs\\graduate\\lib\\site-packages\\ipykernel_launcher.py:1: UserWarning: The `nb_epoch` argument in `fit` has been renamed `epochs`.\n",
      "  \"\"\"Entry point for launching an IPython kernel.\n"
     ]
    },
    {
     "name": "stdout",
     "output_type": "stream",
     "text": [
      "Train on 160 samples, validate on 40 samples\n",
      "Epoch 1/1\n",
      " - 6s - loss: 0.5888 - acc: 0.6688 - val_loss: 1.4969 - val_acc: 0.0000e+00\n",
      "100/100 [==============================] - ETA:  - 1s 15ms/step\n"
     ]
    }
   ],
   "source": [
    "model.fit(X_train, y_train, batch_size=128, nb_epoch=1, validation_split=0.2,verbose=2)\n",
    "\n",
    "y_pred = model.predict(X_test, verbose=1)\n",
    "y_pred = y_pred.clip(min=0.005, max=0.995)"
   ]
  },
  {
   "cell_type": "code",
   "execution_count": 11,
   "metadata": {},
   "outputs": [
    {
     "data": {
      "text/plain": [
       "array([[0.13094783],\n",
       "       [0.05426881],\n",
       "       [0.03095853],\n",
       "       [0.03443813],\n",
       "       [0.26116753],\n",
       "       [0.01878142],\n",
       "       [0.0219692 ],\n",
       "       [0.02792978],\n",
       "       [0.00973615],\n",
       "       [0.1806455 ],\n",
       "       [0.33995742],\n",
       "       [0.02947286],\n",
       "       [0.1864104 ],\n",
       "       [0.03422177],\n",
       "       [0.2920377 ],\n",
       "       [0.04326177],\n",
       "       [0.26537746],\n",
       "       [0.26114786],\n",
       "       [0.01333237],\n",
       "       [0.11783651],\n",
       "       [0.25961027],\n",
       "       [0.04270884],\n",
       "       [0.10249051],\n",
       "       [0.1449669 ],\n",
       "       [0.20038271],\n",
       "       [0.4993934 ],\n",
       "       [0.11606357],\n",
       "       [0.40339655],\n",
       "       [0.02696654],\n",
       "       [0.02847821],\n",
       "       [0.01973817],\n",
       "       [0.0117847 ],\n",
       "       [0.01580504],\n",
       "       [0.1474472 ],\n",
       "       [0.21703652],\n",
       "       [0.02244088],\n",
       "       [0.24330959],\n",
       "       [0.29098642],\n",
       "       [0.42505878],\n",
       "       [0.3326541 ],\n",
       "       [0.05284646],\n",
       "       [0.13421592],\n",
       "       [0.03722295],\n",
       "       [0.21565998],\n",
       "       [0.37879962],\n",
       "       [0.0176042 ],\n",
       "       [0.03374287],\n",
       "       [0.03866315],\n",
       "       [0.02406275],\n",
       "       [0.04574803],\n",
       "       [0.0264976 ],\n",
       "       [0.01999012],\n",
       "       [0.0897418 ],\n",
       "       [0.27871442],\n",
       "       [0.02757561],\n",
       "       [0.23131073],\n",
       "       [0.01973   ],\n",
       "       [0.03271976],\n",
       "       [0.03182319],\n",
       "       [0.15898776],\n",
       "       [0.01012829],\n",
       "       [0.07065505],\n",
       "       [0.34373838],\n",
       "       [0.15985957],\n",
       "       [0.22999686],\n",
       "       [0.02829584],\n",
       "       [0.34729618],\n",
       "       [0.03336132],\n",
       "       [0.38581783],\n",
       "       [0.15219873],\n",
       "       [0.1677854 ],\n",
       "       [0.40121445],\n",
       "       [0.28274298],\n",
       "       [0.11750934],\n",
       "       [0.26353705],\n",
       "       [0.2199378 ],\n",
       "       [0.15864402],\n",
       "       [0.10749245],\n",
       "       [0.01677293],\n",
       "       [0.0185796 ],\n",
       "       [0.05507183],\n",
       "       [0.04450774],\n",
       "       [0.5421194 ],\n",
       "       [0.05001736],\n",
       "       [0.30262497],\n",
       "       [0.07526374],\n",
       "       [0.40198866],\n",
       "       [0.17067382],\n",
       "       [0.01102787],\n",
       "       [0.0187763 ],\n",
       "       [0.07959062],\n",
       "       [0.03223026],\n",
       "       [0.04312468],\n",
       "       [0.01577249],\n",
       "       [0.5826925 ],\n",
       "       [0.22790706],\n",
       "       [0.02077229],\n",
       "       [0.39139983],\n",
       "       [0.22237824],\n",
       "       [0.02392003]], dtype=float32)"
      ]
     },
     "execution_count": 11,
     "metadata": {},
     "output_type": "execute_result"
    }
   ],
   "source": [
    "y_pred"
   ]
  },
  {
   "cell_type": "code",
   "execution_count": 10,
   "metadata": {},
   "outputs": [
    {
     "name": "stdout",
     "output_type": "stream",
     "text": [
      "Found 100 images belonging to 1 classes.\n"
     ]
    },
    {
     "name": "stderr",
     "output_type": "stream",
     "text": [
      "C:\\ProgramData\\Anaconda3\\envs\\graduate\\lib\\site-packages\\ipykernel_launcher.py:10: FutureWarning: set_value is deprecated and will be removed in a future release. Please use .at[] or .iat[] accessors instead\n",
      "  # Remove the CWD from sys.path while we load stuff.\n"
     ]
    },
    {
     "data": {
      "text/html": [
       "<div>\n",
       "<style scoped>\n",
       "    .dataframe tbody tr th:only-of-type {\n",
       "        vertical-align: middle;\n",
       "    }\n",
       "\n",
       "    .dataframe tbody tr th {\n",
       "        vertical-align: top;\n",
       "    }\n",
       "\n",
       "    .dataframe thead th {\n",
       "        text-align: right;\n",
       "    }\n",
       "</style>\n",
       "<table border=\"1\" class=\"dataframe\">\n",
       "  <thead>\n",
       "    <tr style=\"text-align: right;\">\n",
       "      <th></th>\n",
       "      <th>id</th>\n",
       "      <th>label</th>\n",
       "    </tr>\n",
       "  </thead>\n",
       "  <tbody>\n",
       "    <tr>\n",
       "      <th>0</th>\n",
       "      <td>1</td>\n",
       "      <td>0.130948</td>\n",
       "    </tr>\n",
       "    <tr>\n",
       "      <th>1</th>\n",
       "      <td>2</td>\n",
       "      <td>0.186410</td>\n",
       "    </tr>\n",
       "    <tr>\n",
       "      <th>2</th>\n",
       "      <td>3</td>\n",
       "      <td>0.144967</td>\n",
       "    </tr>\n",
       "    <tr>\n",
       "      <th>3</th>\n",
       "      <td>4</td>\n",
       "      <td>0.217037</td>\n",
       "    </tr>\n",
       "    <tr>\n",
       "      <th>4</th>\n",
       "      <td>5</td>\n",
       "      <td>0.017604</td>\n",
       "    </tr>\n",
       "    <tr>\n",
       "      <th>5</th>\n",
       "      <td>6</td>\n",
       "      <td>0.019730</td>\n",
       "    </tr>\n",
       "    <tr>\n",
       "      <th>6</th>\n",
       "      <td>7</td>\n",
       "      <td>0.033361</td>\n",
       "    </tr>\n",
       "    <tr>\n",
       "      <th>7</th>\n",
       "      <td>8</td>\n",
       "      <td>0.016773</td>\n",
       "    </tr>\n",
       "    <tr>\n",
       "      <th>8</th>\n",
       "      <td>9</td>\n",
       "      <td>0.018776</td>\n",
       "    </tr>\n",
       "    <tr>\n",
       "      <th>9</th>\n",
       "      <td>10</td>\n",
       "      <td>0.054269</td>\n",
       "    </tr>\n",
       "  </tbody>\n",
       "</table>\n",
       "</div>"
      ],
      "text/plain": [
       "   id     label\n",
       "0   1  0.130948\n",
       "1   2  0.186410\n",
       "2   3  0.144967\n",
       "3   4  0.217037\n",
       "4   5  0.017604\n",
       "5   6  0.019730\n",
       "6   7  0.033361\n",
       "7   8  0.016773\n",
       "8   9  0.018776\n",
       "9  10  0.054269"
      ]
     },
     "execution_count": 10,
     "metadata": {},
     "output_type": "execute_result"
    }
   ],
   "source": [
    "df = pd.read_csv(\"dogs-vs-cats/sample_submission.csv\")\n",
    "\n",
    "gen = ImageDataGenerator()\n",
    "test_path = 'dogs-vs-cats/test1/'\n",
    "test_generator = gen.flow_from_directory(test_path, (224, 224), shuffle=False,\n",
    "                                         batch_size=1, class_mode=None)\n",
    "\n",
    "for i, fname in enumerate(test_generator.filenames):\n",
    "    index = int(fname[fname.rfind('\\\\')+1:fname.rfind('.')])\n",
    "    df.set_value(index-1, 'label', y_pred[i])\n",
    "\n",
    "df.to_csv('pred.csv', index=None)\n",
    "df.head(10)\n"
   ]
  },
  {
   "cell_type": "code",
   "execution_count": null,
   "metadata": {},
   "outputs": [],
   "source": []
  }
 ],
 "metadata": {
  "anaconda-cloud": {},
  "kernelspec": {
   "display_name": "Python 3",
   "language": "python",
   "name": "python3"
  },
  "language_info": {
   "codemirror_mode": {
    "name": "ipython",
    "version": 3
   },
   "file_extension": ".py",
   "mimetype": "text/x-python",
   "name": "python",
   "nbconvert_exporter": "python",
   "pygments_lexer": "ipython3",
   "version": "3.7.1"
  }
 },
 "nbformat": 4,
 "nbformat_minor": 1
}
