{
 "cells": [
  {
   "cell_type": "markdown",
   "metadata": {},
   "source": [
    "## 自己构建的网络"
   ]
  },
  {
   "cell_type": "code",
   "execution_count": 1,
   "metadata": {},
   "outputs": [
    {
     "name": "stderr",
     "output_type": "stream",
     "text": [
      "Using TensorFlow backend.\n"
     ]
    }
   ],
   "source": [
    "from sklearn.datasets import load_files       \n",
    "from keras.utils import np_utils\n",
    "from keras.layers import Lambda\n",
    "from keras.applications.resnet50 import ResNet50\n",
    "from keras.applications.resnet50 import preprocess_input as resnet50_pre\n",
    "from keras.applications.resnet50 import decode_predictions as resnet50_decode\n",
    "from keras.applications.inception_v3 import InceptionV3\n",
    "from keras.applications.inception_v3 import preprocess_input as inceptionV3_pre\n",
    "from keras.applications.inception_v3 import decode_predictions as inceptionV3_decode\n",
    "from keras.applications.xception import Xception\n",
    "from keras.applications.xception import preprocess_input as xception_pre\n",
    "from keras.applications.xception import decode_predictions as xception_decode\n",
    "from keras.applications.vgg16 import VGG16\n",
    "from keras.applications.vgg16 import preprocess_input as vgg16_pre\n",
    "from keras.applications.vgg16 import decode_predictions as vgg16_decode\n",
    "from keras.applications.vgg19 import VGG19\n",
    "from keras.applications.vgg19 import preprocess_input as vgg19_pre\n",
    "from keras.applications.vgg19 import decode_predictions as vgg19_decode\n",
    "from keras.preprocessing import image   \n",
    "from keras.optimizers import SGD, Adam\n",
    "from keras.utils.np_utils import to_categorical\n",
    "from tqdm import tqdm\n",
    "from PIL import ImageFile  \n",
    "from keras.applications.resnet50 import preprocess_input, decode_predictions\n",
    "from keras.layers import Conv2D, MaxPooling2D, GlobalAveragePooling2D\n",
    "from keras.layers import Dropout, Flatten, Dense, Input, Activation\n",
    "from keras.models import Sequential, Model\n",
    "from keras.preprocessing.image import ImageDataGenerator\n",
    "from keras.callbacks import ModelCheckpoint  \n",
    "import numpy as np\n",
    "import pandas as pd\n",
    "from glob import glob\n",
    "import cv2                \n",
    "import matplotlib.pyplot as plt    \n",
    "import matplotlib.image as mpimg\n",
    "%matplotlib inline \n",
    "import random\n",
    "import os\n",
    "import shutil\n",
    "import h5py\n",
    "import common\n",
    "import pickle\n",
    "from functools import reduce"
   ]
  },
  {
   "cell_type": "code",
   "execution_count": 2,
   "metadata": {
    "collapsed": true
   },
   "outputs": [],
   "source": [
    "## ImageNet中狗的种类\n",
    "imagenet_dogs = ['n02085620','n02085782','n02085936','n02086079','n02086240','n02086646','n02086910','n02087046','n02087394',\n",
    "                 'n02088094','n02088238','n02088364','n02088466','n02088632','n02089078','n02089867','n02089973','n02090379',\n",
    "                 'n02090622','n02090721','n02091032','n02091134','n02091244','n02091467','n02091635','n02091831','n02092002',\n",
    "                 'n02092339','n02093256','n02093428','n02093647','n02093754','n02093859','n02093991','n02094114','n02094258',\n",
    "                 'n02094433','n02095314','n02095570','n02095889','n02096051','n02096177','n02096294','n02096437','n02096585',\n",
    "                 'n02097047','n02097130','n02097209','n02097298','n02097474','n02097658','n02098105','n02098286','n02098413',\n",
    "                 'n02099267','n02099429','n02099601','n02099712','n02099849','n02100236','n02100583','n02100735','n02100877',\n",
    "                 'n02101006','n02101388','n02101556','n02102040','n02102177','n02102318','n02102480','n02102973','n02104029',\n",
    "                 'n02104365','n02105056','n02105162','n02105251','n02105412','n02105505','n02105641','n02105855','n02106030',\n",
    "                 'n02106166','n02106382','n02106550','n02106662','n02107142','n02107312','n02107574','n02107683','n02107908',\n",
    "                 'n02108000','n02108089','n02108422','n02108551','n02108915','n02109047','n02109525','n02109961','n02110063',\n",
    "                 'n02110185','n02110341','n02110627','n02110806','n02110958','n02111129','n02111277','n02111500','n02111889',\n",
    "                 'n02112018','n02112137','n02112350','n02112706','n02113023','n02113186','n02113624','n02113712','n02113799',\n",
    "                 'n02113978']\n",
    "\n",
    "## ImageNet中猫的种类\n",
    "imagenet_cats=['n02123045','n02123159','n02123394','n02123597','n02124075','n02125311','n02127052']"
   ]
  },
  {
   "cell_type": "code",
   "execution_count": 3,
   "metadata": {
    "collapsed": true
   },
   "outputs": [],
   "source": [
    "names = os.listdir(common.train_path)"
   ]
  },
  {
   "cell_type": "code",
   "execution_count": 4,
   "metadata": {
    "collapsed": true
   },
   "outputs": [],
   "source": [
    "def get_exception_images(model, target_size, preprocess_func, decode_func):\n",
    "    exception_names = []\n",
    "    for name in names:\n",
    "        img = image.load_img(common.train_path + name, target_size=target_size)\n",
    "        x = image.img_to_array(img)\n",
    "        x = np.expand_dims(x, axis=0)\n",
    "        x = preprocess_func(x)\n",
    "        preds = model.predict(x)\n",
    "        \n",
    "        ## 通过预训练模型对图片进行预测，并根据其前30个结果进行判断，如果标记为猫\n",
    "        ## 其结果没有ImageNet中猫的种类，或者标记为狗其结果没有ImageNet中狗的种类,\n",
    "        ## 则视为异常图片\n",
    "        category_indexs,category_name,prop = zip(*decode_func(preds, top=30)[0])\n",
    "        if name.startswith('cat'):\n",
    "            if np.sum([1 for category_index in category_indexs if category_index in imagenet_cats]) < 1:\n",
    "                exception_names.append(name)\n",
    "        elif name.startswith('dog'):\n",
    "            if np.sum([1 for category_index in category_indexs if category_index in imagenet_dogs]) < 1:\n",
    "                exception_names.append(name)\n",
    "    return exception_names"
   ]
  },
  {
   "cell_type": "code",
   "execution_count": 5,
   "metadata": {
    "collapsed": true
   },
   "outputs": [],
   "source": [
    "model = VGG16(weights='imagenet')\n",
    "vgg16_exception_images = get_exception_images(model, (224, 224), vgg16_pre, vgg16_decode)"
   ]
  },
  {
   "cell_type": "code",
   "execution_count": 7,
   "metadata": {
    "collapsed": true
   },
   "outputs": [],
   "source": [
    "model = VGG19(weights='imagenet')\n",
    "vgg19_exception_images = get_exception_images(model, (224, 224), vgg19_pre, vgg19_decode)"
   ]
  },
  {
   "cell_type": "code",
   "execution_count": 8,
   "metadata": {
    "collapsed": true
   },
   "outputs": [],
   "source": [
    "model = InceptionV3(weights='imagenet', include_top=True)\n",
    "inceptionV3_exception_images = get_exception_images(model, (299, 299), inceptionV3_pre, inceptionV3_decode)"
   ]
  },
  {
   "cell_type": "code",
   "execution_count": 9,
   "metadata": {
    "collapsed": true
   },
   "outputs": [],
   "source": [
    "model = Xception(weights='imagenet')\n",
    "xception_exception_images = get_exception_images(model, (299, 299), xception_pre, xception_decode)"
   ]
  },
  {
   "cell_type": "code",
   "execution_count": 10,
   "metadata": {},
   "outputs": [],
   "source": [
    "model = ResNet50(weights='imagenet')\n",
    "resnet50_exception_images = get_exception_images(model, (224, 224), resnet50_pre, resnet50_decode)"
   ]
  },
  {
   "cell_type": "code",
   "execution_count": 11,
   "metadata": {},
   "outputs": [],
   "source": [
    "## 取5种模型预测的交集\n",
    "exception_images = reduce(np.intersect1d, (vgg16_exception_images, vgg19_exception_images, inceptionV3_exception_images, \n",
    "       xception_exception_images,resnet50_exception_images))"
   ]
  },
  {
   "cell_type": "code",
   "execution_count": 12,
   "metadata": {},
   "outputs": [
    {
     "name": "stdout",
     "output_type": "stream",
     "text": [
      "['cat.10365.jpg' 'cat.10636.jpg' 'cat.10712.jpg' 'cat.11184.jpg'\n",
      " 'cat.11565.jpg' 'cat.12227.jpg' 'cat.12272.jpg' 'cat.12424.jpg'\n",
      " 'cat.12493.jpg' 'cat.2337.jpg' 'cat.252.jpg' 'cat.2520.jpg'\n",
      " 'cat.2893.jpg' 'cat.2939.jpg' 'cat.3216.jpg' 'cat.3731.jpg'\n",
      " 'cat.3868.jpg' 'cat.4338.jpg' 'cat.4688.jpg' 'cat.4833.jpg'\n",
      " 'cat.4852.jpg' 'cat.503.jpg' 'cat.5351.jpg' 'cat.5418.jpg' 'cat.6429.jpg'\n",
      " 'cat.6442.jpg' 'cat.6699.jpg' 'cat.7377.jpg' 'cat.7564.jpg'\n",
      " 'cat.7920.jpg' 'cat.7968.jpg' 'cat.8383.jpg' 'cat.8456.jpg'\n",
      " 'cat.8470.jpg' 'cat.9090.jpg' 'cat.9171.jpg' 'cat.9444.jpg'\n",
      " 'dog.10161.jpg' 'dog.10190.jpg' 'dog.10237.jpg' 'dog.10801.jpg'\n",
      " 'dog.12376.jpg' 'dog.1773.jpg' 'dog.1895.jpg' 'dog.2422.jpg'\n",
      " 'dog.4367.jpg' 'dog.5604.jpg' 'dog.6475.jpg' 'dog.8736.jpg'\n",
      " 'dog.9517.jpg']\n"
     ]
    }
   ],
   "source": [
    "## 5种模型都无法识别出来是猫或狗\n",
    "print(exception_images)"
   ]
  },
  {
   "cell_type": "code",
   "execution_count": 14,
   "metadata": {
    "collapsed": true
   },
   "outputs": [],
   "source": [
    "## kaggle上讨论区给出的错误图片\n",
    "error_images = ['cat.3216.jpg', 'cat.7377.jpg', 'cat.8456.jpg', 'cat.7564.jpg',\n",
    "              'cat.9171.jpg', 'cat.4688.jpg', 'cat.4085.jpg', 'cat.5351.jpg', 'cat.5418.jpg', 'cat.11184.jpg', \n",
    "              'cat.10029.jpg', 'dog.1043.jpg', 'dog.1773.jpg', 'dog.4367.jpg', 'dog.8736.jpg', 'dog.8898.jpg', 'dog.10237.jpg']"
   ]
  },
  {
   "cell_type": "code",
   "execution_count": 21,
   "metadata": {},
   "outputs": [
    {
     "name": "stdout",
     "output_type": "stream",
     "text": [
      "['cat.10029.jpg' 'cat.10365.jpg' 'cat.10636.jpg' 'cat.10712.jpg'\n",
      " 'cat.11184.jpg' 'cat.11565.jpg' 'cat.12227.jpg' 'cat.12272.jpg'\n",
      " 'cat.12424.jpg' 'cat.12493.jpg' 'cat.2337.jpg' 'cat.252.jpg'\n",
      " 'cat.2520.jpg' 'cat.2893.jpg' 'cat.2939.jpg' 'cat.3216.jpg'\n",
      " 'cat.3731.jpg' 'cat.3868.jpg' 'cat.4085.jpg' 'cat.4338.jpg'\n",
      " 'cat.4688.jpg' 'cat.4833.jpg' 'cat.4852.jpg' 'cat.503.jpg' 'cat.5351.jpg'\n",
      " 'cat.5418.jpg' 'cat.6429.jpg' 'cat.6442.jpg' 'cat.6699.jpg'\n",
      " 'cat.7377.jpg' 'cat.7564.jpg' 'cat.7920.jpg' 'cat.7968.jpg'\n",
      " 'cat.8383.jpg' 'cat.8456.jpg' 'cat.8470.jpg' 'cat.9090.jpg'\n",
      " 'cat.9171.jpg' 'cat.9444.jpg' 'dog.10161.jpg' 'dog.10190.jpg'\n",
      " 'dog.10237.jpg' 'dog.1043.jpg' 'dog.10801.jpg' 'dog.12376.jpg'\n",
      " 'dog.1773.jpg' 'dog.1895.jpg' 'dog.2422.jpg' 'dog.4367.jpg'\n",
      " 'dog.5604.jpg' 'dog.6475.jpg' 'dog.8736.jpg' 'dog.8898.jpg'\n",
      " 'dog.9517.jpg']\n"
     ]
    }
   ],
   "source": [
    "## 最终判断为异常图片的图片集\n",
    "exception_images = reduce(np.union1d, (exception_images, error_images))\n",
    "print(exception_images)"
   ]
  },
  {
   "cell_type": "code",
   "execution_count": 19,
   "metadata": {
    "collapsed": true
   },
   "outputs": [],
   "source": [
    "for name in exception_images:\n",
    "    if os.path.exists(common.train_path + name):\n",
    "        os.remove(common.train_path + name)"
   ]
  }
 ],
 "metadata": {
  "anaconda-cloud": {},
  "kernelspec": {
   "display_name": "Python 3",
   "language": "python",
   "name": "python3"
  },
  "language_info": {
   "codemirror_mode": {
    "name": "ipython",
    "version": 3
   },
   "file_extension": ".py",
   "mimetype": "text/x-python",
   "name": "python",
   "nbconvert_exporter": "python",
   "pygments_lexer": "ipython3",
   "version": "3.7.1"
  }
 },
 "nbformat": 4,
 "nbformat_minor": 1
}
