{
 "cells": [
  {
   "cell_type": "code",
   "execution_count": 1,
   "metadata": {},
   "outputs": [],
   "source": [
    "import math\n",
    "import numpy as np"
   ]
  },
  {
   "cell_type": "code",
   "execution_count": 12,
   "metadata": {},
   "outputs": [],
   "source": [
    "## 维特比算法，输出最优路径\n",
    "def viterbi(A, B, PI, O):\n",
    "    N = A.shape[0]\n",
    "    I = np.mat(np.zeros((N, 1)))\n",
    "    sigma = np.mat(np.zeros((N, N)))\n",
    "    omiga = np.mat(np.ones((N, N)))\n",
    "    index = 0\n",
    "    \n",
    "    ## 初始化\n",
    "    for i in range(N):\n",
    "        if O[0, 0] == 0:\n",
    "            index = 0\n",
    "        else:\n",
    "            index = 1\n",
    "        sigma[0, i] = PI[i, 0] * B[i, index]\n",
    "        \n",
    "    t = 1\n",
    "    while t < T:\n",
    "        for i in range(N):\n",
    "            \n",
    "            \n",
    "    return I"
   ]
  },
  {
   "cell_type": "code",
   "execution_count": 4,
   "metadata": {},
   "outputs": [],
   "source": [
    "## 状态转移概率\n",
    "A = np.mat([[0.5, 0.2, 0.3],\n",
    "           [0.3, 0.5, 0.2],\n",
    "           [0.2, 0.3, 0.5]])\n",
    "\n",
    "## 发射概率\n",
    "B = np.mat([[0.5, 0.5],\n",
    "           [0.4, 0.6],\n",
    "           [0.7, 0.3]])\n",
    "\n",
    "## 隐状态的初始概率\n",
    "PI = np.mat([[0.2],\n",
    "            [0.4],\n",
    "            [0.4]])\n",
    "\n",
    "## 观测状态序列\n",
    "O = np.mat([[0],\n",
    "           [1],\n",
    "           [0]])"
   ]
  },
  {
   "cell_type": "code",
   "execution_count": 13,
   "metadata": {},
   "outputs": [
    {
     "name": "stdout",
     "output_type": "stream",
     "text": [
      "[[0.]\n",
      " [0.]\n",
      " [0.]]\n"
     ]
    }
   ],
   "source": [
    "I = viterbi(A, B, PI, O)\n",
    "print(I)"
   ]
  },
  {
   "cell_type": "code",
   "execution_count": null,
   "metadata": {},
   "outputs": [],
   "source": []
  }
 ],
 "metadata": {
  "kernelspec": {
   "display_name": "Python 3",
   "language": "python",
   "name": "python3"
  },
  "language_info": {
   "codemirror_mode": {
    "name": "ipython",
    "version": 3
   },
   "file_extension": ".py",
   "mimetype": "text/x-python",
   "name": "python",
   "nbconvert_exporter": "python",
   "pygments_lexer": "ipython3",
   "version": "3.7.1"
  }
 },
 "nbformat": 4,
 "nbformat_minor": 2
}
