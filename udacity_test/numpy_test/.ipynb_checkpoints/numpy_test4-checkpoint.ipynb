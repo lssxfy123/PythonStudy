{
 "cells": [
  {
   "cell_type": "markdown",
   "metadata": {},
   "source": [
    "访问、插入、删除、修改ndarray"
   ]
  },
  {
   "cell_type": "code",
   "execution_count": 1,
   "metadata": {},
   "outputs": [],
   "source": [
    "import numpy as np"
   ]
  },
  {
   "cell_type": "code",
   "execution_count": 2,
   "metadata": {},
   "outputs": [
    {
     "name": "stdout",
     "output_type": "stream",
     "text": [
      "[0 1 2 3 4]\n"
     ]
    }
   ],
   "source": [
    "x = np.arange(0, 5)\n",
    "print(x)"
   ]
  },
  {
   "cell_type": "code",
   "execution_count": 3,
   "metadata": {},
   "outputs": [
    {
     "name": "stdout",
     "output_type": "stream",
     "text": [
      "1st element:  0\n",
      "5th element:  4\n",
      "1st element:  0\n",
      "5th element:  4\n"
     ]
    }
   ],
   "source": [
    "## 1维向量与Python中的list基本类似\n",
    "print(\"1st element: \", x[0])  # 正索引\n",
    "print(\"5th element: \", x[4])\n",
    "print(\"1st element: \", x[-5])  # 负索引\n",
    "print(\"5th element: \", x[-1])"
   ]
  },
  {
   "cell_type": "code",
   "execution_count": 4,
   "metadata": {},
   "outputs": [
    {
     "name": "stdout",
     "output_type": "stream",
     "text": [
      "[ 0  1  2 20  4]\n"
     ]
    }
   ],
   "source": [
    "## 修改ndarray中的元素\n",
    "x[3] = 20\n",
    "print(x)"
   ]
  },
  {
   "cell_type": "code",
   "execution_count": 5,
   "metadata": {},
   "outputs": [
    {
     "name": "stdout",
     "output_type": "stream",
     "text": [
      "[[0 1]\n",
      " [2 3]\n",
      " [4 5]\n",
      " [6 7]\n",
      " [8 9]]\n"
     ]
    }
   ],
   "source": [
    "## 2维向量\n",
    "x = np.arange(0, 10).reshape(5, 2)\n",
    "print(x)"
   ]
  },
  {
   "cell_type": "code",
   "execution_count": 8,
   "metadata": {},
   "outputs": [
    {
     "name": "stdout",
     "output_type": "stream",
     "text": [
      "Element at (0, 0):   0\n",
      "Element at (0, 1):   1\n",
      "Element at (1, 1):   3\n"
     ]
    },
    {
     "ename": "IndexError",
     "evalue": "index 3 is out of bounds for axis 1 with size 2",
     "output_type": "error",
     "traceback": [
      "\u001b[1;31m---------------------------------------------------------------------------\u001b[0m",
      "\u001b[1;31mIndexError\u001b[0m                                Traceback (most recent call last)",
      "\u001b[1;32m<ipython-input-8-26671543d403>\u001b[0m in \u001b[0;36m<module>\u001b[1;34m\u001b[0m\n\u001b[0;32m      2\u001b[0m \u001b[0mprint\u001b[0m\u001b[1;33m(\u001b[0m\u001b[1;34m\"Element at (0, 1):  \"\u001b[0m\u001b[1;33m,\u001b[0m \u001b[0mx\u001b[0m\u001b[1;33m[\u001b[0m\u001b[1;36m0\u001b[0m\u001b[1;33m,\u001b[0m \u001b[1;36m1\u001b[0m\u001b[1;33m]\u001b[0m\u001b[1;33m)\u001b[0m\u001b[1;33m\u001b[0m\u001b[1;33m\u001b[0m\u001b[0m\n\u001b[0;32m      3\u001b[0m \u001b[0mprint\u001b[0m\u001b[1;33m(\u001b[0m\u001b[1;34m\"Element at (1, 1):  \"\u001b[0m\u001b[1;33m,\u001b[0m \u001b[0mx\u001b[0m\u001b[1;33m[\u001b[0m\u001b[1;36m1\u001b[0m\u001b[1;33m,\u001b[0m \u001b[1;36m1\u001b[0m\u001b[1;33m]\u001b[0m\u001b[1;33m)\u001b[0m\u001b[1;33m\u001b[0m\u001b[1;33m\u001b[0m\u001b[0m\n\u001b[1;32m----> 4\u001b[1;33m \u001b[0mprint\u001b[0m\u001b[1;33m(\u001b[0m\u001b[1;34m\"Element at (1, 3):  \"\u001b[0m\u001b[1;33m,\u001b[0m \u001b[0mx\u001b[0m\u001b[1;33m[\u001b[0m\u001b[1;36m1\u001b[0m\u001b[1;33m,\u001b[0m \u001b[1;36m3\u001b[0m\u001b[1;33m]\u001b[0m\u001b[1;33m)\u001b[0m\u001b[1;33m\u001b[0m\u001b[1;33m\u001b[0m\u001b[0m\n\u001b[0m",
      "\u001b[1;31mIndexError\u001b[0m: index 3 is out of bounds for axis 1 with size 2"
     ]
    }
   ],
   "source": [
    "print(\"Element at (0, 0):  \", x[0, 0])\n",
    "print(\"Element at (0, 1):  \", x[0, 1])\n",
    "print(\"Element at (1, 1):  \", x[1, 1])\n",
    "# print(\"Element at (1, 3):  \", x[1, 3])  # IndexError"
   ]
  },
  {
   "cell_type": "code",
   "execution_count": 9,
   "metadata": {},
   "outputs": [
    {
     "name": "stdout",
     "output_type": "stream",
     "text": [
      "[[20  1]\n",
      " [ 2  3]\n",
      " [ 4  5]\n",
      " [ 6  7]\n",
      " [ 8  9]]\n"
     ]
    }
   ],
   "source": [
    "x[0, 0] = 20\n",
    "print(x)"
   ]
  },
  {
   "cell_type": "markdown",
   "metadata": {},
   "source": [
    "删除ndarray中的元素"
   ]
  },
  {
   "cell_type": "code",
   "execution_count": 11,
   "metadata": {},
   "outputs": [
    {
     "name": "stdout",
     "output_type": "stream",
     "text": [
      "[0 1 2 3 4 5 6 7 8 9]\n",
      "[1 2 3 4 5 6 7 8 9]\n",
      "[2 3 5 6 7 8 9]\n"
     ]
    }
   ],
   "source": [
    "## 一维向量\n",
    "y = np.arange(0, 10)\n",
    "print(y)\n",
    "\n",
    "y = np.delete(y, 0)  # 删除第1个元素 \n",
    "print(y)\n",
    "\n",
    "y = np.delete(y, [0, 3])  # 删除第1个和第3个元素\n",
    "print(y)"
   ]
  },
  {
   "cell_type": "code",
   "execution_count": 15,
   "metadata": {},
   "outputs": [
    {
     "name": "stdout",
     "output_type": "stream",
     "text": [
      "[[1 2 3]\n",
      " [4 5 6]\n",
      " [7 8 9]]\n",
      "[2 3 4 5 6 7 8 9]\n",
      "[[4 5 6]\n",
      " [7 8 9]]\n",
      "[[6]\n",
      " [9]]\n"
     ]
    }
   ],
   "source": [
    "## 二维向量\n",
    "y = np.arange(1, 10).reshape((3, 3))\n",
    "print(y)\n",
    "\n",
    "y = np.delete(y, 0)  # 删除第1个元素，会将y变成一维向量\n",
    "print(y)\n",
    "\n",
    "y = np.arange(1, 10).reshape((3, 3))\n",
    "y = np.delete(y, 0, axis=0)  # axis=0代表删除行， 0表示删除第1行\n",
    "print(y)\n",
    "\n",
    "y = np.delete(y, [0, 1], axis=1)  # axis=1代表删除列，[0, 1]代表删除第1列和第2列\n",
    "print(y)\n"
   ]
  },
  {
   "cell_type": "code",
   "execution_count": 34,
   "metadata": {},
   "outputs": [
    {
     "name": "stdout",
     "output_type": "stream",
     "text": [
      "[[[ 1  2  3]\n",
      "  [ 4  5  6]\n",
      "  [ 7  8  9]]\n",
      "\n",
      " [[10 11 12]\n",
      "  [13 14 15]\n",
      "  [16 17 18]]\n",
      "\n",
      " [[19 20 21]\n",
      "  [22 23 24]\n",
      "  [25 26 27]]]\n"
     ]
    }
   ],
   "source": [
    "## 多维矩阵\n",
    "z = np.arange(1, 28).reshape((3, 3, 3))\n",
    "print(z)"
   ]
  },
  {
   "cell_type": "code",
   "execution_count": 35,
   "metadata": {},
   "outputs": [
    {
     "name": "stdout",
     "output_type": "stream",
     "text": [
      "Element at (0, 0, 0): 1\n",
      "Element at (1, 1, 1): 14\n",
      "[[1 2 3]\n",
      " [4 5 6]\n",
      " [7 8 9]]\n",
      "[1 2 3]\n"
     ]
    }
   ],
   "source": [
    "print(\"Element at (0, 0, 0):\", z[0, 0, 0])\n",
    "print(\"Element at (1, 1, 1):\", z[1, 1, 1])\n",
    "print(z[0])\n",
    "print(z[0, 0])"
   ]
  },
  {
   "cell_type": "code",
   "execution_count": 36,
   "metadata": {},
   "outputs": [
    {
     "name": "stdout",
     "output_type": "stream",
     "text": [
      "[[[19 20 21]\n",
      "  [22 23 24]\n",
      "  [25 26 27]]]\n"
     ]
    }
   ],
   "source": [
    "z = np.delete(z, [0, 1], axis=0)\n",
    "print(z)"
   ]
  },
  {
   "cell_type": "code",
   "execution_count": 38,
   "metadata": {},
   "outputs": [
    {
     "name": "stdout",
     "output_type": "stream",
     "text": [
      "[[[ 7  8  9]]\n",
      "\n",
      " [[16 17 18]]\n",
      "\n",
      " [[25 26 27]]]\n"
     ]
    }
   ],
   "source": [
    "z = np.arange(1, 28).reshape((3, 3, 3))\n",
    "z = np.delete(z, [0, 1], axis=1)\n",
    "print(z)"
   ]
  },
  {
   "cell_type": "code",
   "execution_count": 39,
   "metadata": {},
   "outputs": [
    {
     "name": "stdout",
     "output_type": "stream",
     "text": [
      "[[[ 3]\n",
      "  [ 6]\n",
      "  [ 9]]\n",
      "\n",
      " [[12]\n",
      "  [15]\n",
      "  [18]]\n",
      "\n",
      " [[21]\n",
      "  [24]\n",
      "  [27]]]\n"
     ]
    }
   ],
   "source": [
    "z = np.arange(1, 28).reshape((3, 3, 3))\n",
    "z = np.delete(z, [0, 1], axis=2)\n",
    "print(z)"
   ]
  },
  {
   "cell_type": "markdown",
   "metadata": {},
   "source": [
    "插入元素"
   ]
  },
  {
   "cell_type": "code",
   "execution_count": 42,
   "metadata": {},
   "outputs": [
    {
     "name": "stdout",
     "output_type": "stream",
     "text": [
      "[1 2 3 4 5]\n",
      "[1 2 3 4 5 6]\n",
      "[1 2 3 4 5 6 7 8]\n"
     ]
    }
   ],
   "source": [
    "## 一维数组，与list类似\n",
    "x = np.arange(1, 6)\n",
    "print(x)\n",
    "\n",
    "x = np.append(x, 6)\n",
    "print(x)\n",
    "\n",
    "x = np.append(x, [7, 8])\n",
    "print(x)"
   ]
  },
  {
   "cell_type": "code",
   "execution_count": 43,
   "metadata": {},
   "outputs": [
    {
     "name": "stdout",
     "output_type": "stream",
     "text": [
      "[[1 2 3]\n",
      " [4 5 6]\n",
      " [7 8 9]]\n",
      "[ 1  2  3  4  5  6  7  8  9 10]\n"
     ]
    }
   ],
   "source": [
    "## 二维数组\n",
    "y = np.arange(1, 10).reshape((3, 3))\n",
    "print(y)\n",
    "\n",
    "y = np.append(y, 10)  # 会将y转变为一维数组\n",
    "print(y)"
   ]
  },
  {
   "cell_type": "code",
   "execution_count": 50,
   "metadata": {},
   "outputs": [
    {
     "name": "stdout",
     "output_type": "stream",
     "text": [
      "[[ 1  2  3]\n",
      " [ 4  5  6]\n",
      " [ 7  8  9]\n",
      " [10 11 12]]\n",
      "(1, 3)\n",
      "[[ 1  2  3]\n",
      " [ 4  5  6]\n",
      " [ 7  8  9]\n",
      " [10 11 12]\n",
      " [ 1  1  1]\n",
      " [ 2  2  2]]\n"
     ]
    }
   ],
   "source": [
    "y = np.arange(1, 10).reshape((3, 3))\n",
    "y = np.append(y, [[10, 11, 12]], axis=0)  # 插入一行，插入的数据必须与匹配原始矩阵的列数\n",
    "print(y)\n",
    "print(np.array([[10, 11, 12]]).shape)  # 1行3列\n",
    "\n",
    "y = np.append(y, [[1, 1, 1], [2, 2, 2]], axis=0)  # 插入二行\n",
    "print(y)"
   ]
  },
  {
   "cell_type": "code",
   "execution_count": 51,
   "metadata": {},
   "outputs": [
    {
     "name": "stdout",
     "output_type": "stream",
     "text": [
      "[[ 1  2  3 10]\n",
      " [ 4  5  6 11]\n",
      " [ 7  8  9 12]]\n"
     ]
    }
   ],
   "source": [
    "y = np.arange(1, 10).reshape((3, 3))\n",
    "y = np.append(y, [[10], [11], [12]], axis=1)  # 插入一列\n",
    "print(y)"
   ]
  },
  {
   "cell_type": "code",
   "execution_count": 52,
   "metadata": {},
   "outputs": [
    {
     "name": "stdout",
     "output_type": "stream",
     "text": [
      "[[ 1  2  3 10  1  2]\n",
      " [ 4  5  6 11  1  2]\n",
      " [ 7  8  9 12  1  2]]\n"
     ]
    }
   ],
   "source": [
    "y = np.append(y, [[1, 2], [1, 2], [1, 2]], axis=1)  # 插入二列\n",
    "print(y)"
   ]
  },
  {
   "cell_type": "markdown",
   "metadata": {},
   "source": [
    "插入指定的位置"
   ]
  },
  {
   "cell_type": "code",
   "execution_count": 57,
   "metadata": {},
   "outputs": [
    {
     "name": "stdout",
     "output_type": "stream",
     "text": [
      "[10 20 50 60]\n",
      "[10 20  3  4 50 60]\n"
     ]
    }
   ],
   "source": [
    "## 一维数组\n",
    "x = np.array([10, 20, 50, 60])\n",
    "print(x)\n",
    "\n",
    "x = np.insert(x, 2, [3, 4])  # 2代表索引为2的位置\n",
    "print(x)"
   ]
  },
  {
   "cell_type": "code",
   "execution_count": 63,
   "metadata": {},
   "outputs": [
    {
     "name": "stdout",
     "output_type": "stream",
     "text": [
      "[[1 2 3]\n",
      " [4 5 6]\n",
      " [7 8 9]]\n",
      "[[ 1  2  3]\n",
      " [10 10 10]\n",
      " [ 4  5  6]\n",
      " [ 7  8  9]]\n",
      "[[   1    2    3]\n",
      " [  10   10   10]\n",
      " [ 100  100  100]\n",
      " [1000 1000 1000]\n",
      " [   4    5    6]\n",
      " [   7    8    9]]\n",
      "[[   1    2    2    3]\n",
      " [  10    2   10   10]\n",
      " [ 100    2  100  100]\n",
      " [1000    2 1000 1000]\n",
      " [   4    2    5    6]\n",
      " [   7    2    8    9]]\n",
      "[[   1    2   99    2    3]\n",
      " [  10    2   99   10   10]\n",
      " [ 100    2   99  100  100]\n",
      " [1000    2   99 1000 1000]\n",
      " [   4    2   99    5    6]\n",
      " [   7    2   99    8    9]]\n"
     ]
    }
   ],
   "source": [
    "## 二维数组\n",
    "y = np.arange(1, 10).reshape((3, 3))\n",
    "print(y)\n",
    "\n",
    "y = np.insert(y, 1, [10, 10, 10], axis=0)  # 插入1行，行索引为1， 与append有所不同\n",
    "print(y)\n",
    "\n",
    "y = np.insert(y, 2, [[100, 100, 100], [1000, 1000, 1000]], axis=0)  # 插入两行\n",
    "print(y)\n",
    "\n",
    "y = np.insert(y, 1, [2, 2, 2, 2, 2, 2], axis=1)  # 插入1列\n",
    "print(y)\n",
    "\n",
    "y = np.insert(y, 2, 99, axis=1)  # 插入1列全部数据为99\n",
    "print(y)"
   ]
  },
  {
   "cell_type": "markdown",
   "metadata": {},
   "source": [
    "NumPy中矩阵的组合"
   ]
  },
  {
   "cell_type": "code",
   "execution_count": 74,
   "metadata": {},
   "outputs": [
    {
     "name": "stdout",
     "output_type": "stream",
     "text": [
      "[1 2]\n",
      "[[3 4]\n",
      " [5 6]]\n",
      "[[1 2]\n",
      " [3 4]\n",
      " [5 6]]\n",
      "[[1 3 4]\n",
      " [2 5 6]]\n"
     ]
    }
   ],
   "source": [
    "## 垂直组合\n",
    "x = np.array([1, 2])\n",
    "print(x)  # 1行2列\n",
    "\n",
    "y = np.array([[3, 4], [5, 6]])\n",
    "print(y)\n",
    "\n",
    "z = np.vstack((x, y))  # \n",
    "print(z)\n",
    "\n",
    "## 水平组合\n",
    "w = np.hstack((x.reshape((2, 1)), y))  # 需要将x转变为2行1列的矩阵\n",
    "print(w)"
   ]
  },
  {
   "cell_type": "code",
   "execution_count": null,
   "metadata": {},
   "outputs": [],
   "source": []
  }
 ],
 "metadata": {
  "kernelspec": {
   "display_name": "Python 3",
   "language": "python",
   "name": "python3"
  },
  "language_info": {
   "codemirror_mode": {
    "name": "ipython",
    "version": 3
   },
   "file_extension": ".py",
   "mimetype": "text/x-python",
   "name": "python",
   "nbconvert_exporter": "python",
   "pygments_lexer": "ipython3",
   "version": "3.7.1"
  }
 },
 "nbformat": 4,
 "nbformat_minor": 2
}
