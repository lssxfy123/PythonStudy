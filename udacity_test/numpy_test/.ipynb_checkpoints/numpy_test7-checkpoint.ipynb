{
 "cells": [
  {
   "cell_type": "markdown",
   "metadata": {},
   "source": [
    "算术运算和广播"
   ]
  },
  {
   "cell_type": "code",
   "execution_count": 1,
   "metadata": {},
   "outputs": [],
   "source": [
    "import numpy as np"
   ]
  },
  {
   "cell_type": "markdown",
   "metadata": {},
   "source": [
    "参考：https://www.cnblogs.com/jiaxin359/p/9021726.html\n",
    "https://blog.csdn.net/zk_j1994/article/details/72589014\n",
    "NumPy中算术运算的函数要求输入的数组shape必须一致，如果不一致就需要使用广播机制，也就是说如果多个数组希望使用算术运算，则最低要求是可广播，否则就会出错。\n",
    "广播的要求：\n",
    "1. 让所有输入数组都向其中shape最长的数组看齐，shape中不足的部分都通过在前面加1补齐\n",
    "2. 输出数组的shape是输入数组shape的各个轴上的最大值\n",
    "3. 如果输入数组的某个轴和输出数组的对应轴的长度相同或者其长度为1时，这个数组能够用来计算，否则出错\n",
    "4. 当输入数组的某个轴的长度为1时，沿着此轴运算时都用此轴上的第一组值"
   ]
  },
  {
   "cell_type": "code",
   "execution_count": 2,
   "metadata": {},
   "outputs": [
    {
     "name": "stdout",
     "output_type": "stream",
     "text": [
      "x =  [1 2 3 4]\n",
      "\n",
      "y =  [5 6 7 8]\n",
      "\n"
     ]
    }
   ],
   "source": [
    "## 一维数组的元素运算（与线性代数的矩阵运算不同）\n",
    "#\n",
    "x = np.array([1, 2, 3, 4])\n",
    "y = np.array([5, 6, 7, 8])\n",
    "# y = np.array([5, 6, 7, 8, 9])  # error，不满足条件3\n",
    "print('x = ',x)\n",
    "print()\n",
    "print('y = ', y)\n",
    "print()"
   ]
  },
  {
   "cell_type": "code",
   "execution_count": 3,
   "metadata": {},
   "outputs": [
    {
     "name": "stdout",
     "output_type": "stream",
     "text": [
      "x + y:  [ 6  8 10 12]\n",
      "add(x, y):  [ 6  8 10 12]\n"
     ]
    }
   ],
   "source": [
    "print(\"x + y: \", x + y)\n",
    "print(\"add(x, y): \", np.add(x, y))"
   ]
  },
  {
   "cell_type": "code",
   "execution_count": 4,
   "metadata": {},
   "outputs": [
    {
     "name": "stdout",
     "output_type": "stream",
     "text": [
      "x - y:  [-4 -4 -4 -4]\n",
      "subtract(x, y):  [-4 -4 -4 -4]\n"
     ]
    }
   ],
   "source": [
    "print(\"x - y: \", x - y)\n",
    "print(\"subtract(x, y): \", np.subtract(x, y))"
   ]
  },
  {
   "cell_type": "code",
   "execution_count": 5,
   "metadata": {},
   "outputs": [
    {
     "name": "stdout",
     "output_type": "stream",
     "text": [
      "x * y:  [ 5 12 21 32]\n",
      "multiply(x, y):  [ 5 12 21 32]\n"
     ]
    }
   ],
   "source": [
    "print(\"x * y: \", x * y)\n",
    "print(\"multiply(x, y): \", np.multiply(x, y))"
   ]
  },
  {
   "cell_type": "code",
   "execution_count": 26,
   "metadata": {},
   "outputs": [
    {
     "name": "stdout",
     "output_type": "stream",
     "text": [
      "x:  [-1  2  3  4]\n",
      "y:  [5 6 7 8]\n",
      "x dot y:  60\n"
     ]
    }
   ],
   "source": [
    "print(\"x: \", x)\n",
    "print(\"y: \", y)\n",
    "print(\"x dot y: \", np.dot(x, y))  # np.sum(x * y)"
   ]
  },
  {
   "cell_type": "code",
   "execution_count": 6,
   "metadata": {},
   "outputs": [
    {
     "name": "stdout",
     "output_type": "stream",
     "text": [
      "x / y:  [0.2        0.33333333 0.42857143 0.5       ]\n",
      "divide(x, y):  [0.2        0.33333333 0.42857143 0.5       ]\n"
     ]
    }
   ],
   "source": [
    "print(\"x / y: \", x / y)\n",
    "print(\"divide(x, y): \", np.divide(x, y))"
   ]
  },
  {
   "cell_type": "markdown",
   "metadata": {},
   "source": [
    "二维数组的广播：\n",
    "A: (2, 3)\n",
    "B: (3,)\n",
    "A + B：按照规则1，B的shape广播成(1, 3)，按照规则2，结果result为(2, 3)，A,B的列长度都与result相同，A的行长度与result相同，B的不同但为1，可以运算，OK\n",
    "\n",
    "A: (2, 3)\n",
    "B: (4, )\n",
    "A + B: 按照规则2，结果result为(2, 4)，A的列长度与result不同，不能运算，Error"
   ]
  },
  {
   "cell_type": "code",
   "execution_count": 7,
   "metadata": {},
   "outputs": [
    {
     "name": "stdout",
     "output_type": "stream",
     "text": [
      "A =  [[1 2 3]\n",
      " [4 5 6]]\n",
      "A.shape:  (2, 3)\n",
      "\n",
      "B =  [1 1 1]\n",
      "B.shape:  (3,)\n"
     ]
    }
   ],
   "source": [
    "A = np.arange(1, 7).reshape((2, 3))\n",
    "B = np.ones(3, dtype=int)\n",
    "\n",
    "print(\"A = \", A)\n",
    "print(\"A.shape: \", A.shape)\n",
    "print()\n",
    "print(\"B = \", B)\n",
    "print(\"B.shape: \", B.shape)"
   ]
  },
  {
   "cell_type": "code",
   "execution_count": 8,
   "metadata": {},
   "outputs": [
    {
     "name": "stdout",
     "output_type": "stream",
     "text": [
      "A + B:  [[2 3 4]\n",
      " [5 6 7]]\n"
     ]
    }
   ],
   "source": [
    "print(\"A + B: \", A + B)"
   ]
  },
  {
   "cell_type": "code",
   "execution_count": 9,
   "metadata": {},
   "outputs": [],
   "source": [
    "B1 = np.ones(4, dtype=int)\n",
    "# print(A + B1)  # Error"
   ]
  },
  {
   "cell_type": "code",
   "execution_count": 10,
   "metadata": {},
   "outputs": [
    {
     "name": "stdout",
     "output_type": "stream",
     "text": [
      "A:  [[1]\n",
      " [2]\n",
      " [3]\n",
      " [4]\n",
      " [5]\n",
      " [6]]\n",
      "B: [[0 0 0 0 0 0]]\n",
      "\n",
      "A + B:  [[1 1 1 1 1 1]\n",
      " [2 2 2 2 2 2]\n",
      " [3 3 3 3 3 3]\n",
      " [4 4 4 4 4 4]\n",
      " [5 5 5 5 5 5]\n",
      " [6 6 6 6 6 6]]\n"
     ]
    }
   ],
   "source": [
    "# A: (6, 1) B: (5,)\n",
    "A = np.arange(1, 7).reshape((6, 1))\n",
    "B = np.zeros((1, 6), dtype=int)\n",
    "\n",
    "print(\"A: \", A)\n",
    "print(\"B:\", B)\n",
    "print()\n",
    "\n",
    "# A + B : (6, 5)\n",
    "# 应用规则4：A中每一行的元素都与B的第1行元素相加\n",
    "print(\"A + B: \", A + B)"
   ]
  },
  {
   "cell_type": "code",
   "execution_count": 11,
   "metadata": {},
   "outputs": [
    {
     "name": "stdout",
     "output_type": "stream",
     "text": [
      "A + 5:  [[ 6]\n",
      " [ 7]\n",
      " [ 8]\n",
      " [ 9]\n",
      " [10]\n",
      " [11]]\n"
     ]
    }
   ],
   "source": [
    "# A:(6, 1) \n",
    "# 标量的shape为()，所以输出结果的shape为(6, 1)\n",
    "print(\"A + 5: \", A + 5)"
   ]
  },
  {
   "cell_type": "markdown",
   "metadata": {},
   "source": [
    "多维多个数组元素运算：\n",
    "A：(2, 3, 3)\n",
    "B: (3, 3)\n",
    "C: (3,)\n",
    "D: 5"
   ]
  },
  {
   "cell_type": "code",
   "execution_count": 12,
   "metadata": {},
   "outputs": [
    {
     "name": "stdout",
     "output_type": "stream",
     "text": [
      "A + B + C + D:  [[[16 18 20]\n",
      "  [22 24 26]\n",
      "  [28 30 32]]\n",
      "\n",
      " [[25 27 29]\n",
      "  [31 33 35]\n",
      "  [37 39 41]]]\n",
      "(2, 3, 3)\n"
     ]
    }
   ],
   "source": [
    "A = np.arange(1, 19).reshape((2, 3, 3))\n",
    "B = np.arange(1, 10).reshape((3, 3))\n",
    "C = np.array([9, 9, 9])\n",
    "D = 5\n",
    "\n",
    "# result: (2, 3, 3)\n",
    "result = A + B + C + D\n",
    "print(\"A + B + C + D: \", result)\n",
    "print(result.shape)"
   ]
  },
  {
   "cell_type": "markdown",
   "metadata": {},
   "source": [
    "对ndarray的数组元素应用数学函数"
   ]
  },
  {
   "cell_type": "code",
   "execution_count": 13,
   "metadata": {},
   "outputs": [
    {
     "name": "stdout",
     "output_type": "stream",
     "text": [
      "x:  [1 2 3 4]\n"
     ]
    }
   ],
   "source": [
    "x = np.array([1, 2, 3, 4])\n",
    "\n",
    "print(\"x: \", x)"
   ]
  },
  {
   "cell_type": "code",
   "execution_count": 14,
   "metadata": {},
   "outputs": [
    {
     "name": "stdout",
     "output_type": "stream",
     "text": [
      "sqrt(x):  [1.         1.41421356 1.73205081 2.        ]\n"
     ]
    }
   ],
   "source": [
    "print(\"sqrt(x): \", np.sqrt(x))"
   ]
  },
  {
   "cell_type": "code",
   "execution_count": 15,
   "metadata": {},
   "outputs": [
    {
     "name": "stdout",
     "output_type": "stream",
     "text": [
      "exp(x):  [ 2.71828183  7.3890561  20.08553692 54.59815003]\n"
     ]
    }
   ],
   "source": [
    "print(\"exp(x): \", np.exp(x))"
   ]
  },
  {
   "cell_type": "code",
   "execution_count": 16,
   "metadata": {},
   "outputs": [
    {
     "name": "stdout",
     "output_type": "stream",
     "text": [
      "power(x, 2):  [ 1  4  9 16]\n"
     ]
    }
   ],
   "source": [
    "print(\"power(x, 2): \", np.power(x, 2))"
   ]
  },
  {
   "cell_type": "code",
   "execution_count": 17,
   "metadata": {},
   "outputs": [
    {
     "data": {
      "text/plain": [
       "4"
      ]
     },
     "execution_count": 17,
     "metadata": {},
     "output_type": "execute_result"
    }
   ],
   "source": [
    "## 非0元素的个数\n",
    "np.nonzero(x)[0].size"
   ]
  },
  {
   "cell_type": "code",
   "execution_count": 18,
   "metadata": {},
   "outputs": [
    {
     "data": {
      "text/plain": [
       "array([-1,  2,  3,  4])"
      ]
     },
     "execution_count": 18,
     "metadata": {},
     "output_type": "execute_result"
    }
   ],
   "source": [
    "x[0] = -1\n",
    "x"
   ]
  },
  {
   "cell_type": "code",
   "execution_count": 19,
   "metadata": {},
   "outputs": [
    {
     "data": {
      "text/plain": [
       "array([1, 2, 3, 4])"
      ]
     },
     "execution_count": 19,
     "metadata": {},
     "output_type": "execute_result"
    }
   ],
   "source": [
    "## 绝对值\n",
    "np.abs(x)"
   ]
  },
  {
   "cell_type": "markdown",
   "metadata": {},
   "source": [
    "NumPy中的统计学函数"
   ]
  },
  {
   "cell_type": "code",
   "execution_count": 20,
   "metadata": {},
   "outputs": [
    {
     "name": "stdout",
     "output_type": "stream",
     "text": [
      "X =  [[1 2]\n",
      " [3 4]]\n",
      "\n"
     ]
    }
   ],
   "source": [
    "X = np.array([[1, 2], [3, 4]])\n",
    "\n",
    "print(\"X = \", X)\n",
    "print()"
   ]
  },
  {
   "cell_type": "code",
   "execution_count": 21,
   "metadata": {},
   "outputs": [
    {
     "name": "stdout",
     "output_type": "stream",
     "text": [
      "Average of all elements in X:  2.5\n",
      "Average of all elements in the columns of X:  [2. 3.]\n",
      "Average of all elements in the rows of X:  [1.5 3.5]\n"
     ]
    }
   ],
   "source": [
    "print(\"Average of all elements in X: \", X.mean())\n",
    "\n",
    "# axis=0表示按行计算平均值，把每行同一位置的元素相加求平均值\n",
    "print(\"Average of all elements in the columns of X: \", X.mean(axis=0))\n",
    "print(\"Average of all elements in the rows of X: \", X.mean(axis=1))"
   ]
  },
  {
   "cell_type": "code",
   "execution_count": 22,
   "metadata": {},
   "outputs": [
    {
     "name": "stdout",
     "output_type": "stream",
     "text": [
      "Standard Deviation of all elements in X:  1.118033988749895\n",
      "Standard Deviation of all elements in the columns of X:  [1. 1.]\n",
      "Standard Deviation of all elements in the rows of X:  [0.5 0.5]\n"
     ]
    }
   ],
   "source": [
    "# 标准差\n",
    "print(\"Standard Deviation of all elements in X: \", X.std())\n",
    "print(\"Standard Deviation of all elements in the columns of X: \", X.std(axis=0))\n",
    "print(\"Standard Deviation of all elements in the rows of X: \", X.std(axis=1))"
   ]
  },
  {
   "cell_type": "code",
   "execution_count": 23,
   "metadata": {},
   "outputs": [
    {
     "name": "stdout",
     "output_type": "stream",
     "text": [
      "Median of all elements in X:  2.5\n",
      "Median of all elements in the columns of X:  [2. 3.]\n",
      "Median of all elements in the rows of X:  [1.5 3.5]\n"
     ]
    }
   ],
   "source": [
    "# 中位数：偶数个取最中间两数的平均值，奇数个取排序后的中间值\n",
    "print(\"Median of all elements in X: \", np.median(X))\n",
    "print(\"Median of all elements in the columns of X: \", np.median(X, axis=0))\n",
    "print(\"Median of all elements in the rows of X: \", np.median(X, axis=1))"
   ]
  },
  {
   "cell_type": "code",
   "execution_count": null,
   "metadata": {},
   "outputs": [],
   "source": []
  }
 ],
 "metadata": {
  "kernelspec": {
   "display_name": "Python 3",
   "language": "python",
   "name": "python3"
  },
  "language_info": {
   "codemirror_mode": {
    "name": "ipython",
    "version": 3
   },
   "file_extension": ".py",
   "mimetype": "text/x-python",
   "name": "python",
   "nbconvert_exporter": "python",
   "pygments_lexer": "ipython3",
   "version": "3.7.1"
  }
 },
 "nbformat": 4,
 "nbformat_minor": 2
}
