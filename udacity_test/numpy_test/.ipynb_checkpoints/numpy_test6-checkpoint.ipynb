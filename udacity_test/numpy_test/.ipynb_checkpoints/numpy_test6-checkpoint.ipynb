{
 "cells": [
  {
   "cell_type": "code",
   "execution_count": 1,
   "metadata": {},
   "outputs": [],
   "source": [
    "import numpy as np"
   ]
  },
  {
   "cell_type": "markdown",
   "metadata": {},
   "source": [
    "布尔型索引，集合与排序"
   ]
  },
  {
   "cell_type": "code",
   "execution_count": 5,
   "metadata": {},
   "outputs": [
    {
     "name": "stdout",
     "output_type": "stream",
     "text": [
      "[[220 665 369 445 140 698 162 699 716 686]\n",
      " [165  36 193 771 462 757 114 157 454 551]\n",
      " [144 557 384 133 305 307 794 542 445 561]\n",
      " [311 795 725 166  86 684  78   7 684   9]\n",
      " [908 562 416 682 602 351  80 523 247 895]\n",
      " [559  86 919 790 550 892  68 449 578 653]\n",
      " [937 247 919 827  38 751 639 868  68 261]\n",
      " [594 493 117 743 179 150 350 227  69 236]\n",
      " [248 119 569  49 603 404 337 669 680 795]\n",
      " [494 709 231 200 156 444 351 325 434 631]]\n"
     ]
    }
   ],
   "source": [
    "X = np.random.randint(1, 1000, (10, 10))\n",
    "print(X)"
   ]
  },
  {
   "cell_type": "code",
   "execution_count": 6,
   "metadata": {},
   "outputs": [
    {
     "name": "stdout",
     "output_type": "stream",
     "text": [
      "[220 665 369 445 698 699 716 686 771 462 757 454 551 557 384 305 307 794\n",
      " 542 445 561 311 795 725 684 684 908 562 416 682 602 351 523 247 895 559\n",
      " 919 790 550 892 449 578 653 937 247 919 827 751 639 868 261 594 493 743\n",
      " 350 227 236 248 569 603 404 337 669 680 795 494 709 231 444 351 325 434\n",
      " 631]\n"
     ]
    }
   ],
   "source": [
    "max_200 = X[X > 200]  # 所有大于200的元素\n",
    "print(max_200)"
   ]
  },
  {
   "cell_type": "code",
   "execution_count": 7,
   "metadata": {},
   "outputs": [
    {
     "name": "stdout",
     "output_type": "stream",
     "text": [
      "[140 162 165  36 193 114 157 144 133 166  86  78   7   9  80  86  68  38\n",
      "  68 117 179 150  69 119  49 200 156]\n"
     ]
    }
   ],
   "source": [
    "min_200 = X[X <= 200]  # 所有小于等于200的元素\n",
    "print(min_200)"
   ]
  },
  {
   "cell_type": "code",
   "execution_count": 9,
   "metadata": {},
   "outputs": [
    {
     "name": "stdout",
     "output_type": "stream",
     "text": [
      "[140 162 165 193 114 157 144 133 166 117 179 150 119 156]\n"
     ]
    }
   ],
   "source": [
    "y = X[(X >= 100) & (X < 200)]  # 大于等于100并且小于200，两个条件判断的()不能省略\n",
    "print(y)"
   ]
  },
  {
   "cell_type": "code",
   "execution_count": 10,
   "metadata": {},
   "outputs": [
    {
     "name": "stdout",
     "output_type": "stream",
     "text": [
      "[[220 665 369 445  -1 698  -1 699 716 686]\n",
      " [ -1  36  -1 771 462 757  -1  -1 454 551]\n",
      " [ -1 557 384  -1 305 307 794 542 445 561]\n",
      " [311 795 725  -1  86 684  78   7 684   9]\n",
      " [908 562 416 682 602 351  80 523 247 895]\n",
      " [559  86 919 790 550 892  68 449 578 653]\n",
      " [937 247 919 827  38 751 639 868  68 261]\n",
      " [594 493  -1 743  -1  -1 350 227  69 236]\n",
      " [248  -1 569  49 603 404 337 669 680 795]\n",
      " [494 709 231 200  -1 444 351 325 434 631]]\n"
     ]
    }
   ],
   "source": [
    "## 通过布尔型索引进行元素修改\n",
    "X[(X >= 100) & (X < 200)] = -1\n",
    "print(X)"
   ]
  },
  {
   "cell_type": "markdown",
   "metadata": {},
   "source": [
    "高级布尔型索引"
   ]
  },
  {
   "cell_type": "code",
   "execution_count": 2,
   "metadata": {},
   "outputs": [
    {
     "name": "stdout",
     "output_type": "stream",
     "text": [
      "[[19 40 32 28]\n",
      " [55 62 75 30]\n",
      " [26  3 98 96]\n",
      " [ 3 85 70 14]\n",
      " [66 80 12 35]\n",
      " [29 61 85  3]]\n"
     ]
    }
   ],
   "source": [
    "names = np.array([\"Bob\", \"Joe\", \"Jhon\", \"Will\", \"Tom\", \"Joe\"])\n",
    "data = np.random.randint(1, 100, (6, 4))\n",
    "print(data)"
   ]
  },
  {
   "cell_type": "code",
   "execution_count": 5,
   "metadata": {},
   "outputs": [
    {
     "name": "stdout",
     "output_type": "stream",
     "text": [
      "[False  True False False False  True]\n"
     ]
    }
   ],
   "source": [
    "Joe_name = names == \"Joe\"\n",
    "print(Joe_name)"
   ]
  },
  {
   "cell_type": "code",
   "execution_count": 6,
   "metadata": {},
   "outputs": [
    {
     "data": {
      "text/plain": [
       "array([[55, 62, 75, 30],\n",
       "       [29, 61, 85,  3]])"
      ]
     },
     "execution_count": 6,
     "metadata": {},
     "output_type": "execute_result"
    }
   ],
   "source": [
    "data[Joe_name]"
   ]
  },
  {
   "cell_type": "code",
   "execution_count": 8,
   "metadata": {},
   "outputs": [
    {
     "data": {
      "text/plain": [
       "array([[19, 40, 32, 28],\n",
       "       [26,  3, 98, 96],\n",
       "       [ 3, 85, 70, 14],\n",
       "       [66, 80, 12, 35]])"
      ]
     },
     "execution_count": 8,
     "metadata": {},
     "output_type": "execute_result"
    }
   ],
   "source": [
    "data[~Joe_name]  # 除了Joe_name之外的元素"
   ]
  },
  {
   "cell_type": "code",
   "execution_count": 9,
   "metadata": {},
   "outputs": [
    {
     "data": {
      "text/plain": [
       "array([ True,  True, False, False, False,  True], dtype=bool)"
      ]
     },
     "execution_count": 9,
     "metadata": {},
     "output_type": "execute_result"
    }
   ],
   "source": [
    "mask = (names == 'Joe') | (names == 'Bob')\n",
    "mask"
   ]
  },
  {
   "cell_type": "markdown",
   "metadata": {},
   "source": [
    "ndarray的集合运算"
   ]
  },
  {
   "cell_type": "code",
   "execution_count": 12,
   "metadata": {},
   "outputs": [
    {
     "name": "stdout",
     "output_type": "stream",
     "text": [
      "[1 2 3]\n",
      "[1 2 3 4 5 7 8]\n",
      "[4 5]\n",
      "[7 8]\n"
     ]
    }
   ],
   "source": [
    "## 一维数组\n",
    "x = np.array([1, 2, 3, 4, 5])\n",
    "y = np.array([1, 2, 3, 7, 8])\n",
    "\n",
    "print(np.intersect1d(x, y))  # 交集\n",
    "print(np.union1d(x, y))  # 并集\n",
    "print(np.setdiff1d(x, y))  # x中有，y中没有\n",
    "print(np.setdiff1d(y, x))  # y中有，x中没有"
   ]
  },
  {
   "cell_type": "code",
   "execution_count": 15,
   "metadata": {},
   "outputs": [
    {
     "name": "stdout",
     "output_type": "stream",
     "text": [
      "[[1 2]\n",
      " [3 4]\n",
      " [5 6]\n",
      " [7 8]]\n",
      "\n",
      "[[2 3 4 5]\n",
      " [6 7 8 9]]\n",
      "\n",
      "[2 3 4 5 6 7 8]\n",
      "[1 2 3 4 5 6 7 8 9]\n",
      "[1]\n",
      "[9]\n"
     ]
    }
   ],
   "source": [
    "## 二维数组\n",
    "x = np.arange(1, 9).reshape((4, 2))\n",
    "y = np.arange(2, 10).reshape((2, 4))\n",
    "print(x)\n",
    "print()\n",
    "print(y)\n",
    "print()\n",
    "\n",
    "# 如果输入参数不是一维，则转为一维数组\n",
    "print(np.intersect1d(x, y))  # 交集\n",
    "print(np.union1d(x, y))  # 并集\n",
    "print(np.setdiff1d(x, y))  # x中有，y中没有\n",
    "print(np.setdiff1d(y, x))  # y中有，x中没有"
   ]
  },
  {
   "cell_type": "markdown",
   "metadata": {},
   "source": [
    "排序"
   ]
  },
  {
   "cell_type": "code",
   "execution_count": 18,
   "metadata": {},
   "outputs": [
    {
     "name": "stdout",
     "output_type": "stream",
     "text": [
      "[6 4 9 5 4 2 5 4 6 7]\n"
     ]
    }
   ],
   "source": [
    "## 一维数组\n",
    "x = np.random.randint(1, 11, size=(10,))\n",
    "print(x)"
   ]
  },
  {
   "cell_type": "code",
   "execution_count": 21,
   "metadata": {},
   "outputs": [
    {
     "name": "stdout",
     "output_type": "stream",
     "text": [
      "[2 4 4 4 5 5 6 6 7 9]\n",
      "[2 4 4 4 5 5 6 6 7 9]\n"
     ]
    }
   ],
   "source": [
    "## 不修改元素数组\n",
    "print(np.sort(x))\n",
    "print(x)"
   ]
  },
  {
   "cell_type": "code",
   "execution_count": 23,
   "metadata": {},
   "outputs": [
    {
     "name": "stdout",
     "output_type": "stream",
     "text": [
      "[2 4 4 4 5 5 6 6 7 9]\n"
     ]
    }
   ],
   "source": [
    "## 修改元素数组\n",
    "x.sort()\n",
    "print(x)"
   ]
  },
  {
   "cell_type": "code",
   "execution_count": 30,
   "metadata": {},
   "outputs": [
    {
     "name": "stdout",
     "output_type": "stream",
     "text": [
      "[[10  8  8]\n",
      " [ 2  7  1]\n",
      " [10  9  7]\n",
      " [ 8  1  4]\n",
      " [ 2  3  8]]\n",
      "\n",
      "[[ 2  1  1]\n",
      " [ 2  3  4]\n",
      " [ 8  7  7]\n",
      " [10  8  8]\n",
      " [10  9  8]]\n",
      "\n",
      "[[ 8  8 10]\n",
      " [ 1  2  7]\n",
      " [ 7  9 10]\n",
      " [ 1  4  8]\n",
      " [ 2  3  8]]\n",
      "\n",
      "[[ 8  8 10]\n",
      " [ 1  2  7]\n",
      " [ 7  9 10]\n",
      " [ 1  4  8]\n",
      " [ 2  3  8]]\n",
      "\n",
      "[ 1  1  2  2  3  4  7  7  8  8  8  8  9 10 10]\n"
     ]
    }
   ],
   "source": [
    "## 二维数组\n",
    "x = np.random.randint(1, 11, size=(5, 3))\n",
    "print(x)\n",
    "print()\n",
    "\n",
    "print(np.sort(x, axis=0))  # 按行排序，每一列的元素沿着行的方向递增\n",
    "print()\n",
    "\n",
    "print(np.sort(x, axis=1)) # 按列排序，每一行的元素沿着列的方向递增\n",
    "print()\n",
    "\n",
    "print(np.sort(x))  # 默认按照最后一个维度排序，与按列排序一致\n",
    "print()\n",
    "\n",
    "print(np.sort(x, None))  # 将x拉平（转变为一维数组）然后进行排序"
   ]
  },
  {
   "cell_type": "code",
   "execution_count": null,
   "metadata": {},
   "outputs": [],
   "source": []
  }
 ],
 "metadata": {
  "kernelspec": {
   "display_name": "Python 3",
   "language": "python",
   "name": "python3"
  },
  "language_info": {
   "codemirror_mode": {
    "name": "ipython",
    "version": 3
   },
   "file_extension": ".py",
   "mimetype": "text/x-python",
   "name": "python",
   "nbconvert_exporter": "python",
   "pygments_lexer": "ipython3",
   "version": "3.7.1"
  }
 },
 "nbformat": 4,
 "nbformat_minor": 2
}
