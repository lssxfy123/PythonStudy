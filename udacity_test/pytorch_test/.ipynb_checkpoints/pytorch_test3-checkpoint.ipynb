{
 "cells": [
  {
   "cell_type": "markdown",
   "metadata": {},
   "source": [
    "## 训练神经网络"
   ]
  },
  {
   "cell_type": "code",
   "execution_count": 1,
   "metadata": {},
   "outputs": [],
   "source": [
    "import numpy as np\n",
    "import time\n",
    "\n",
    "import torch\n",
    "from torch import nn\n",
    "from torch import optim\n",
    "import torch.nn.functional as F\n",
    "from torch.autograd import Variable\n",
    "from collections import OrderedDict\n",
    "from torchvision import datasets, transforms\n",
    "\n",
    "import helper"
   ]
  },
  {
   "cell_type": "markdown",
   "metadata": {},
   "source": [
    "## Autograd计算梯度"
   ]
  },
  {
   "cell_type": "code",
   "execution_count": 2,
   "metadata": {},
   "outputs": [
    {
     "data": {
      "text/plain": [
       "tensor([[-0.4904, -0.6312],\n",
       "        [-1.9918, -0.8161]])"
      ]
     },
     "execution_count": 2,
     "metadata": {},
     "output_type": "execute_result"
    }
   ],
   "source": [
    "x = torch.randn(2, 2)  # 正态分布的随机数\n",
    "x"
   ]
  },
  {
   "cell_type": "code",
   "execution_count": 3,
   "metadata": {},
   "outputs": [
    {
     "data": {
      "text/plain": [
       "tensor([[-0.4904, -0.6312],\n",
       "        [-1.9918, -0.8161]], requires_grad=True)"
      ]
     },
     "execution_count": 3,
     "metadata": {},
     "output_type": "execute_result"
    }
   ],
   "source": [
    "## 使用torch.autograd中的Variable封装张量，并且指明需要梯度\n",
    "x = Variable(x, requires_grad=True)\n",
    "x"
   ]
  },
  {
   "cell_type": "code",
   "execution_count": 4,
   "metadata": {},
   "outputs": [
    {
     "data": {
      "text/plain": [
       "tensor([[0.2405, 0.3984],\n",
       "        [3.9671, 0.6660]], grad_fn=<PowBackward0>)"
      ]
     },
     "execution_count": 4,
     "metadata": {},
     "output_type": "execute_result"
    }
   ],
   "source": [
    "# grad_fn看出执行了Pow运算\n",
    "y = x ** 2\n",
    "y"
   ]
  },
  {
   "cell_type": "code",
   "execution_count": 5,
   "metadata": {},
   "outputs": [],
   "source": [
    "# x的梯度为空\n",
    "x.grad"
   ]
  },
  {
   "cell_type": "code",
   "execution_count": 6,
   "metadata": {},
   "outputs": [],
   "source": [
    "# 标量才能隐式创建梯度\n",
    "# y.backward()"
   ]
  },
  {
   "cell_type": "code",
   "execution_count": 7,
   "metadata": {},
   "outputs": [
    {
     "data": {
      "text/plain": [
       "tensor(1.3180, grad_fn=<MeanBackward1>)"
      ]
     },
     "execution_count": 7,
     "metadata": {},
     "output_type": "execute_result"
    }
   ],
   "source": [
    "z = y.mean()\n",
    "z"
   ]
  },
  {
   "cell_type": "markdown",
   "metadata": {},
   "source": [
    "要计算梯度，你需要对 Variable（例如 `z`）运行 `.backward` 方法。这样会计算 `z` 相对于 `x` 的梯度\n",
    "\n",
    "$$\n",
    "\\frac{\\partial z}{\\partial x} = \\frac{\\partial}{\\partial x}\\left[\\frac{1}{n}\\sum_i^n x_i^2\\right] = \\frac{x}{2}\n",
    "$$"
   ]
  },
  {
   "cell_type": "code",
   "execution_count": 8,
   "metadata": {},
   "outputs": [],
   "source": [
    "z.backward()"
   ]
  },
  {
   "cell_type": "code",
   "execution_count": 9,
   "metadata": {},
   "outputs": [
    {
     "data": {
      "text/plain": [
       "tensor([[-0.2452, -0.3156],\n",
       "        [-0.9959, -0.4081]])"
      ]
     },
     "execution_count": 9,
     "metadata": {},
     "output_type": "execute_result"
    }
   ],
   "source": [
    "# x.grad确实是x / 2\n",
    "x.grad"
   ]
  },
  {
   "cell_type": "markdown",
   "metadata": {},
   "source": [
    "## 训练神经网络"
   ]
  },
  {
   "cell_type": "code",
   "execution_count": 6,
   "metadata": {},
   "outputs": [],
   "source": [
    "## 下载数据\n",
    "# transform将图片转换为神经网络需要的数据\n",
    "# 图像每个通道元素-0.5，然后再除以0.5，从0-1转变为-1到1\n",
    "transform= transforms.Compose([transforms.ToTensor(), transforms.Normalize((0.5, 0.5, 0.5), (0.5, 0.5, 0.5))])\n",
    "\n",
    "## 训练集\n",
    "train_set = datasets.MNIST('MNIST_data/', download=True, train=True, transform=transform)\n",
    "train_loader = torch.utils.data.DataLoader(train_set, batch_size=64, shuffle=True)\n",
    "\n",
    "## 测试集\n",
    "test_set = datasets.MNIST('MNIST_data/', download=True, train=False, transform=transform)\n",
    "test_loader = torch.utils.data.DataLoader(test_set, batch_size=64, shuffle=True)"
   ]
  },
  {
   "cell_type": "code",
   "execution_count": 2,
   "metadata": {},
   "outputs": [],
   "source": [
    "## 神经网络模型\n",
    "input_size = 784\n",
    "hidden_size = [200, 50]\n",
    "output_size = 10\n",
    "model = nn.Sequential(OrderedDict([('fc1', nn.Linear(input_size, hidden_size[0])),\n",
    "                                  ('relu1', nn.ReLU()),\n",
    "                                  ('fc2', nn.Linear(hidden_size[0], hidden_size[1])),\n",
    "                                  ('relu2', nn.ReLU()),\n",
    "                                  ('fc3', nn.Linear(hidden_size[1], output_size)),\n",
    "                                  ('softmax', nn.Softmax(dim=1))]))"
   ]
  },
  {
   "cell_type": "code",
   "execution_count": 3,
   "metadata": {},
   "outputs": [],
   "source": [
    "## 损失函数\n",
    "criterion = nn.CrossEntropyLoss()\n",
    "\n",
    "## 优化器（SGD）\n",
    "## 优化所有参数，学习率设置为0.01\n",
    "optimizer = optim.SGD(model.parameters(), lr=0.01)"
   ]
  },
  {
   "cell_type": "markdown",
   "metadata": {},
   "source": [
    "首先我们只考虑${\\color{red}{一个学习步}}$，然后再循环访问所有数据。PyTorch 的一般流程是：\n",
    "\n",
    "* 在网络中进行前向传递以获得 logits\n",
    "* 使用 logits 计算损失\n",
    "* 通过 `loss.backward()` 对网络进行反向传递以计算梯度\n",
    "* 用优化器执行一步以更新权重"
   ]
  },
  {
   "cell_type": "code",
   "execution_count": 13,
   "metadata": {},
   "outputs": [],
   "source": [
    "images, labels = next(iter(train_loader))\n",
    "images.resize_(64, 784)\n",
    "\n",
    "## 把所有梯度都清零\n",
    "## 每次反向传播都会计算梯度，如果不清零，则会累积\n",
    "optimizer.zero_grad()\n",
    "\n",
    "## 数据包装\n",
    "inputs = Variable(images)\n",
    "targets = Variable(labels)\n",
    "\n",
    "## 前向反馈\n",
    "outputs = model.forward(inputs)\n",
    "loss = criterion(outputs, targets)  ## 计算损失\n",
    "\n",
    "## 反向传播\n",
    "loss.backward()\n",
    "\n",
    "## 使用优化器更新权重\n",
    "optimizer.step()"
   ]
  },
  {
   "cell_type": "markdown",
   "metadata": {},
   "source": [
    "### 实际训练\n",
    "\n",
    "现在，我们将此算法用于循环中，以便访问所有图像。很简单，我们将循环访问数据集的小批次数据，在网络中传递数据以计算损失，获得梯度，然后运行优化器。"
   ]
  },
  {
   "cell_type": "code",
   "execution_count": 22,
   "metadata": {},
   "outputs": [],
   "source": [
    "## 创建Network类\n",
    "class Network(nn.Module):\n",
    "    def __init__(self):\n",
    "        super().__init__()\n",
    "        \n",
    "        # 输入层，784(28x28)个输入结点, 200个输出结点\n",
    "        self.fc1 = nn.Linear(784, 200)\n",
    "        \n",
    "        # 隐藏层1，128个结点\n",
    "        self.fc2 = nn.Linear(200, 50)\n",
    "        \n",
    "        # 隐藏层2，50个结点，10个输出结点\n",
    "        self.fc3 = nn.Linear(50, 10)\n",
    "\n",
    "    # 前向反馈\n",
    "    # 多个线性模型组合\n",
    "    def forward(self, x):\n",
    "        x = self.fc1(x)\n",
    "        x = F.relu(x)  ## 使用ReLU作为激活函数\n",
    "        x = self.fc2(x)\n",
    "        x = F.relu(x)  ## 使用ReLU作为激活函数\n",
    "        x = self.fc3(x)\n",
    "        \n",
    "        return x\n",
    "    \n",
    "    def predict(self, x):\n",
    "        logits = self.forward(x)\n",
    "        \n",
    "        # 输出层的激活函数为softmax\n",
    "        return F.softmax(logits, dim=1)\n",
    "\n",
    "net = Network()\n",
    "optimizer = optim.Adam(net.parameters(), lr=0.001)\n",
    "optimizer.zero_grad()"
   ]
  },
  {
   "cell_type": "code",
   "execution_count": 24,
   "metadata": {},
   "outputs": [
    {
     "name": "stdout",
     "output_type": "stream",
     "text": [
      "Epoch: 1/1 Loss: 1.1248 Test accuracy: 0.7035\n",
      "Epoch: 1/1 Loss: 0.7310 Test accuracy: 0.7967\n",
      "Epoch: 1/1 Loss: 0.6384 Test accuracy: 0.7894\n",
      "Epoch: 1/1 Loss: 0.6110 Test accuracy: 0.8500\n",
      "Epoch: 1/1 Loss: 0.5012 Test accuracy: 0.8694\n",
      "Epoch: 1/1 Loss: 0.4228 Test accuracy: 0.8526\n",
      "Epoch: 1/1 Loss: 0.5081 Test accuracy: 0.8671\n",
      "Epoch: 1/1 Loss: 0.3865 Test accuracy: 0.8869\n",
      "Epoch: 1/1 Loss: 0.3917 Test accuracy: 0.8882\n",
      "Epoch: 1/1 Loss: 0.3978 Test accuracy: 0.8830\n",
      "Epoch: 1/1 Loss: 0.3578 Test accuracy: 0.8953\n",
      "Epoch: 1/1 Loss: 0.3143 Test accuracy: 0.9052\n",
      "Epoch: 1/1 Loss: 0.3381 Test accuracy: 0.8992\n",
      "Epoch: 1/1 Loss: 0.3934 Test accuracy: 0.9036\n",
      "Epoch: 1/1 Loss: 0.3581 Test accuracy: 0.9011\n",
      "Epoch: 1/1 Loss: 0.4082 Test accuracy: 0.9017\n",
      "Epoch: 1/1 Loss: 0.3407 Test accuracy: 0.9136\n",
      "Epoch: 1/1 Loss: 0.3620 Test accuracy: 0.9110\n",
      "Epoch: 1/1 Loss: 0.3176 Test accuracy: 0.9074\n",
      "Epoch: 1/1 Loss: 0.3342 Test accuracy: 0.9185\n",
      "Epoch: 1/1 Loss: 0.2703 Test accuracy: 0.9220\n",
      "Epoch: 1/1 Loss: 0.2852 Test accuracy: 0.9096\n",
      "Epoch: 1/1 Loss: 0.3310 Test accuracy: 0.9234\n",
      "Epoch: 1/1 Loss: 0.2914 Test accuracy: 0.9212\n",
      "Epoch: 1/1 Loss: 0.2592 Test accuracy: 0.9113\n",
      "Epoch: 1/1 Loss: 0.3415 Test accuracy: 0.9213\n",
      "Epoch: 1/1 Loss: 0.2859 Test accuracy: 0.9096\n",
      "Epoch: 1/1 Loss: 0.2894 Test accuracy: 0.9222\n",
      "Epoch: 1/1 Loss: 0.2898 Test accuracy: 0.9282\n",
      "Epoch: 1/1 Loss: 0.2782 Test accuracy: 0.9284\n",
      "Epoch: 1/1 Loss: 0.2592 Test accuracy: 0.9320\n",
      "Epoch: 1/1 Loss: 0.2707 Test accuracy: 0.9304\n",
      "Epoch: 1/1 Loss: 0.2405 Test accuracy: 0.9312\n",
      "Epoch: 1/1 Loss: 0.2406 Test accuracy: 0.9273\n",
      "Epoch: 1/1 Loss: 0.2551 Test accuracy: 0.9143\n",
      "Epoch: 1/1 Loss: 0.2629 Test accuracy: 0.9235\n",
      "Epoch: 1/1 Loss: 0.2341 Test accuracy: 0.9295\n",
      "Epoch: 1/1 Loss: 0.2457 Test accuracy: 0.9241\n",
      "Epoch: 1/1 Loss: 0.2501 Test accuracy: 0.9319\n",
      "Epoch: 1/1 Loss: 0.2498 Test accuracy: 0.9243\n",
      "Epoch: 1/1 Loss: 0.2707 Test accuracy: 0.9280\n",
      "Epoch: 1/1 Loss: 0.2378 Test accuracy: 0.9374\n",
      "Epoch: 1/1 Loss: 0.2296 Test accuracy: 0.9376\n",
      "Epoch: 1/1 Loss: 0.2206 Test accuracy: 0.9323\n",
      "Epoch: 1/1 Loss: 0.2019 Test accuracy: 0.9397\n",
      "Epoch: 1/1 Loss: 0.2429 Test accuracy: 0.9376\n"
     ]
    }
   ],
   "source": [
    "## 训练周期，每个周期使用所有数据进行前向反馈和反向传播\n",
    "epochs = 1  # 大于1，会出现过拟合，可以看到loss开始上升\n",
    "print_every = 20\n",
    "steps = 0\n",
    "\n",
    "for i in range(epochs):\n",
    "    running_loss = 0\n",
    "    for images, labels in iter(train_loader):\n",
    "        steps += 1\n",
    "        \n",
    "        images.resize_(images.shape[0], input_size)\n",
    "        optimizer.zero_grad()\n",
    "        inputs = Variable(images)\n",
    "        targets = Variable(labels)\n",
    "        \n",
    "        outputs = net.forward(inputs)\n",
    "        loss = criterion(outputs, targets)\n",
    "        loss.backward()\n",
    "        optimizer.step()\n",
    "        \n",
    "        running_loss += loss.item()\n",
    "        \n",
    "        if steps % print_every == 0:\n",
    "            accuracy = 0\n",
    "            for ii, (images, labels) in enumerate(test_loader):\n",
    "                \n",
    "                images = images.resize_(images.size()[0], 784)\n",
    "                inputs = Variable(images)\n",
    "                \n",
    "                predicted = net.predict(inputs).data\n",
    "                equality = (labels == predicted.max(1)[1])\n",
    "                accuracy += equality.type_as(torch.FloatTensor()).mean()\n",
    "            \n",
    "            print(\"Epoch: {}/{}\".format(i+1, epochs),\n",
    "                  \"Loss: {:.4f}\".format(running_loss/print_every),\n",
    "                  \"Test accuracy: {:.4f}\".format(accuracy/(ii+1)))\n",
    "            \n",
    "            running_loss = 0\n",
    "        "
   ]
  },
  {
   "cell_type": "markdown",
   "metadata": {},
   "source": [
    "## 测试"
   ]
  },
  {
   "cell_type": "code",
   "execution_count": 25,
   "metadata": {},
   "outputs": [],
   "source": [
    "images, labels = next(iter(test_loader))"
   ]
  },
  {
   "cell_type": "code",
   "execution_count": 27,
   "metadata": {},
   "outputs": [
    {
     "data": {
      "image/png": "[encoded data removed]",
      "text/plain": [
       "<Figure size 432x648 with 2 Axes>"
      ]
     },
     "metadata": {
      "needs_background": "light"
     },
     "output_type": "display_data"
    }
   ],
   "source": [
    "img = images[1]  ## 修改索引值，可以看到不同的数字图像对应的概率\n",
    "ps = net.predict(Variable(img.resize_(1, 784)))\n",
    "helper.view_classify(img.resize_(1, 28, 28), ps)"
   ]
  },
  {
   "cell_type": "code",
   "execution_count": null,
   "metadata": {},
   "outputs": [],
   "source": []
  }
 ],
 "metadata": {
  "kernelspec": {
   "display_name": "Python 3",
   "language": "python",
   "name": "python3"
  },
  "language_info": {
   "codemirror_mode": {
    "name": "ipython",
    "version": 3
   },
   "file_extension": ".py",
   "mimetype": "text/x-python",
   "name": "python",
   "nbconvert_exporter": "python",
   "pygments_lexer": "ipython3",
   "version": "3.7.1"
  }
 },
 "nbformat": 4,
 "nbformat_minor": 2
}
