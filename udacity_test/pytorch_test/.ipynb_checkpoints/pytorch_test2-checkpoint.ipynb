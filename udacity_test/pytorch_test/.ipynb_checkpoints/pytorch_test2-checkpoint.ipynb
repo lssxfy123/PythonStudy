{
 "cells": [
  {
   "cell_type": "markdown",
   "metadata": {},
   "source": [
    "#PyTorch定义${\\color{red}{神经网络}}$"
   ]
  },
  {
   "cell_type": "code",
   "execution_count": 19,
   "metadata": {},
   "outputs": [],
   "source": [
    "import torch\n",
    "import numpy as np\n",
    "import matplotlib.pyplot as plt\n",
    "from torchvision import datasets, transforms\n",
    "import helper\n",
    "\n",
    "%matplotlib inline"
   ]
  },
  {
   "cell_type": "code",
   "execution_count": 18,
   "metadata": {},
   "outputs": [],
   "source": [
    "## 下载数据\n",
    "# transform将图片转换为神经网络需要的数据\n",
    "# 图像每个通道元素-0.5，然后再除以0.5，从0-1转变为-1到1\n",
    "transform= transforms.Compose([transforms.ToTensor(), transforms.Normalize((0.5, 0.5, 0.5), (0.5, 0.5, 0.5))])\n",
    "\n",
    "## 训练集\n",
    "train_set = datasets.MNIST('MNIST_data/', download=True, train=True, transform=transform)\n",
    "train_loader = torch.utils.data.DataLoader(train_set, batch_size=64, shuffle=True)\n",
    "\n",
    "## 测试集\n",
    "test_set = datasets.MNIST('MNIST_data/', download=True, train=False, transform=transform)\n",
    "test_loader = torch.utils.data.DataLoader(test_set, batch_size=64, shuffle=True)"
   ]
  },
  {
   "cell_type": "code",
   "execution_count": 5,
   "metadata": {},
   "outputs": [],
   "source": [
    "data_iter = iter(train_loader)  ## 转换为迭代器\n",
    "images, labels = data_iter.next()  ## 第一组数据"
   ]
  },
  {
   "cell_type": "code",
   "execution_count": 7,
   "metadata": {},
   "outputs": [
    {
     "data": {
      "text/plain": [
       "torch.Size([64, 1, 28, 28])"
      ]
     },
     "execution_count": 7,
     "metadata": {},
     "output_type": "execute_result"
    }
   ],
   "source": [
    "images.shape  ## 每批64个图像，1个颜色通道，共28x28个图像"
   ]
  },
  {
   "cell_type": "code",
   "execution_count": 6,
   "metadata": {},
   "outputs": [
    {
     "data": {
      "text/plain": [
       "<matplotlib.image.AxesImage at 0x1fac002bfd0>"
      ]
     },
     "execution_count": 6,
     "metadata": {},
     "output_type": "execute_result"
    },
    {
     "data": {
      "image/png": "[encoded data removed]",
      "text/plain": [
       "<Figure size 432x288 with 1 Axes>"
      ]
     },
     "metadata": {
      "needs_background": "light"
     },
     "output_type": "display_data"
    }
   ],
   "source": [
    "plt.imshow(images[1].numpy().squeeze(), cmap='Greys_r')"
   ]
  },
  {
   "cell_type": "markdown",
   "metadata": {},
   "source": [
    "## 通过 PyTorch 构建神经网络\n",
    "<img src=\"assets/mlp_mnist.png\" width=600px>"
   ]
  },
  {
   "cell_type": "code",
   "execution_count": 8,
   "metadata": {},
   "outputs": [],
   "source": [
    "from torch import nn\n",
    "from torch import optim\n",
    "import torch.nn.functional as F\n",
    "from torch.autograd import Variable"
   ]
  },
  {
   "cell_type": "code",
   "execution_count": 10,
   "metadata": {},
   "outputs": [
    {
     "data": {
      "text/plain": [
       "Network(\n",
       "  (fc1): Linear(in_features=784, out_features=128, bias=True)\n",
       "  (fc2): Linear(in_features=128, out_features=64, bias=True)\n",
       "  (fc3): Linear(in_features=64, out_features=10, bias=True)\n",
       ")"
      ]
     },
     "execution_count": 10,
     "metadata": {},
     "output_type": "execute_result"
    }
   ],
   "source": [
    "## 创建Network类\n",
    "class Network(nn.Module):\n",
    "    def __init__(self):\n",
    "        super().__init__()\n",
    "        \n",
    "        # 输入层，784(28x28)个输入结点, 128个输出结点\n",
    "        self.fc1 = nn.Linear(784, 128)\n",
    "        \n",
    "        # 隐藏层1，128个结点\n",
    "        self.fc2 = nn.Linear(128, 64)\n",
    "        \n",
    "        # 隐藏层2，64个结点，10个输出结点\n",
    "        self.fc3 = nn.Linear(64, 10)\n",
    "\n",
    "    # 前向反馈\n",
    "    # 多个线性模型组合\n",
    "    def forward(self, x):\n",
    "        x = self.fc1(x)\n",
    "        x = F.relu(x)  ## 使用ReLU作为激活函数\n",
    "        x = self.fc2(x)\n",
    "        x = F.relu(x)  ## 使用ReLU作为激活函数\n",
    "        x = self.fc3(x)\n",
    "        \n",
    "        return x\n",
    "    \n",
    "    def predict(self, x):\n",
    "        logits = self.forward(x)\n",
    "        \n",
    "        # 输出层的激活函数为softmax\n",
    "        return F.softmax(logits, dim=1)\n",
    "\n",
    "net = Network()\n",
    "net"
   ]
  },
  {
   "cell_type": "markdown",
   "metadata": {},
   "source": [
    "## 初始化权重和偏差"
   ]
  },
  {
   "cell_type": "code",
   "execution_count": 12,
   "metadata": {},
   "outputs": [
    {
     "name": "stdout",
     "output_type": "stream",
     "text": [
      "Parameter containing:\n",
      "tensor([[-0.0089, -0.0221,  0.0229,  ...,  0.0175, -0.0260, -0.0007],\n",
      "        [ 0.0119,  0.0101,  0.0322,  ...,  0.0001, -0.0207,  0.0326],\n",
      "        [-0.0094, -0.0032,  0.0151,  ..., -0.0060, -0.0154, -0.0098],\n",
      "        ...,\n",
      "        [-0.0053,  0.0126, -0.0291,  ..., -0.0357,  0.0117,  0.0223],\n",
      "        [ 0.0316, -0.0158,  0.0085,  ...,  0.0015, -0.0201, -0.0150],\n",
      "        [ 0.0048,  0.0081, -0.0069,  ..., -0.0192,  0.0240,  0.0119]],\n",
      "       requires_grad=True)\n",
      "Parameter containing:\n",
      "tensor([ 8.6090e-04, -1.9321e-03, -1.2645e-02,  3.9039e-03,  3.1447e-02,\n",
      "        -1.6927e-02,  1.6798e-02,  3.2625e-02, -8.9394e-03,  3.3288e-02,\n",
      "         1.1732e-02,  2.8500e-02, -2.9979e-02,  7.7392e-03,  1.1497e-03,\n",
      "         9.0768e-03, -1.8520e-02, -1.5038e-02, -4.7915e-05,  2.7768e-02,\n",
      "        -2.3800e-02, -3.4064e-03, -3.0228e-02, -3.2392e-02,  2.4574e-02,\n",
      "        -2.9148e-02,  7.8110e-03,  9.3110e-03, -2.6416e-03,  2.4457e-02,\n",
      "        -2.2507e-02,  6.9867e-03, -1.3338e-02, -9.3756e-03, -5.0674e-03,\n",
      "         2.2058e-02, -1.0749e-02, -1.5805e-03, -1.7905e-02,  1.5167e-02,\n",
      "         2.1510e-02,  2.7577e-02,  9.9564e-03,  3.4947e-02, -1.5648e-02,\n",
      "        -3.2221e-02,  1.5468e-02, -2.4440e-02,  1.4331e-02, -1.5798e-03,\n",
      "        -7.0141e-03,  2.7135e-02, -2.3573e-02, -2.8404e-02,  1.8022e-02,\n",
      "        -1.5845e-02,  2.1865e-02, -2.0402e-02,  2.9767e-02,  2.4971e-02,\n",
      "         4.8049e-03, -1.7167e-02, -2.0143e-02,  1.1466e-02, -1.6681e-02,\n",
      "        -3.4492e-02,  2.6055e-02,  1.1653e-02, -5.9073e-03, -1.0979e-02,\n",
      "        -2.9325e-02, -2.6227e-02, -1.3256e-02,  1.2539e-02, -1.0789e-02,\n",
      "         3.2057e-02, -1.9149e-02, -2.8471e-02,  7.5777e-04,  3.0805e-02,\n",
      "         1.7575e-02, -1.0144e-02,  9.0636e-03, -2.7213e-02,  1.9083e-02,\n",
      "        -1.6807e-02, -1.9606e-02, -1.6775e-02,  1.5855e-03,  3.1328e-02,\n",
      "        -2.7202e-02, -1.8766e-02,  3.3138e-02, -3.1882e-02,  2.9330e-02,\n",
      "        -1.0967e-02,  3.3308e-02, -3.5780e-03,  9.5646e-03, -3.0585e-02,\n",
      "         3.2621e-02,  1.9088e-02,  2.8727e-02,  5.0040e-03, -2.7361e-02,\n",
      "         2.3519e-02, -3.3387e-02, -2.3893e-02,  6.1795e-03,  1.7554e-02,\n",
      "         2.7805e-02,  1.3673e-02,  2.5474e-02, -4.5439e-03, -9.9717e-03,\n",
      "         2.6025e-02,  1.0971e-02, -1.8838e-02,  3.4197e-02,  1.0867e-02,\n",
      "         1.7516e-02, -1.0147e-02, -1.8440e-02,  2.6988e-02, -3.1550e-03,\n",
      "         1.9283e-02, -1.9348e-03, -1.1101e-02], requires_grad=True)\n"
     ]
    }
   ],
   "source": [
    "# 权重和偏差是系统自动初始化的\n",
    "print(net.fc1.weight)\n",
    "print(net.fc1.bias)"
   ]
  },
  {
   "cell_type": "code",
   "execution_count": 14,
   "metadata": {},
   "outputs": [
    {
     "data": {
      "text/plain": [
       "tensor([0., 0., 0., 0., 0., 0., 0., 0., 0., 0., 0., 0., 0., 0., 0., 0., 0., 0., 0., 0., 0., 0., 0., 0.,\n",
       "        0., 0., 0., 0., 0., 0., 0., 0., 0., 0., 0., 0., 0., 0., 0., 0., 0., 0., 0., 0., 0., 0., 0., 0.,\n",
       "        0., 0., 0., 0., 0., 0., 0., 0., 0., 0., 0., 0., 0., 0., 0., 0., 0., 0., 0., 0., 0., 0., 0., 0.,\n",
       "        0., 0., 0., 0., 0., 0., 0., 0., 0., 0., 0., 0., 0., 0., 0., 0., 0., 0., 0., 0., 0., 0., 0., 0.,\n",
       "        0., 0., 0., 0., 0., 0., 0., 0., 0., 0., 0., 0., 0., 0., 0., 0., 0., 0., 0., 0., 0., 0., 0., 0.,\n",
       "        0., 0., 0., 0., 0., 0., 0., 0.])"
      ]
     },
     "execution_count": 14,
     "metadata": {},
     "output_type": "execute_result"
    }
   ],
   "source": [
    "# 偏差设置为0， 原地修改\n",
    "# net.fc1.bias本身是autograd变量，无法修改\n",
    "net.fc1.bias.data.fill_(0)"
   ]
  },
  {
   "cell_type": "code",
   "execution_count": 15,
   "metadata": {},
   "outputs": [
    {
     "data": {
      "text/plain": [
       "tensor([[-0.0147,  0.0169,  0.0051,  ...,  0.0031, -0.0169, -0.0119],\n",
       "        [ 0.0096,  0.0060,  0.0053,  ..., -0.0126,  0.0119,  0.0379],\n",
       "        [ 0.0044, -0.0107, -0.0116,  ..., -0.0048, -0.0007,  0.0047],\n",
       "        ...,\n",
       "        [-0.0029,  0.0062,  0.0117,  ..., -0.0126, -0.0056, -0.0020],\n",
       "        [ 0.0051, -0.0051,  0.0038,  ..., -0.0073,  0.0018,  0.0239],\n",
       "        [ 0.0074,  0.0021, -0.0011,  ..., -0.0218,  0.0021,  0.0083]])"
      ]
     },
     "execution_count": 15,
     "metadata": {},
     "output_type": "execute_result"
    }
   ],
   "source": [
    "# 权重系数设置为标准差为0.01的正态分布\n",
    "net.fc1.weight.data.normal_(std=0.01)"
   ]
  },
  {
   "cell_type": "markdown",
   "metadata": {},
   "source": [
    "## 前向反馈"
   ]
  },
  {
   "cell_type": "code",
   "execution_count": 20,
   "metadata": {},
   "outputs": [
    {
     "data": {
      "image/png": "[encoded data removed]",
      "text/plain": [
       "<Figure size 432x648 with 2 Axes>"
      ]
     },
     "metadata": {
      "needs_background": "light"
     },
     "output_type": "display_data"
    }
   ],
   "source": [
    "data_iter = iter(train_loader)\n",
    "images, labels = data_iter.next()\n",
    "images.resize_(64, 1, 784)\n",
    "\n",
    "## 包装输入数据\n",
    "inputs = Variable(images)\n",
    "\n",
    "img_idx = 0\n",
    "logits = net.forward(inputs[img_idx, :])\n",
    "\n",
    "# 预测\n",
    "ps = F.softmax(logits, dim=1)\n",
    "\n",
    "img = images[img_idx]\n",
    "\n",
    "# 预测出来的每个数字的概率基本相同，原因是神经网络并未训练\n",
    "helper.view_classify(img.resize_(1, 28, 28), ps)"
   ]
  },
  {
   "cell_type": "markdown",
   "metadata": {},
   "source": [
    "## 更简单的方式"
   ]
  },
  {
   "cell_type": "code",
   "execution_count": 24,
   "metadata": {},
   "outputs": [
    {
     "name": "stdout",
     "output_type": "stream",
     "text": [
      "Sequential(\n",
      "  (0): Linear(in_features=784, out_features=128, bias=True)\n",
      "  (1): ReLU()\n",
      "  (2): Linear(in_features=128, out_features=64, bias=True)\n",
      "  (3): ReLU()\n",
      "  (4): Linear(in_features=64, out_features=10, bias=True)\n",
      "  (5): Softmax()\n",
      ")\n"
     ]
    }
   ],
   "source": [
    "input_size = 784\n",
    "hidden_size = [128, 64]\n",
    "output_size = 10\n",
    "\n",
    "model = nn.Sequential(nn.Linear(input_size, hidden_size[0]), # 线性模型\n",
    "                     nn.ReLU(),  # 激活函数\n",
    "                     nn.Linear(hidden_size[0], hidden_size[1]),\n",
    "                     nn.ReLU(),\n",
    "                     nn.Linear(hidden_size[1], output_size),\n",
    "                     nn.Softmax(dim=1))\n",
    "print(model)"
   ]
  },
  {
   "cell_type": "code",
   "execution_count": 25,
   "metadata": {},
   "outputs": [
    {
     "data": {
      "image/png": "[encoded data removed]",
      "text/plain": [
       "<Figure size 432x648 with 2 Axes>"
      ]
     },
     "metadata": {
      "needs_background": "light"
     },
     "output_type": "display_data"
    }
   ],
   "source": [
    "images. labels = next(iter(train_loader))\n",
    "images.resize_(images.shape[0], 1, 784)\n",
    "ps = model.forward(images[0, :]) # 第1张图\n",
    "helper.view_classify(images[0].view(1, 28, 28), ps)"
   ]
  },
  {
   "cell_type": "markdown",
   "metadata": {},
   "source": [
    "## 为每一层都设置名字"
   ]
  },
  {
   "cell_type": "code",
   "execution_count": 26,
   "metadata": {},
   "outputs": [
    {
     "data": {
      "text/plain": [
       "Sequential(\n",
       "  (fc1): Linear(in_features=784, out_features=128, bias=True)\n",
       "  (relu1): ReLU()\n",
       "  (fc2): Linear(in_features=128, out_features=64, bias=True)\n",
       "  (relu2): ReLU()\n",
       "  (output): Linear(in_features=64, out_features=10, bias=True)\n",
       "  (softmax): Softmax()\n",
       ")"
      ]
     },
     "execution_count": 26,
     "metadata": {},
     "output_type": "execute_result"
    }
   ],
   "source": [
    "## 使用OrderedDict\n",
    "from collections import OrderedDict\n",
    "model = nn.Sequential(OrderedDict([('fc1', nn.Linear(input_size, hidden_size[0])),\n",
    "                                  ('relu1', nn.ReLU()),\n",
    "                                  ('fc2', nn.Linear(hidden_size[0], hidden_size[1])),\n",
    "                                  ('relu2', nn.ReLU()),\n",
    "                                  ('output', nn.Linear(hidden_size[1], output_size)),\n",
    "                                  ('softmax', nn.Softmax(dim=1))]))\n",
    "model"
   ]
  },
  {
   "cell_type": "code",
   "execution_count": 27,
   "metadata": {},
   "outputs": [
    {
     "data": {
      "text/plain": [
       "Linear(in_features=784, out_features=128, bias=True)"
      ]
     },
     "execution_count": 27,
     "metadata": {},
     "output_type": "execute_result"
    }
   ],
   "source": [
    "# 访问指定层\n",
    "model.fc1"
   ]
  },
  {
   "cell_type": "markdown",
   "metadata": {},
   "source": [
    "## 自定义神经网络"
   ]
  },
  {
   "cell_type": "code",
   "execution_count": 29,
   "metadata": {},
   "outputs": [],
   "source": [
    "hidden_size = [400, 200, 100]\n",
    "my_model = nn.Sequential(OrderedDict([('fc1', nn.Linear(input_size, hidden_size[0])),\n",
    "                                  ('relu1', nn.ReLU()),\n",
    "                                  ('fc2', nn.Linear(hidden_size[0], hidden_size[1])),\n",
    "                                  ('relu2', nn.ReLU()),\n",
    "                                  ('fc3', nn.Linear(hidden_size[1], hidden_size[2])),\n",
    "                                  ('relu3', nn.ReLU()),\n",
    "                                  ('output', nn.Linear(hidden_size[2], output_size)),\n",
    "                                  ('softmax', nn.Softmax(dim=1))]))"
   ]
  },
  {
   "cell_type": "code",
   "execution_count": 31,
   "metadata": {},
   "outputs": [
    {
     "data": {
      "image/png": "[encoded data removed]",
      "text/plain": [
       "<Figure size 432x648 with 2 Axes>"
      ]
     },
     "metadata": {
      "needs_background": "light"
     },
     "output_type": "display_data"
    }
   ],
   "source": [
    "## Run this cell with your model to make sure it works ##\n",
    "# Forward pass through the network and display output\n",
    "images, labels = next(iter(train_loader))\n",
    "images.resize_(images.shape[0], 1, 784)\n",
    "ps = model.forward(images[0,:])\n",
    "helper.view_classify(images[0].view(1, 28, 28), ps)"
   ]
  },
  {
   "cell_type": "code",
   "execution_count": null,
   "metadata": {},
   "outputs": [],
   "source": []
  }
 ],
 "metadata": {
  "kernelspec": {
   "display_name": "Python 3",
   "language": "python",
   "name": "python3"
  },
  "language_info": {
   "codemirror_mode": {
    "name": "ipython",
    "version": 3
   },
   "file_extension": ".py",
   "mimetype": "text/x-python",
   "name": "python",
   "nbconvert_exporter": "python",
   "pygments_lexer": "ipython3",
   "version": "3.7.1"
  }
 },
 "nbformat": 4,
 "nbformat_minor": 2
}
