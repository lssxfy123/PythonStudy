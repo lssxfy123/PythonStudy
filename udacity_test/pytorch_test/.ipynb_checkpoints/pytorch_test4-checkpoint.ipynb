{
 "cells": [
  {
   "cell_type": "markdown",
   "metadata": {},
   "source": [
    "## 神经网络练习"
   ]
  },
  {
   "cell_type": "code",
   "execution_count": 1,
   "metadata": {},
   "outputs": [],
   "source": [
    "import torch\n",
    "from torchvision import datasets, transforms\n",
    "import helper\n",
    "\n",
    "# Define a transform to normalize the data\n",
    "transform = transforms.Compose([transforms.ToTensor(),\n",
    "                                transforms.Normalize((0.5, 0.5, 0.5), (0.5, 0.5, 0.5))])\n",
    "# Download and load the training data\n",
    "train_set = datasets.FashionMNIST('F_MNIST_data/', download=True, train=True, transform=transform)\n",
    "train_loader = torch.utils.data.DataLoader(train_set, batch_size=64, shuffle=True)\n",
    "\n",
    "# Download and load the test data\n",
    "test_set = datasets.FashionMNIST('F_MNIST_data/', download=True, train=False, transform=transform)\n",
    "test_loader = torch.utils.data.DataLoader(test_set, batch_size=64, shuffle=True)"
   ]
  },
  {
   "cell_type": "code",
   "execution_count": 12,
   "metadata": {},
   "outputs": [
    {
     "data": {
      "image/png": "[encoded data removed]",
      "text/plain": [
       "<Figure size 432x288 with 1 Axes>"
      ]
     },
     "metadata": {
      "needs_background": "light"
     },
     "output_type": "display_data"
    }
   ],
   "source": [
    "image, label = next(iter(train_loader))\n",
    "helper.imshow(image[0,:]);"
   ]
  },
  {
   "cell_type": "code",
   "execution_count": 13,
   "metadata": {},
   "outputs": [],
   "source": [
    "%matplotlib inline\n",
    "%config InlineBackend.figure_format = 'retina'\n",
    "\n",
    "import matplotlib.pyplot as plt\n",
    "import numpy as np\n",
    "import time\n",
    "\n",
    "import torch\n",
    "from torch import nn\n",
    "from torch import optim\n",
    "import torch.nn.functional as F\n",
    "from torch.autograd import Variable\n",
    "from torchvision import datasets, transforms\n",
    "\n",
    "import helper"
   ]
  },
  {
   "cell_type": "code",
   "execution_count": 22,
   "metadata": {},
   "outputs": [],
   "source": [
    "input_size = 784\n",
    "hidden_size = [300, 100]\n",
    "output_size = 10\n",
    "\n",
    "# TODO: Define your network architecture here\n",
    "class Network(nn.Module):\n",
    "    def __init__(self):\n",
    "        super().__init__()\n",
    "        \n",
    "        self.fc1 = nn.Linear(input_size, hidden_size[0])\n",
    "        self.fc2 = nn.Linear(hidden_size[0], hidden_size[1])\n",
    "        self.fc3 = nn.Linear(hidden_size[1], output_size)\n",
    "    \n",
    "    def forward(self, x):\n",
    "        x = self.fc1(x)\n",
    "        x = F.relu(x)\n",
    "        \n",
    "        x = self.fc2(x)\n",
    "        x = F.relu(x)\n",
    "        \n",
    "        x = self.fc3(x)\n",
    "        \n",
    "        return x\n",
    "    \n",
    "    def predict(self, x):\n",
    "        logits = self.forward(x)\n",
    "        \n",
    "        return F.softmax(logits, dim=1)\n",
    "\n",
    "net = Network()"
   ]
  },
  {
   "cell_type": "code",
   "execution_count": 23,
   "metadata": {},
   "outputs": [],
   "source": [
    "## 损失函数\n",
    "criterion = nn.CrossEntropyLoss()\n",
    "\n",
    "## 优化器\n",
    "optimizer = optim.Adam(net.parameters(), lr=0.001)"
   ]
  },
  {
   "cell_type": "markdown",
   "metadata": {},
   "source": [
    "## 训练网络"
   ]
  },
  {
   "cell_type": "code",
   "execution_count": 24,
   "metadata": {},
   "outputs": [
    {
     "name": "stdout",
     "output_type": "stream",
     "text": [
      "Epoch: 1/1 Loss: 1.4334\n",
      "Epoch: 1/1 Loss: 0.8552\n",
      "Epoch: 1/1 Loss: 0.6907\n",
      "Epoch: 1/1 Loss: 0.5657\n",
      "Epoch: 1/1 Loss: 0.5552\n",
      "Epoch: 1/1 Loss: 0.5287\n",
      "Epoch: 1/1 Loss: 0.5400\n",
      "Epoch: 1/1 Loss: 0.5587\n",
      "Epoch: 1/1 Loss: 0.5633\n",
      "Epoch: 1/1 Loss: 0.5215\n",
      "Epoch: 1/1 Loss: 0.5023\n",
      "Epoch: 1/1 Loss: 0.4862\n",
      "Epoch: 1/1 Loss: 0.4631\n",
      "Epoch: 1/1 Loss: 0.5383\n",
      "Epoch: 1/1 Loss: 0.4874\n",
      "Epoch: 1/1 Loss: 0.4735\n",
      "Epoch: 1/1 Loss: 0.4955\n",
      "Epoch: 1/1 Loss: 0.4303\n",
      "Epoch: 1/1 Loss: 0.4559\n",
      "Epoch: 1/1 Loss: 0.5069\n",
      "Epoch: 1/1 Loss: 0.4674\n",
      "Epoch: 1/1 Loss: 0.4594\n",
      "Epoch: 1/1 Loss: 0.4057\n",
      "Epoch: 1/1 Loss: 0.4340\n",
      "Epoch: 1/1 Loss: 0.4626\n",
      "Epoch: 1/1 Loss: 0.4813\n",
      "Epoch: 1/1 Loss: 0.4491\n",
      "Epoch: 1/1 Loss: 0.4115\n",
      "Epoch: 1/1 Loss: 0.4350\n",
      "Epoch: 1/1 Loss: 0.4361\n",
      "Epoch: 1/1 Loss: 0.4107\n",
      "Epoch: 1/1 Loss: 0.4744\n",
      "Epoch: 1/1 Loss: 0.4376\n",
      "Epoch: 1/1 Loss: 0.4194\n",
      "Epoch: 1/1 Loss: 0.4133\n",
      "Epoch: 1/1 Loss: 0.3858\n",
      "Epoch: 1/1 Loss: 0.5100\n",
      "Epoch: 1/1 Loss: 0.4406\n",
      "Epoch: 1/1 Loss: 0.3795\n",
      "Epoch: 1/1 Loss: 0.4079\n",
      "Epoch: 1/1 Loss: 0.3774\n",
      "Epoch: 1/1 Loss: 0.4105\n",
      "Epoch: 1/1 Loss: 0.4093\n",
      "Epoch: 1/1 Loss: 0.3889\n",
      "Epoch: 1/1 Loss: 0.3868\n",
      "Epoch: 1/1 Loss: 0.3482\n"
     ]
    }
   ],
   "source": [
    "epochs = 1\n",
    "steps = 0\n",
    "print_every = 20\n",
    "\n",
    "for i in range(epochs):\n",
    "    running_loss = 0\n",
    "    for images, labels in iter(train_loader):\n",
    "        steps += 1\n",
    "        images.resize_(images.shape[0], input_size)\n",
    "        inputs = Variable(images)\n",
    "        targets = Variable(labels)\n",
    "        \n",
    "        optimizer.zero_grad()\n",
    "        \n",
    "        logits = net.forward(inputs)  # 前向反馈\n",
    "        loss = criterion(logits, targets)  # 计算损失\n",
    "        loss.backward()  # 反向传播\n",
    "        optimizer.step()\n",
    "        \n",
    "        running_loss += loss.item()\n",
    "        \n",
    "        if steps % print_every == 0:\n",
    "            accuracy = 0\n",
    "#             for ii, (images, labels) in enumerate(test_loader):\n",
    "                \n",
    "#                 images = images.resize_(images.size()[0], 784)\n",
    "#                 inputs = Variable(images)\n",
    "                \n",
    "#                 predicted = net.predict(inputs).data\n",
    "#                 equality = (labels == predicted.max(1)[1])\n",
    "#                 accuracy += equality.type_as(torch.FloatTensor()).mean()\n",
    "            print(\"Epoch: {}/{}\".format(i+1, epochs),\"Loss: {:.4f}\".format(running_loss/print_every))\n",
    "#                   \"Loss: {:.4f}\".format(running_loss/print_every),\n",
    "#                   \"Test accuracy: {:.4f}\".format(accuracy/(ii+1)))\n",
    "            \n",
    "            running_loss = 0"
   ]
  },
  {
   "cell_type": "markdown",
   "metadata": {},
   "source": [
    "## 测试"
   ]
  },
  {
   "cell_type": "code",
   "execution_count": 26,
   "metadata": {},
   "outputs": [
    {
     "data": {
      "image/png": "[encoded data removed]",
      "text/plain": [
       "<Figure size 432x648 with 2 Axes>"
      ]
     },
     "metadata": {
      "image/png": {
       "height": 226,
       "width": 423
      },
      "needs_background": "light"
     },
     "output_type": "display_data"
    }
   ],
   "source": [
    "# Test out your network!\n",
    "images, labels = next(iter(test_loader))\n",
    "img = images[1]\n",
    "# Convert 2D image to 1D vector\n",
    "img = img.resize_(1, 784)\n",
    "\n",
    "# TODO: Calculate the class probabilities (softmax) for img\n",
    "ps = net.predict(Variable(img))\n",
    "\n",
    "# Plot the image and probabilities\n",
    "helper.view_classify(img.resize_(1, 28, 28), ps)"
   ]
  },
  {
   "cell_type": "code",
   "execution_count": null,
   "metadata": {},
   "outputs": [],
   "source": []
  }
 ],
 "metadata": {
  "kernelspec": {
   "display_name": "Python 3",
   "language": "python",
   "name": "python3"
  },
  "language_info": {
   "codemirror_mode": {
    "name": "ipython",
    "version": 3
   },
   "file_extension": ".py",
   "mimetype": "text/x-python",
   "name": "python",
   "nbconvert_exporter": "python",
   "pygments_lexer": "ipython3",
   "version": "3.7.1"
  }
 },
 "nbformat": 4,
 "nbformat_minor": 2
}
