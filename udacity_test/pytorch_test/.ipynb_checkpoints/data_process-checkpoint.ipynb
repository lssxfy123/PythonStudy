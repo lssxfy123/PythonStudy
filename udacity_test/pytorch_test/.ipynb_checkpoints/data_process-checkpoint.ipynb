{
 "cells": [
  {
   "cell_type": "code",
   "execution_count": 5,
   "metadata": {},
   "outputs": [],
   "source": [
    "## 导入包\n",
    "# import torch\n",
    "import os\n",
    "import json\n",
    "# from torch import nn\n",
    "# from torch import optim\n",
    "# import torch.nn.functional as F\n",
    "# from torch.autograd import Variable\n",
    "from torchvision import datasets, transforms, models\n",
    "\n",
    "import numpy as np\n",
    "import matplotlib.pyplot as plt\n",
    "from PIL import Image\n",
    "\n",
    "train_key = 'train'\n",
    "valid_key = 'valid'\n",
    "test_key = 'test'\n",
    "\n",
    "## 加载数据\n",
    "## 返回class_to_idx, dataloaders\n",
    "def load_data(data_directory):\n",
    "    if not os.path.isabs(data_directory):\n",
    "        data_directory = os.path.abspath(data_directory)\n",
    "    if os.path.exists(data_directory):\n",
    "        raise Exception('Data directory not exist')\n",
    "    train_dir = data_directory + '/' + train_key\n",
    "    valid_dir = data_directory + '/' + valid_key\n",
    "    test_dir = data_directory + '/' + test_key\n",
    "    \n",
    "    data_transforms = {train_key: transforms.Compose([transforms.RandomRotation(30),  # train_transform\n",
    "                                       transforms.RandomResizedCrop(224),\n",
    "                                       transforms.RandomHorizontalFlip(),\n",
    "                                       transforms.ToTensor(),\n",
    "                                       transforms.Normalize([0.485, 0.456, 0.406], [0.229, 0.224, 0.225])]),\n",
    "                       valid_key: transforms.Compose([transforms.Resize(256),  # validation_transform and test_transform\n",
    "                                       transforms.CenterCrop(224),\n",
    "                                       transforms.ToTensor(),\n",
    "                                       transforms.Normalize([0.485, 0.456, 0.406], [0.229, 0.224, 0.225])])}\n",
    "\n",
    "    image_datasets = {train_key: datasets.ImageFolder(train_dir, transform=data_transforms[train_key]),  # train_dataset\n",
    "                      valid_key: datasets.ImageFolder(valid_dir, transform=data_transforms[valid_key]),  # valid_dataset\n",
    "                      test_key: datasets.ImageFolder(test_dir, transform=data_transforms[valid_key])}  # test_dataset\n",
    "\n",
    "    dataloaders = {train_key: torch.utils.data.DataLoader(image_datasets[train_key], batch_size=64, shuffle=True),\n",
    "                   valid_key: torch.utils.data.DataLoader(image_datasets[valid_key], batch_size=32),\n",
    "                   test_key: torch.utils.data.DataLoader(image_datasets[test_key], batch_size=32)} \n",
    "    \n",
    "    return image_datasets[train_key].class_to_idx, dataloaders\n",
    "\n",
    "def load_category_names(json_name):\n",
    "    with open(json_name, 'r') as f:\n",
    "        catetory_names = json.load(f)\n",
    "    return catetory_names"
   ]
  },
  {
   "cell_type": "code",
   "execution_count": null,
   "metadata": {},
   "outputs": [],
   "source": []
  }
 ],
 "metadata": {
  "kernelspec": {
   "display_name": "Python 3",
   "language": "python",
   "name": "python3"
  },
  "language_info": {
   "codemirror_mode": {
    "name": "ipython",
    "version": 3
   },
   "file_extension": ".py",
   "mimetype": "text/x-python",
   "name": "python",
   "nbconvert_exporter": "python",
   "pygments_lexer": "ipython3",
   "version": "3.7.1"
  }
 },
 "nbformat": 4,
 "nbformat_minor": 2
}
