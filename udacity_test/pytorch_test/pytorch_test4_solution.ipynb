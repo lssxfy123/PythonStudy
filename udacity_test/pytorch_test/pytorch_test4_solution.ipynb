{
 "cells": [
  {
   "cell_type": "markdown",
   "metadata": {},
   "source": [
    "## 神经网络解决方案"
   ]
  },
  {
   "cell_type": "code",
   "execution_count": 1,
   "metadata": {},
   "outputs": [],
   "source": [
    "import torch\n",
    "from torchvision import datasets, transforms\n",
    "\n",
    "# Define a transform to normalize the data\n",
    "transform = transforms.Compose([transforms.ToTensor(),\n",
    "                                transforms.Normalize((0.5, 0.5, 0.5), (0.5, 0.5, 0.5))])\n",
    "# Download and load the training data\n",
    "train_set = datasets.FashionMNIST('F_MNIST_data/', download=True, train=True, transform=transform)\n",
    "train_loader = torch.utils.data.DataLoader(train_set, batch_size=64, shuffle=True)\n",
    "\n",
    "# Download and load the test data\n",
    "test_set = datasets.FashionMNIST('F_MNIST_data/', download=True, train=False, transform=transform)\n",
    "test_loader = torch.utils.data.DataLoader(test_set, batch_size=64, shuffle=True)"
   ]
  },
  {
   "cell_type": "code",
   "execution_count": 2,
   "metadata": {},
   "outputs": [],
   "source": [
    "%matplotlib inline\n",
    "%config InlineBackend.figure_format = 'retina'\n",
    "\n",
    "import matplotlib.pyplot as plt\n",
    "import numpy as np\n",
    "import time\n",
    "\n",
    "import torch\n",
    "from torch import nn\n",
    "from torch import optim\n",
    "import torch.nn.functional as F\n",
    "from torch.autograd import Variable\n",
    "from torchvision import datasets, transforms\n",
    "\n",
    "import helper"
   ]
  },
  {
   "cell_type": "code",
   "execution_count": 3,
   "metadata": {},
   "outputs": [],
   "source": [
    "class Network(nn.Module):\n",
    "    def __init__(self, input_size, output_size, hidden_layers, drop_p=0.5):\n",
    "        super().__init__()\n",
    "        \n",
    "        # MouduleList\n",
    "        self.hidden_layers = nn.ModuleList([nn.Linear(input_size, hidden_layers[0])]) ## 第一层\n",
    "        \n",
    "        # 避免硬编码\n",
    "        # hidden_layers[:-1]：1-倒数第二\n",
    "        # hidden_layers[1:]：2-最后\n",
    "        # zip后为前后两个元素组成的tuple\n",
    "        layer_sizes = zip(hidden_layers[:-1], hidden_layers[1:])\n",
    "        \n",
    "        # 扩展隐藏层\n",
    "        self.hidden_layers.extend([nn.Linear(h1, h2) for h1,h2 in layer_sizes])\n",
    "        \n",
    "        # 输出层\n",
    "        self.output = nn.Linear(hidden_layers[-1], output_size)\n",
    "        \n",
    "        # 按一定的概率关闭结点，防止过拟合\n",
    "        self.dropout = nn.Dropout(p=drop_p)\n",
    "    \n",
    "    def forward(self, x):\n",
    "        for each in self.hidden_layers:\n",
    "            x = F.relu(each(x))\n",
    "            x = self.dropout(x)\n",
    "        \n",
    "        x = self.output(x)\n",
    "        \n",
    "        return F.log_softmax(x, dim=1)  # 对数概率\n",
    "        "
   ]
  },
  {
   "cell_type": "code",
   "execution_count": 7,
   "metadata": {},
   "outputs": [],
   "source": [
    "model = Network(784, 10, [500], drop_p=0.5)\n",
    "criterion = nn.NLLLoss()  # 负对数损失函数\n",
    "optimizer = optim.Adam(model.parameters(), lr=0.001)"
   ]
  },
  {
   "cell_type": "code",
   "execution_count": 8,
   "metadata": {},
   "outputs": [
    {
     "name": "stdout",
     "output_type": "stream",
     "text": [
      "Epoch: 1/2..  Training Loss: 1.062..  Test Loss: 0.707..  Test Accuracy: 0.742\n",
      "Epoch: 1/2..  Training Loss: 0.677..  Test Loss: 0.639..  Test Accuracy: 0.769\n",
      "Epoch: 1/2..  Training Loss: 0.631..  Test Loss: 0.588..  Test Accuracy: 0.779\n",
      "Epoch: 1/2..  Training Loss: 0.595..  Test Loss: 0.579..  Test Accuracy: 0.776\n",
      "Epoch: 1/2..  Training Loss: 0.581..  Test Loss: 0.542..  Test Accuracy: 0.800\n",
      "Epoch: 1/2..  Training Loss: 0.601..  Test Loss: 0.521..  Test Accuracy: 0.808\n",
      "Epoch: 1/2..  Training Loss: 0.583..  Test Loss: 0.518..  Test Accuracy: 0.808\n",
      "Epoch: 1/2..  Training Loss: 0.530..  Test Loss: 0.504..  Test Accuracy: 0.816\n",
      "Epoch: 1/2..  Training Loss: 0.551..  Test Loss: 0.514..  Test Accuracy: 0.811\n",
      "Epoch: 1/2..  Training Loss: 0.560..  Test Loss: 0.514..  Test Accuracy: 0.809\n",
      "Epoch: 1/2..  Training Loss: 0.554..  Test Loss: 0.485..  Test Accuracy: 0.822\n",
      "Epoch: 1/2..  Training Loss: 0.536..  Test Loss: 0.488..  Test Accuracy: 0.819\n",
      "Epoch: 1/2..  Training Loss: 0.487..  Test Loss: 0.479..  Test Accuracy: 0.821\n",
      "Epoch: 1/2..  Training Loss: 0.493..  Test Loss: 0.470..  Test Accuracy: 0.828\n",
      "Epoch: 1/2..  Training Loss: 0.496..  Test Loss: 0.469..  Test Accuracy: 0.825\n",
      "Epoch: 1/2..  Training Loss: 0.478..  Test Loss: 0.477..  Test Accuracy: 0.825\n",
      "Epoch: 1/2..  Training Loss: 0.529..  Test Loss: 0.475..  Test Accuracy: 0.823\n",
      "Epoch: 1/2..  Training Loss: 0.506..  Test Loss: 0.464..  Test Accuracy: 0.831\n",
      "Epoch: 1/2..  Training Loss: 0.505..  Test Loss: 0.456..  Test Accuracy: 0.838\n",
      "Epoch: 1/2..  Training Loss: 0.491..  Test Loss: 0.459..  Test Accuracy: 0.829\n",
      "Epoch: 1/2..  Training Loss: 0.483..  Test Loss: 0.452..  Test Accuracy: 0.835\n",
      "Epoch: 1/2..  Training Loss: 0.481..  Test Loss: 0.461..  Test Accuracy: 0.830\n",
      "Epoch: 1/2..  Training Loss: 0.446..  Test Loss: 0.452..  Test Accuracy: 0.834\n",
      "Epoch: 2/2..  Training Loss: 0.448..  Test Loss: 0.438..  Test Accuracy: 0.840\n",
      "Epoch: 2/2..  Training Loss: 0.456..  Test Loss: 0.441..  Test Accuracy: 0.838\n",
      "Epoch: 2/2..  Training Loss: 0.459..  Test Loss: 0.466..  Test Accuracy: 0.830\n",
      "Epoch: 2/2..  Training Loss: 0.444..  Test Loss: 0.448..  Test Accuracy: 0.836\n",
      "Epoch: 2/2..  Training Loss: 0.444..  Test Loss: 0.430..  Test Accuracy: 0.844\n",
      "Epoch: 2/2..  Training Loss: 0.443..  Test Loss: 0.451..  Test Accuracy: 0.834\n",
      "Epoch: 2/2..  Training Loss: 0.424..  Test Loss: 0.431..  Test Accuracy: 0.843\n",
      "Epoch: 2/2..  Training Loss: 0.463..  Test Loss: 0.429..  Test Accuracy: 0.842\n",
      "Epoch: 2/2..  Training Loss: 0.457..  Test Loss: 0.433..  Test Accuracy: 0.839\n",
      "Epoch: 2/2..  Training Loss: 0.461..  Test Loss: 0.427..  Test Accuracy: 0.840\n",
      "Epoch: 2/2..  Training Loss: 0.443..  Test Loss: 0.435..  Test Accuracy: 0.838\n",
      "Epoch: 2/2..  Training Loss: 0.444..  Test Loss: 0.428..  Test Accuracy: 0.844\n",
      "Epoch: 2/2..  Training Loss: 0.463..  Test Loss: 0.442..  Test Accuracy: 0.836\n",
      "Epoch: 2/2..  Training Loss: 0.438..  Test Loss: 0.417..  Test Accuracy: 0.846\n",
      "Epoch: 2/2..  Training Loss: 0.441..  Test Loss: 0.414..  Test Accuracy: 0.848\n",
      "Epoch: 2/2..  Training Loss: 0.431..  Test Loss: 0.404..  Test Accuracy: 0.853\n",
      "Epoch: 2/2..  Training Loss: 0.434..  Test Loss: 0.424..  Test Accuracy: 0.847\n",
      "Epoch: 2/2..  Training Loss: 0.431..  Test Loss: 0.422..  Test Accuracy: 0.843\n",
      "Epoch: 2/2..  Training Loss: 0.484..  Test Loss: 0.424..  Test Accuracy: 0.846\n",
      "Epoch: 2/2..  Training Loss: 0.433..  Test Loss: 0.405..  Test Accuracy: 0.854\n",
      "Epoch: 2/2..  Training Loss: 0.439..  Test Loss: 0.442..  Test Accuracy: 0.844\n",
      "Epoch: 2/2..  Training Loss: 0.440..  Test Loss: 0.421..  Test Accuracy: 0.845\n",
      "Epoch: 2/2..  Training Loss: 0.463..  Test Loss: 0.424..  Test Accuracy: 0.845\n"
     ]
    }
   ],
   "source": [
    "## 训练网络\n",
    "epochs = 2\n",
    "steps = 0\n",
    "running_loss = 0\n",
    "print_every = 40\n",
    "\n",
    "for e in range(epochs):\n",
    "    ## 训练模式下，dropout开启\n",
    "    model.train()\n",
    "    for images, labels in iter(train_loader):\n",
    "        steps += 1\n",
    "        images.resize_(images.shape[0], 784)\n",
    "        \n",
    "        inputs = Variable(images)\n",
    "        targets = Variable(labels)\n",
    "        optimizer.zero_grad()\n",
    "        \n",
    "        output = model.forward(inputs)\n",
    "        loss = criterion(output, targets)\n",
    "        loss.backward()\n",
    "        optimizer.step()\n",
    "        \n",
    "        running_loss += loss.item()\n",
    "        \n",
    "        if steps % print_every == 0:\n",
    "            ## 推断模式（预测）下，关闭dropout\n",
    "            model.eval()\n",
    "            \n",
    "            accuracy = 0\n",
    "            test_loss = 0\n",
    "            \n",
    "            for ii, (images, labels) in enumerate(test_loader):\n",
    "                images = images.resize_(images.shape[0], 784)\n",
    "                with torch.no_grad():  # 不计算梯度\n",
    "                    inputs = Variable(images)\n",
    "                    labels = Variable(labels)\n",
    "                    \n",
    "                    output = model.forward(inputs)\n",
    "                    test_loss += criterion(output, labels).item()\n",
    "                    \n",
    "                    ## output为对数概率，要进行exp\n",
    "                    ps = torch.exp(output).data\n",
    "                    equality = (labels.data == ps.max(1)[1])\n",
    "                    accuracy += equality.type_as(torch.FloatTensor()).mean()\n",
    "                    \n",
    "            print(\"Epoch: {}/{}.. \".format(e+1, epochs),\n",
    "                          \"Training Loss: {:.3f}.. \".format(running_loss/print_every),\n",
    "                          \"Test Loss: {:.3f}.. \".format(test_loss/len(test_loader)),\n",
    "                          \"Test Accuracy: {:.3f}\".format(accuracy/len(test_loader)))\n",
    "            running_loss = 0\n",
    "                    \n",
    "            # 开启dropout\n",
    "            model.train()\n",
    "                \n",
    "                \n",
    "                "
   ]
  },
  {
   "cell_type": "markdown",
   "metadata": {},
   "source": [
    "## 预测"
   ]
  },
  {
   "cell_type": "code",
   "execution_count": 11,
   "metadata": {},
   "outputs": [
    {
     "name": "stderr",
     "output_type": "stream",
     "text": [
      "D:\\ProgramData\\Anaconda3\\envs\\udacity\\lib\\site-packages\\ipykernel_launcher.py:10: UserWarning: volatile was removed and now has no effect. Use `with torch.no_grad():` instead.\n",
      "  # Remove the CWD from sys.path while we load stuff.\n"
     ]
    },
    {
     "data": {
      "image/png": "[encoded data removed]",
      "text/plain": [
       "<Figure size 432x648 with 2 Axes>"
      ]
     },
     "metadata": {
      "image/png": {
       "height": 226,
       "width": 423
      },
      "needs_background": "light"
     },
     "output_type": "display_data"
    }
   ],
   "source": [
    "model.eval()\n",
    "\n",
    "images, labels = next(iter(test_loader))\n",
    "img = images[1]\n",
    "# Convert 2D image to 1D vector\n",
    "img = img.resize_(1, 784)\n",
    "\n",
    "# Calculate the class probabilities (softmax) for img\n",
    "with torch.no_grad():\n",
    "    output = model.forward(Variable(img, volatile=True))\n",
    "    ps = torch.exp(output)\n",
    "\n",
    "# Plot the image and probabilities\n",
    "helper.view_classify(img.resize_(1, 28, 28), ps)"
   ]
  },
  {
   "cell_type": "code",
   "execution_count": null,
   "metadata": {},
   "outputs": [],
   "source": []
  }
 ],
 "metadata": {
  "kernelspec": {
   "display_name": "Python 3",
   "language": "python",
   "name": "python3"
  },
  "language_info": {
   "codemirror_mode": {
    "name": "ipython",
    "version": 3
   },
   "file_extension": ".py",
   "mimetype": "text/x-python",
   "name": "python",
   "nbconvert_exporter": "python",
   "pygments_lexer": "ipython3",
   "version": "3.7.1"
  }
 },
 "nbformat": 4,
 "nbformat_minor": 2
}
