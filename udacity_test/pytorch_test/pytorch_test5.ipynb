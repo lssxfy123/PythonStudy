{
 "cells": [
  {
   "cell_type": "markdown",
   "metadata": {},
   "source": [
    "## 保存和加载训练过的神经网络"
   ]
  },
  {
   "cell_type": "code",
   "execution_count": 1,
   "metadata": {},
   "outputs": [],
   "source": [
    "import matplotlib.pyplot as plt\n",
    "import numpy as np\n",
    "import time\n",
    "\n",
    "import torch\n",
    "from torch import nn\n",
    "from torch import optim\n",
    "import torch.nn.functional as F\n",
    "from torch.autograd import Variable\n",
    "from torchvision import datasets, transforms\n",
    "\n",
    "import helper\n",
    "\n",
    "%matplotlib inline\n",
    "%config InlineBackend.figure_format = 'retina'"
   ]
  },
  {
   "cell_type": "code",
   "execution_count": 2,
   "metadata": {},
   "outputs": [],
   "source": [
    "# Define a transform to normalize the data\n",
    "transform = transforms.Compose([transforms.ToTensor(),\n",
    "                                transforms.Normalize((0.5, 0.5, 0.5), (0.5, 0.5, 0.5))])\n",
    "# Download and load the training data\n",
    "train_set = datasets.FashionMNIST('F_MNIST_data/', download=True, train=True, transform=transform)\n",
    "train_loader = torch.utils.data.DataLoader(train_set, batch_size=64, shuffle=True)\n",
    "\n",
    "# Download and load the test data\n",
    "test_set = datasets.FashionMNIST('F_MNIST_data/', download=True, train=False, transform=transform)\n",
    "test_loader = torch.utils.data.DataLoader(test_set, batch_size=64, shuffle=True)"
   ]
  },
  {
   "cell_type": "markdown",
   "metadata": {},
   "source": [
    "## 神经网络"
   ]
  },
  {
   "cell_type": "code",
   "execution_count": 6,
   "metadata": {},
   "outputs": [],
   "source": [
    "class Network(nn.Module):\n",
    "    def __init__(self, input_size, output_size, hidden_layers, drop_p):\n",
    "        super().__init__()\n",
    "        \n",
    "        ## 输入层（第1个隐藏层）\n",
    "        self.hidden_layers = nn.ModuleList([nn.Linear(input_size, hidden_layers[0])])\n",
    "        \n",
    "        layer_sizes = zip(hidden_layers[:-1], hidden_layers[1:])\n",
    "        \n",
    "        ## 扩展隐藏层\n",
    "        self.hidden_layers.extend([nn.Linear(h1, h2) for h1, h2 in layer_sizes])\n",
    "        \n",
    "        ## 输出层\n",
    "        self.output = nn.Linear(hidden_layers[-1], output_size)\n",
    "        \n",
    "        ## dropout\n",
    "        self.dropout = nn.Dropout(p=drop_p)\n",
    "    \n",
    "    def forward(self, x):\n",
    "        for each in self.hidden_layers:\n",
    "            x = F.relu(each(x))\n",
    "            x = self.dropout(x)\n",
    "        \n",
    "        x = self.output(x)\n",
    "        \n",
    "        return F.log_softmax(x, dim=1)\n",
    "        "
   ]
  },
  {
   "cell_type": "code",
   "execution_count": 7,
   "metadata": {},
   "outputs": [],
   "source": [
    "model = Network(784, 10, [500], drop_p=0.5)\n",
    "criterion = nn.NLLLoss()\n",
    "optimizer = optim.Adam(model.parameters(), lr=0.001)"
   ]
  },
  {
   "cell_type": "code",
   "execution_count": 8,
   "metadata": {},
   "outputs": [
    {
     "name": "stdout",
     "output_type": "stream",
     "text": [
      "Epoch: 1/2..  Training Loss: 1.043..  Test Loss: 0.717..  Test Accuracy: 0.738\n",
      "Epoch: 1/2..  Training Loss: 0.691..  Test Loss: 0.622..  Test Accuracy: 0.757\n",
      "Epoch: 1/2..  Training Loss: 0.657..  Test Loss: 0.625..  Test Accuracy: 0.769\n",
      "Epoch: 1/2..  Training Loss: 0.610..  Test Loss: 0.539..  Test Accuracy: 0.802\n",
      "Epoch: 1/2..  Training Loss: 0.587..  Test Loss: 0.528..  Test Accuracy: 0.805\n",
      "Epoch: 1/2..  Training Loss: 0.584..  Test Loss: 0.552..  Test Accuracy: 0.796\n",
      "Epoch: 1/2..  Training Loss: 0.589..  Test Loss: 0.534..  Test Accuracy: 0.795\n",
      "Epoch: 1/2..  Training Loss: 0.550..  Test Loss: 0.516..  Test Accuracy: 0.813\n",
      "Epoch: 1/2..  Training Loss: 0.507..  Test Loss: 0.497..  Test Accuracy: 0.818\n",
      "Epoch: 1/2..  Training Loss: 0.530..  Test Loss: 0.479..  Test Accuracy: 0.826\n",
      "Epoch: 1/2..  Training Loss: 0.490..  Test Loss: 0.480..  Test Accuracy: 0.823\n",
      "Epoch: 1/2..  Training Loss: 0.528..  Test Loss: 0.496..  Test Accuracy: 0.817\n",
      "Epoch: 1/2..  Training Loss: 0.579..  Test Loss: 0.478..  Test Accuracy: 0.828\n",
      "Epoch: 1/2..  Training Loss: 0.514..  Test Loss: 0.490..  Test Accuracy: 0.811\n",
      "Epoch: 1/2..  Training Loss: 0.503..  Test Loss: 0.461..  Test Accuracy: 0.826\n",
      "Epoch: 1/2..  Training Loss: 0.485..  Test Loss: 0.458..  Test Accuracy: 0.830\n",
      "Epoch: 1/2..  Training Loss: 0.516..  Test Loss: 0.452..  Test Accuracy: 0.839\n",
      "Epoch: 1/2..  Training Loss: 0.475..  Test Loss: 0.451..  Test Accuracy: 0.837\n",
      "Epoch: 1/2..  Training Loss: 0.485..  Test Loss: 0.476..  Test Accuracy: 0.824\n",
      "Epoch: 1/2..  Training Loss: 0.504..  Test Loss: 0.461..  Test Accuracy: 0.833\n",
      "Epoch: 1/2..  Training Loss: 0.471..  Test Loss: 0.440..  Test Accuracy: 0.840\n",
      "Epoch: 1/2..  Training Loss: 0.486..  Test Loss: 0.440..  Test Accuracy: 0.841\n",
      "Epoch: 1/2..  Training Loss: 0.446..  Test Loss: 0.443..  Test Accuracy: 0.841\n",
      "Epoch: 2/2..  Training Loss: 0.464..  Test Loss: 0.462..  Test Accuracy: 0.829\n",
      "Epoch: 2/2..  Training Loss: 0.448..  Test Loss: 0.447..  Test Accuracy: 0.833\n",
      "Epoch: 2/2..  Training Loss: 0.471..  Test Loss: 0.432..  Test Accuracy: 0.844\n",
      "Epoch: 2/2..  Training Loss: 0.442..  Test Loss: 0.438..  Test Accuracy: 0.840\n",
      "Epoch: 2/2..  Training Loss: 0.469..  Test Loss: 0.441..  Test Accuracy: 0.835\n",
      "Epoch: 2/2..  Training Loss: 0.443..  Test Loss: 0.440..  Test Accuracy: 0.840\n",
      "Epoch: 2/2..  Training Loss: 0.484..  Test Loss: 0.455..  Test Accuracy: 0.835\n",
      "Epoch: 2/2..  Training Loss: 0.470..  Test Loss: 0.440..  Test Accuracy: 0.839\n",
      "Epoch: 2/2..  Training Loss: 0.453..  Test Loss: 0.418..  Test Accuracy: 0.842\n",
      "Epoch: 2/2..  Training Loss: 0.430..  Test Loss: 0.423..  Test Accuracy: 0.845\n",
      "Epoch: 2/2..  Training Loss: 0.439..  Test Loss: 0.450..  Test Accuracy: 0.837\n",
      "Epoch: 2/2..  Training Loss: 0.441..  Test Loss: 0.441..  Test Accuracy: 0.840\n",
      "Epoch: 2/2..  Training Loss: 0.481..  Test Loss: 0.428..  Test Accuracy: 0.846\n",
      "Epoch: 2/2..  Training Loss: 0.430..  Test Loss: 0.422..  Test Accuracy: 0.846\n",
      "Epoch: 2/2..  Training Loss: 0.448..  Test Loss: 0.424..  Test Accuracy: 0.845\n",
      "Epoch: 2/2..  Training Loss: 0.440..  Test Loss: 0.420..  Test Accuracy: 0.848\n",
      "Epoch: 2/2..  Training Loss: 0.471..  Test Loss: 0.430..  Test Accuracy: 0.845\n",
      "Epoch: 2/2..  Training Loss: 0.459..  Test Loss: 0.416..  Test Accuracy: 0.851\n",
      "Epoch: 2/2..  Training Loss: 0.445..  Test Loss: 0.426..  Test Accuracy: 0.844\n",
      "Epoch: 2/2..  Training Loss: 0.442..  Test Loss: 0.413..  Test Accuracy: 0.851\n",
      "Epoch: 2/2..  Training Loss: 0.425..  Test Loss: 0.414..  Test Accuracy: 0.847\n",
      "Epoch: 2/2..  Training Loss: 0.393..  Test Loss: 0.404..  Test Accuracy: 0.855\n",
      "Epoch: 2/2..  Training Loss: 0.430..  Test Loss: 0.410..  Test Accuracy: 0.852\n"
     ]
    }
   ],
   "source": [
    "## 训练网络\n",
    "epochs = 2\n",
    "steps = 0\n",
    "running_loss = 0\n",
    "print_every = 40\n",
    "\n",
    "for e in range(epochs):\n",
    "    ## 训练模式下，dropout开启\n",
    "    model.train()\n",
    "    for images, labels in iter(train_loader):\n",
    "        steps += 1\n",
    "        images.resize_(images.shape[0], 784)\n",
    "        \n",
    "        inputs = Variable(images)\n",
    "        targets = Variable(labels)\n",
    "        optimizer.zero_grad()\n",
    "        \n",
    "        output = model.forward(inputs)\n",
    "        loss = criterion(output, targets)\n",
    "        loss.backward()\n",
    "        optimizer.step()\n",
    "        \n",
    "        running_loss += loss.item()\n",
    "        \n",
    "        if steps % print_every == 0:\n",
    "            ## 推断模式（预测）下，关闭dropout\n",
    "            model.eval()\n",
    "            \n",
    "            accuracy = 0\n",
    "            test_loss = 0\n",
    "            \n",
    "            for ii, (images, labels) in enumerate(test_loader):\n",
    "                images = images.resize_(images.shape[0], 784)\n",
    "                with torch.no_grad():  # 不计算梯度\n",
    "                    inputs = Variable(images)\n",
    "                    labels = Variable(labels)\n",
    "                    \n",
    "                    output = model.forward(inputs)\n",
    "                    test_loss += criterion(output, labels).item()\n",
    "                    \n",
    "                    ## output为对数概率，要进行exp\n",
    "                    ps = torch.exp(output).data\n",
    "                    equality = (labels.data == ps.max(1)[1])\n",
    "                    accuracy += equality.type_as(torch.FloatTensor()).mean()\n",
    "                    \n",
    "            print(\"Epoch: {}/{}.. \".format(e+1, epochs),\n",
    "                          \"Training Loss: {:.3f}.. \".format(running_loss/print_every),\n",
    "                          \"Test Loss: {:.3f}.. \".format(test_loss/len(test_loader)),\n",
    "                          \"Test Accuracy: {:.3f}\".format(accuracy/len(test_loader)))\n",
    "            running_loss = 0\n",
    "                    \n",
    "            # 开启dropout\n",
    "            model.train()"
   ]
  },
  {
   "cell_type": "markdown",
   "metadata": {},
   "source": [
    "## 保存模型"
   ]
  },
  {
   "cell_type": "code",
   "execution_count": 9,
   "metadata": {},
   "outputs": [
    {
     "name": "stdout",
     "output_type": "stream",
     "text": [
      "Our model: \n",
      "\n",
      " Network(\n",
      "  (hidden_layers): ModuleList(\n",
      "    (0): Linear(in_features=784, out_features=500, bias=True)\n",
      "  )\n",
      "  (output): Linear(in_features=500, out_features=10, bias=True)\n",
      "  (dropout): Dropout(p=0.5)\n",
      ") \n",
      "\n",
      "The state dict keys: \n",
      "\n",
      " odict_keys(['hidden_layers.0.weight', 'hidden_layers.0.bias', 'output.weight', 'output.bias'])\n"
     ]
    }
   ],
   "source": [
    "## 查看权重系数\n",
    "print('Our model: \\n\\n', model, '\\n')\n",
    "print('The state dict keys: \\n\\n', model.state_dict().keys())"
   ]
  },
  {
   "cell_type": "code",
   "execution_count": 11,
   "metadata": {},
   "outputs": [],
   "source": [
    "## 保存\n",
    "torch.save(model.state_dict(), 'test.m')"
   ]
  },
  {
   "cell_type": "markdown",
   "metadata": {},
   "source": [
    "## 加载模型"
   ]
  },
  {
   "cell_type": "code",
   "execution_count": 12,
   "metadata": {},
   "outputs": [],
   "source": [
    "state_dict = torch.load('test.m')"
   ]
  },
  {
   "cell_type": "code",
   "execution_count": 13,
   "metadata": {},
   "outputs": [
    {
     "name": "stdout",
     "output_type": "stream",
     "text": [
      "odict_keys(['hidden_layers.0.weight', 'hidden_layers.0.bias', 'output.weight', 'output.bias'])\n"
     ]
    }
   ],
   "source": [
    "print(state_dict.keys())"
   ]
  },
  {
   "cell_type": "code",
   "execution_count": 14,
   "metadata": {},
   "outputs": [],
   "source": [
    "## 创建初始模型\n",
    "model_new = Network(784, 10, [500], drop_p=0.5)\n",
    "model_new.load_state_dict(state_dict)"
   ]
  },
  {
   "cell_type": "code",
   "execution_count": 15,
   "metadata": {},
   "outputs": [
    {
     "name": "stderr",
     "output_type": "stream",
     "text": [
      "D:\\ProgramData\\Anaconda3\\envs\\udacity\\lib\\site-packages\\ipykernel_launcher.py:11: UserWarning: volatile was removed and now has no effect. Use `with torch.no_grad():` instead.\n",
      "  # This is added back by InteractiveShellApp.init_path()\n"
     ]
    },
    {
     "data": {
      "image/png": "[encoded data removed]",
      "text/plain": [
       "<Figure size 432x648 with 2 Axes>"
      ]
     },
     "metadata": {
      "image/png": {
       "height": 226,
       "width": 423
      },
      "needs_background": "light"
     },
     "output_type": "display_data"
    }
   ],
   "source": [
    "## 预测\n",
    "model_new.eval()\n",
    "\n",
    "images, labels = next(iter(test_loader))\n",
    "img = images[1]\n",
    "# Convert 2D image to 1D vector\n",
    "img = img.resize_(1, 784)\n",
    "\n",
    "# Calculate the class probabilities (softmax) for img\n",
    "with torch.no_grad():\n",
    "    output = model_new.forward(Variable(img))\n",
    "    ps = torch.exp(output)\n",
    "\n",
    "# Plot the image and probabilities\n",
    "helper.view_classify(img.resize_(1, 28, 28), ps)"
   ]
  },
  {
   "cell_type": "markdown",
   "metadata": {},
   "source": [
    "## 可能产生的错误"
   ]
  },
  {
   "cell_type": "code",
   "execution_count": 16,
   "metadata": {},
   "outputs": [
    {
     "ename": "RuntimeError",
     "evalue": "Error(s) in loading state_dict for Network:\n\tMissing key(s) in state_dict: \"hidden_layers.1.weight\", \"hidden_layers.1.bias\". \n\tsize mismatch for output.weight: copying a param with shape torch.Size([10, 500]) from checkpoint, the shape in current model is torch.Size([10, 100]).",
     "output_type": "error",
     "traceback": [
      "\u001b[1;31m---------------------------------------------------------------------------\u001b[0m",
      "\u001b[1;31mRuntimeError\u001b[0m                              Traceback (most recent call last)",
      "\u001b[1;32m<ipython-input-16-acd980f783ce>\u001b[0m in \u001b[0;36m<module>\u001b[1;34m\u001b[0m\n\u001b[0;32m      1\u001b[0m \u001b[1;31m## 如果创建的初始模型与加载的模型\u001b[0m\u001b[1;33m\u001b[0m\u001b[1;33m\u001b[0m\u001b[1;33m\u001b[0m\u001b[0m\n\u001b[0;32m      2\u001b[0m \u001b[0mmodel1\u001b[0m \u001b[1;33m=\u001b[0m \u001b[0mNetwork\u001b[0m\u001b[1;33m(\u001b[0m\u001b[1;36m784\u001b[0m\u001b[1;33m,\u001b[0m \u001b[1;36m10\u001b[0m\u001b[1;33m,\u001b[0m \u001b[1;33m[\u001b[0m\u001b[1;36m500\u001b[0m\u001b[1;33m,\u001b[0m \u001b[1;36m100\u001b[0m\u001b[1;33m]\u001b[0m\u001b[1;33m,\u001b[0m \u001b[0mdrop_p\u001b[0m\u001b[1;33m=\u001b[0m\u001b[1;36m0.3\u001b[0m\u001b[1;33m)\u001b[0m\u001b[1;33m\u001b[0m\u001b[1;33m\u001b[0m\u001b[0m\n\u001b[1;32m----> 3\u001b[1;33m \u001b[0mmodel1\u001b[0m\u001b[1;33m.\u001b[0m\u001b[0mload_state_dict\u001b[0m\u001b[1;33m(\u001b[0m\u001b[0mstate_dict\u001b[0m\u001b[1;33m)\u001b[0m\u001b[1;33m\u001b[0m\u001b[1;33m\u001b[0m\u001b[0m\n\u001b[0m",
      "\u001b[1;32mD:\\ProgramData\\Anaconda3\\envs\\udacity\\lib\\site-packages\\torch\\nn\\modules\\module.py\u001b[0m in \u001b[0;36mload_state_dict\u001b[1;34m(self, state_dict, strict)\u001b[0m\n\u001b[0;32m    767\u001b[0m         \u001b[1;32mif\u001b[0m \u001b[0mlen\u001b[0m\u001b[1;33m(\u001b[0m\u001b[0merror_msgs\u001b[0m\u001b[1;33m)\u001b[0m \u001b[1;33m>\u001b[0m \u001b[1;36m0\u001b[0m\u001b[1;33m:\u001b[0m\u001b[1;33m\u001b[0m\u001b[1;33m\u001b[0m\u001b[0m\n\u001b[0;32m    768\u001b[0m             raise RuntimeError('Error(s) in loading state_dict for {}:\\n\\t{}'.format(\n\u001b[1;32m--> 769\u001b[1;33m                                self.__class__.__name__, \"\\n\\t\".join(error_msgs)))\n\u001b[0m\u001b[0;32m    770\u001b[0m \u001b[1;33m\u001b[0m\u001b[0m\n\u001b[0;32m    771\u001b[0m     \u001b[1;32mdef\u001b[0m \u001b[0m_named_members\u001b[0m\u001b[1;33m(\u001b[0m\u001b[0mself\u001b[0m\u001b[1;33m,\u001b[0m \u001b[0mget_members_fn\u001b[0m\u001b[1;33m,\u001b[0m \u001b[0mprefix\u001b[0m\u001b[1;33m=\u001b[0m\u001b[1;34m''\u001b[0m\u001b[1;33m,\u001b[0m \u001b[0mrecurse\u001b[0m\u001b[1;33m=\u001b[0m\u001b[1;32mTrue\u001b[0m\u001b[1;33m)\u001b[0m\u001b[1;33m:\u001b[0m\u001b[1;33m\u001b[0m\u001b[1;33m\u001b[0m\u001b[0m\n",
      "\u001b[1;31mRuntimeError\u001b[0m: Error(s) in loading state_dict for Network:\n\tMissing key(s) in state_dict: \"hidden_layers.1.weight\", \"hidden_layers.1.bias\". \n\tsize mismatch for output.weight: copying a param with shape torch.Size([10, 500]) from checkpoint, the shape in current model is torch.Size([10, 100])."
     ]
    }
   ],
   "source": [
    "## 如果创建的初始模型与加载的模型不一致\n",
    "model1 = Network(784, 10, [500, 100], drop_p=0.3)\n",
    "model1.load_state_dict(state_dict)"
   ]
  },
  {
   "cell_type": "markdown",
   "metadata": {},
   "source": [
    "## 从上述错误可以看出，创建的初始模型的参数需要与加载的模型参数${\\color{red}{一致}}$"
   ]
  },
  {
   "cell_type": "code",
   "execution_count": 17,
   "metadata": {},
   "outputs": [],
   "source": [
    "## 将参数信息与模型参数一起保存\n",
    "parameters = {'input_size': 784,\n",
    "              'output_size': 10,\n",
    "              'hidden_layers': [each.out_features for each in model.hidden_layers],\n",
    "              'state_dict': model.state_dict()}\n",
    "torch.save(parameters, 'test1.m')"
   ]
  },
  {
   "cell_type": "code",
   "execution_count": 20,
   "metadata": {},
   "outputs": [],
   "source": [
    "def load_model(path):\n",
    "    model_info = torch.load(path)\n",
    "    model = Network(model_info['input_size'], model_info['output_size'], model_info['hidden_layers'], drop_p=0.3)\n",
    "    model.load_state_dict(model_info['state_dict'])\n",
    "    \n",
    "    return model"
   ]
  },
  {
   "cell_type": "code",
   "execution_count": 21,
   "metadata": {},
   "outputs": [],
   "source": [
    "model2 = load_model('test1.m')"
   ]
  },
  {
   "cell_type": "code",
   "execution_count": 22,
   "metadata": {},
   "outputs": [
    {
     "data": {
      "image/png": "[encoded data removed]",
      "text/plain": [
       "<Figure size 432x648 with 2 Axes>"
      ]
     },
     "metadata": {
      "image/png": {
       "height": 226,
       "width": 423
      },
      "needs_background": "light"
     },
     "output_type": "display_data"
    }
   ],
   "source": [
    "## 预测\n",
    "model2.eval()\n",
    "\n",
    "images, labels = next(iter(test_loader))\n",
    "img = images[1]\n",
    "# Convert 2D image to 1D vector\n",
    "img = img.resize_(1, 784)\n",
    "\n",
    "# Calculate the class probabilities (softmax) for img\n",
    "with torch.no_grad():\n",
    "    output = model2.forward(Variable(img))\n",
    "    ps = torch.exp(output)\n",
    "\n",
    "# Plot the image and probabilities\n",
    "helper.view_classify(img.resize_(1, 28, 28), ps)"
   ]
  },
  {
   "cell_type": "code",
   "execution_count": null,
   "metadata": {},
   "outputs": [],
   "source": []
  }
 ],
 "metadata": {
  "kernelspec": {
   "display_name": "Python 3",
   "language": "python",
   "name": "python3"
  },
  "language_info": {
   "codemirror_mode": {
    "name": "ipython",
    "version": 3
   },
   "file_extension": ".py",
   "mimetype": "text/x-python",
   "name": "python",
   "nbconvert_exporter": "python",
   "pygments_lexer": "ipython3",
   "version": "3.7.1"
  }
 },
 "nbformat": 4,
 "nbformat_minor": 2
}
