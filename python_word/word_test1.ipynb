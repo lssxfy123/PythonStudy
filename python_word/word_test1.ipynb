{
 "cells": [
  {
   "cell_type": "code",
   "execution_count": 1,
   "metadata": {},
   "outputs": [],
   "source": [
    "from selenium import webdriver\n",
    "from selenium.webdriver.chrome.options import Options\n",
    "from selenium.webdriver.common.action_chains import ActionChains\n",
    "from selenium.webdriver.common.by import By\n",
    "from selenium.webdriver.support import expected_conditions as EC\n",
    "from selenium.webdriver.support.wait import WebDriverWait\n",
    "from lxml import etree\n",
    "import requests\n",
    "import time\n",
    "import re\n",
    "import os\n",
    "from ctypes import *"
   ]
  },
  {
   "cell_type": "code",
   "execution_count": null,
   "metadata": {},
   "outputs": [],
   "source": [
    "driver = webdriver.Chrome()\n",
    "driver.maximize_window()\n",
    "wait = WebDriverWait(driver, 300)\n",
    "\n",
    "driver.get('http://web.bookcloud.dev5.fzyun.io/#/typesetting')\n",
    "driver.implicitly_wait(3)\n",
    "\n",
    "driver.find_element_by_id('phoneInput').clear()\n",
    "driver.find_element_by_id('phoneInput').send_keys('18610914536')\n",
    "\n",
    "driver.find_element_by_id('passwordInput').clear()\n",
    "driver.find_element_by_id('passwordInput').send_keys('q11111')\n",
    "\n",
    "driver.find_element_by_id('loginBtn').click()\n",
    "driver.implicitly_wait(3)\n",
    "\n",
    "try:\n",
    "    driver.find_element_by_id('headerThesisTypesetting')\n",
    "    flag = True\n",
    "except:\n",
    "    flag = False\n",
    "\n",
    "if flag:\n",
    "    driver.get('http://web.bookcloud.dev5.fzyun.io/#/typesetting?tid=ebace2004875463db1e430edb8b708a7&cid=3&tname=%E8%87%AA%E5%8A%A8%E6%B5%8B%E8%AF%95%E5%9B%BE%E4%B9%A6%E6%A8%A1%E6%9D%BF')\n",
    "    driver.implicitly_wait(2)\n",
    "    try:\n",
    "        wait.until(EC.presence_of_element_located((By.XPATH, '//*[@id=\"uploadFileUpload\"]/div/input')))\n",
    "        input_file = driver.find_element_by_xpath('//*[@id=\"uploadFileUpload\"]/div/input')\n",
    "        time.sleep(1)\n",
    "        input_file.send_keys(r'C:\\Users\\Zhao.LJ\\Desktop\\Word结构化稿件\\有问题\\学前论文\\论文元数据结构测试样张（13篇原稿）\\广东财经1正文-标题.docx')\n",
    "        next_step = wait.until(EC.element_to_be_clickable((By.ID, \"uploadSubmit\")))\n",
    "        next_step.click()\n",
    "        end_step = wait.until(EC.element_to_be_clickable((By.ID, \"bookNameSubmit\")))\n",
    "        end_step.click()\n",
    "        new_setting = wait.until(EC.element_to_be_clickable((By.ID, \"newTypesetting\")))\n",
    "        driver.get('http://web.bookcloud.dev5.fzyun.io/#/thesis?tid=3f87d6391228489d966272d7df78e889&cid&tname')\n",
    "        driver.refresh()\n",
    "        #new_setting.click()\n",
    "        #driver.execute_script(\"arguments[0].click();\",input_file)\n",
    "#         ActionChains(driver).move_to_element(input_file).perform()\n",
    "#         ActionChains(driver).click()\n",
    "#         ActionChains(driver).perform()\n",
    "        \n",
    "    except Exception as e:\n",
    "        print(e)\n",
    "\n"
   ]
  },
  {
   "cell_type": "code",
   "execution_count": 7,
   "metadata": {},
   "outputs": [],
   "source": [
    "\n"
   ]
  },
  {
   "cell_type": "code",
   "execution_count": null,
   "metadata": {},
   "outputs": [],
   "source": []
  }
 ],
 "metadata": {
  "kernelspec": {
   "display_name": "Python 3",
   "language": "python",
   "name": "python3"
  },
  "language_info": {
   "codemirror_mode": {
    "name": "ipython",
    "version": 3
   },
   "file_extension": ".py",
   "mimetype": "text/x-python",
   "name": "python",
   "nbconvert_exporter": "python",
   "pygments_lexer": "ipython3",
   "version": "3.7.1"
  }
 },
 "nbformat": 4,
 "nbformat_minor": 2
}
