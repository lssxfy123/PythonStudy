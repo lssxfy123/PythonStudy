{
 "cells": [
  {
   "cell_type": "code",
   "execution_count": 1,
   "metadata": {},
   "outputs": [],
   "source": [
    "# Copyright(C) 2020 刘珅珅\n",
    "# Environment: python 3.7\n",
    "# Date: 2020.8.7\n",
    "# 所有doc文件转换docx\n",
    "import os\n",
    "import re\n",
    "import datetime\n",
    "import ftplib\n",
    "import config"
   ]
  },
  {
   "cell_type": "code",
   "execution_count": 2,
   "metadata": {},
   "outputs": [],
   "source": [
    "def ftp_connect():\n",
    "    ''' 连接ftp '''\n",
    "    ftp = ftplib.FTP()  \n",
    "    ftp.set_pasv(True)\n",
    "\n",
    "    try:\n",
    "        ftp.connect(config.FTP_SERVER,21)\n",
    "        print(ftp.welcome)\n",
    "    except (socket.error, socket.gaierror) as e:\n",
    "        print (\"Error: connect ftpserver '%s' failed! %s\") % (config.FTP_SERVER, e)\n",
    "        exit()\n",
    "\n",
    "    try:\n",
    "        ftp.login(config.FTP_USER,config.FTP_PWD)  \n",
    "        ftp.encoding = \"utf-8\"\n",
    "        print(\"ftp://{0} login successfully!\".format(config.FTP_SERVER))\n",
    "    except(ftplib.error_perm) as e:\n",
    "        print(\"Error: login failed, error code: {0}\".format(e))\n",
    "        exit()\n",
    "\n",
    "    return ftp"
   ]
  },
  {
   "cell_type": "code",
   "execution_count": 3,
   "metadata": {},
   "outputs": [],
   "source": [
    "def ftp_down(ftp, local_filepath, remote_filename):\n",
    "    if not os.path.exists(local_filepath):\n",
    "        os.mkdir(local_filepath)\n",
    "    buf_size = 1024\n",
    "    filename = os.path.basename(remote_filename)\n",
    "    dirname = os.path.dirname(remote_filename)\n",
    "    local_filename = local_filepath + '/' + filename\n",
    "    ftp.cwd(dirname)\n",
    "    ftp_list = ftp.nlst()\n",
    "    if filename in ftp_list:\n",
    "        if not os.path.exists(local_filename):\n",
    "            with open(local_filename, 'wb') as file_handler:\n",
    "                ftp.retrbinary('retr {0}'.format(filename), file_handler.write)\n",
    "            print(filename + \"下载成功\")\n",
    "\n",
    "    else:\n",
    "        print(filename + \" not exist\")"
   ]
  },
  {
   "cell_type": "code",
   "execution_count": 4,
   "metadata": {},
   "outputs": [],
   "source": [
    "def traverse(folder_path, target, local_path):\n",
    "    fs = os.listdir(folder_path)\n",
    "    delete_files = []\n",
    "    ftp = ftp_connect()\n",
    "    try:\n",
    "        for f in fs:\n",
    "            tmp_path = os.path.join(folder_path, f)\n",
    "            with open(tmp_path, 'r', encoding='utf-8') as file_obj:\n",
    "                lines = file_obj.readlines()\n",
    "                tmps = [line for line in lines if '开始bin文件转换' in line or '开始wmf文件转换' in line]\n",
    "                if len(tmps) > 0:\n",
    "                    delete_files.append(tmp_path)\n",
    "                else:\n",
    "                    tmps = [line for line in lines if target in line]\n",
    "                    if len(tmps) > 0:\n",
    "                        tmps = [line for line in lines if '开始下载文件' in line]\n",
    "                        if len(tmps) > 0:\n",
    "                            ftp_filepath = tmps[0].split(':21')[1]\n",
    "                            print('下载文件' + ftp_filepath)\n",
    "                            ftp_down(ftp,local_path, ftp_filepath.strip())\n",
    "\n",
    "        [os.remove(file) for file in delete_files]\n",
    "    except Exception as e:\n",
    "        print(e)\n",
    "        pass\n",
    "    ftp.quit()"
   ]
  },
  {
   "cell_type": "code",
   "execution_count": 5,
   "metadata": {},
   "outputs": [
    {
     "name": "stdout",
     "output_type": "stream",
     "text": [
      "220 (vsFTPd 3.0.2)\n",
      "ftp://ftp3.dc2.fzyun.io login successfully!\n",
      "下载文件/data/2020-09-16/a3a2bca4-2/66ddec0a6b36442a85dff835a452df72.docx\n",
      "\n",
      "66ddec0a6b36442a85dff835a452df72.docx not exist\n",
      "下载文件/FounderDeployPackage/dongyan/word/xml自动测试book/Book34.docx\n",
      "\n",
      "Book34.docx下载成功\n",
      "下载文件/FounderDeployPackage/Autotest/word/ChapterBook/Book34.docx\n",
      "\n",
      "下载文件/FounderDeployPackage/dongyan/word/试题样张/江苏通典-浙教八下答案.doc\n",
      "\n",
      "下载文件/FounderDeployPackage/dongyan/word/002社科/适合 1.皮革文物保护研究（初稿） 中国科学技术大学出版社（章节无篇）.docx\n",
      "\n",
      "下载文件/FounderDeployPackage/dongyan/word/002社科/适合 东北地区设施农业天气预报技术20190410（沈阳姿兰）（章节）.docx\n",
      "\n",
      "下载文件/FounderDeployPackage/dongyan/word/002社科/适合 古 骆 天 音 云南大学出版社（章节）.doc\n",
      "\n",
      "下载文件/FounderDeployPackage/dongyan/word/005教材/适合_第八章时序逻辑电路(华中科技大学出版社)(章、8.1).docx\n",
      "\n",
      "下载文件/FounderDeployPackage/dongyan/word/bug/（幼教部）编纂系统-万能工匠儿童创造力培养指导手册.docx\n",
      "\n",
      "（幼教部）编纂系统-万能工匠儿童创造力培养指导手册.docx下载成功\n"
     ]
    }
   ],
   "source": [
    "traverse(r'C:\\Users\\Zhao.LJ\\Downloads\\20200916', 'log22', r'C:\\Users\\Zhao.LJ\\Downloads\\文本框组合')"
   ]
  },
  {
   "cell_type": "code",
   "execution_count": 19,
   "metadata": {},
   "outputs": [
    {
     "data": {
      "text/plain": [
       "['ftp://ftp3.dc2.fzyun.io',\n",
       " '/FounderDeployPackage/dongyan/word/bug/（幼教部）编纂系统-万能工匠儿童创造力培养指导手册.docx']"
      ]
     },
     "execution_count": 19,
     "metadata": {},
     "output_type": "execute_result"
    }
   ],
   "source": [
    "path = 'ftp://ftp3.dc2.fzyun.io:21/FounderDeployPackage/dongyan/word/bug/（幼教部）编纂系统-万能工匠儿童创造力培养指导手册.docx'\n",
    "path.split(':21')"
   ]
  },
  {
   "cell_type": "code",
   "execution_count": 3,
   "metadata": {},
   "outputs": [
    {
     "name": "stdout",
     "output_type": "stream",
     "text": [
      "max datetime 2020-09-16 22:22:39\n"
     ]
    }
   ],
   "source": [
    "traverse(r'C:\\Users\\Zhao.LJ\\Downloads\\20200916')"
   ]
  },
  {
   "cell_type": "code",
   "execution_count": 4,
   "metadata": {},
   "outputs": [
    {
     "name": "stdout",
     "output_type": "stream",
     "text": [
      "2020-08-18 00:00:00\n"
     ]
    }
   ],
   "source": [
    "max_datetime = datetime.datetime(2020, 8, 18, 0, 0, 0)\n",
    "print(max_datetime)"
   ]
  },
  {
   "cell_type": "code",
   "execution_count": null,
   "metadata": {},
   "outputs": [],
   "source": []
  }
 ],
 "metadata": {
  "kernelspec": {
   "display_name": "Python 3",
   "language": "python",
   "name": "python3"
  },
  "language_info": {
   "codemirror_mode": {
    "name": "ipython",
    "version": 3
   },
   "file_extension": ".py",
   "mimetype": "text/x-python",
   "name": "python",
   "nbconvert_exporter": "python",
   "pygments_lexer": "ipython3",
   "version": "3.7.1"
  }
 },
 "nbformat": 4,
 "nbformat_minor": 2
}
