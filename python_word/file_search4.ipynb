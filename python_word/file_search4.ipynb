{
 "cells": [
  {
   "cell_type": "code",
   "execution_count": 1,
   "metadata": {},
   "outputs": [],
   "source": [
    "import os\n",
    "import sys\n",
    "import re\n",
    "import datetime"
   ]
  },
  {
   "cell_type": "code",
   "execution_count": 3,
   "metadata": {},
   "outputs": [],
   "source": [
    "def find_str_in_file(parent_path, target):\n",
    "    fs = os.listdir(parent_path)\n",
    "    fs = [file_path for file_path in fs if re.match(\"^[a-zA-Z]\", file_path) != None]\n",
    "    for fp in fs:\n",
    "        tmp_path = os.path.join(parent_path, fp)\n",
    "        if os.path.isdir(tmp_path):\n",
    "            traverse(tmp_path, target)"
   ]
  },
  {
   "cell_type": "code",
   "execution_count": 2,
   "metadata": {},
   "outputs": [],
   "source": [
    "def traverse(folder_path, target):\n",
    "    fs = os.listdir(folder_path)\n",
    "    for fp in fs:\n",
    "        tmp_path = os.path.join(folder_path, fp)\n",
    "        flag = False\n",
    "        if not(os.path.isdir(tmp_path)) and re.match(r'(.*)\\.cs$', tmp_path):\n",
    "            try:\n",
    "                with open(tmp_path, 'r', encoding='utf-8') as fb:\n",
    "                    for line in fb:\n",
    "                        if line.find(target) > 0:\n",
    "                            print(tmp_path)\n",
    "                            break\n",
    "            except:\n",
    "                print(\"exception: \", tmp_path)\n",
    "        elif os.path.isdir(tmp_path):\n",
    "            traverse(tmp_path, target)\n",
    "                    "
   ]
  },
  {
   "cell_type": "code",
   "execution_count": 4,
   "metadata": {},
   "outputs": [
    {
     "name": "stdout",
     "output_type": "stream",
     "text": [
      "C:\\study\\C-sharpProject\\json_test1\\Program.cs\n"
     ]
    }
   ],
   "source": [
    "find_str_in_file(r'C:\\study\\C-sharpProject', 'GetJson')"
   ]
  },
  {
   "cell_type": "code",
   "execution_count": 5,
   "metadata": {},
   "outputs": [
    {
     "name": "stdout",
     "output_type": "stream",
     "text": [
      "C:\\study\\CSharp-study\\json_test2\\JsonTest.cs\n"
     ]
    }
   ],
   "source": [
    "find_str_in_file(r'C:\\study\\CSharp-study', 'GetJson')"
   ]
  },
  {
   "cell_type": "code",
   "execution_count": 9,
   "metadata": {},
   "outputs": [
    {
     "name": "stdout",
     "output_type": "stream",
     "text": [
      "exception:  C:\\study\\DocBook\\branches\\develop\\Lib\\XSLT\\Content_restruct.xslt\n"
     ]
    }
   ],
   "source": [
    "tmp_path = r'C:\\study\\DocBook\\branches\\develop\\Lib\\XSLT\\Content_restruct.xslt'\n",
    "try:\n",
    "    with open(tmp_path, 'r', encoding='utf8') as fb:\n",
    "        for line in fb:\n",
    "            if line.find(target) > 0:\n",
    "                print(tmp_path)\n",
    "                break\n",
    "except:\n",
    "    print(\"exception: \", tmp_path)"
   ]
  },
  {
   "cell_type": "code",
   "execution_count": null,
   "metadata": {},
   "outputs": [],
   "source": []
  }
 ],
 "metadata": {
  "kernelspec": {
   "display_name": "Python 3",
   "language": "python",
   "name": "python3"
  },
  "language_info": {
   "codemirror_mode": {
    "name": "ipython",
    "version": 3
   },
   "file_extension": ".py",
   "mimetype": "text/x-python",
   "name": "python",
   "nbconvert_exporter": "python",
   "pygments_lexer": "ipython3",
   "version": "3.7.1"
  }
 },
 "nbformat": 4,
 "nbformat_minor": 2
}
