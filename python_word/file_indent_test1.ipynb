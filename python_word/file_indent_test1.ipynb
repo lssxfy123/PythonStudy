{
 "cells": [
  {
   "cell_type": "code",
   "execution_count": 1,
   "metadata": {},
   "outputs": [],
   "source": [
    "import os\n",
    "import sys\n",
    "import re\n",
    "import datetime\n",
    "from collections import Counter"
   ]
  },
  {
   "cell_type": "code",
   "execution_count": 30,
   "metadata": {},
   "outputs": [],
   "source": [
    "regex = re.compile(r'^[ ]{1,}')\n",
    "bracket_regex = re.compile(r'[\\{\\}]+')"
   ]
  },
  {
   "cell_type": "code",
   "execution_count": 44,
   "metadata": {},
   "outputs": [],
   "source": [
    "def traverse(folder_path):\n",
    "    fs = os.listdir(folder_path)\n",
    "    for fp in fs:\n",
    "        tmp_path = os.path.join(folder_path, fp)\n",
    "        flag = False\n",
    "        if not(os.path.isdir(tmp_path)) and re.match(r'(.*)\\.c[spp]*$', tmp_path) and 'obj' not in tmp_path:\n",
    "            try:\n",
    "                with open(tmp_path, 'r') as fb:\n",
    "                    bracket_list = []\n",
    "                    line_number = 0\n",
    "                    for line in fb:\n",
    "                        line_number += 1\n",
    "                        result = bracket_regex.findall(line)\n",
    "                        if len(result) > 0:\n",
    "                            bracket_list.append((line_number, result))\n",
    "                    if code_level(bracket_list):\n",
    "                        print(tmp_path)\n",
    "            except:\n",
    "                print(\"exception: \", tmp_path)\n",
    "        elif os.path.isdir(tmp_path):\n",
    "            traverse(tmp_path)\n",
    "                    "
   ]
  },
  {
   "cell_type": "code",
   "execution_count": 45,
   "metadata": {},
   "outputs": [],
   "source": [
    "def code_level(bracket_list):\n",
    "    level = 0\n",
    "    flag = False\n",
    "    for i in range(len(bracket_list)):\n",
    "        brackets = bracket_list[i][1]\n",
    "        for j in range(len(brackets)):\n",
    "            if brackets[j] == '{':\n",
    "                level += 1\n",
    "                if level >= 8:\n",
    "                    flag = True\n",
    "                    print(str(bracket_list[i][0]) + \"行缩进为\" + str(level) + \", 过长\")\n",
    "            elif brackets[j] == '}':\n",
    "                level -= 1\n",
    "    return flag"
   ]
  },
  {
   "cell_type": "code",
   "execution_count": 46,
   "metadata": {},
   "outputs": [
    {
     "name": "stdout",
     "output_type": "stream",
     "text": [
      "84行缩进为8, 过长\n",
      "C:\\study\\C-study\\binary_tree_test1\\test.cpp\n",
      "1345行缩进为8, 过长\n",
      "1383行缩进为8, 过长\n",
      "1420行缩进为8, 过长\n",
      "1457行缩进为8, 过长\n",
      "1494行缩进为8, 过长\n",
      "1531行缩进为8, 过长\n",
      "1573行缩进为8, 过长\n",
      "1597行缩进为8, 过长\n",
      "1621行缩进为8, 过长\n",
      "1645行缩进为8, 过长\n",
      "1669行缩进为8, 过长\n",
      "1693行缩进为8, 过长\n",
      "3251行缩进为8, 过长\n",
      "3259行缩进为8, 过长\n",
      "3276行缩进为8, 过长\n",
      "3311行缩进为8, 过长\n",
      "3319行缩进为8, 过长\n",
      "3337行缩进为8, 过长\n",
      "3370行缩进为8, 过长\n",
      "3378行缩进为8, 过长\n",
      "3396行缩进为8, 过长\n",
      "3429行缩进为8, 过长\n",
      "3437行缩进为8, 过长\n",
      "3455行缩进为8, 过长\n",
      "3488行缩进为8, 过长\n",
      "3496行缩进为8, 过长\n",
      "3514行缩进为8, 过长\n",
      "3547行缩进为8, 过长\n",
      "3555行缩进为8, 过长\n",
      "3573行缩进为8, 过长\n",
      "C:\\study\\C-study\\FP\\source\\mainwindow.cpp\n",
      "268行缩进为8, 过长\n",
      "269行缩进为9, 过长\n",
      "271行缩进为9, 过长\n",
      "274行缩进为8, 过长\n",
      "304行缩进为8, 过长\n",
      "320行缩进为8, 过长\n",
      "324行缩进为9, 过长\n",
      "353行缩进为8, 过长\n",
      "354行缩进为8, 过长\n",
      "356行缩进为8, 过长\n",
      "359行缩进为9, 过长\n",
      "361行缩进为10, 过长\n",
      "365行缩进为10, 过长\n",
      "C:\\study\\C-study\\FP\\source\\polyfit.cpp\n"
     ]
    }
   ],
   "source": [
    "traverse(r'C:\\study\\C-study')"
   ]
  },
  {
   "cell_type": "code",
   "execution_count": 28,
   "metadata": {},
   "outputs": [
    {
     "name": "stdout",
     "output_type": "stream",
     "text": [
      "open file success\n"
     ]
    }
   ],
   "source": [
    "file_path = r'C:\\study\\DocBook\\branches\\develop\\Base\\CesClient.Base.Engine\\Execution.cs'\n",
    "bracket_list = []\n",
    "bracket_regex = re.compile(r'[\\{\\}]+')\n",
    "line_number = 0\n",
    "try:\n",
    "    with open(file_path, 'r', encoding='utf-8') as fb:\n",
    "        print(\"open file success\")\n",
    "        for line in fb:\n",
    "            line_number += 1\n",
    "            result = bracket_regex.findall(line)\n",
    "            if len(result) > 0:\n",
    "                bracket_list.append((line_number, result))\n",
    "        code_level(bracket_list)\n",
    "except BaseException as e:\n",
    "    print(e.message)\n",
    "    print(\"exception: \", file_path)"
   ]
  },
  {
   "cell_type": "code",
   "execution_count": 15,
   "metadata": {},
   "outputs": [
    {
     "name": "stdout",
     "output_type": "stream",
     "text": [
      "{{}{}\n"
     ]
    }
   ],
   "source": [
    "bracket_all_str = []\n",
    "bracket_regex = re.compile(r'[\\{\\}]+')\n",
    "brackets = \"{lajalja{}\"\n",
    "result = bracket_regex.findall(brackets)\n",
    "if len(result) > 0:\n",
    "    bracket_all_str.extend(result)\n",
    "\n",
    "brackets = \"aaaf{bbbb}\"\n",
    "result = bracket_regex.findall(brackets)\n",
    "if len(result) > 0:\n",
    "    bracket_all_str.extend(result)\n",
    "\n",
    "print(''.join(bracket_all_str))"
   ]
  },
  {
   "cell_type": "code",
   "execution_count": 19,
   "metadata": {},
   "outputs": [
    {
     "data": {
      "text/plain": [
       "134"
      ]
     },
     "execution_count": 19,
     "metadata": {},
     "output_type": "execute_result"
    }
   ],
   "source": [
    "bracket_str = '{{{}{}{{}}{{{}}}{{}}{{}}{}{{}{}}{{{}{{}{}}{{}{}}{}{}}{}{{}{}{}}}{{{{}}}{}{{}{}{}}}{{}{}{{}{}}{}{}}\\\n",
    "{}{}{}{{{{}{}{}{}{}}{{}{}{}{}{}}}}}}'\n",
    "len(bracket_str)"
   ]
  },
  {
   "cell_type": "code",
   "execution_count": null,
   "metadata": {},
   "outputs": [],
   "source": []
  }
 ],
 "metadata": {
  "kernelspec": {
   "display_name": "Python 3",
   "language": "python",
   "name": "python3"
  },
  "language_info": {
   "codemirror_mode": {
    "name": "ipython",
    "version": 3
   },
   "file_extension": ".py",
   "mimetype": "text/x-python",
   "name": "python",
   "nbconvert_exporter": "python",
   "pygments_lexer": "ipython3",
   "version": "3.7.1"
  }
 },
 "nbformat": 4,
 "nbformat_minor": 2
}
