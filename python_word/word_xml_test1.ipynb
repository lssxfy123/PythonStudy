{
 "cells": [
  {
   "cell_type": "code",
   "execution_count": 1,
   "metadata": {},
   "outputs": [],
   "source": [
    "# Copyright(C) 2020 刘珅珅\n",
    "# Environment: python 3.7\n",
    "# Date: 2020.8.7\n",
    "# 所有doc文件转换docx\n",
    "import os\n",
    "import re\n",
    "import datetime\n",
    "import xml.dom.minidom\n",
    "import config\n",
    "from xml.etree import ElementTree as XmlTree"
   ]
  },
  {
   "cell_type": "code",
   "execution_count": 2,
   "metadata": {},
   "outputs": [],
   "source": [
    "def traverse_journal(journals_path, books_path):\n",
    "    journals = os.listdir(journals_path)\n",
    "    books = os.listdir(books_path)\n",
    "    for i in range(len(journals)):\n",
    "        xml_modify(os.path.join(journals_path, journals[i]), os.path.join(books_path, books[i]))\n",
    "        "
   ]
  },
  {
   "cell_type": "code",
   "execution_count": 3,
   "metadata": {},
   "outputs": [],
   "source": [
    "def xml_modify(journal_xml_path, book_xml_path):\n",
    "    journal_dom = XmlTree.parse(journal_xml_path)\n",
    "    journal_root = journal_dom.getroot()\n",
    "\n",
    "    book_dom = XmlTree.parse(book_xml_path)\n",
    "    book_root = book_dom.getroot()\n",
    "    items = book_root.findall('proof-items/item')\n",
    "    item_references = journal_root.findall('proof-items/item[@name=\"reference\"]')\n",
    "    for i in range(len(items)):\n",
    "        for item_ref in item_references:\n",
    "            if item_ref.get('pi') and item_ref.get('pi') == str(i+1):\n",
    "                item_ref.set('pi', items[i].get('pi')) \n",
    "                item_ref.set('page', items[i].get('page'))\n",
    "    journal_dom.write(journal_xml_path, encoding=\"utf-8\",xml_declaration=True)"
   ]
  },
  {
   "cell_type": "code",
   "execution_count": 4,
   "metadata": {},
   "outputs": [],
   "source": [
    "xml_modify(r'C:\\study\\PythonStudy\\python_word\\journal.xml', r'C:\\study\\PythonStudy\\python_word\\book.xml')"
   ]
  },
  {
   "cell_type": "code",
   "execution_count": 10,
   "metadata": {},
   "outputs": [
    {
     "name": "stdout",
     "output_type": "stream",
     "text": [
      "['2东财改_0_ref.xml', 'Book12_0_ref.xml', 'Book13_0_ref.xml', 'Book14_0_ref.xml', 'Book1_0_ref.xml', 'Book20_0_ref.xml', 'Book22_0_ref.xml', 'Book24_0_ref.xml', 'Book25_0_ref.xml', 'Book27_0_ref.xml', 'Book28_0_ref.xml', 'Book29_0_ref.xml', 'Book2_0_ref.xml', 'Book30_0_ref.xml', 'Book34_0_ref.xml']\n"
     ]
    }
   ],
   "source": [
    "traverse_journal(r'C:\\study\\PythonStudy\\python_word\\xml\\journal', r'C:\\study\\PythonStudy\\python_word\\xml\\book')"
   ]
  },
  {
   "cell_type": "code",
   "execution_count": 3,
   "metadata": {},
   "outputs": [],
   "source": [
    "journal_xml_path = 'journal.xml'\n",
    "book_xml_path = 'book.xml'"
   ]
  },
  {
   "cell_type": "code",
   "execution_count": 19,
   "metadata": {},
   "outputs": [],
   "source": []
  },
  {
   "cell_type": "code",
   "execution_count": null,
   "metadata": {},
   "outputs": [],
   "source": []
  }
 ],
 "metadata": {
  "kernelspec": {
   "display_name": "Python 3",
   "language": "python",
   "name": "python3"
  },
  "language_info": {
   "codemirror_mode": {
    "name": "ipython",
    "version": 3
   },
   "file_extension": ".py",
   "mimetype": "text/x-python",
   "name": "python",
   "nbconvert_exporter": "python",
   "pygments_lexer": "ipython3",
   "version": "3.7.1"
  }
 },
 "nbformat": 4,
 "nbformat_minor": 2
}
