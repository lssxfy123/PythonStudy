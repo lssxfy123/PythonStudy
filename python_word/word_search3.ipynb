{
 "cells": [
  {
   "cell_type": "code",
   "execution_count": 1,
   "metadata": {},
   "outputs": [],
   "source": [
    "# Copyright(C) 2020 刘珅珅\n",
    "# Environment: python 3.7\n",
    "# Date: 2020.8.7\n",
    "# 所有doc文件转换docx\n",
    "import os\n",
    "import re\n",
    "import datetime"
   ]
  },
  {
   "cell_type": "code",
   "execution_count": 2,
   "metadata": {},
   "outputs": [],
   "source": [
    "def traverse(folder_path):\n",
    "    fs = os.listdir(folder_path)\n",
    "    delete_files = []\n",
    "    regex_datetime = re.compile('\\\\d{4}/\\\\d{1,2}/\\\\d{1,2}[\\\\s]*\\\\d{1,2}:\\\\d{2}:\\\\d{2}')\n",
    "    max_datetime = datetime.datetime(2020, 8, 18, 0, 0, 0)\n",
    "    try:\n",
    "        for f in fs:\n",
    "            tmp_path = os.path.join(folder_path, f)\n",
    "            with open(tmp_path, 'r', encoding='utf-8') as file_obj:\n",
    "                lines = file_obj.readlines()\n",
    "                tmps = [line for line in lines if '开始bin文件转换' in line or '开始wmf文件转换' in line]\n",
    "                if len(tmps) > 0:\n",
    "                    delete_files.append(tmp_path)\n",
    "                else:\n",
    "                    tmps = [line for line in lines if re.match(regex_datetime, line)]\n",
    "                    if len(tmps) > 0:\n",
    "                        end_line = tmps[-1]\n",
    "                        last_datetime = regex_datetime.search(end_line).group()\n",
    "                        last_datetime = datetime.datetime.strptime(last_datetime, '%Y/%m/%d %H:%M:%S')\n",
    "                        if last_datetime.__gt__(max_datetime):\n",
    "                            max_datetime = last_datetime\n",
    "                    else:\n",
    "                        delete_files.append(tmp_path)\n",
    "\n",
    "        [os.remove(file) for file in delete_files]\n",
    "        print(\"max datetime\", max_datetime)\n",
    "    except Exception as e:\n",
    "        print(e)\n",
    "        pass"
   ]
  },
  {
   "cell_type": "code",
   "execution_count": 5,
   "metadata": {},
   "outputs": [
    {
     "name": "stdout",
     "output_type": "stream",
     "text": [
      "max datetime 2021-02-03 10:50:47\n"
     ]
    }
   ],
   "source": [
    "traverse(r'C:\\Users\\Zhao.LJ\\Downloads\\20210203')"
   ]
  },
  {
   "cell_type": "code",
   "execution_count": 4,
   "metadata": {},
   "outputs": [
    {
     "name": "stdout",
     "output_type": "stream",
     "text": [
      "max datetime 2020-12-03 18:39:42\n"
     ]
    }
   ],
   "source": [
    "traverse(r'C:\\Users\\Zhao.LJ\\Downloads\\20201203')"
   ]
  },
  {
   "cell_type": "code",
   "execution_count": 5,
   "metadata": {},
   "outputs": [
    {
     "name": "stdout",
     "output_type": "stream",
     "text": [
      "max datetime 2020-12-02 20:41:24\n"
     ]
    }
   ],
   "source": [
    "traverse(r'C:\\Users\\Zhao.LJ\\Downloads\\20201202')"
   ]
  },
  {
   "cell_type": "code",
   "execution_count": 4,
   "metadata": {},
   "outputs": [
    {
     "name": "stdout",
     "output_type": "stream",
     "text": [
      "2020-08-18 00:00:00\n"
     ]
    }
   ],
   "source": [
    "max_datetime = datetime.datetime(2020, 8, 18, 0, 0, 0)\n",
    "print(max_datetime)"
   ]
  },
  {
   "cell_type": "code",
   "execution_count": 4,
   "metadata": {},
   "outputs": [
    {
     "data": {
      "text/plain": [
       "'70485a0e29f0486da2cef008d07c341c.docx'"
      ]
     },
     "execution_count": 4,
     "metadata": {},
     "output_type": "execute_result"
    }
   ],
   "source": [
    "path = \"开始下载文件ftp://ftp3.dc2.fzyun.io:21/data/2020-09-18/cbe0d23b-a/70485a0e29f0486da2cef008d07c341c.docx\"\n",
    "os.path.basename(path)"
   ]
  },
  {
   "cell_type": "code",
   "execution_count": 7,
   "metadata": {},
   "outputs": [],
   "source": [
    "def kClosestNumbers(A, target, k):\n",
    "    result = []\n",
    "    if not A:\n",
    "        return result\n",
    "    if len(A) <= k:\n",
    "        return A\n",
    "    \n",
    "    start = 0\n",
    "    end = len(A) - 1\n",
    "    while (start + 1 < end):\n",
    "        mid = (start + end) // 2           \n",
    "        if A[mid] == target:\n",
    "            break\n",
    "        elif A[mid] < target:\n",
    "            if (target - A[mid]) > abs(target - A[mid + 1]):\n",
    "                start = mid\n",
    "            else:\n",
    "                break\n",
    "        else:\n",
    "            if (A[mid] - target) < abs(target - A[mid - 1]):\n",
    "                end = mid\n",
    "            else:\n",
    "                break\n",
    "    result.append(A[mid])  \n",
    "    k -= 1\n",
    "    start = 0\n",
    "    end = len(A) - 1\n",
    "    while k > 0:\n",
    "        if mid\n",
    "    return result\n",
    "            "
   ]
  },
  {
   "cell_type": "code",
   "execution_count": 8,
   "metadata": {},
   "outputs": [
    {
     "name": "stdout",
     "output_type": "stream",
     "text": [
      "[4]\n"
     ]
    }
   ],
   "source": [
    "A = [1, 4, 6, 8]\n",
    "target = 3\n",
    "k = 3\n",
    "print(kClosestNumbers(A, target, 3))"
   ]
  },
  {
   "cell_type": "code",
   "execution_count": 10,
   "metadata": {},
   "outputs": [
    {
     "name": "stdout",
     "output_type": "stream",
     "text": [
      "[2]\n"
     ]
    }
   ],
   "source": [
    "A = [1, 2, 3, 4]\n",
    "target = 2\n",
    "k = 3\n",
    "print(kClosestNumbers(A, target, 3))"
   ]
  },
  {
   "cell_type": "code",
   "execution_count": null,
   "metadata": {},
   "outputs": [],
   "source": []
  }
 ],
 "metadata": {
  "kernelspec": {
   "display_name": "Python 3",
   "language": "python",
   "name": "python3"
  },
  "language_info": {
   "codemirror_mode": {
    "name": "ipython",
    "version": 3
   },
   "file_extension": ".py",
   "mimetype": "text/x-python",
   "name": "python",
   "nbconvert_exporter": "python",
   "pygments_lexer": "ipython3",
   "version": "3.7.1"
  }
 },
 "nbformat": 4,
 "nbformat_minor": 2
}
