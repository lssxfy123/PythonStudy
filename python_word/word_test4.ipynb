{
 "cells": [
  {
   "cell_type": "code",
   "execution_count": 7,
   "metadata": {},
   "outputs": [],
   "source": [
    "from selenium import webdriver\n",
    "from selenium.webdriver.chrome.options import Options\n",
    "from selenium.webdriver.common.action_chains import ActionChains\n",
    "from selenium.webdriver.common.by import By\n",
    "from selenium.webdriver.support import expected_conditions as EC\n",
    "from selenium.webdriver.support.wait import WebDriverWait\n",
    "from lxml import etree\n",
    "import requests\n",
    "import time\n",
    "import re\n",
    "import os\n",
    "from ctypes import *"
   ]
  },
  {
   "cell_type": "code",
   "execution_count": 8,
   "metadata": {},
   "outputs": [],
   "source": [
    "def InitWebDriver():\n",
    "    driver = webdriver.Chrome()\n",
    "    driver.maximize_window()\n",
    "    \n",
    "    driver.get('http://web.bookcloud.dev5.fzyun.io/#/typesetting')\n",
    "    driver.implicitly_wait(3)\n",
    "    \n",
    "    try:\n",
    "        driver.find_element_by_id('phoneInput')\n",
    "        flag = True\n",
    "    except:\n",
    "        flag = False\n",
    "    \n",
    "    if flag:\n",
    "        driver.find_element_by_id('phoneInput').clear()\n",
    "        driver.find_element_by_id('phoneInput').send_keys('18610914536')\n",
    "        driver.find_element_by_id('passwordInput').clear()\n",
    "        driver.find_element_by_id('passwordInput').send_keys('q11111')\n",
    "        driver.find_element_by_id('loginBtn').click()\n",
    "        driver.implicitly_wait(2)\n",
    "    return driver\n"
   ]
  },
  {
   "cell_type": "code",
   "execution_count": 9,
   "metadata": {},
   "outputs": [],
   "source": [
    "def traverse(folder_path, all_files):\n",
    "    fs = os.listdir(folder_path)\n",
    "    for fp in fs:\n",
    "        tmp_path = os.path.join(folder_path, fp)\n",
    "        if not(os.path.isdir(tmp_path)):\n",
    "            if re.match(r'^[~\\$]', fp):\n",
    "                os.remove(tmp_path)\n",
    "            elif re.match(r'(.*)\\.doc[x]?$', tmp_path):\n",
    "                all_files.append(tmp_path)\n",
    "        elif os.path.isdir(tmp_path):\n",
    "            traverse(tmp_path, all_files)"
   ]
  },
  {
   "cell_type": "code",
   "execution_count": 14,
   "metadata": {},
   "outputs": [],
   "source": [
    "def StructWords(path, template_name):\n",
    "    all_files = []\n",
    "    traverse(path, all_files)\n",
    "    if len(all_files) > 0:\n",
    "        driver = InitWebDriver()\n",
    "        try:\n",
    "            driver.find_element_by_id('headerThesisTypesetting')\n",
    "            flag = True\n",
    "        except:\n",
    "            flag = False\n",
    "        \n",
    "        if flag:\n",
    "            wait = WebDriverWait(driver, 300)\n",
    "            for file in all_files:\n",
    "                try:\n",
    "                    template = driver.find_element_by_xpath(\"//div[@class='template-content']//li/div[@class='template-text']/div[@title='{0}']/ancestor::li\".format(template_name))\n",
    "                    ActionChains(driver).move_to_element(template).perform()\n",
    "                    select = wait.until(EC.element_to_be_clickable((By.XPATH, \"//div[@class='template-content']//li/div[@class='template-text']/div[@title='自动测试图书模板']/ancestor::li//button[@class='el-button hoverBtn hover-select el-button--primary']\")))\n",
    "                    select.click()\n",
    "                    wait.until(EC.element_to_be_clickable((By.XPATH, '//*[@id=\"app\"]/div/div[2]/div[1]/div/div[2]/button[1]')))\n",
    "                    input_file = driver.find_element_by_xpath('//*[@id=\"uploadFileUpload\"]/div/input')\n",
    "                    time.sleep(1)\n",
    "                    input_file.send_keys(file)\n",
    "                    next_step = wait.until(EC.element_to_be_clickable((By.ID, \"uploadSubmit\")))\n",
    "                    next_step.click()\n",
    "                    end_step = wait.until(EC.element_to_be_clickable((By.ID, \"bookNameSubmit\")))\n",
    "                    end_step.click()\n",
    "                    new_setting = wait.until(EC.element_to_be_clickable((By.ID, \"newTypesetting\")))\n",
    "                    new_setting.click()\n",
    "                except Exception as e:\n",
    "                    print(e)\n",
    "                    break\n",
    "            driver.quit()\n",
    "   "
   ]
  },
  {
   "cell_type": "code",
   "execution_count": 15,
   "metadata": {},
   "outputs": [],
   "source": [
    "StructWords(r'C:\\Users\\Zhao.LJ\\Downloads\\自动化测试',\n",
    "            '自动测试图书模板')"
   ]
  },
  {
   "cell_type": "code",
   "execution_count": null,
   "metadata": {},
   "outputs": [],
   "source": []
  }
 ],
 "metadata": {
  "kernelspec": {
   "display_name": "Python 3",
   "language": "python",
   "name": "python3"
  },
  "language_info": {
   "codemirror_mode": {
    "name": "ipython",
    "version": 3
   },
   "file_extension": ".py",
   "mimetype": "text/x-python",
   "name": "python",
   "nbconvert_exporter": "python",
   "pygments_lexer": "ipython3",
   "version": "3.7.1"
  }
 },
 "nbformat": 4,
 "nbformat_minor": 2
}
