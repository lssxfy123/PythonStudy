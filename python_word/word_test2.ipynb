{
 "cells": [
  {
   "cell_type": "code",
   "execution_count": 1,
   "metadata": {},
   "outputs": [
    {
     "name": "stderr",
     "output_type": "stream",
     "text": [
      "C:\\ProgramData\\Anaconda3\\lib\\site-packages\\ipykernel\\parentpoller.py:116: UserWarning: Parent poll failed.  If the frontend dies,\n",
      "                the kernel may be left running.  Please let us know\n",
      "                about your system (bitness, Python, etc.) at\n",
      "                ipython-dev@scipy.org\n",
      "  ipython-dev@scipy.org\"\"\")\n"
     ]
    }
   ],
   "source": [
    "from selenium import webdriver\n",
    "from selenium.webdriver.chrome.options import Options\n",
    "from selenium.webdriver.common.action_chains import ActionChains\n",
    "from selenium.webdriver.common.by import By\n",
    "from selenium.webdriver.support import expected_conditions as EC\n",
    "from selenium.webdriver.support.wait import WebDriverWait\n",
    "from lxml import etree\n",
    "import requests\n",
    "import time\n",
    "import re\n",
    "import os\n",
    "from ctypes import *"
   ]
  },
  {
   "cell_type": "code",
   "execution_count": 2,
   "metadata": {},
   "outputs": [],
   "source": [
    "def InitWebDriver():\n",
    "    driver = webdriver.Chrome()\n",
    "    driver.maximize_window()\n",
    "    \n",
    "    driver.get('http://web.bookcloud.dev5.fzyun.io/#/typesetting')\n",
    "    driver.implicitly_wait(3)\n",
    "    \n",
    "    try:\n",
    "        driver.find_element_by_id('phoneInput')\n",
    "        flag = True\n",
    "    except:\n",
    "        flag = False\n",
    "    \n",
    "    if flag:\n",
    "        driver.find_element_by_id('phoneInput').clear()\n",
    "        driver.find_element_by_id('phoneInput').send_keys('18610914536')\n",
    "        driver.find_element_by_id('passwordInput').clear()\n",
    "        driver.find_element_by_id('passwordInput').send_keys('q11111')\n",
    "        driver.find_element_by_id('loginBtn').click()\n",
    "        driver.implicitly_wait(2)\n",
    "    return driver\n"
   ]
  },
  {
   "cell_type": "code",
   "execution_count": 3,
   "metadata": {},
   "outputs": [],
   "source": [
    "def traverse(folder_path, all_files):\n",
    "    fs = os.listdir(folder_path)\n",
    "    for fp in fs:\n",
    "        tmp_path = os.path.join(folder_path, fp)\n",
    "        if not(os.path.isdir(tmp_path)):\n",
    "            if re.match(r'^[~\\$]', fp):\n",
    "                os.remove(tmp_path)\n",
    "            elif re.match(r'(.*)\\.doc[x]?$', tmp_path):\n",
    "                all_files.append(tmp_path)\n",
    "        elif os.path.isdir(tmp_path):\n",
    "            traverse(tmp_path, all_files)"
   ]
  },
  {
   "cell_type": "code",
   "execution_count": 4,
   "metadata": {},
   "outputs": [],
   "source": [
    "def StructWords(path, template_url):\n",
    "    all_files = []\n",
    "    traverse(path, all_files)\n",
    "    if len(all_files) > 0:\n",
    "        driver = InitWebDriver()\n",
    "        try:\n",
    "            driver.find_element_by_id('headerThesisTypesetting')\n",
    "            flag = True\n",
    "        except:\n",
    "            flag = False\n",
    "        \n",
    "        if flag:\n",
    "            wait = WebDriverWait(driver, 300)\n",
    "            driver.get(template_url)\n",
    "            driver.implicitly_wait(2)\n",
    "            for file in all_files:\n",
    "                try:\n",
    "                    wait.until(EC.element_to_be_clickable((By.XPATH, '//*[@id=\"app\"]/div/div[2]/div[3]/div/div[2]/button[1]')))\n",
    "                    input_file = driver.find_element_by_xpath('//*[@id=\"uploadFileUpload\"]/div/input')\n",
    "                    time.sleep(1)\n",
    "                    input_file.send_keys(file)\n",
    "                    next_step = wait.until(EC.element_to_be_clickable((By.ID, \"uploadSubmit\")))\n",
    "                    next_step.click()\n",
    "                    end_step = wait.until(EC.element_to_be_clickable((By.ID, \"bookNameSubmit\")))\n",
    "                    end_step.click()\n",
    "                    wait.until(EC.element_to_be_clickable((By.ID, \"newTypesetting\")))\n",
    "                    driver.get(template_url)\n",
    "                    driver.refresh()\n",
    "                except Exception as e:\n",
    "                    print(e)\n",
    "                    break\n",
    "            driver.quit()\n",
    "   "
   ]
  },
  {
   "cell_type": "code",
   "execution_count": 6,
   "metadata": {},
   "outputs": [],
   "source": [
    "StructWords(r'C:\\Users\\Zhao.LJ\\Desktop\\Word结构化稿件\\有问题\\学前论文\\论文元数据结构测试样张（13篇原稿）',\n",
    "            'http://web.bookcloud.dev5.fzyun.io/#/thesis?tid=3f87d6391228489d966272d7df78e889&cid&tname')"
   ]
  },
  {
   "cell_type": "code",
   "execution_count": 5,
   "metadata": {},
   "outputs": [],
   "source": [
    "StructWords(r'C:\\Users\\Zhao.LJ\\Desktop\\Word结构化稿件\\有问题\\学前论文\\论文元数据结构测试样张（13篇原稿）',\n",
    "            'http://web.bookcloud.dev5.fzyun.io/#/thesis?tid=f7ab6fd6a1a9464bb25770e83875d2a5&cid&tname')"
   ]
  },
  {
   "cell_type": "code",
   "execution_count": null,
   "metadata": {},
   "outputs": [],
   "source": []
  }
 ],
 "metadata": {
  "kernelspec": {
   "display_name": "Python 3",
   "language": "python",
   "name": "python3"
  },
  "language_info": {
   "codemirror_mode": {
    "name": "ipython",
    "version": 3
   },
   "file_extension": ".py",
   "mimetype": "text/x-python",
   "name": "python",
   "nbconvert_exporter": "python",
   "pygments_lexer": "ipython3",
   "version": "3.7.1"
  }
 },
 "nbformat": 4,
 "nbformat_minor": 2
}
