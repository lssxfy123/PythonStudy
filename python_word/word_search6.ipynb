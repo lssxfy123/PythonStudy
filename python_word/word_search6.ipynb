{
 "cells": [
  {
   "cell_type": "code",
   "execution_count": 1,
   "metadata": {},
   "outputs": [],
   "source": [
    "# Copyright(C) 2020 刘珅珅\n",
    "# Environment: python 3.7\n",
    "# Date: 2020.8.7\n",
    "# 所有doc文件转换docx\n",
    "import os\n",
    "import re\n",
    "import datetime\n",
    "import config"
   ]
  },
  {
   "cell_type": "code",
   "execution_count": 2,
   "metadata": {},
   "outputs": [],
   "source": [
    "def traverse(folder_path, targets):\n",
    "    fs = os.listdir(folder_path)\n",
    "    delete_files = []\n",
    "    regex_datetime = re.compile('\\\\d{4}/\\\\d{1,2}/\\\\d{1,2}[\\\\s]*\\\\d{1,2}:\\\\d{2}:\\\\d{2}')\n",
    "    max_gap = 0\n",
    "    max_filename = \"\"\n",
    "\n",
    "    try:\n",
    "        for f in fs:\n",
    "            tmp_path = os.path.join(folder_path, f)\n",
    "            with open(tmp_path, 'r', encoding='utf-8') as file_obj:\n",
    "                lines = file_obj.readlines()\n",
    "                tmps = [line for line in lines if '开始bin文件转换' in line or '开始wmf文件转换' in line]\n",
    "                if len(tmps) > 0:\n",
    "                    delete_files.append(tmp_path)\n",
    "                else:\n",
    "                    tmps = [lines.index(line) for line in lines for target in targets if target in line]\n",
    "                    if len(tmps) == 0:\n",
    "                        delete_files.append(tmp_path)\n",
    "                    elif len(tmps) == 2:\n",
    "                        start_index = tmps[0] - 1;\n",
    "                        start_datetime = regex_datetime.search(lines[start_index]).group()\n",
    "                        start_datetime = datetime.datetime.strptime(start_datetime, '%Y/%m/%d %H:%M:%S')\n",
    "                        end_index = tmps[1] - 1;\n",
    "                        last_datetime = regex_datetime.search(lines[end_index]).group()\n",
    "                        last_datetime = datetime.datetime.strptime(last_datetime, '%Y/%m/%d %H:%M:%S')\n",
    "                        gap_time = last_datetime - start_datetime\n",
    "                        if gap_time.seconds >= max_gap:\n",
    "                            max_gap = gap_time.seconds\n",
    "                            max_filename = tmp_path\n",
    "\n",
    "        print(\"最大耗时为\", max_gap, max_filename)\n",
    "        [os.remove(file) for file in delete_files]\n",
    "    except Exception as e:\n",
    "        print(e)\n",
    "        pass"
   ]
  },
  {
   "cell_type": "code",
   "execution_count": 4,
   "metadata": {},
   "outputs": [
    {
     "name": "stdout",
     "output_type": "stream",
     "text": [
      "最大耗时为 10525 C:\\Users\\Zhao.LJ\\Downloads\\20200929\\精细分层注水技术 20190402终稿_2216_a6c38492-de0f-485e-ab4a-9e3c9685c990.log\n"
     ]
    }
   ],
   "source": [
    "traverse(r'C:\\Users\\Zhao.LJ\\Downloads\\20200929', [\"另存为开始\", \"另存为成功\"])"
   ]
  },
  {
   "cell_type": "code",
   "execution_count": 7,
   "metadata": {},
   "outputs": [
    {
     "data": {
      "text/plain": [
       "['log0啊啊发放', 'log1aafa']"
      ]
     },
     "execution_count": 7,
     "metadata": {},
     "output_type": "execute_result"
    }
   ],
   "source": [
    "lines = [\"log0啊啊发放\", \"afafa\", \"log1aafa\"]\n",
    "targets = [\"log0\", \"log1\"]\n",
    "[line for line in lines for target in targets if target in line]"
   ]
  },
  {
   "cell_type": "code",
   "execution_count": null,
   "metadata": {},
   "outputs": [],
   "source": []
  }
 ],
 "metadata": {
  "kernelspec": {
   "display_name": "Python 3",
   "language": "python",
   "name": "python3"
  },
  "language_info": {
   "codemirror_mode": {
    "name": "ipython",
    "version": 3
   },
   "file_extension": ".py",
   "mimetype": "text/x-python",
   "name": "python",
   "nbconvert_exporter": "python",
   "pygments_lexer": "ipython3",
   "version": "3.7.1"
  }
 },
 "nbformat": 4,
 "nbformat_minor": 2
}
