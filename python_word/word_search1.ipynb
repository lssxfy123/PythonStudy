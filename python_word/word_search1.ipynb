{
 "cells": [
  {
   "cell_type": "code",
   "execution_count": 7,
   "metadata": {},
   "outputs": [],
   "source": [
    "# Copyright(C) 2020 刘珅珅\n",
    "# Environment: python 3.7\n",
    "# Date: 2020.10.22\n",
    "# 所有doc文件转换docx\n",
    "import os\n",
    "import re\n",
    "import datetime"
   ]
  },
  {
   "cell_type": "code",
   "execution_count": 32,
   "metadata": {},
   "outputs": [],
   "source": [
    "def traverse(folder_path):\n",
    "    fs = os.listdir(folder_path)\n",
    "    delete_files = []\n",
    "    regex_datetime = re.compile('\\\\d{4}/\\\\d{1,2}/\\\\d{1,2}[\\\\s]*\\\\d{1,2}:\\\\d{2}:\\\\d{2}')\n",
    "    try:\n",
    "        for f in fs:\n",
    "            tmp_path = os.path.join(folder_path, f)\n",
    "            with open(tmp_path, 'r', encoding='utf-8') as file_obj:\n",
    "                lines = file_obj.readlines()\n",
    "                tmps = [line for line in lines if '开始bin文件转换' in line or '开始wmf文件转换' in line]\n",
    "                if len(tmps) > 0:\n",
    "                    delete_files.append(tmp_path)\n",
    "                else:\n",
    "                    tmps = [line for line in lines if '保存标引XML' in line and '保存标引XML，结束Build Paragraph' in line]\n",
    "                    if len(tmps) > 0:\n",
    "                        start = lines.index('保存标引XML\\n') - 1\n",
    "                        start_line = lines[start]\n",
    "                        first_datetime = regex_datetime.search(start_line).group()\n",
    "                        first_datetime = datetime.datetime.strptime(first_datetime, '%Y/%m/%d %H:%M:%S')\n",
    "                        end = lines.index('保存标引XML，结束Build Paragraph\\n') - 1\n",
    "                        end_line = lines[end]\n",
    "                        last_datetime = regex_datetime.search(end_line).group()\n",
    "                        last_datetime = datetime.datetime.strptime(last_datetime, '%Y/%m/%d %H:%M:%S')\n",
    "                        gap_time = last_datetime - first_datetime\n",
    "                        if gap_time.seconds >= 180:\n",
    "                            print(tmp_path)\n",
    "                        else:\n",
    "                            delete_files.append(tmp_path)\n",
    "                    else:\n",
    "                        delete_files.append(tmp_path)\n",
    "\n",
    "        [os.remove(file) for file in delete_files]\n",
    "    except Exception as e:\n",
    "        print(e)\n",
    "        pass"
   ]
  },
  {
   "cell_type": "code",
   "execution_count": 34,
   "metadata": {},
   "outputs": [
    {
     "name": "stdout",
     "output_type": "stream",
     "text": [
      "C:\\Users\\Zhao.LJ\\Downloads\\20200804\\1f5b5259-2_2316_3c613a23-00ff-44be-bc8e-9e5c7fc159aa.log\n",
      "C:\\Users\\Zhao.LJ\\Downloads\\20200804\\ae5b63a1-9_2316_f04afc93-8505-4ad1-b2d7-2cb813c6119e.log\n",
      "C:\\Users\\Zhao.LJ\\Downloads\\20200804\\Book12_2604_4d8b48ac-d5b6-11ea-9802-fa163ed871f5.log\n",
      "C:\\Users\\Zhao.LJ\\Downloads\\20200804\\Book7_2724_81914598-d5b6-11ea-9802-fa163ed871f5.log\n",
      "C:\\Users\\Zhao.LJ\\Downloads\\20200804\\Book9_2932_83fc2b9a-d5b6-11ea-9802-fa163ed871f5.log\n",
      "C:\\Users\\Zhao.LJ\\Downloads\\20200804\\c43cde0e-b_2932_9912cb1c-5d61-4175-a069-149e406a0bf2.log\n",
      "C:\\Users\\Zhao.LJ\\Downloads\\20200804\\适合_傅里叶变化及其在信息处理中的应用(哈尔滨工程大学出版社)(不含篇）_2724_0677c2a4-2bc1-49ac-bf1b-bbbb3d1adc27.log\n",
      "C:\\Users\\Zhao.LJ\\Downloads\\20200804\\适合_流体力学（哈尔滨工程大学出版社）(不含篇)_2796_9daec9b6-4b1e-46c2-b2bc-f5bb725128e9.log\n",
      "C:\\Users\\Zhao.LJ\\Downloads\\20200804\\适合_线性空间-正文(哈尔滨工程大学出版社)(不含篇)_2316_fe8081e0-3ff7-49d1-9c44-345fdadb2937.log\n",
      "C:\\Users\\Zhao.LJ\\Downloads\\20200804\\适合_高等统计物理学(哈尔滨工程大学出版社)(不含篇)教材_2932_936a108e-f489-4c40-8410-67fb4ec5e062.log\n",
      "C:\\Users\\Zhao.LJ\\Downloads\\20200804\\适合_高频电子-正文(哈尔滨工程大学出版社)(不含篇)_2316_33dbf74b-7bdf-4dff-ba35-a54e5cc124d0.log\n",
      "C:\\Users\\Zhao.LJ\\Downloads\\20200804\\适合（答案部分不好）专升本数学教材10.8（沈阳姿兰）（章节）_2796_4b993432-22ae-49a6-a884-e8a5a1908439.log\n",
      "C:\\Users\\Zhao.LJ\\Downloads\\20200804\\适合（答案部分不好）数学图书（沈阳姿兰）_2724_f4933854-dca8-4c68-9372-62437ee31e82.log\n"
     ]
    }
   ],
   "source": [
    "traverse(r'C:\\Users\\Zhao.LJ\\Downloads\\20200804')"
   ]
  },
  {
   "cell_type": "code",
   "execution_count": 22,
   "metadata": {},
   "outputs": [
    {
     "name": "stdout",
     "output_type": "stream",
     "text": [
      "<re.Match object; span=(0, 16), match='2020/8/7 8:48:10'>\n"
     ]
    }
   ],
   "source": [
    "regex_datetime = re.compile('\\\\d{4}/\\\\d{1,2}/\\\\d{1,2}[\\\\s]*\\\\d{1,2}:\\\\d{2}:\\\\d{2}')\n",
    "str1 = '2020/8/7 8:48:10  BOOKCLOUD-TEST0:Ces.OpenXML.Marker.Mar'\n",
    "first_datetime = regex_datetime.search(str1)\n",
    "print(first_datetime)"
   ]
  },
  {
   "cell_type": "code",
   "execution_count": null,
   "metadata": {},
   "outputs": [],
   "source": []
  }
 ],
 "metadata": {
  "kernelspec": {
   "display_name": "Python 3",
   "language": "python",
   "name": "python3"
  },
  "language_info": {
   "codemirror_mode": {
    "name": "ipython",
    "version": 3
   },
   "file_extension": ".py",
   "mimetype": "text/x-python",
   "name": "python",
   "nbconvert_exporter": "python",
   "pygments_lexer": "ipython3",
   "version": "3.7.1"
  }
 },
 "nbformat": 4,
 "nbformat_minor": 2
}
