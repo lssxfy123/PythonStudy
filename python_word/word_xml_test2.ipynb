{
 "cells": [
  {
   "cell_type": "code",
   "execution_count": 1,
   "metadata": {},
   "outputs": [],
   "source": [
    "# Copyright(C) 2021 刘珅珅\n",
    "# Environment: python 3.7\n",
    "# Date: 2021.1.28\n",
    "# xml比较\n",
    "import os\n",
    "import re\n",
    "import datetime\n",
    "import xml.dom.minidom\n",
    "import config\n",
    "from xml.etree import ElementTree as XmlTree"
   ]
  },
  {
   "cell_type": "code",
   "execution_count": 2,
   "metadata": {},
   "outputs": [],
   "source": [
    "def traverse_journal(logic_check_xml_paths, outline_check_xml_paths):\n",
    "    logic_check_xmls = os.listdir(logic_check_xml_paths)\n",
    "    outline_check_xmls = os.listdir(outline_check_xml_paths)\n",
    "    for i in range(len(logic_check_xmls)):\n",
    "        if not xml_modify(os.path.join(logic_check_xml_paths, logic_check_xmls[i]), os.path.join(outline_check_xml_paths, outline_check_xmls[i])):\n",
    "            print(outline_check_xmls[i])\n",
    "        "
   ]
  },
  {
   "cell_type": "code",
   "execution_count": 3,
   "metadata": {},
   "outputs": [],
   "source": [
    "def xml_modify(logic_check_xml_path, outline_check_xml_path):\n",
    "    logic_check_dom = XmlTree.parse(logic_check_xml_path)\n",
    "    logic_root = logic_check_dom.getroot()\n",
    "    logic_outlines = []\n",
    "    for child in logic_root:\n",
    "        if 'Outline' in child.tag:\n",
    "            logic_outlines.append(child)\n",
    "\n",
    "    outline_check_dom = XmlTree.parse(outline_check_xml_path)\n",
    "    outline_root = outline_check_dom.getroot()\n",
    "    outlines = []\n",
    "    for child in outline_root:\n",
    "        if 'Outline' in child.tag:\n",
    "            outlines.append(child)\n",
    "    print(len(outlines), len(logic_outlines))\n",
    "    if len(outlines) != len(logic_outlines):\n",
    "        return False\n",
    "    for i in range(len(outlines)):\n",
    "        outline = outlines[i]\n",
    "        logic_outline = logic_outlines[i]\n",
    "        if outline.attrib != logic_outline.attrib:\n",
    "            print(outline.attrib)\n",
    "            print(logic_outline.attrib)\n",
    "            return False\n",
    "    return True  "
   ]
  },
  {
   "cell_type": "code",
   "execution_count": 15,
   "metadata": {},
   "outputs": [
    {
     "name": "stdout",
     "output_type": "stream",
     "text": [
      "794 794\n",
      "267 267\n",
      "290 290\n",
      "822 822\n",
      "355 355\n",
      "530 530\n",
      "400 400\n",
      "289 289\n",
      "284 284\n",
      "678 678\n"
     ]
    }
   ],
   "source": [
    "traverse_journal(r'C:\\Users\\Zhao.LJ\\AppData\\Roaming\\Founder\\WordClient\\SchemaTemplate\\all', r'C:\\Users\\Zhao.LJ\\AppData\\Roaming\\Founder\\WordClient\\SchemaTemplate\\title')"
   ]
  },
  {
   "cell_type": "code",
   "execution_count": 14,
   "metadata": {},
   "outputs": [
    {
     "name": "stdout",
     "output_type": "stream",
     "text": [
      "14 14\n",
      "22 22\n",
      "6 6\n",
      "17 17\n",
      "20 20\n",
      "14 14\n"
     ]
    }
   ],
   "source": [
    "traverse_journal(r'C:\\Users\\Zhao.LJ\\AppData\\Roaming\\Founder\\WordClient\\SchemaTemplate\\journal_all', r'C:\\Users\\Zhao.LJ\\AppData\\Roaming\\Founder\\WordClient\\SchemaTemplate\\journal_title')"
   ]
  },
  {
   "cell_type": "code",
   "execution_count": null,
   "metadata": {},
   "outputs": [],
   "source": []
  }
 ],
 "metadata": {
  "kernelspec": {
   "display_name": "Python 3",
   "language": "python",
   "name": "python3"
  },
  "language_info": {
   "codemirror_mode": {
    "name": "ipython",
    "version": 3
   },
   "file_extension": ".py",
   "mimetype": "text/x-python",
   "name": "python",
   "nbconvert_exporter": "python",
   "pygments_lexer": "ipython3",
   "version": "3.7.1"
  }
 },
 "nbformat": 4,
 "nbformat_minor": 2
}
