{
 "cells": [
  {
   "cell_type": "code",
   "execution_count": 1,
   "metadata": {},
   "outputs": [],
   "source": [
    "import pinyin"
   ]
  },
  {
   "cell_type": "code",
   "execution_count": 9,
   "metadata": {},
   "outputs": [
    {
     "name": "stdout",
     "output_type": "stream",
     "text": [
      "原拼音：nénggòugēnjùcízǔzhìnéngshíbiéduōyīnzì\n",
      ", 拆分后的拼音长度：13\n"
     ]
    }
   ],
   "source": [
    "strs = \"nénggòugēnjùcízǔzhìnéngshíbiéduōyīnzì\"\n",
    "print(\"原拼音：{0}\\n, 拆分后的拼音长度：{1}\".format(strs, pinyin.get_split_py(strs)))"
   ]
  },
  {
   "cell_type": "code",
   "execution_count": 11,
   "metadata": {},
   "outputs": [
    {
     "data": {
      "text/plain": [
       "''"
      ]
     },
     "execution_count": 11,
     "metadata": {},
     "output_type": "execute_result"
    }
   ],
   "source": [
    "strs[0:0]"
   ]
  },
  {
   "cell_type": "code",
   "execution_count": 5,
   "metadata": {},
   "outputs": [
    {
     "data": {
      "text/plain": [
       "419"
      ]
     },
     "execution_count": 5,
     "metadata": {},
     "output_type": "execute_result"
    }
   ],
   "source": [
    "len(pinyin.all_list)"
   ]
  },
  {
   "cell_type": "code",
   "execution_count": 3,
   "metadata": {},
   "outputs": [
    {
     "name": "stdout",
     "output_type": "stream",
     "text": [
      "原拼音：zhuangbi\n",
      ", 拆分后的拼音长度：2\n"
     ]
    }
   ],
   "source": [
    "strs = \"zhuangbi\"\n",
    "print(\"原拼音：{0}\\n, 拆分后的拼音长度：{1}\".format(strs, pinyin.get_split_py(strs)))"
   ]
  },
  {
   "cell_type": "code",
   "execution_count": 2,
   "metadata": {},
   "outputs": [
    {
     "name": "stdout",
     "output_type": "stream",
     "text": [
      "原拼音：xīān\n",
      ", 拆分后的拼音长度：1\n"
     ]
    }
   ],
   "source": [
    "strs = \"xīān\"\n",
    "print(\"原拼音：{0}\\n, 拆分后的拼音长度：{1}\".format(strs, pinyin.get_split_py(strs)))"
   ]
  },
  {
   "cell_type": "code",
   "execution_count": null,
   "metadata": {},
   "outputs": [],
   "source": []
  }
 ],
 "metadata": {
  "kernelspec": {
   "display_name": "Python 3",
   "language": "python",
   "name": "python3"
  },
  "language_info": {
   "codemirror_mode": {
    "name": "ipython",
    "version": 3
   },
   "file_extension": ".py",
   "mimetype": "text/x-python",
   "name": "python",
   "nbconvert_exporter": "python",
   "pygments_lexer": "ipython3",
   "version": "3.7.1"
  }
 },
 "nbformat": 4,
 "nbformat_minor": 2
}
