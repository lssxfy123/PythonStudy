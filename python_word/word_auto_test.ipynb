{
 "cells": [
  {
   "cell_type": "code",
   "execution_count": 1,
   "metadata": {},
   "outputs": [],
   "source": [
    "# Copyright(C) 2020 刘珅珅\n",
    "# Environment: python 3.7\n",
    "# Date: 2020.8.7\n",
    "# 所有doc文件转换docx\n",
    "import os\n",
    "import re\n",
    "import datetime"
   ]
  },
  {
   "cell_type": "code",
   "execution_count": 17,
   "metadata": {},
   "outputs": [],
   "source": [
    "def rename(folder_path, ext):\n",
    "    fs = os.listdir(folder_path)\n",
    "    delete_files = []\n",
    "    try:\n",
    "        for f in fs:\n",
    "            if '@' in f:\n",
    "                dest_name = f.split('@')[0] + ext\n",
    "                dest_name = os.path.join(folder_path, dest_name)\n",
    "                f = os.path.join(folder_path, f)\n",
    "                os.rename(f,dest_name)\n",
    "    except Exception as e:\n",
    "        print(e)\n",
    "        pass"
   ]
  },
  {
   "cell_type": "code",
   "execution_count": 15,
   "metadata": {},
   "outputs": [],
   "source": [
    "def traverse(folder_path, book_file):\n",
    "    fs = os.listdir(folder_path)\n",
    "    try:\n",
    "        with open(book_file, 'w', encoding='utf-8') as file_obj:\n",
    "            for f in fs:\n",
    "                file_obj.write('{0},15789,42\\n'.format(f))\n",
    "    except Exception as e:\n",
    "        print(e)\n",
    "        pass"
   ]
  },
  {
   "cell_type": "code",
   "execution_count": 16,
   "metadata": {},
   "outputs": [],
   "source": [
    "traverse(r'C:\\study\\0630\\xml\\TestFile', r'C:\\study\\0630\\xml\\Tools\\journal2list.txt')"
   ]
  },
  {
   "cell_type": "code",
   "execution_count": 14,
   "metadata": {},
   "outputs": [],
   "source": [
    "rename(r'C:\\study\\0630\\xml\\TestFile', \".docx\")"
   ]
  },
  {
   "cell_type": "code",
   "execution_count": 21,
   "metadata": {},
   "outputs": [],
   "source": [
    "rename(r'C:\\Users\\Zhao.LJ\\Downloads\\SchemaTemplate', \".docx\")"
   ]
  },
  {
   "cell_type": "code",
   "execution_count": 19,
   "metadata": {},
   "outputs": [],
   "source": [
    "rename(r'C:\\study\\PythonStudy\\python_word\\xml\\book', \".xml\")"
   ]
  },
  {
   "cell_type": "code",
   "execution_count": 12,
   "metadata": {},
   "outputs": [],
   "source": [
    "name = '适合 （效果不佳）纳税实务终审后（东北财经大学出版社）_0@20201127 162700 525_ref.docx'"
   ]
  },
  {
   "cell_type": "code",
   "execution_count": null,
   "metadata": {},
   "outputs": [],
   "source": []
  }
 ],
 "metadata": {
  "kernelspec": {
   "display_name": "Python 3",
   "language": "python",
   "name": "python3"
  },
  "language_info": {
   "codemirror_mode": {
    "name": "ipython",
    "version": 3
   },
   "file_extension": ".py",
   "mimetype": "text/x-python",
   "name": "python",
   "nbconvert_exporter": "python",
   "pygments_lexer": "ipython3",
   "version": "3.7.1"
  }
 },
 "nbformat": 4,
 "nbformat_minor": 2
}
