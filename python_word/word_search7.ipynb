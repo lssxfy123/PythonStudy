{
 "cells": [
  {
   "cell_type": "code",
   "execution_count": 1,
   "metadata": {},
   "outputs": [],
   "source": [
    "# Copyright(C) 2020 刘珅珅\n",
    "# Environment: python 3.7\n",
    "# Date: 2020.10.22\n",
    "# 所有doc文件转换docx\n",
    "import os\n",
    "import re\n",
    "import datetime"
   ]
  },
  {
   "cell_type": "code",
   "execution_count": 12,
   "metadata": {},
   "outputs": [],
   "source": [
    "def traverse(folder_path, target, start_target, end_target):\n",
    "    fs = os.listdir(folder_path)\n",
    "    delete_files = []\n",
    "    regex_datetime = re.compile('\\\\d{4}/\\\\d{1,2}/\\\\d{1,2}[\\\\s]*\\\\d{1,2}:\\\\d{2}:\\\\d{2}')\n",
    "    max_gap_time = 0\n",
    "    try:\n",
    "        for f in fs:\n",
    "            tmp_path = os.path.join(folder_path, f)\n",
    "            with open(tmp_path, 'r', encoding='utf-8') as file_obj:\n",
    "                lines = file_obj.readlines()\n",
    "                tmps = [line for line in lines if '开始bin文件转换' in line or '开始wmf文件转换' in line]\n",
    "                if len(tmps) > 0:\n",
    "                    delete_files.append(tmp_path)\n",
    "                else:\n",
    "                    tmps = [line for line in lines if target in line]\n",
    "                    if len(tmps) > 0:\n",
    "                        all_starts = [i for i,x in enumerate(lines) if x.find(start_target) != -1]\n",
    "                        if len(all_starts) == 0:\n",
    "                            continue\n",
    "                        start = all_starts[0] - 1\n",
    "                        start_line = lines[start]\n",
    "                        first_datetime = regex_datetime.search(start_line).group()\n",
    "                        first_datetime = datetime.datetime.strptime(first_datetime, '%Y/%m/%d %H:%M:%S')\n",
    "                        all_ends = [i for i,x in enumerate(lines) if x.find(end_target) != -1]\n",
    "                        if len(all_ends) == 0:\n",
    "                            continue\n",
    "                        end = all_ends[0] - 1\n",
    "                        end_line = lines[end]\n",
    "                        last_datetime = regex_datetime.search(end_line).group()\n",
    "                        last_datetime = datetime.datetime.strptime(last_datetime, '%Y/%m/%d %H:%M:%S')\n",
    "                        gap_time = last_datetime - first_datetime\n",
    "                        print(tmp_path)\n",
    "                        print(\"get shapes time \", gap_time.seconds)\n",
    "                        if gap_time.seconds >= max_gap_time:\n",
    "                            max_gap_time = gap_time.seconds\n",
    "                            file_name = tmp_path\n",
    "                    else:\n",
    "                        delete_files.append(tmp_path)\n",
    "\n",
    "        [os.remove(file) for file in delete_files]\n",
    "        print(\"max zip time \", max_gap_time)\n",
    "        print(file_name)\n",
    "    except Exception as e:\n",
    "        print(e)\n",
    "        print(tmp_path)\n",
    "        pass"
   ]
  },
  {
   "cell_type": "code",
   "execution_count": 16,
   "metadata": {},
   "outputs": [
    {
     "name": "stdout",
     "output_type": "stream",
     "text": [
      "C:\\Users\\Zhao.LJ\\Downloads\\20201228\\Book18_2896_c1fe6351-96d9-4088-8aa2-17f7ccbbe0eb.log\n",
      "get shapes time  19\n",
      "C:\\Users\\Zhao.LJ\\Downloads\\20201228\\Book20_836_92914181-3e6b-446d-94b9-7f12ab00ab59.log\n",
      "get shapes time  19\n",
      "C:\\Users\\Zhao.LJ\\Downloads\\20201228\\Book29_836_ef11c7fe-16ba-407e-b379-efd60aeaf9c9.log\n",
      "get shapes time  78\n",
      "C:\\Users\\Zhao.LJ\\Downloads\\20201228\\Book30_2896_4cb9fa10-685a-49c9-8786-d49db252e36b.log\n",
      "get shapes time  79\n",
      "C:\\Users\\Zhao.LJ\\Downloads\\20201228\\Book34_2368_60c51c54-4870-11eb-b4fd-0242ac110003.log\n",
      "get shapes time  41\n",
      "C:\\Users\\Zhao.LJ\\Downloads\\20201228\\适合 1-2-3 2019主管护师1（协和医科大学出版社）（篇章节）_2896_af2dd153-1265-46c5-b708-e28664c04318.log\n",
      "get shapes time  100\n",
      "C:\\Users\\Zhao.LJ\\Downloads\\20201228\\适合 （效果不佳）纳税实务终审后（东北财经大学出版社）_2704_37f423bb-04a2-4186-94ff-024840179483.log\n",
      "get shapes time  57\n",
      "C:\\Users\\Zhao.LJ\\Downloads\\20201228\\适合_应用统计学定稿版1(华中科技大学出版社)(不含篇)_2704_21f2437c-fc14-4b3d-899c-ff01ecfc3f32.log\n",
      "get shapes time  77\n",
      "max zip time  100\n",
      "C:\\Users\\Zhao.LJ\\Downloads\\20201228\\适合 1-2-3 2019主管护师1（协和医科大学出版社）（篇章节）_2896_af2dd153-1265-46c5-b708-e28664c04318.log\n"
     ]
    }
   ],
   "source": [
    "traverse(r'C:\\Users\\Zhao.LJ\\Downloads\\20201228', 'Get All shapes Commands', 'Before Get All shapes Commands Count', 'After Get All shapes Commands Count')"
   ]
  },
  {
   "cell_type": "code",
   "execution_count": 15,
   "metadata": {},
   "outputs": [
    {
     "name": "stdout",
     "output_type": "stream",
     "text": [
      "C:\\Users\\Zhao.LJ\\Downloads\\20201229\\Book18_3020_2ae35886-1a0c-43e3-a0e8-21f8200cb6d7.log\n",
      "get shapes time  22\n",
      "C:\\Users\\Zhao.LJ\\Downloads\\20201229\\Book20_804_b3e7f923-26a9-45ff-b0ca-3296cede55fc.log\n",
      "get shapes time  26\n",
      "C:\\Users\\Zhao.LJ\\Downloads\\20201229\\Book29_2292_fc7c3728-eacc-4e19-9e39-43b39b4bd00b.log\n",
      "get shapes time  79\n",
      "C:\\Users\\Zhao.LJ\\Downloads\\20201229\\Book30_2848_3132c456-c9ba-4e1f-9d1a-d16fef0fc0d7.log\n",
      "get shapes time  75\n",
      "C:\\Users\\Zhao.LJ\\Downloads\\20201229\\Book34_804_517560e7-84ad-4d51-8b33-6dcf40d2621f.log\n",
      "get shapes time  51\n",
      "C:\\Users\\Zhao.LJ\\Downloads\\20201229\\适合 1-2-3 2019主管护师1（协和医科大学出版社）（篇章节）_3020_c74df6ac-b333-48ba-99cc-18735b155bab.log\n",
      "get shapes time  104\n",
      "C:\\Users\\Zhao.LJ\\Downloads\\20201229\\适合 （效果不佳）纳税实务终审后（东北财经大学出版社）_2292_626745be-2843-4f18-8d61-ed9884879e3d.log\n",
      "get shapes time  76\n",
      "C:\\Users\\Zhao.LJ\\Downloads\\20201229\\适合_应用统计学定稿版1(华中科技大学出版社)(不含篇)_804_271c380a-1b9a-487c-9a4c-0d9297f21511.log\n",
      "get shapes time  85\n",
      "max zip time  104\n",
      "C:\\Users\\Zhao.LJ\\Downloads\\20201229\\适合 1-2-3 2019主管护师1（协和医科大学出版社）（篇章节）_3020_c74df6ac-b333-48ba-99cc-18735b155bab.log\n"
     ]
    }
   ],
   "source": [
    "traverse(r'C:\\Users\\Zhao.LJ\\Downloads\\20201229', 'Get All shapes Commands', 'Before Get All shapes Commands Count', 'After Get All shapes Commands Count')"
   ]
  },
  {
   "cell_type": "code",
   "execution_count": 14,
   "metadata": {},
   "outputs": [
    {
     "name": "stdout",
     "output_type": "stream",
     "text": [
      "C:\\Users\\Zhao.LJ\\Downloads\\20201229\\Book18_2292_5502dab9-6f40-4a15-a9dd-6c5a1bae0d4a.log\n",
      "get shapes time  2\n",
      "C:\\Users\\Zhao.LJ\\Downloads\\20201229\\Book20_2848_8681aee0-8e26-4a84-b0af-8728041b2535.log\n",
      "get shapes time  0\n",
      "C:\\Users\\Zhao.LJ\\Downloads\\20201229\\Book29_3020_3d73d6a6-4f2e-45e2-b4cc-7eb3db54833c.log\n",
      "get shapes time  3\n",
      "C:\\Users\\Zhao.LJ\\Downloads\\20201229\\Book30_804_350d72cf-f2d9-4fbc-b706-6268d267feb2.log\n",
      "get shapes time  2\n",
      "C:\\Users\\Zhao.LJ\\Downloads\\20201229\\Book34_2848_15cfb71f-0573-4b34-9e34-0ef7341d9e45.log\n",
      "get shapes time  4\n",
      "C:\\Users\\Zhao.LJ\\Downloads\\20201229\\适合 1-2-3 2019主管护师1（协和医科大学出版社）（篇章节）_2292_0283708c-2c6a-41fa-8923-b03ce52ebf84.log\n",
      "get shapes time  2\n",
      "C:\\Users\\Zhao.LJ\\Downloads\\20201229\\适合 （效果不佳）纳税实务终审后（东北财经大学出版社）_2848_912352ed-450c-4d17-bd11-a25a6d9e7d1a.log\n",
      "get shapes time  2\n",
      "C:\\Users\\Zhao.LJ\\Downloads\\20201229\\适合_应用统计学定稿版1(华中科技大学出版社)(不含篇)_3020_9aa5c5b6-3ae7-4247-b86c-8420a455febc.log\n",
      "get shapes time  3\n",
      "max zip time  4\n",
      "C:\\Users\\Zhao.LJ\\Downloads\\20201229\\Book34_2848_15cfb71f-0573-4b34-9e34-0ef7341d9e45.log\n"
     ]
    }
   ],
   "source": [
    "traverse(r'C:\\Users\\Zhao.LJ\\Downloads\\20201229', 'DocBook第六步', '拆分DocBook第五步', '拆分DocBook第六步')"
   ]
  },
  {
   "cell_type": "code",
   "execution_count": 22,
   "metadata": {},
   "outputs": [
    {
     "name": "stdout",
     "output_type": "stream",
     "text": [
      "<re.Match object; span=(0, 16), match='2020/8/7 8:48:10'>\n"
     ]
    }
   ],
   "source": [
    "regex_datetime = re.compile('\\\\d{4}/\\\\d{1,2}/\\\\d{1,2}[\\\\s]*\\\\d{1,2}:\\\\d{2}:\\\\d{2}')\n",
    "str1 = '2020/8/7 8:48:10  BOOKCLOUD-TEST0:Ces.OpenXML.Marker.Mar'\n",
    "first_datetime = regex_datetime.search(str1)\n",
    "print(first_datetime)"
   ]
  },
  {
   "cell_type": "code",
   "execution_count": null,
   "metadata": {},
   "outputs": [],
   "source": []
  }
 ],
 "metadata": {
  "kernelspec": {
   "display_name": "Python 3",
   "language": "python",
   "name": "python3"
  },
  "language_info": {
   "codemirror_mode": {
    "name": "ipython",
    "version": 3
   },
   "file_extension": ".py",
   "mimetype": "text/x-python",
   "name": "python",
   "nbconvert_exporter": "python",
   "pygments_lexer": "ipython3",
   "version": "3.7.1"
  }
 },
 "nbformat": 4,
 "nbformat_minor": 2
}
