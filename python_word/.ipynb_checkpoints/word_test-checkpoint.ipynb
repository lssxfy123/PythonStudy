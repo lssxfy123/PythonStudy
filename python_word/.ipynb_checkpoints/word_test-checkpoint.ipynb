{
 "cells": [
  {
   "cell_type": "code",
   "execution_count": 1,
   "metadata": {},
   "outputs": [],
   "source": [
    "from docx import Document\n",
    "from docx.shared import Inches"
   ]
  },
  {
   "cell_type": "code",
   "execution_count": 2,
   "metadata": {},
   "outputs": [],
   "source": [
    "document = Document(r'C:\\Users\\Zhao.LJ\\Desktop\\Word结构化稿件\\有问题\\2哈工大 结构力学.docx')"
   ]
  },
  {
   "cell_type": "code",
   "execution_count": 3,
   "metadata": {},
   "outputs": [
    {
     "name": "stdout",
     "output_type": "stream",
     "text": [
      "<class 'list'>\n"
     ]
    }
   ],
   "source": [
    "paras = document.paragraphs\n",
    "print(type(paras))"
   ]
  },
  {
   "cell_type": "code",
   "execution_count": 19,
   "metadata": {},
   "outputs": [
    {
     "name": "stdout",
     "output_type": "stream",
     "text": [
      "前\n",
      "\n",
      "本标准按照GB/T11一2009给出的规则起草：\n",
      "\n",
      "范围为土150。\n",
      "\n",
      "表1\n",
      "\n",
      "\n",
      "表2\n",
      "\n",
      "\n"
     ]
    }
   ],
   "source": [
    "for para in paras:\n",
    "    print(para.runs[0].text if len(para.runs) > 0 else \"\")\n",
    "    if len(para.runs) > 0:\n",
    "        para.runs[0].add_break()"
   ]
  },
  {
   "cell_type": "code",
   "execution_count": 20,
   "metadata": {},
   "outputs": [],
   "source": [
    "document.save(r'C:\\Users\\Zhao.LJ\\Desktop\\Word结构化稿件\\表格.docx')"
   ]
  },
  {
   "cell_type": "code",
   "execution_count": null,
   "metadata": {},
   "outputs": [],
   "source": []
  }
 ],
 "metadata": {
  "kernelspec": {
   "display_name": "Python 3",
   "language": "python",
   "name": "python3"
  },
  "language_info": {
   "codemirror_mode": {
    "name": "ipython",
    "version": 3
   },
   "file_extension": ".py",
   "mimetype": "text/x-python",
   "name": "python",
   "nbconvert_exporter": "python",
   "pygments_lexer": "ipython3",
   "version": "3.7.1"
  }
 },
 "nbformat": 4,
 "nbformat_minor": 2
}
