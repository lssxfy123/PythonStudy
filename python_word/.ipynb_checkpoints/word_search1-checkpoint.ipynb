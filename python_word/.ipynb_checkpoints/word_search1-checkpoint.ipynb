{
 "cells": [
  {
   "cell_type": "code",
   "execution_count": 7,
   "metadata": {},
   "outputs": [],
   "source": [
    "# Copyright(C) 2020 刘珅珅\n",
    "# Environment: python 3.7\n",
    "# Date: 2020.10.22\n",
    "# 所有doc文件转换docx\n",
    "import os\n",
    "import re\n",
    "import datetime"
   ]
  },
  {
   "cell_type": "code",
   "execution_count": 30,
   "metadata": {},
   "outputs": [],
   "source": [
    "def traverse(folder_path):\n",
    "    fs = os.listdir(folder_path)\n",
    "    delete_files = []\n",
    "    regex_datetime = re.compile('\\\\d{4}/\\\\d{1,2}/\\\\d{1,2}[\\\\s]*\\\\d{1,2}:\\\\d{2}:\\\\d{2}')\n",
    "    try:\n",
    "        for f in fs:\n",
    "            tmp_path = os.path.join(folder_path, f)\n",
    "            with open(tmp_path, 'r', encoding='utf-8') as file_obj:\n",
    "                lines = file_obj.readlines()\n",
    "                tmps = [line for line in lines if '开始bin文件转换' in line or '开始wmf文件转换' in line]\n",
    "                if len(tmps) > 0:\n",
    "                    delete_files.append(tmp_path)\n",
    "                else:\n",
    "                    tmps = [line for line in lines if '保存标引XML' in line and '保存标引XML，结束Build Paragraph' in line]\n",
    "                    if len(tmps) > 0:\n",
    "                        start = lines.index('保存标引XML\\n') - 1\n",
    "                        start_line = lines[start]\n",
    "                        first_datetime = regex_datetime.search(start_line).group()\n",
    "                        first_datetime = datetime.datetime.strptime(first_datetime, '%Y/%m/%d %H:%M:%S')\n",
    "                        end = lines.index('保存标引XML，结束Build Paragraph\\n') - 1\n",
    "                        end_line = lines[end]\n",
    "                        last_datetime = regex_datetime.search(end_line).group()\n",
    "                        last_datetime = datetime.datetime.strptime(last_datetime, '%Y/%m/%d %H:%M:%S')\n",
    "                        gap_time = last_datetime - first_datetime\n",
    "                        if gap_time.seconds >= 180:\n",
    "                            print(tmp_path)\n",
    "                        else:\n",
    "                            delete_files.append(tmp_path)\n",
    "                    else:\n",
    "                        delete_files.append(tmp_path)\n",
    "\n",
    "        [os.remove(file) for file in delete_files]\n",
    "    except Exception as e:\n",
    "        print(e)\n",
    "        pass"
   ]
  },
  {
   "cell_type": "code",
   "execution_count": 31,
   "metadata": {},
   "outputs": [
    {
     "name": "stdout",
     "output_type": "stream",
     "text": [
      "C:\\Users\\Zhao.LJ\\Downloads\\20200807\\Book12_2900_b0315b6a-d811-11ea-a547-fa163e7ec938.log\n",
      "C:\\Users\\Zhao.LJ\\Downloads\\20200807\\Book7_2868_e43755e0-d811-11ea-a547-fa163e7ec938.log\n",
      "C:\\Users\\Zhao.LJ\\Downloads\\20200807\\Book9_2756_e6a6b1b8-d811-11ea-a547-fa163e7ec938.log\n",
      "C:\\Users\\Zhao.LJ\\Downloads\\20200807\\适合_傅里叶变化及其在信息处理中的应用(哈尔滨工程大学出版社)(不含篇）_2868_4031abc5-d31c-406f-bb85-4c1ac4689114.log\n",
      "C:\\Users\\Zhao.LJ\\Downloads\\20200807\\适合_流体力学（哈尔滨工程大学出版社）(不含篇)_3044_0c2297c7-ee01-44f3-bf33-587a418486e9.log\n",
      "C:\\Users\\Zhao.LJ\\Downloads\\20200807\\适合_线性空间-正文(哈尔滨工程大学出版社)(不含篇)_2464_10d0febc-6905-4905-beb1-f7c81421a667.log\n",
      "C:\\Users\\Zhao.LJ\\Downloads\\20200807\\适合_高等统计物理学(哈尔滨工程大学出版社)(不含篇)教材_2756_986e7fe5-5b3f-43cc-a747-b7782c5737d4.log\n",
      "C:\\Users\\Zhao.LJ\\Downloads\\20200807\\适合_高频电子-正文(哈尔滨工程大学出版社)(不含篇)_2756_fa942892-689f-41bb-b996-9fd5e08e01f1.log\n",
      "C:\\Users\\Zhao.LJ\\Downloads\\20200807\\适合（答案部分不好）专升本数学教材10.8（沈阳姿兰）（章节）_3044_82695d44-cb5f-4a74-bcb7-ff6d70a17696.log\n",
      "C:\\Users\\Zhao.LJ\\Downloads\\20200807\\适合（答案部分不好）数学图书（沈阳姿兰）_2868_493b5f9c-d6cb-4beb-9913-c8a7edce0530.log\n"
     ]
    }
   ],
   "source": [
    "traverse(r'C:\\Users\\Zhao.LJ\\Downloads\\20200807')"
   ]
  },
  {
   "cell_type": "code",
   "execution_count": 22,
   "metadata": {},
   "outputs": [
    {
     "name": "stdout",
     "output_type": "stream",
     "text": [
      "<re.Match object; span=(0, 16), match='2020/8/7 8:48:10'>\n"
     ]
    }
   ],
   "source": [
    "regex_datetime = re.compile('\\\\d{4}/\\\\d{1,2}/\\\\d{1,2}[\\\\s]*\\\\d{1,2}:\\\\d{2}:\\\\d{2}')\n",
    "str1 = '2020/8/7 8:48:10  BOOKCLOUD-TEST0:Ces.OpenXML.Marker.Mar'\n",
    "first_datetime = regex_datetime.search(str1)\n",
    "print(first_datetime)"
   ]
  },
  {
   "cell_type": "code",
   "execution_count": null,
   "metadata": {},
   "outputs": [],
   "source": []
  }
 ],
 "metadata": {
  "kernelspec": {
   "display_name": "Python 3",
   "language": "python",
   "name": "python3"
  },
  "language_info": {
   "codemirror_mode": {
    "name": "ipython",
    "version": 3
   },
   "file_extension": ".py",
   "mimetype": "text/x-python",
   "name": "python",
   "nbconvert_exporter": "python",
   "pygments_lexer": "ipython3",
   "version": "3.7.1"
  }
 },
 "nbformat": 4,
 "nbformat_minor": 2
}
