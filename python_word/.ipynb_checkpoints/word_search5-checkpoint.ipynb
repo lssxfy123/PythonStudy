{
 "cells": [
  {
   "cell_type": "code",
   "execution_count": 13,
   "metadata": {},
   "outputs": [],
   "source": [
    "# Copyright(C) 2020 刘珅珅\n",
    "# Environment: python 3.7\n",
    "# Date: 2020.8.7\n",
    "# 所有doc文件转换docx\n",
    "import os\n",
    "import re\n",
    "import datetime\n",
    "import ftplib\n",
    "import config"
   ]
  },
  {
   "cell_type": "code",
   "execution_count": 14,
   "metadata": {},
   "outputs": [],
   "source": [
    "def ftp_connect():\n",
    "    ''' 连接ftp '''\n",
    "    ftp = ftplib.FTP()  \n",
    "    ftp.set_pasv(True)\n",
    "\n",
    "    try:\n",
    "        ftp.connect(config.FTP_SERVER,21)\n",
    "        print(ftp.welcome)\n",
    "    except (socket.error, socket.gaierror) as e:\n",
    "        print (\"Error: connect ftpserver '%s' failed! %s\") % (config.FTP_SERVER, e)\n",
    "        exit()\n",
    "\n",
    "    try:\n",
    "        ftp.login(config.FTP_USER,config.FTP_PWD)  \n",
    "        ftp.encoding = \"utf-8\"\n",
    "        print(\"ftp://{0} login successfully!\".format(config.FTP_SERVER))\n",
    "    except(ftplib.error_perm) as e:\n",
    "        print(\"Error: login failed, error code: {0}\".format(e))\n",
    "        exit()\n",
    "\n",
    "    return ftp"
   ]
  },
  {
   "cell_type": "code",
   "execution_count": 15,
   "metadata": {},
   "outputs": [],
   "source": [
    "def ftp_down(ftp, local_filepath, remote_filename):\n",
    "    if not os.path.exists(local_filepath):\n",
    "        os.mkdir(local_filepath)\n",
    "    buf_size = 1024\n",
    "    filename = os.path.basename(remote_filename)\n",
    "    dirname = os.path.dirname(remote_filename)\n",
    "    local_filename = local_filepath + '/' + filename\n",
    "    ftp.cwd(dirname)\n",
    "    ftp_list = ftp.nlst()\n",
    "    if filename in ftp_list:\n",
    "        if not os.path.exists(local_filename):\n",
    "            with open(local_filename, 'wb') as file_handler:\n",
    "                ftp.retrbinary('retr {0}'.format(filename), file_handler.write)\n",
    "            print(filename + \"下载成功\")\n",
    "\n",
    "    else:\n",
    "        print(filename + \" not exist\")"
   ]
  },
  {
   "cell_type": "code",
   "execution_count": 11,
   "metadata": {},
   "outputs": [],
   "source": [
    "def traverse(folder_path, targets):\n",
    "    fs = os.listdir(folder_path)\n",
    "    delete_files = []\n",
    "    regex_datetime = re.compile('\\\\d{4}/\\\\d{1,2}/\\\\d{1,2}[\\\\s]*\\\\d{1,2}:\\\\d{2}:\\\\d{2}')\n",
    "    ftp = ftp_connect()\n",
    "    try:\n",
    "        for f in fs:\n",
    "            tmp_path = os.path.join(folder_path, f)\n",
    "            with open(tmp_path, 'r', encoding='utf-8') as file_obj:\n",
    "                lines = file_obj.readlines()\n",
    "                tmps = [line for line in lines if '开始bin文件转换' in line or '开始wmf文件转换' in line]\n",
    "                if len(tmps) > 0:\n",
    "                    delete_files.append(tmp_path)\n",
    "                else:\n",
    "                    tmps = [line for line in lines for target in targets if target in line]\n",
    "                    if len(tmps) == 0:\n",
    "                        delete_files.append(tmp_path)\n",
    "                    else:\n",
    "                        \n",
    "\n",
    "        [os.remove(file) for file in delete_files]\n",
    "    except Exception as e:\n",
    "        print(e)\n",
    "        pass"
   ]
  },
  {
   "cell_type": "code",
   "execution_count": 12,
   "metadata": {},
   "outputs": [],
   "source": [
    "traverse(r'C:\\Users\\Zhao.LJ\\Downloads\\20200926', [\"log0\", \"log1\", \"log2\"])"
   ]
  },
  {
   "cell_type": "code",
   "execution_count": 7,
   "metadata": {},
   "outputs": [
    {
     "data": {
      "text/plain": [
       "['log0啊啊发放', 'log1aafa']"
      ]
     },
     "execution_count": 7,
     "metadata": {},
     "output_type": "execute_result"
    }
   ],
   "source": [
    "lines = [\"log0啊啊发放\", \"afafa\", \"log1aafa\"]\n",
    "targets = [\"log0\", \"log1\"]\n",
    "[line for line in lines for target in targets if target in line]"
   ]
  },
  {
   "cell_type": "code",
   "execution_count": null,
   "metadata": {},
   "outputs": [],
   "source": []
  }
 ],
 "metadata": {
  "kernelspec": {
   "display_name": "Python 3",
   "language": "python",
   "name": "python3"
  },
  "language_info": {
   "codemirror_mode": {
    "name": "ipython",
    "version": 3
   },
   "file_extension": ".py",
   "mimetype": "text/x-python",
   "name": "python",
   "nbconvert_exporter": "python",
   "pygments_lexer": "ipython3",
   "version": "3.7.1"
  }
 },
 "nbformat": 4,
 "nbformat_minor": 2
}
