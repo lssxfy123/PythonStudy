{
 "cells": [
  {
   "cell_type": "code",
   "execution_count": 1,
   "metadata": {},
   "outputs": [],
   "source": [
    "# Copyright(C) 2020 刘珅珅\n",
    "# Environment: python 3.7\n",
    "# Date: 2020.8.7\n",
    "# 所有doc文件转换docx\n",
    "import os\n",
    "import re\n",
    "import datetime"
   ]
  },
  {
   "cell_type": "code",
   "execution_count": 2,
   "metadata": {},
   "outputs": [],
   "source": [
    "def traverse(folder_path):\n",
    "    fs = os.listdir(folder_path)\n",
    "    delete_files = []\n",
    "    regex_datetime = re.compile('\\\\d{4}/\\\\d{1,2}/\\\\d{1,2}[\\\\s]*\\\\d{1,2}:\\\\d{2}:\\\\d{2}')\n",
    "    try:\n",
    "        for f in fs:\n",
    "            tmp_path = os.path.join(folder_path, f)\n",
    "            with open(tmp_path, 'r', encoding='utf-8') as file_obj:\n",
    "                lines = file_obj.readlines()\n",
    "                tmps = [line for line in lines if '开始bin文件转换' in line or '开始wmf文件转换' in line]\n",
    "                if len(tmps) > 0:\n",
    "                    delete_files.append(tmp_path)\n",
    "                else:\n",
    "                    tmps = [line for line in lines if re.match(regex_datetime, line)]\n",
    "                    if len(tmps) > 0:\n",
    "                        start_line = tmps[0]\n",
    "                        first_datetime = regex_datetime.search(start_line).group()\n",
    "                        first_datetime = datetime.datetime.strptime(first_datetime, '%Y/%m/%d %H:%M:%S')\n",
    "                        end_line = tmps[-1]\n",
    "                        last_datetime = regex_datetime.search(end_line).group()\n",
    "                        last_datetime = datetime.datetime.strptime(last_datetime, '%Y/%m/%d %H:%M:%S')\n",
    "                        gap_time = last_datetime - first_datetime\n",
    "                        if gap_time.seconds >= 1200:\n",
    "                            print(tmp_path, \"用时为：\" + str(gap_time.seconds))\n",
    "                        else:\n",
    "                            delete_files.append(tmp_path)\n",
    "                    else:\n",
    "                        delete_files.append(tmp_path)\n",
    "\n",
    "        [os.remove(file) for file in delete_files]\n",
    "    except Exception as e:\n",
    "        print(e)\n",
    "        pass"
   ]
  },
  {
   "cell_type": "code",
   "execution_count": 4,
   "metadata": {},
   "outputs": [
    {
     "name": "stdout",
     "output_type": "stream",
     "text": [
      "C:\\Users\\Zhao.LJ\\Downloads\\20200922\\Book10_2324_5cfe9760-fc37-11ea-90f3-fa163e7ec938.log 用时为：1509\n",
      "C:\\Users\\Zhao.LJ\\Downloads\\20200922\\Book10_620_1c985c82-9c8a-41f2-9ad9-324aab913b05.log 用时为：1290\n",
      "C:\\Users\\Zhao.LJ\\Downloads\\20200922\\Book30_2932_77c6b762-fc37-11ea-90f3-fa163e7ec938.log 用时为：1200\n",
      "C:\\Users\\Zhao.LJ\\Downloads\\20200922\\世界文化-19-048 原稿 终改_620_07c2cf40-7e1c-462c-ba92-84c38c911dfc.log 用时为：5150\n",
      "C:\\Users\\Zhao.LJ\\Downloads\\20200922\\世界文化-盐城七  核红分解正文_2716_871bb17c-d269-46bb-8bef-07ba6b81b024.log 用时为：3411\n",
      "C:\\Users\\Zhao.LJ\\Downloads\\20200922\\世界文化-语文上R_1_2896_93a3c6a7-3ca4-4fd0-8999-b99447d1223b.log 用时为：2835\n",
      "C:\\Users\\Zhao.LJ\\Downloads\\20200922\\傅里叶变化及其在信息处理中的应用_620_799a7197-424b-4284-8bd1-00b80c7faa1d.log 用时为：5212\n",
      "C:\\Users\\Zhao.LJ\\Downloads\\20200922\\适合 2-6-6 2019临床指导1 全（协和医科大学出版社）（篇章节）_2896_467067f2-c559-478c-8bc5-d2d53856bee1.log 用时为：1435\n",
      "C:\\Users\\Zhao.LJ\\Downloads\\20200922\\适合 第二篇 梁桥-采用（人民交通社）（篇章节）_620_67afdfad-eee1-4cfd-a1c7-75d41b3eef22.log 用时为：1322\n",
      "C:\\Users\\Zhao.LJ\\Downloads\\20200922\\适合_傅里叶变化及其在信息处理中的应用(哈尔滨工程大学出版社)(不含篇）_1884_dfcbeb8e-24a7-495b-9964-f9cf5cc91a23.log 用时为：4112\n",
      "C:\\Users\\Zhao.LJ\\Downloads\\20200922\\适合_高等统计物理学(哈尔滨工程大学出版社)(不含篇)教材_620_cd607cf7-258c-441d-a0fb-dd1565cff211.log 用时为：1918\n",
      "C:\\Users\\Zhao.LJ\\Downloads\\20200922\\适合（答案部分不好）专升本数学教材10.8（沈阳姿兰）（章节）_2896_47550868-5244-4b05-8ac8-bba219c3dee6.log 用时为：4876\n",
      "C:\\Users\\Zhao.LJ\\Downloads\\20200922\\适合（答案部分不好）数学图书（沈阳姿兰）_2716_76a9ef97-3f94-43e2-ab7e-4f114dfbe7dc.log 用时为：3489\n",
      "C:\\Users\\Zhao.LJ\\Downloads\\20200922\\适合（需预处理装饰图）重点-临床指导1 全（协和医科大学出版社）（篇章节）_2716_ca00495a-41d2-47c7-9253-9a9d173e89bd.log 用时为：1345\n",
      "C:\\Users\\Zhao.LJ\\Downloads\\20200922\\高等统计物理学-正文_2896_b1061f44-89f2-4e63-be3a-30844b25e748.log 用时为：1966\n",
      "C:\\Users\\Zhao.LJ\\Downloads\\20200922\\龙王庙专著汇总稿-终_2716_8b3ffd35-f586-4cf5-b3d1-e2afb08d7675.log 用时为：1222\n"
     ]
    }
   ],
   "source": [
    "traverse(r'C:\\Users\\Zhao.LJ\\Downloads\\20200922')"
   ]
  },
  {
   "cell_type": "code",
   "execution_count": 22,
   "metadata": {},
   "outputs": [
    {
     "name": "stdout",
     "output_type": "stream",
     "text": [
      "<re.Match object; span=(0, 16), match='2020/8/7 8:48:10'>\n"
     ]
    }
   ],
   "source": [
    "regex_datetime = re.compile('\\\\d{4}/\\\\d{1,2}/\\\\d{1,2}[\\\\s]*\\\\d{1,2}:\\\\d{2}:\\\\d{2}')\n",
    "str1 = '2020/8/7 8:48:10  BOOKCLOUD-TEST0:Ces.OpenXML.Marker.Mar'\n",
    "first_datetime = regex_datetime.search(str1)\n",
    "print(first_datetime)"
   ]
  },
  {
   "cell_type": "code",
   "execution_count": null,
   "metadata": {},
   "outputs": [],
   "source": []
  }
 ],
 "metadata": {
  "kernelspec": {
   "display_name": "Python 3",
   "language": "python",
   "name": "python3"
  },
  "language_info": {
   "codemirror_mode": {
    "name": "ipython",
    "version": 3
   },
   "file_extension": ".py",
   "mimetype": "text/x-python",
   "name": "python",
   "nbconvert_exporter": "python",
   "pygments_lexer": "ipython3",
   "version": "3.7.1"
  }
 },
 "nbformat": 4,
 "nbformat_minor": 2
}
