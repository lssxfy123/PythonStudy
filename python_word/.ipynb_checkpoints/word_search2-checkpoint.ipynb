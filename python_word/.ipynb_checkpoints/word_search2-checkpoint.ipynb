{
 "cells": [
  {
   "cell_type": "code",
   "execution_count": 2,
   "metadata": {},
   "outputs": [],
   "source": [
    "# Copyright(C) 2020 刘珅珅\n",
    "# Environment: python 3.7\n",
    "# Date: 2020.8.7\n",
    "# 所有doc文件转换docx\n",
    "import os\n",
    "import re\n",
    "import datetime"
   ]
  },
  {
   "cell_type": "code",
   "execution_count": 3,
   "metadata": {},
   "outputs": [],
   "source": [
    "def traverse(folder_path):\n",
    "    fs = os.listdir(folder_path)\n",
    "    delete_files = []\n",
    "    regex_datetime = re.compile('\\\\d{4}/\\\\d{1,2}/\\\\d{1,2}[\\\\s]*\\\\d{1,2}:\\\\d{2}:\\\\d{2}')\n",
    "    try:\n",
    "        for f in fs:\n",
    "            tmp_path = os.path.join(folder_path, f)\n",
    "            with open(tmp_path, 'r', encoding='utf-8') as file_obj:\n",
    "                lines = file_obj.readlines()\n",
    "                tmps = [line for line in lines if '开始bin文件转换' in line or '开始wmf文件转换' in line]\n",
    "                if len(tmps) > 0:\n",
    "                    delete_files.append(tmp_path)\n",
    "                else:\n",
    "                    tmps = [line for line in lines if re.match(regex_datetime, line)]\n",
    "                    if len(tmps) > 0:\n",
    "                        start_line = tmps[0]\n",
    "                        first_datetime = regex_datetime.search(start_line).group()\n",
    "                        first_datetime = datetime.datetime.strptime(first_datetime, '%Y/%m/%d %H:%M:%S')\n",
    "                        end_line = tmps[-1]\n",
    "                        last_datetime = regex_datetime.search(end_line).group()\n",
    "                        last_datetime = datetime.datetime.strptime(last_datetime, '%Y/%m/%d %H:%M:%S')\n",
    "                        gap_time = last_datetime - first_datetime\n",
    "                        if gap_time.seconds >= 1800:\n",
    "                            print(tmp_path)\n",
    "                        else:\n",
    "                            delete_files.append(tmp_path)\n",
    "                    else:\n",
    "                        delete_files.append(tmp_path)\n",
    "\n",
    "        [os.remove(file) for file in delete_files]\n",
    "    except Exception as e:\n",
    "        print(e)\n",
    "        pass"
   ]
  },
  {
   "cell_type": "code",
   "execution_count": 5,
   "metadata": {},
   "outputs": [
    {
     "name": "stdout",
     "output_type": "stream",
     "text": [
      "C:\\Users\\Zhao.LJ\\Downloads\\20200806\\Book7_2736_bceefc5a-d748-11ea-a547-fa163e7ec938.log\n",
      "C:\\Users\\Zhao.LJ\\Downloads\\20200806\\log.txt\n",
      "C:\\Users\\Zhao.LJ\\Downloads\\20200806\\适合 2-6-6 2019临床指导1 全（协和医科大学出版社）（篇章节）_2936_2cf501d5-59c1-48e4-b367-4b74f30896f0.log\n",
      "C:\\Users\\Zhao.LJ\\Downloads\\20200806\\适合 临床执业医师资格考试应试指导.2019年（协和医科大学出版社）（篇章节）_2736_1e867e18-fb88-402d-92db-6675a261e5aa.log\n",
      "C:\\Users\\Zhao.LJ\\Downloads\\20200806\\适合_傅里叶变化及其在信息处理中的应用(哈尔滨工程大学出版社)(不含篇）_2760_b2c7ac46-76af-4621-a35d-3c6d06e318dc.log\n",
      "C:\\Users\\Zhao.LJ\\Downloads\\20200806\\适合_高等统计物理学(哈尔滨工程大学出版社)(不含篇)教材_2936_275117a9-d26b-41eb-8a4a-9274084db71b.log\n",
      "C:\\Users\\Zhao.LJ\\Downloads\\20200806\\适合（答案部分不好）专升本数学教材10.8（沈阳姿兰）（章节）_2300_70b0580b-dc3d-4977-a34e-15f40060adc7.log\n",
      "C:\\Users\\Zhao.LJ\\Downloads\\20200806\\适合（答案部分不好）数学图书（沈阳姿兰）_2736_6c18f0c3-458c-4300-a8b8-2c0f28ce8ada.log\n",
      "C:\\Users\\Zhao.LJ\\Downloads\\20200806\\适合（需预处理装饰图）重点-临床指导1 全（协和医科大学出版社）（篇章节）_2736_cb0bca42-0866-4f4c-b5f2-5bdcd89f1a71.log\n"
     ]
    }
   ],
   "source": [
    "traverse(r'C:\\Users\\Zhao.LJ\\Downloads\\20200804')"
   ]
  },
  {
   "cell_type": "code",
   "execution_count": 22,
   "metadata": {},
   "outputs": [
    {
     "name": "stdout",
     "output_type": "stream",
     "text": [
      "<re.Match object; span=(0, 16), match='2020/8/7 8:48:10'>\n"
     ]
    }
   ],
   "source": [
    "regex_datetime = re.compile('\\\\d{4}/\\\\d{1,2}/\\\\d{1,2}[\\\\s]*\\\\d{1,2}:\\\\d{2}:\\\\d{2}')\n",
    "str1 = '2020/8/7 8:48:10  BOOKCLOUD-TEST0:Ces.OpenXML.Marker.Mar'\n",
    "first_datetime = regex_datetime.search(str1)\n",
    "print(first_datetime)"
   ]
  },
  {
   "cell_type": "code",
   "execution_count": null,
   "metadata": {},
   "outputs": [],
   "source": []
  }
 ],
 "metadata": {
  "kernelspec": {
   "display_name": "Python 3",
   "language": "python",
   "name": "python3"
  },
  "language_info": {
   "codemirror_mode": {
    "name": "ipython",
    "version": 3
   },
   "file_extension": ".py",
   "mimetype": "text/x-python",
   "name": "python",
   "nbconvert_exporter": "python",
   "pygments_lexer": "ipython3",
   "version": "3.7.1"
  }
 },
 "nbformat": 4,
 "nbformat_minor": 2
}
