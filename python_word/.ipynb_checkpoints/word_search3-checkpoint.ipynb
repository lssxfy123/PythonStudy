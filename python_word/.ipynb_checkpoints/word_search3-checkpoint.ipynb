{
 "cells": [
  {
   "cell_type": "code",
   "execution_count": 1,
   "metadata": {},
   "outputs": [],
   "source": [
    "# Copyright(C) 2020 刘珅珅\n",
    "# Environment: python 3.7\n",
    "# Date: 2020.8.7\n",
    "# 所有doc文件转换docx\n",
    "import os\n",
    "import re\n",
    "import datetime"
   ]
  },
  {
   "cell_type": "code",
   "execution_count": 2,
   "metadata": {},
   "outputs": [],
   "source": [
    "def traverse(folder_path):\n",
    "    fs = os.listdir(folder_path)\n",
    "    delete_files = []\n",
    "    regex_datetime = re.compile('\\\\d{4}/\\\\d{1,2}/\\\\d{1,2}[\\\\s]*\\\\d{1,2}:\\\\d{2}:\\\\d{2}')\n",
    "    try:\n",
    "        for f in fs:\n",
    "            tmp_path = os.path.join(folder_path, f)\n",
    "            with open(tmp_path, 'r', encoding='utf-8') as file_obj:\n",
    "                lines = file_obj.readlines()\n",
    "                tmps = [line for line in lines if '开始bin文件转换' in line or '开始wmf文件转换' in line]\n",
    "                if len(tmps) > 0:\n",
    "                    delete_files.append(tmp_path)\n",
    "\n",
    "        [os.remove(file) for file in delete_files]\n",
    "    except Exception as e:\n",
    "        print(e)\n",
    "        pass"
   ]
  },
  {
   "cell_type": "code",
   "execution_count": 3,
   "metadata": {},
   "outputs": [
    {
     "name": "stdout",
     "output_type": "stream",
     "text": [
      "C:\\Users\\Zhao.LJ\\Downloads\\20200814\\log.txt\n",
      "C:\\Users\\Zhao.LJ\\Downloads\\20200814\\适合 2-6-6 2019临床指导1 全（协和医科大学出版社）（篇章节）_2888_b728d960-6b31-4ab7-a534-a60bfa66b4ab.log\n",
      "C:\\Users\\Zhao.LJ\\Downloads\\20200814\\适合 临床执业医师资格考试应试指导.2019年（协和医科大学出版社）（篇章节）_2136_8a26553c-721c-4ea6-909a-b339402920a8.log\n",
      "C:\\Users\\Zhao.LJ\\Downloads\\20200814\\适合_傅里叶变化及其在信息处理中的应用(哈尔滨工程大学出版社)(不含篇）_2500_5d23c44f-6cb0-4df6-aded-6cd37b1e5a0b.log\n",
      "C:\\Users\\Zhao.LJ\\Downloads\\20200814\\适合_高等统计物理学(哈尔滨工程大学出版社)(不含篇)教材_2500_bb376f55-4fa4-4be1-953f-82816525dfba.log\n",
      "C:\\Users\\Zhao.LJ\\Downloads\\20200814\\适合（答案部分不好）专升本数学教材10.8（沈阳姿兰）（章节）_2888_a8080b87-872c-4ed7-8bea-6f1a1ed2a2d9.log\n",
      "C:\\Users\\Zhao.LJ\\Downloads\\20200814\\适合（答案部分不好）数学图书（沈阳姿兰）_2700_28fe4ff4-e563-48ee-ad97-6b3f6fa4bee8.log\n",
      "C:\\Users\\Zhao.LJ\\Downloads\\20200814\\适合（需预处理装饰图）重点-临床指导1 全（协和医科大学出版社）（篇章节）_2136_53ea4537-e6f5-4c48-848a-3ef4a4db8fea.log\n"
     ]
    }
   ],
   "source": [
    "traverse(r'C:\\Users\\Zhao.LJ\\Downloads\\20200818')"
   ]
  },
  {
   "cell_type": "code",
   "execution_count": 22,
   "metadata": {},
   "outputs": [
    {
     "name": "stdout",
     "output_type": "stream",
     "text": [
      "<re.Match object; span=(0, 16), match='2020/8/7 8:48:10'>\n"
     ]
    }
   ],
   "source": [
    "regex_datetime = re.compile('\\\\d{4}/\\\\d{1,2}/\\\\d{1,2}[\\\\s]*\\\\d{1,2}:\\\\d{2}:\\\\d{2}')\n",
    "str1 = '2020/8/7 8:48:10  BOOKCLOUD-TEST0:Ces.OpenXML.Marker.Mar'\n",
    "first_datetime = regex_datetime.search(str1)\n",
    "print(first_datetime)"
   ]
  },
  {
   "cell_type": "code",
   "execution_count": null,
   "metadata": {},
   "outputs": [],
   "source": []
  }
 ],
 "metadata": {
  "kernelspec": {
   "display_name": "Python 3",
   "language": "python",
   "name": "python3"
  },
  "language_info": {
   "codemirror_mode": {
    "name": "ipython",
    "version": 3
   },
   "file_extension": ".py",
   "mimetype": "text/x-python",
   "name": "python",
   "nbconvert_exporter": "python",
   "pygments_lexer": "ipython3",
   "version": "3.7.1"
  }
 },
 "nbformat": 4,
 "nbformat_minor": 2
}
