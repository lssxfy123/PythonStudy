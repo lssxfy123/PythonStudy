{
 "cells": [
  {
   "cell_type": "code",
   "execution_count": 6,
   "metadata": {
    "scrolled": true
   },
   "outputs": [],
   "source": [
    "all_list = ['gu','qiao','qian','qve','ge','gang','ga','lian','liao','rou','zong',\\\n",
    "    'tu','seng','yve','ti','te','jve','ta','nong','zhang','fan','ma','gua','die','gui',\\\n",
    "    'guo','gun','sang','diu','zi','ze','za','chen','zu','ba','dian','diao','nei','suo',\\\n",
    "    'sun','zhao','sui','kuo','kun','kui','cao','zuan','kua','den','lei','neng','men',\\\n",
    "    'mei','tiao','geng','chang','cha','che','fen','chi','fei','chu','shui','me','tuan',\\\n",
    "    'mo','mi','mu','dei','cai','zhan','zhai','can','ning','wang','pie','beng','zhuang',\\\n",
    "    'tan','tao','tai','song','ping','hou','cuan','lan','lao','fu','fa','jiong','mai',\\\n",
    "    'xiang','mao','man','a','jiang','zun','bing','su','si','sa','se','ding','xuan',\\\n",
    "    'zei','zen','kong','pang','jie','jia','jin','lo','lai','li','peng','jiu','yi','yo',\\\n",
    "    'ya','cen','dan','dao','ye','dai','zhen','bang','nou','yu','weng','en','ei','kang',\\\n",
    "    'dia','er','ru','keng','re','ren','gou','ri','tian','qi','shua','shun','shuo','qun',\\\n",
    "    'yun','xun','fiao','zan','zao','rang','xi','yong','zai','guan','guai','dong','kuai',\\\n",
    "    'ying','kuan','xu','xia','xie','yin','rong','xin','tou','nian','niao','xiu','fo',\\\n",
    "    'kou','niang','hua','hun','huo','hui','shuan','quan','shuai','chong','bei','ben',\\\n",
    "    'kuang','dang','sai','ang','sao','san','reng','ran','rao','ming','tei','lie','lia',\\\n",
    "    'min','pa','lin','mian','mie','liu','zou','miu','nen','kai','kao','kan','ka','ke',\\\n",
    "    'yang','ku','deng','dou','shou','chuang','nang','feng','meng','cheng','di','de','da',\\\n",
    "    'bao','gei','du','gen','qu','shu','sha','she','ban','shi','bai','nun','nuo','sen','lve',\\\n",
    "    'kei','fang','teng','xve','lun','luo','ken','wa','wo','ju','tui','wu','le','ji','huang',\\\n",
    "    'tuo','cou','la','mang','ci','tun','tong','ca','pou','ce','gong','cu','lv','dun','pu',\\\n",
    "    'ting','qie','yao','lu','pi','po','suan','chua','chun','chan','chui','gao','gan','zeng',\\\n",
    "    'gai','xiong','tang','pian','piao','cang','heng','xian','xiao','bian','biao','zhua','duan',\\\n",
    "    'cong','zhui','zhuo','zhun','hong','shuang','juan','zhei','pai','shai','shan','shao','pan',\\\n",
    "    'pao','nin','hang','nie','zhuai','zhuan','yuan','niu','na','miao','guang','ne','hai','han',\\\n",
    "    'hao','wei','wen','ruan','cuo','cun','cui','bin','bie','mou','nve','shen','shei','fou','xing',\\\n",
    "    'qiang','nuan','pen','pei','rui','run','ruo','sheng','dui','bo','bi','bu','chuan','qing',\\\n",
    "    'chuai','duo','o','chou','ou','zui','luan','zuo','jian','jiao','sou','wan','jing','qiong',\\\n",
    "    'wai','long','yan','liang','lou','huan','hen','hei','huai','shang','jun','hu','ling','ha','he',\\\n",
    "    'zhu','ceng','zha','zhe','zhi','qin','pin','ai','chai','qia','chao','ao','an','qiu','ni','zhong',\\\n",
    "    'zang','nai','nan','nao','chuo','tie','you','nu','nv','zheng','leng','zhou','lang','e','jue','xue',\\\n",
    "    'yue','eng','lue','nue','que','rua']\n",
    "__removetone_dict = {\n",
    "    'ā': 'a',\n",
    "    'á': 'a',\n",
    "    'ǎ': 'a',\n",
    "    'à': 'a',\n",
    "    'ē': 'e',\n",
    "    'é': 'e',\n",
    "    'ě': 'e',\n",
    "    'è': 'e',\n",
    "    'ī': 'i',\n",
    "    'í': 'i',\n",
    "    'ǐ': 'i',\n",
    "    'ì': 'i',\n",
    "    'ō': 'o',\n",
    "    'ó': 'o',\n",
    "    'ǒ': 'o',\n",
    "    'ò': 'o',\n",
    "    'ū': 'u',\n",
    "    'ú': 'u',\n",
    "    'ǔ': 'u',\n",
    "    'ù': 'u',\n",
    "    'ü': 'v',\n",
    "    'ǖ': 'v',\n",
    "    'ǘ': 'v',\n",
    "    'ǚ': 'v',\n",
    "    'ǜ': 'v',\n",
    "    'ń': 'n',\n",
    "    'ň': 'n',\n",
    "    '': 'm',\n",
    "}\n",
    "__pinyin = set(all_list)\n",
    "\n",
    "def all_pinyin():\n",
    "    for _ in __pinyin:\n",
    "        yield _\n",
    "    print(\"pinyin done!\")\n",
    "\n",
    "def remove_tone(one_py):\n",
    "    \"\"\" 删除拼音中的音调\n",
    "    lǔ -> lu\n",
    "    \"\"\"\n",
    "    one_py = as_text(one_py)\n",
    "    r = as_text('')\n",
    "    for c in one_py:\n",
    "        if c in __removetone_dict:\n",
    "            r += __removetone_dict[c]\n",
    "        else:\n",
    "            r += c\n",
    "    return r\n",
    "\n",
    "def as_text(v):  ## 生成unicode字符串\n",
    "    if v is None:\n",
    "        return None\n",
    "    elif isinstance(v, bytes):\n",
    "        return v.decode('utf-8', errors='ignore')\n",
    "    elif isinstance(v, str):\n",
    "        return v\n",
    "    else:\n",
    "        raise ValueError('Unknown type %r' % type(v))\n",
    "        \n",
    "def py_result(result_list):\n",
    "    print(\"result: \", result_list)\n",
    "    for item in range(0,len(result_list)):\n",
    "        item_list = list(result_list[item])\n",
    "        num_list, res_list, num = [], [], 0\n",
    "        for i in range(0, len(item_list)):\n",
    "            one_py = item_list[i]\n",
    "            num_list.append(one_py in __removetone_dict)\n",
    "            if one_py in __removetone_dict:\n",
    "                res_list.append(\"%s、\" % one_py)\n",
    "                num += 1\n",
    "            else:\n",
    "                res_list.append(\"%s\" % one_py)\n",
    "        if num > 1:\n",
    "            py_ok = ' '.join(''.join(res_list).split(\"、\")[:-2])\n",
    "            py_end_ok = ''.join(''.join(res_list).split(\"、\")[-2:])\n",
    "            py_res = \"%s %s\"%(py_ok, py_end_ok)\n",
    "            result_list[item] = py_res\n",
    "\n",
    "def get_split_py(text):\n",
    "    result_list = []\n",
    "    py_text = remove_tone(text)\n",
    "\n",
    "    def get_py(y):\n",
    "        py_list = []\n",
    "        for i in range(y, len(py_text) + 1):\n",
    "            if y == 1:\n",
    "                y = y - 1\n",
    "            nr = py_text[y:i]\n",
    "            y_nr = text[y:i]\n",
    "            print(nr, y_nr)\n",
    "            if nr.startswith(\"'\"):\n",
    "                nr = nr.strip(\"'\")\n",
    "            tmp3 = all_pinyin()\n",
    "            \n",
    "            if nr in tmp3:\n",
    "                #print(\"tmp3: \", next(tmp3))\n",
    "                py_list.append([y_nr,y,i])\n",
    "        if len(py_list) == 0:\n",
    "            return \"\"\n",
    "        result = py_list[-1][0]\n",
    "        print(py_list)\n",
    "\n",
    "        if py_list[-1][2] < len(text) and len(py_list) > 1:\n",
    "            nr = py_text[py_list[-1][2]-1:py_list[-1][2]+1]\n",
    "            anr = py_text[py_list[-1][2]:py_list[-1][2]+2]\n",
    "            # print(\"nr: \", nr)\n",
    "            tmp1 = all_pinyin()\n",
    "            #print(\"tmp1\", next(tmp1))\n",
    "            tmp2 = all_pinyin()\n",
    "            #print(\"tmp2\", next(tmp2))\n",
    "            if nr in tmp1 and anr not in tmp2:\n",
    "                result = py_list[-2][0]\n",
    "        return result\n",
    "\n",
    "    py_str = get_py(1)\n",
    "    while len(py_str) > 0:\n",
    "        result_list.append(py_str)\n",
    "        num = len(''.join(result_list))\n",
    "        if num < len(text):\n",
    "            py_str = get_py(num)\n",
    "        else:\n",
    "            py_result(result_list)\n",
    "            break\n",
    "    print(result_list)\n",
    "    return ' '.join(result_list)"
   ]
  },
  {
   "cell_type": "code",
   "execution_count": 2,
   "metadata": {},
   "outputs": [
    {
     "name": "stdout",
     "output_type": "stream",
     "text": [
      "z z\n",
      "pinyin done!\n",
      "zh zh\n",
      "pinyin done!\n",
      "zhu zhu\n",
      "zhua zhua\n",
      "zhuan zhuan\n",
      "zhuang zhuang\n",
      "[['zhu', 0, 3], ['zhua', 0, 4], ['zhuan', 0, 5], ['zhuang', 0, 6]]\n",
      "result:  ['zhuang']\n",
      "原拼音：zhuang\n",
      ", 拆分后的拼音：zhuang\n"
     ]
    }
   ],
   "source": [
    "strs = \"zhuang\"\n",
    "print(\"原拼音：{0}\\n, 拆分后的拼音：{1}\".format(strs, get_split_py(strs)))"
   ]
  },
  {
   "cell_type": "code",
   "execution_count": 20,
   "metadata": {},
   "outputs": [
    {
     "name": "stdout",
     "output_type": "stream",
     "text": [
      "[['né', 0, 2], ['nén', 0, 3], ['néng', 0, 4]]\n",
      "nr:  gg\n",
      "[['gòu', 4, 7]]\n",
      "[['gē', 7, 9], ['gēn', 7, 10]]\n",
      "nr:  nj\n",
      "[['jù', 10, 12]]\n",
      "[['cí', 12, 14]]\n",
      "[['zǔ', 14, 16]]\n",
      "[['zhì', 16, 19]]\n",
      "[['né', 19, 21], ['nén', 19, 22], ['néng', 19, 23]]\n",
      "nr:  gs\n",
      "[['shí', 23, 26]]\n",
      "[['bi', 26, 28], ['bié', 26, 29]]\n",
      "nr:  ed\n",
      "[['du', 29, 31], ['duō', 29, 32]]\n",
      "nr:  oy\n",
      "[['yī', 32, 34], ['yīn', 32, 35]]\n",
      "nr:  nz\n",
      "[['zì', 35, 37]]\n",
      "result:  ['néng', 'gòu', 'gēn', 'jù', 'cí', 'zǔ', 'zhì', 'néng', 'shí', 'bié', 'duō', 'yīn', 'zì']\n",
      "原拼音：nénggòugēnjùcízǔzhìnéngshíbiéduōyīnzì\n",
      ", 拆分后的拼音：néng gòu gēn jù cí zǔ zhì néng shí bié duō yīn zì\n"
     ]
    }
   ],
   "source": [
    "strs = \"nénggòugēnjùcízǔzhìnéngshíbiéduōyīnzì\"\n",
    "print(\"原拼音：{0}\\n, 拆分后的拼音：{1}\".format(strs, get_split_py(strs)))"
   ]
  },
  {
   "cell_type": "code",
   "execution_count": 12,
   "metadata": {},
   "outputs": [
    {
     "name": "stdout",
     "output_type": "stream",
     "text": [
      "tmp3:  rua\n",
      "tmp3:  ting\n",
      "tmp3:  bai\n",
      "tmp3:  ca\n",
      "[['zhu', 0, 3], ['zhua', 0, 4], ['zhuan', 0, 5], ['zhuang', 0, 6]]\n",
      "nr:  gb\n",
      "tmp1 hou\n",
      "tmp2 hou\n",
      "tmp3:  za\n",
      "[['bi', 6, 8]]\n",
      "result:  ['zhuang', 'bi']\n",
      "原拼音：zhuangbi\n",
      ", 拆分后的拼音：zhuang bi\n"
     ]
    }
   ],
   "source": [
    "strs = \"zhuangbi\"\n",
    "print(\"原拼音：{0}\\n, 拆分后的拼音：{1}\".format(strs, get_split_py(strs)))"
   ]
  },
  {
   "cell_type": "code",
   "execution_count": 7,
   "metadata": {},
   "outputs": [
    {
     "name": "stdout",
     "output_type": "stream",
     "text": [
      "x x\n",
      "pinyin done!\n",
      "xi xī\n",
      "xia xīā\n",
      "xian xīān\n",
      "[['xī', 0, 2], ['xīā', 0, 3], ['xīān', 0, 4]]\n",
      "result:  ['xīān']\n",
      "['xī ān']\n",
      "原拼音：xīān\n",
      ", 拆分后的拼音：xī ān\n"
     ]
    }
   ],
   "source": [
    "strs = \"xīān\"\n",
    "print(\"原拼音：{0}\\n, 拆分后的拼音：{1}\".format(strs, get_split_py(strs)))"
   ]
  },
  {
   "cell_type": "code",
   "execution_count": 4,
   "metadata": {},
   "outputs": [
    {
     "data": {
      "text/plain": [
       "'xīān'"
      ]
     },
     "execution_count": 4,
     "metadata": {},
     "output_type": "execute_result"
    }
   ],
   "source": [
    "str1 = \"xīān\"\n",
    "if str1.endswith(\"'\"):\n",
    "    print(\"ok\")\n",
    "str1.lstrip(\"'\")"
   ]
  },
  {
   "cell_type": "code",
   "execution_count": null,
   "metadata": {},
   "outputs": [],
   "source": []
  }
 ],
 "metadata": {
  "kernelspec": {
   "display_name": "Python 3",
   "language": "python",
   "name": "python3"
  },
  "language_info": {
   "codemirror_mode": {
    "name": "ipython",
    "version": 3
   },
   "file_extension": ".py",
   "mimetype": "text/x-python",
   "name": "python",
   "nbconvert_exporter": "python",
   "pygments_lexer": "ipython3",
   "version": "3.7.1"
  }
 },
 "nbformat": 4,
 "nbformat_minor": 2
}
