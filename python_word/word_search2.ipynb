{
 "cells": [
  {
   "cell_type": "code",
   "execution_count": 1,
   "metadata": {},
   "outputs": [],
   "source": [
    "# Copyright(C) 2020 刘珅珅\n",
    "# Environment: python 3.7\n",
    "# Date: 2020.8.7\n",
    "# 所有doc文件转换docx\n",
    "import os\n",
    "import re\n",
    "import datetime"
   ]
  },
  {
   "cell_type": "code",
   "execution_count": 2,
   "metadata": {},
   "outputs": [],
   "source": [
    "def traverse(folder_path):\n",
    "    fs = os.listdir(folder_path)\n",
    "    delete_files = []\n",
    "    regex_datetime = re.compile('\\\\d{4}/\\\\d{1,2}/\\\\d{1,2}[\\\\s]*\\\\d{1,2}:\\\\d{2}:\\\\d{2}')\n",
    "    try:\n",
    "        for f in fs:\n",
    "            tmp_path = os.path.join(folder_path, f)\n",
    "            with open(tmp_path, 'r', encoding='utf-8') as file_obj:\n",
    "                lines = file_obj.readlines()\n",
    "                tmps = [line for line in lines if '开始bin文件转换' in line or '开始wmf文件转换' in line]\n",
    "                if len(tmps) > 0:\n",
    "                    delete_files.append(tmp_path)\n",
    "                else:\n",
    "                    tmps = [line for line in lines if re.match(regex_datetime, line)]\n",
    "                    if len(tmps) > 0:\n",
    "                        start_line = tmps[0]\n",
    "                        first_datetime = regex_datetime.search(start_line).group()\n",
    "                        first_datetime = datetime.datetime.strptime(first_datetime, '%Y/%m/%d %H:%M:%S')\n",
    "                        end_line = tmps[-1]\n",
    "                        last_datetime = regex_datetime.search(end_line).group()\n",
    "                        last_datetime = datetime.datetime.strptime(last_datetime, '%Y/%m/%d %H:%M:%S')\n",
    "                        gap_time = last_datetime - first_datetime\n",
    "                        if gap_time.seconds >= 1200:\n",
    "                            print(tmp_path)\n",
    "                        else:\n",
    "                            delete_files.append(tmp_path)\n",
    "                    else:\n",
    "                        delete_files.append(tmp_path)\n",
    "\n",
    "        [os.remove(file) for file in delete_files]\n",
    "    except Exception as e:\n",
    "        print(e)\n",
    "        pass"
   ]
  },
  {
   "cell_type": "code",
   "execution_count": 4,
   "metadata": {},
   "outputs": [
    {
     "name": "stdout",
     "output_type": "stream",
     "text": [
      "C:\\Users\\Zhao.LJ\\Downloads\\20200827\\Book10_2372_287a2612-e7c9-11ea-a547-fa163e7ec938.log\n",
      "C:\\Users\\Zhao.LJ\\Downloads\\20200827\\log.txt\n",
      "C:\\Users\\Zhao.LJ\\Downloads\\20200827\\世界文化-19-048 原稿 终改_2276_bb94225e-2a51-4463-879b-39d6370c3f82.log\n",
      "C:\\Users\\Zhao.LJ\\Downloads\\20200827\\世界文化-盐城七  核红分解正文_2668_3177939f-f30a-4d75-8b7b-23d66baf15fb.log\n",
      "C:\\Users\\Zhao.LJ\\Downloads\\20200827\\世界文化-语文上R_1_2800_fbc6cca1-81b7-41c9-800d-56a9a64754dc.log\n",
      "C:\\Users\\Zhao.LJ\\Downloads\\20200827\\傅里叶变化及其在信息处理中的应用_3000_241ab965-bdd1-4039-88b8-1ed7e4ead5a5.log\n",
      "C:\\Users\\Zhao.LJ\\Downloads\\20200827\\江苏通典-浙教八下答案_2800_83657de7-811c-4ae2-8eb2-f7ec3c51cc28.log\n",
      "C:\\Users\\Zhao.LJ\\Downloads\\20200827\\适合 2-6-6 2019临床指导1 全（协和医科大学出版社）（篇章节）_2800_4bca6c1b-8df6-41be-a1f6-b66274152a5e.log\n",
      "C:\\Users\\Zhao.LJ\\Downloads\\20200827\\适合_傅里叶变化及其在信息处理中的应用(哈尔滨工程大学出版社)(不含篇）_2276_211558bd-2619-4394-b745-cb8dc8e852da.log\n",
      "C:\\Users\\Zhao.LJ\\Downloads\\20200827\\适合_高等统计物理学(哈尔滨工程大学出版社)(不含篇)教材_2668_ce853775-cf3d-4c77-ae1c-2b2f316aa518.log\n",
      "C:\\Users\\Zhao.LJ\\Downloads\\20200827\\适合（答案部分不好）专升本数学教材10.8（沈阳姿兰）（章节）_2276_577575d9-dfde-42f3-b804-fbbae43fc19e.log\n",
      "C:\\Users\\Zhao.LJ\\Downloads\\20200827\\适合（答案部分不好）数学图书（沈阳姿兰）_2800_c04b724e-63a7-4a44-bd6c-95469c898dfe.log\n",
      "C:\\Users\\Zhao.LJ\\Downloads\\20200827\\适合（需预处理装饰图）重点-临床指导1 全（协和医科大学出版社）（篇章节）_3000_7e99afec-ddd5-463a-bd21-bf72e9db6c4d.log\n",
      "C:\\Users\\Zhao.LJ\\Downloads\\20200827\\道路材料应用技术(2017.6.13)_2800_e2676065-33cc-4215-b24f-3456a98e45df.log\n",
      "C:\\Users\\Zhao.LJ\\Downloads\\20200827\\高等统计物理学-正文_2668_e48caa78-4c8a-48c4-8756-195d4c606755.log\n",
      "C:\\Users\\Zhao.LJ\\Downloads\\20200827\\龙王庙专著汇总稿-终_2800_4a560d1c-eeb5-402e-a0ff-cc65cc4fe046.log\n"
     ]
    }
   ],
   "source": [
    "traverse(r'C:\\Users\\Zhao.LJ\\Downloads\\20200827')"
   ]
  },
  {
   "cell_type": "code",
   "execution_count": 22,
   "metadata": {},
   "outputs": [
    {
     "name": "stdout",
     "output_type": "stream",
     "text": [
      "<re.Match object; span=(0, 16), match='2020/8/7 8:48:10'>\n"
     ]
    }
   ],
   "source": [
    "regex_datetime = re.compile('\\\\d{4}/\\\\d{1,2}/\\\\d{1,2}[\\\\s]*\\\\d{1,2}:\\\\d{2}:\\\\d{2}')\n",
    "str1 = '2020/8/7 8:48:10  BOOKCLOUD-TEST0:Ces.OpenXML.Marker.Mar'\n",
    "first_datetime = regex_datetime.search(str1)\n",
    "print(first_datetime)"
   ]
  },
  {
   "cell_type": "code",
   "execution_count": null,
   "metadata": {},
   "outputs": [],
   "source": []
  }
 ],
 "metadata": {
  "kernelspec": {
   "display_name": "Python 3",
   "language": "python",
   "name": "python3"
  },
  "language_info": {
   "codemirror_mode": {
    "name": "ipython",
    "version": 3
   },
   "file_extension": ".py",
   "mimetype": "text/x-python",
   "name": "python",
   "nbconvert_exporter": "python",
   "pygments_lexer": "ipython3",
   "version": "3.7.1"
  }
 },
 "nbformat": 4,
 "nbformat_minor": 2
}
