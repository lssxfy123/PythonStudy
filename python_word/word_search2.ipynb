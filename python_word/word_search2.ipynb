{
 "cells": [
  {
   "cell_type": "code",
   "execution_count": 1,
   "metadata": {},
   "outputs": [],
   "source": [
    "# Copyright(C) 2020 刘珅珅\n",
    "# Environment: python 3.7\n",
    "# Date: 2020.8.7\n",
    "# 所有doc文件转换docx\n",
    "import os\n",
    "import re\n",
    "import datetime"
   ]
  },
  {
   "cell_type": "code",
   "execution_count": 2,
   "metadata": {},
   "outputs": [],
   "source": [
    "def traverse(folder_path):\n",
    "    fs = os.listdir(folder_path)\n",
    "    delete_files = []\n",
    "    regex_datetime = re.compile('\\\\d{4}/\\\\d{1,2}/\\\\d{1,2}[\\\\s]*\\\\d{1,2}:\\\\d{2}:\\\\d{2}')\n",
    "    try:\n",
    "        for f in fs:\n",
    "            tmp_path = os.path.join(folder_path, f)\n",
    "            with open(tmp_path, 'r', encoding='utf-8') as file_obj:\n",
    "                lines = file_obj.readlines()\n",
    "                tmps = [line for line in lines if '开始bin文件转换' in line or '开始wmf文件转换' in line]\n",
    "                if len(tmps) > 0:\n",
    "                    delete_files.append(tmp_path)\n",
    "                else:\n",
    "                    tmps = [line for line in lines if re.match(regex_datetime, line)]\n",
    "                    if len(tmps) > 0:\n",
    "                        start_line = tmps[0]\n",
    "                        first_datetime = regex_datetime.search(start_line).group()\n",
    "                        first_datetime = datetime.datetime.strptime(first_datetime, '%Y/%m/%d %H:%M:%S')\n",
    "                        end_line = tmps[-1]\n",
    "                        last_datetime = regex_datetime.search(end_line).group()\n",
    "                        last_datetime = datetime.datetime.strptime(last_datetime, '%Y/%m/%d %H:%M:%S')\n",
    "                        gap_time = last_datetime - first_datetime\n",
    "                        if gap_time.seconds >= 1200:\n",
    "                            print(tmp_path)\n",
    "                        else:\n",
    "                            delete_files.append(tmp_path)\n",
    "                    else:\n",
    "                        delete_files.append(tmp_path)\n",
    "\n",
    "        [os.remove(file) for file in delete_files]\n",
    "    except Exception as e:\n",
    "        print(e)\n",
    "        pass"
   ]
  },
  {
   "cell_type": "code",
   "execution_count": 3,
   "metadata": {},
   "outputs": [
    {
     "name": "stdout",
     "output_type": "stream",
     "text": [
      "C:\\Users\\Zhao.LJ\\Downloads\\20200821\\Book10_292_141a708e-e312-11ea-a547-fa163e7ec938.log\n",
      "C:\\Users\\Zhao.LJ\\Downloads\\20200821\\log.txt\n",
      "C:\\Users\\Zhao.LJ\\Downloads\\20200821\\傅里叶变化及其在信息处理中的应用_2756_5c68d885-fedb-49cc-a43e-8d58744b96c9.log\n",
      "C:\\Users\\Zhao.LJ\\Downloads\\20200821\\适合 2-6-6 2019临床指导1 全（协和医科大学出版社）（篇章节）_2756_ee263a03-d817-4c39-9fb9-28cd9e18f220.log\n",
      "C:\\Users\\Zhao.LJ\\Downloads\\20200821\\适合 临床执业医师资格考试应试指导.2019年（协和医科大学出版社）（篇章节）_2312_59eccf86-dde6-4718-bf9b-f6a86123b6a5.log\n",
      "C:\\Users\\Zhao.LJ\\Downloads\\20200821\\适合 第二篇 梁桥-采用（人民交通社）（篇章节）_2168_c96bc76f-8d9d-4073-b2dc-aa1a55ac04d9.log\n",
      "C:\\Users\\Zhao.LJ\\Downloads\\20200821\\适合_傅里叶变化及其在信息处理中的应用(哈尔滨工程大学出版社)(不含篇）_2952_29160f72-21ef-46f5-bcf1-178e8af4a010.log\n",
      "C:\\Users\\Zhao.LJ\\Downloads\\20200821\\适合_高等统计物理学(哈尔滨工程大学出版社)(不含篇)教材_2168_6535e66c-af4a-4548-a67b-50c77f17dc99.log\n",
      "C:\\Users\\Zhao.LJ\\Downloads\\20200821\\适合（答案部分不好）专升本数学教材10.8（沈阳姿兰）（章节）_2312_acb97d00-a5d8-4957-8c5c-e1cf07941e25.log\n",
      "C:\\Users\\Zhao.LJ\\Downloads\\20200821\\适合（答案部分不好）数学图书（沈阳姿兰）_2952_b3424dca-c093-4fba-a7eb-242dbf4b48e5.log\n",
      "C:\\Users\\Zhao.LJ\\Downloads\\20200821\\适合（需预处理装饰图）重点-临床指导1 全（协和医科大学出版社）（篇章节）_2756_2180a6f3-80d1-4adf-aae3-4c5b04084fde.log\n",
      "C:\\Users\\Zhao.LJ\\Downloads\\20200821\\道路材料应用技术(2017.6.13)_2168_958efd61-cb99-4c71-8c7f-96bcc07027cc.log\n",
      "C:\\Users\\Zhao.LJ\\Downloads\\20200821\\高等统计物理学-正文_2952_8ae71d1b-f7bc-4c92-a769-7e88d95640c5.log\n"
     ]
    }
   ],
   "source": [
    "traverse(r'C:\\Users\\Zhao.LJ\\Downloads\\20200821')"
   ]
  },
  {
   "cell_type": "code",
   "execution_count": 22,
   "metadata": {},
   "outputs": [
    {
     "name": "stdout",
     "output_type": "stream",
     "text": [
      "<re.Match object; span=(0, 16), match='2020/8/7 8:48:10'>\n"
     ]
    }
   ],
   "source": [
    "regex_datetime = re.compile('\\\\d{4}/\\\\d{1,2}/\\\\d{1,2}[\\\\s]*\\\\d{1,2}:\\\\d{2}:\\\\d{2}')\n",
    "str1 = '2020/8/7 8:48:10  BOOKCLOUD-TEST0:Ces.OpenXML.Marker.Mar'\n",
    "first_datetime = regex_datetime.search(str1)\n",
    "print(first_datetime)"
   ]
  },
  {
   "cell_type": "code",
   "execution_count": null,
   "metadata": {},
   "outputs": [],
   "source": []
  }
 ],
 "metadata": {
  "kernelspec": {
   "display_name": "Python 3",
   "language": "python",
   "name": "python3"
  },
  "language_info": {
   "codemirror_mode": {
    "name": "ipython",
    "version": 3
   },
   "file_extension": ".py",
   "mimetype": "text/x-python",
   "name": "python",
   "nbconvert_exporter": "python",
   "pygments_lexer": "ipython3",
   "version": "3.7.1"
  }
 },
 "nbformat": 4,
 "nbformat_minor": 2
}
