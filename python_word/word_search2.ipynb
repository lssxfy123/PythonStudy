{
 "cells": [
  {
   "cell_type": "code",
   "execution_count": 1,
   "metadata": {},
   "outputs": [],
   "source": [
    "# Copyright(C) 2020 刘珅珅\n",
    "# Environment: python 3.7\n",
    "# Date: 2020.8.7\n",
    "# 所有doc文件转换docx\n",
    "import os\n",
    "import re\n",
    "import datetime"
   ]
  },
  {
   "cell_type": "code",
   "execution_count": 2,
   "metadata": {},
   "outputs": [],
   "source": [
    "def traverse(folder_path):\n",
    "    fs = os.listdir(folder_path)\n",
    "    delete_files = []\n",
    "    regex_datetime = re.compile('\\\\d{4}/\\\\d{1,2}/\\\\d{1,2}[\\\\s]*\\\\d{1,2}:\\\\d{2}:\\\\d{2}')\n",
    "    try:\n",
    "        for f in fs:\n",
    "            tmp_path = os.path.join(folder_path, f)\n",
    "            with open(tmp_path, 'r', encoding='utf-8') as file_obj:\n",
    "                lines = file_obj.readlines()\n",
    "                tmps = [line for line in lines if '开始bin文件转换' in line or '开始wmf文件转换' in line]\n",
    "                if len(tmps) > 0:\n",
    "                    delete_files.append(tmp_path)\n",
    "                else:\n",
    "                    tmps = [line for line in lines if re.match(regex_datetime, line)]\n",
    "                    if len(tmps) > 0:\n",
    "                        start_line = tmps[0]\n",
    "                        first_datetime = regex_datetime.search(start_line).group()\n",
    "                        first_datetime = datetime.datetime.strptime(first_datetime, '%Y/%m/%d %H:%M:%S')\n",
    "                        end_line = tmps[-1]\n",
    "                        last_datetime = regex_datetime.search(end_line).group()\n",
    "                        last_datetime = datetime.datetime.strptime(last_datetime, '%Y/%m/%d %H:%M:%S')\n",
    "                        gap_time = last_datetime - first_datetime\n",
    "                        if gap_time.seconds >= 1200:\n",
    "                            print(tmp_path, \"用时为：\" + str(gap_time.seconds))\n",
    "                        else:\n",
    "                            delete_files.append(tmp_path)\n",
    "                    else:\n",
    "                        delete_files.append(tmp_path)\n",
    "\n",
    "        [os.remove(file) for file in delete_files]\n",
    "    except Exception as e:\n",
    "        print(e)\n",
    "        pass"
   ]
  },
  {
   "cell_type": "code",
   "execution_count": 5,
   "metadata": {},
   "outputs": [
    {
     "name": "stdout",
     "output_type": "stream",
     "text": [
      "C:\\Users\\Zhao.LJ\\Downloads\\20200923\\Book10_2296_8efbf3e2-fd00-11ea-90f3-fa163e7ec938.log 用时为：1259\n",
      "C:\\Users\\Zhao.LJ\\Downloads\\20200923\\傅里叶变化及其在信息处理中的应用_2564_06865717-a1aa-4df0-9aca-0a05ab0c1c1a.log 用时为：3245\n",
      "C:\\Users\\Zhao.LJ\\Downloads\\20200923\\精细分层注水技术 20190402终稿_2132_c696becc-587d-4583-b180-604507615112.log 用时为：2907\n",
      "C:\\Users\\Zhao.LJ\\Downloads\\20200923\\适合 2-6-6 2019临床指导1 全（协和医科大学出版社）（篇章节）_2684_7eca4d53-fe8f-4a3b-8506-21b20e3496a2.log 用时为：1514\n",
      "C:\\Users\\Zhao.LJ\\Downloads\\20200923\\适合_傅里叶变化及其在信息处理中的应用(哈尔滨工程大学出版社)(不含篇）_2928_d2521460-eccc-4b58-a494-8907d85041f0.log 用时为：3802\n",
      "C:\\Users\\Zhao.LJ\\Downloads\\20200923\\适合_高等统计物理学(哈尔滨工程大学出版社)(不含篇)教材_2132_65d30ef2-2504-446f-98df-a71c72265985.log 用时为：1734\n",
      "C:\\Users\\Zhao.LJ\\Downloads\\20200923\\适合（答案部分不好）专升本数学教材10.8（沈阳姿兰）（章节）_2564_0553a689-29a9-4337-b10e-5ae0ebe196b1.log 用时为：3497\n",
      "C:\\Users\\Zhao.LJ\\Downloads\\20200923\\适合（答案部分不好）数学图书（沈阳姿兰）_2132_fcbdd667-7693-47af-94eb-760611dde0be.log 用时为：2815\n",
      "C:\\Users\\Zhao.LJ\\Downloads\\20200923\\适合（需预处理装饰图）重点-临床指导1 全（协和医科大学出版社）（篇章节）_2564_01b7a9c8-70d6-4c10-9e9e-db675672a204.log 用时为：1345\n"
     ]
    }
   ],
   "source": [
    "traverse(r'C:\\Users\\Zhao.LJ\\Downloads\\20200923')"
   ]
  },
  {
   "cell_type": "code",
   "execution_count": 22,
   "metadata": {},
   "outputs": [
    {
     "name": "stdout",
     "output_type": "stream",
     "text": [
      "<re.Match object; span=(0, 16), match='2020/8/7 8:48:10'>\n"
     ]
    }
   ],
   "source": [
    "regex_datetime = re.compile('\\\\d{4}/\\\\d{1,2}/\\\\d{1,2}[\\\\s]*\\\\d{1,2}:\\\\d{2}:\\\\d{2}')\n",
    "str1 = '2020/8/7 8:48:10  BOOKCLOUD-TEST0:Ces.OpenXML.Marker.Mar'\n",
    "first_datetime = regex_datetime.search(str1)\n",
    "print(first_datetime)"
   ]
  },
  {
   "cell_type": "code",
   "execution_count": null,
   "metadata": {},
   "outputs": [],
   "source": []
  }
 ],
 "metadata": {
  "kernelspec": {
   "display_name": "Python 3",
   "language": "python",
   "name": "python3"
  },
  "language_info": {
   "codemirror_mode": {
    "name": "ipython",
    "version": 3
   },
   "file_extension": ".py",
   "mimetype": "text/x-python",
   "name": "python",
   "nbconvert_exporter": "python",
   "pygments_lexer": "ipython3",
   "version": "3.7.1"
  }
 },
 "nbformat": 4,
 "nbformat_minor": 2
}
