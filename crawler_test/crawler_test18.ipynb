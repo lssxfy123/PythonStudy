{
 "cells": [
  {
   "cell_type": "code",
   "execution_count": 1,
   "metadata": {},
   "outputs": [],
   "source": [
    "from lxml import etree\n",
    "import requests\n",
    "import time\n",
    "import re\n",
    "import os\n",
    "from ctypes import *"
   ]
  },
  {
   "cell_type": "code",
   "execution_count": 2,
   "metadata": {
    "scrolled": true
   },
   "outputs": [
    {
     "name": "stdout",
     "output_type": "stream",
     "text": [
      "https://www.meitulu.com/item/21522.html;1-67;[XIUREN秀人网] No.1821 模特@Angela小热巴 - 故事情节秘书装系列\n",
      "https://www.meitulu.com/item/21510.html;1-65;[XIUREN秀人网] No.1808 女神@Angela小热巴 - 性感黑丝写真\n",
      "https://www.meitulu.com/item/21504.html;1-99;[XIUREN秀人网] No.1799 女神@Angela小热巴性感空姐制服写真\n",
      "https://www.meitulu.com/item/21500.html;1-87;[XIAOYU语画界] Vol.244 Angela小热巴 ~ 内衣私房写真\n",
      "https://www.meitulu.com/item/21492.html;1-82;[XIAOYU语画界] Vol.236 Angela小热巴 - 古典韵味旗袍与魅惑丝袜装扮\n",
      "https://www.meitulu.com/item/21485.html;1-113;[XIAOYU语画界] Vol.229 Angela小热巴  - 皮裤的飒爽，丝袜的朦胧\n",
      "https://www.meitulu.com/item/21479.html;1-63;[XIAOYU语画界] Vol.223 Angela小热巴 - 浴池之内的诱人酥胸与芊芊美腿\n",
      "https://www.meitulu.com/item/21467.html;1-100;[XIAOYU语画界] Vol.211 Angela小热巴 - 有浴室衬衫湿身系列\n",
      "https://www.meitulu.com/item/21455.html;1-80;[XIAOYU语画界] VOL.198 性感女神@Angela小热巴魅惑写真\n",
      "https://www.meitulu.com/item/21427.html;1-35;[UGIRLS尤果圈] No.1732 栗子&小琪 - 双倍恋爱 写真套图\n",
      "https://www.meitulu.com/item/21426.html;1-40;[UGIRLS尤果圈] No.1731 小琪&栗子 - 情节特殊 写真套图\n",
      "https://www.meitulu.com/item/20705.html;1-57;[XIAOYU语画界] Vol.193 女神@Angela小热巴 - 丝袜美腿写真\n",
      "https://www.meitulu.com/item/20700.html;1-62;[XIAOYU语画界] Vol.188 女神@Angela小热巴 - 性感秘书OL写真\n",
      "https://www.meitulu.com/item/20694.html;1-68;[XIAOYU语画界] Vol.182 Angela小热巴 - 丝袜控不要错过了哦\n",
      "https://www.meitulu.com/item/20689.html;1-70;[XIAOYU语画界] Vol.177 女神@Angela喜欢猫 - 性感丝袜内衣写真\n",
      "https://www.meitulu.com/item/20679.html;1-52;[XIAOYU语画界] Vol.167 性感女神@Angela小热巴魅惑写真\n",
      "https://www.meitulu.com/item/20673.html;1-65;[XIAOYU语画界] Vol.161 性感女神@Angela小热巴心愿旅拍写真\n",
      "https://www.meitulu.com/item/20666.html;1-96;[XIAOYU语画界] Vol.154 模特@Angela小热巴秘书制服写真\n",
      "https://www.meitulu.com/item/19722.html;1-66;[XIAOYU语画界] Vol.150 女神@Angela喜欢猫马尔代夫旅拍写真\n",
      "https://www.meitulu.com/item/19463.html;1-59;[XIUREN秀人] No.1572 性感女神@Angela喜欢猫魅惑黑丝写真\n",
      "https://www.meitulu.com/item/19458.html;1-23;[XIAOYU语画界] Vol.141 女神@Angela喜欢猫马尔代夫旅拍写真\n",
      "https://www.meitulu.com/item/19453.html;1-60;[XIAOYU语画界] Vol.135 模特@Angela小热巴教师制服写真\n",
      "https://www.meitulu.com/item/19450.html;1-98;[XIAOYU语画界] Vol.132 女神@Angela喜欢猫性感丝袜内衣写真\n",
      "https://www.meitulu.com/item/19445.html;1-70;[XIAOYU语画界] Vol.127 女神@Angela喜欢猫性感内衣写真\n",
      "https://www.meitulu.com/item/19433.html;1-55;[XIAOYU语画界] Vol.115 女神@Angela喜欢猫黑丝美腿写真\n",
      "https://www.meitulu.com/item/19066.html;1-46;[XIAOYU语画界] Vol.106 女神@Angela喜欢猫泳池湿身写真\n",
      "https://www.meitulu.com/item/19063.html;1-62;[XIAOYU语画界] Vol.103 女神@Angela喜欢猫性感内衣写真\n",
      "https://www.meitulu.com/item/19058.html;1-67;[XIAOYU语画界] Vol.098 女神@Angela喜欢猫 马尔代夫旅拍新写真\n",
      "https://www.meitulu.com/item/18770.html;1-58;[XIAOYU语画界] Vol.088 Angela喜欢猫 - 古典韵味旗袍现代丝袜下的芊芊美腿\n",
      "https://www.meitulu.com/item/18765.html;1-60;[XIAOYU语画界] Vol.083 女神@Angela喜欢猫浴室湿身写真\n",
      "https://www.meitulu.com/item/18491.html;1-44;[XIUREN秀人] No.1444 性感女神@Angela喜欢猫和服写真\n",
      "https://www.meitulu.com/item/18451.html;1-52;[XIAOYU语画界] Vol.074 女神@Angela喜欢猫 - 性感内衣写真\n",
      "https://www.meitulu.com/item/18443.html;1-52;[XIAOYU语画界] Vol.066 女神@Angela喜欢猫 - 马尔代夫旅拍新写真\n",
      "https://www.meitulu.com/item/18429.html;1-50;[XIAOYU语画界] Vol.052 女神@Angela喜欢猫丝袜美腿写真\n",
      "https://www.meitulu.com/item/18301.html;1-47;[HuaYang花漾] Vol.137 女神@Angela喜欢猫丝袜美腿写真\n",
      "https://www.meitulu.com/item/18142.html;1-50;[XIAOYU语画界] Vol.046 Angela喜欢猫 - 低胸内衣装扮与猩红吊裙\n",
      "https://www.meitulu.com/item/18137.html;1-42;[XIAOYU语画界] Vol.041 女神@Angela喜欢猫 - 性感内衣写真\n",
      "https://www.meitulu.com/item/18131.html;1-51;[XIAOYU语画界] Vol.034 女神@Angela喜欢猫丝袜美腿写真\n",
      "https://www.meitulu.com/item/18123.html;1-72;[XIAOYU语画界] Vol.026 女神@Angela喜欢猫马尔代夫旅拍写真\n",
      "https://www.meitulu.com/item/18121.html;1-52;[XIAOYU语画界] Vol.024 Angela喜欢猫 - 古典的旗袍韵味而不失魅惑力\n",
      "https://www.meitulu.com/item/18114.html;1-67;[XIAOYU语画界] Vol.017 女神@Angela喜欢猫浴室湿身写真\n",
      "https://www.meitulu.com/item/18101.html;1-59;[XIAOYU语画界] Vol.004 女神@Angela喜欢猫丝袜美腿写真\n",
      "https://www.meitulu.com/item/17933.html;1-41;[HuaYan花の颜] Vol.065 Angela喜欢猫 ~古典旗袍+运动服 小清新写真\n",
      "https://www.meitulu.com/item/17552.html;1-41;[HuaYang花漾] Vol.108 女神@Angela喜欢猫性感私房写真\n",
      "https://www.meitulu.com/item/17347.html;1-26;[YouMei尤美] Vol.079 小热巴 - 红粉佳人 写真套图\n",
      "https://www.meitulu.com/item/17335.html;1-28;[YouMei尤美] Vol.061 小热巴 - 黑丝尤物 写真套图\n",
      "https://www.meitulu.com/item/17315.html;1-16;[YouMei尤美] Vol.036 小热巴  - 旗袍少妇 写真套图\n",
      "https://www.meitulu.com/item/17301.html;1-12;[YouMei尤美] Vol.022 小热巴 - 东欧铁骑 写真套图\n",
      "https://www.meitulu.com/item/17275.html;1-55;[XiuRen秀人] No.1292 女神@Angela喜欢猫 - 性感睡衣私房写真\n",
      "https://www.meitulu.com/item/17246.html;1-75;[XiuRen秀人] No.1262 女神@Angela喜欢猫车拍写真\n",
      "https://www.meitulu.com/item/17227.html;1-45;[MyGirl美媛馆] Vol.334 女神@Angela小热巴第二套性感内衣写真\n",
      "https://www.meitulu.com/item/16816.html;1-40;[XiuRen秀人] No.1249 Angela小热巴 - 第三套私房魅惑发\n",
      "https://www.meitulu.com/item/16808.html;1-71;[XiuRen秀人] No.1241 Angela喜欢猫 - 民国风女神\n",
      "https://www.meitulu.com/item/16552.html;1-40;[MyGirl美媛馆] Vol.326 女神@Angela喜欢猫丝袜美腿写真\n",
      "https://www.meitulu.com/item/16462.html;1-51;[XIUREN秀人] No.1209 女神@Angela小热巴性感秘书OL写真\n",
      "https://www.meitulu.com/item/16458.html;1-53;[XIUREN秀人] No.1205 女神@Angela小热巴普吉岛旅拍 - 性感内衣写真\n",
      "https://www.meitulu.com/item/16454.html;1-52;[XIUREN秀人] No.1201 女神@Angela小热巴性感内衣写真\n",
      "https://www.meitulu.com/item/16447.html;1-41;[XIUREN秀人] No.1194 女神@Angela小热巴第二套私房魅惑\n",
      "https://www.meitulu.com/item/16407.html;1-54;[MyGirl美媛馆] Vol.322 女神@Angela小热巴性感内衣写真\n",
      "https://www.meitulu.com/item/16280.html;1-54;[XIUREN秀人] No.1175 女神@Angela小热巴性感内衣写真\n"
     ]
    }
   ],
   "source": [
    "total_url = \"https://www.meitulu.com/t/mufeifei/\"\n",
    "total_url = \"https://www.meitulu.com/t/yumi-youmei/\"\n",
    "total_url = \"https://www.meitulu.com/t/1148/\"\n",
    "total_url = \"https://www.meitulu.com/t/1385/\"\n",
    "total_url = \"https://www.meitulu.com/t/shiyijia-kittyjiang/\"\n",
    "total_url = \"https://www.meitulu.com/t/zhaoximi-kitty/\"\n",
    "total_url = \"https://www.meitulu.com/t/1248/\"\n",
    "total_url = \"https://www.meitulu.com/t/songguoer-victoria/\"\n",
    "total_url = \"https://www.meitulu.com/t/1197/\"\n",
    "total_url = \"https://www.meitulu.com/t/1197/2.html\"\n",
    "total_url = \"https://www.meitulu.com/t/yusiqi/\"\n",
    "total_url = \"https://www.meitulu.com/t/wangmanni/\"\n",
    "total_url = \"https://www.meitulu.com/t/zhouyanxi/\"\n",
    "total_url = \"https://www.meitulu.com/t/zhouyanxi/2.html\"\n",
    "total_url = \"https://www.meitulu.com/t/1197/\"\n",
    "\n",
    "html = requests.get(total_url)\n",
    "selector = etree.HTML(html.content)\n",
    "boxs = selector.xpath('/html/body/div[2]/div[4]/ul/li')\n",
    "regex = re.compile(r'\\d+')\n",
    "for li in boxs:\n",
    "    picture_url = li.xpath('a/@href')[0]\n",
    "    count_txt = li.xpath('p[1]/text()')[0]\n",
    "    match = regex.search(count_txt)\n",
    "    count = match.group()\n",
    "    title = li.xpath('p[@class=\"p_title\"]/a/text()')[0]\n",
    "    result = picture_url + ';' + '1-' + count + ';' + title\n",
    "    print(result)"
   ]
  },
  {
   "cell_type": "code",
   "execution_count": 9,
   "metadata": {},
   "outputs": [],
   "source": [
    "dest_dir = r'D:\\tool\\CAJ\\丝足\\土肥圆周妍希'\n",
    "fs = os.listdir(dest_dir)\n",
    "tmp_lines = []\n",
    "with open(\"urls.txt\", 'r', encoding='UTF-8') as file_lines:\n",
    "    lines = file_lines.readlines()\n",
    "    for line in lines:\n",
    "        dir_name = line.split(';')[2]\n",
    "        dir_name = re.sub('[\\/:*?\"<>|]', '', dir_name.strip())\n",
    "        if not(dir_name in fs):\n",
    "            tmp_lines.append(line)\n",
    "\n",
    "with open('urls.txt', 'w', encoding='utf-8') as file_obj:\n",
    "    file_obj.writelines(tmp_lines)"
   ]
  },
  {
   "cell_type": "code",
   "execution_count": 3,
   "metadata": {},
   "outputs": [
    {
     "name": "stdout",
     "output_type": "stream",
     "text": [
      "https://www.meitulu.com/item/19687.html;1-35;[Ugirls尤果圈] No.1587 李莉莉 - 全糖期待 写真套图\n",
      "https://www.meitulu.com/item/17699.html;1-35;[Ugirls爱尤物] No.1406 李莉莉 - 情难了\n",
      "https://www.meitulu.com/item/15497.html;1-35;[Ugirls尤果圈] No.1187 杨漫妮、宁夏、李莉莉、姜涵、Hasand、Mina、诗盈 - 8月精选 写真套图\n",
      "https://www.meitulu.com/item/15195.html;1-65;[Ugirls尤果网] U372 李莉莉 写真套图\n",
      "https://www.meitulu.com/item/14520.html;1-35;[尤果圈爱尤物] No.1106 李莉莉 - 一梦之美 写真套图\n"
     ]
    }
   ],
   "source": [
    "total_url = \"https://www.meitulu.com/search/%E9%99%B6%E5%96%9C%E4%B9%90\"\n",
    "total_url = \"https://www.meitulu.com/search/%E9%99%86%E8%90%B1%E8%90%B1\"\n",
    "total_url = \"https://www.meitulu.com/search/%E9%87%91%E6%A2%93%E9%A6%A8\"\n",
    "total_url = \"https://www.meitulu.com/search/%E6%B2%AB%E7%90%B3\"\n",
    "total_url = \"https://www.meitulu.com/search/%E5%AE%89%E6%9F%94\"\n",
    "total_url = \"https://www.meitulu.com/search/%E5%B0%8F%E7%90%AA\"\n",
    "total_url = \"https://www.meitulu.com/search/%E6%9D%8E%E8%8E%89%E8%8E%89\"\n",
    "\n",
    "html = requests.get(total_url)\n",
    "selector = etree.HTML(html.content)\n",
    "boxs = selector.xpath('/html/body/div[2]/div[2]/ul/li')\n",
    "regex = re.compile(r'\\d+')\n",
    "for li in boxs:\n",
    "    picture_url = li.xpath('a/@href')[0]\n",
    "    count_txt = li.xpath('p[1]/text()')[0]\n",
    "    match = regex.search(count_txt)\n",
    "    count = match.group()\n",
    "    title = li.xpath('p[@class=\"p_title\"]/a/text()')[0]\n",
    "    result = picture_url + ';' + '1-' + count + ';' + title\n",
    "    print(result)"
   ]
  },
  {
   "cell_type": "code",
   "execution_count": 4,
   "metadata": {},
   "outputs": [
    {
     "name": "stdout",
     "output_type": "stream",
     "text": [
      "https://www.mzitu.com/198025;1-59;一桌一床一沙发 女神Angela喜欢猫魅力释放性感满屋\n",
      "https://www.mzitu.com/196725;1-56;女神Angela喜欢猫秘书装秀美腿 黑丝短裙性感撩人\n",
      "https://www.mzitu.com/193567;1-58;气质美女Angela喜欢猫丝袜诱惑 芊芊美腿让你爱不释手\n",
      "https://www.mzitu.com/201405;1-55;妖艳美女Angela喜欢猫警花制服诱惑，黑丝短裙征服宅男\n",
      "https://www.mzitu.com/201072;1-62;风情女神Angela喜欢猫睡衣诱惑 床上风光令人销魂\n",
      "https://www.mzitu.com/191602;1-49;姿势好销魂！性感女神Angela喜欢猫饱满肥臀丰满圆润\n",
      "https://www.mzitu.com/190416;1-47;温柔女仆VS妩媚人妻 女模Angela喜欢猫角色扮演好诱人\n",
      "https://www.mzitu.com/187562;1-52;气质妹子Angela喜欢猫爆诱人床照 前凸后翘性感爆表\n",
      "https://www.mzitu.com/180977;1-50;媚眼红唇大长腿 宅男女神Angela喜欢猫性感写真清新唯美\n",
      "https://www.mzitu.com/175741;1-52;风情美人Angela喜欢猫性感写真，惹火娇躯韵味无穷\n",
      "https://www.mzitu.com/171956;1-55;晋升女神！极品美女Angela喜欢猫销魂床照曝光\n",
      "https://www.mzitu.com/3450;1-5;angelababy浪漫清纯图\n"
     ]
    }
   ],
   "source": [
    "total_url = \"https://www.mzitu.com/search/%E5%91%A8%E5%A6%8D%E5%B8%8C/\"\n",
    "total_url = \"https://www.mzitu.com/tag/luxuanxuan/\"\n",
    "total_url = \"https://www.mzitu.com/tag/azhu/\"\n",
    "total_url = \"https://www.mzitu.com/tag/taoxile/\"\n",
    "total_url = \"https://www.mzitu.com/search/%E5%B0%8F%E7%83%AD%E5%B7%B4/\"\n",
    "total_url = \"https://www.mzitu.com/search/Angela/\"\n",
    "host_headers = {\n",
    "            'Host': 'www.mzitu.com',\n",
    "            'Accept': '*/*',\n",
    "            'Accept-Encoding': 'gzip, deflate',\n",
    "            'Accept-Language': 'zh-CN,zh;q=0.9',\n",
    "            'Content-Type': 'text/html; charset=UTF-8',\n",
    "            'X-Requested-With': 'XMLHttpRequest',\n",
    "            'Referer': 'http://www.mzitu.com',\n",
    "            'User-Agent': 'Mozilla/5.0 (Windows NT 10.0; Win64; x64) AppleWebKit/537.36 (KHTML, like Gecko) Chrome/67.0.3396.87 Safari/537.36',\n",
    "        }\n",
    "html = requests.get(total_url, headers=host_headers)\n",
    "selector = etree.HTML(html.content)\n",
    "boxs = selector.xpath('/html/body/div[2]/div[1]/div[2]/ul/li[not(@class)]')\n",
    "regex = re.compile(r'\\d+')\n",
    "for li in boxs:\n",
    "    picture_url = li.xpath('a/@href')[0]\n",
    "    title_txt = li.xpath('span[1]/a/text()')[0]\n",
    "    html = requests.get(picture_url, headers=host_headers)\n",
    "    girl_selector = etree.HTML(html.text)\n",
    "    max_image = girl_selector.xpath('.//div[@class=\"pagenavi\"]/a/span/text()')[-2]\n",
    "#     match = regex.search(count_txt)\n",
    "#     count = match.group()\n",
    "#     title = li.xpath('p[@class=\"p_title\"]/a/text()')[0]\n",
    "    result = picture_url + ';' + '1-' + max_image + ';' + title_txt\n",
    "    print(result)"
   ]
  },
  {
   "cell_type": "code",
   "execution_count": null,
   "metadata": {},
   "outputs": [],
   "source": []
  }
 ],
 "metadata": {
  "kernelspec": {
   "display_name": "Python 3",
   "language": "python",
   "name": "python3"
  },
  "language_info": {
   "codemirror_mode": {
    "name": "ipython",
    "version": 3
   },
   "file_extension": ".py",
   "mimetype": "text/x-python",
   "name": "python",
   "nbconvert_exporter": "python",
   "pygments_lexer": "ipython3",
   "version": "3.7.1"
  }
 },
 "nbformat": 4,
 "nbformat_minor": 2
}
