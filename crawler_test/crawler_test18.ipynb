{
 "cells": [
  {
   "cell_type": "code",
   "execution_count": 1,
   "metadata": {},
   "outputs": [],
   "source": [
    "from lxml import etree\n",
    "import requests\n",
    "import time\n",
    "import re\n",
    "import os\n",
    "from ctypes import *"
   ]
  },
  {
   "cell_type": "code",
   "execution_count": 8,
   "metadata": {
    "scrolled": true
   },
   "outputs": [
    {
     "name": "stdout",
     "output_type": "stream",
     "text": [
      "https://www.meitulu.com/item/13503.html;1-44;[YouMi尤蜜荟] VOL.092 土肥圆矮挫穷 - 清新唯美风写真\n",
      "https://www.meitulu.com/item/13500.html;1-45;[YouMi尤蜜荟] VOL.089 土肥圆矮挫穷 - 迪拜第三套旅拍写真\n",
      "https://www.meitulu.com/item/13431.html;1-45;[MICAT猫萌榜] VOL.036 土肥圆矮挫穷 - 魅惑丝袜写真\n",
      "https://www.meitulu.com/item/13430.html;1-45;[MICAT猫萌榜] VOL.035 土肥圆矮挫穷 - 黑丝内衣写真\n",
      "https://www.meitulu.com/item/13429.html;1-45;[MICAT猫萌榜] VOL.034 土肥圆矮挫穷 - 情趣内衣写真\n",
      "https://www.meitulu.com/item/12959.html;1-45;[FEILIN嗲囡囡] Vol.117 土肥圆矮挫穷 - 黑丝美腿诱惑+浴室大片\n",
      "https://www.meitulu.com/item/12935.html;1-42;[YouMi尤蜜荟] Vol.081 土肥圆矮挫穷 - 黑丝猫耳女郎\n",
      "https://www.meitulu.com/item/12930.html;1-47;[YouMi尤蜜荟] Vol.075 土肥圆矮挫穷 - 女秘书制服诱惑\n",
      "https://www.meitulu.com/item/12870.html;1-45;[MICAT猫萌榜] Vol.033 土肥圆矮挫穷/周妍希 - 诱人黑丝与妩媚小吊带系列\n",
      "https://www.meitulu.com/item/12743.html;1-45;[MICAT猫萌榜] VOL.032 土肥圆矮挫穷 - 真空毛衣内衣写真\n",
      "https://www.meitulu.com/item/12575.html;1-40;[Ugirls爱尤物] No.875 周妍希 - 蹦出来的幸福\n",
      "https://www.meitulu.com/item/12506.html;1-38;[FEILIN嗲囡囡] VOL.111 女神@土肥圆矮挫穷 最新性感写真\n",
      "https://www.meitulu.com/item/12351.html;1-44;[YOUMI尤蜜荟] VOL.062 土肥圆矮挫穷 - 妖娆妩媚女王般诱惑\n",
      "https://www.meitulu.com/item/12350.html;1-39;[YOUMI尤蜜荟] VOL.061 女神@土肥圆矮挫穷普吉岛旅拍第五套写真\n",
      "https://www.meitulu.com/item/12233.html;1-45;[MICAT猫萌榜] VOL.029 土肥圆矮挫穷 - 女仆主题第二套\n",
      "https://www.meitulu.com/item/12232.html;1-45;[MICAT猫萌榜] VOL.028 女神@土肥圆矮挫穷女仆主题写真\n",
      "https://www.meitulu.com/item/12230.html;1-45;[MICAT猫萌榜] VOL.026 土肥圆矮挫穷 - 暖光下拍摄的女神\n",
      "https://www.meitulu.com/item/11832.html;1-44;[YOUMI尤蜜荟] VOL.059 土肥圆矮挫穷 写真套图\n",
      "https://www.meitulu.com/item/11831.html;1-44;[YOUMI尤蜜荟] VOL.058 土肥圆矮挫穷 写真套图\n",
      "https://www.meitulu.com/item/11598.html;1-37;[YOUMI尤蜜荟] Vol.055 土肥圆矮挫穷 - 普吉岛旅拍第二套写真\n",
      "https://www.meitulu.com/item/11557.html;1-48;[Qingdouke青豆客] 土肥圆矮/周妍希 写真套图\n",
      "https://www.meitulu.com/item/11466.html;1-39;[YOUMI尤蜜荟] Vol.052 土肥圆矮挫穷 - 两套透视蕾丝女仆装\n",
      "https://www.meitulu.com/item/11463.html;1-20;[YOUMI尤蜜荟] Vol.049 土肥圆矮挫穷 - 高叉礼服与泡泡浴系列\n",
      "https://www.meitulu.com/item/11462.html;1-52;[YOUMI尤蜜荟] Vol.048 土肥圆矮挫穷 - 巴厘岛旅拍写真\n",
      "https://www.meitulu.com/item/11459.html;1-41;[YOUMI尤蜜荟] Vol.045 土肥圆矮挫穷 - 巴厘岛第三套写真\n",
      "https://www.meitulu.com/item/11345.html;1-44;[MICAT猫萌榜] Vol.008 土肥圆矮挫穷 - 丝袜系列写真\n",
      "https://www.meitulu.com/item/10778.html;1-50;[Girlt果团网] No.012 土肥圆矮挫穷 - 34D酥胸@蜜桃臀浴室诱惑 \n",
      "https://www.meitulu.com/item/10749.html;1-50;[YOUMI尤蜜荟] Vol.040 土肥圆矮挫穷 - 肉丝袜诱惑+运动风系列\n",
      "https://www.meitulu.com/item/10715.html;1-58;[Qingdouke青豆客] 2017.06.08 土肥圆矮\n",
      "https://www.meitulu.com/item/10705.html;1-45;[MiStar魅妍社] Vol.167 土肥圆矮挫穷 - 沙巴旅拍写真套图\n",
      "https://www.meitulu.com/item/10681.html;1-49;[IMiss爱蜜社] Vol.164 土肥圆矮挫穷 - 性感高叉写真套图\n",
      "https://www.meitulu.com/item/10668.html;1-44;[FEILIN嗲囡囡] Vol.090 丽质女神@土肥圆矮挫穷第二套写真套图\n",
      "https://www.meitulu.com/item/10631.html;1-51;[YOUMI尤蜜荟] Vol.037 土肥圆矮挫穷 - 性感美腿黑丝+比基尼湿身诱惑\n",
      "https://www.meitulu.com/item/10628.html;1-60;[YOUMI尤蜜荟] Vol.034 土肥圆矮挫穷 - 沙巴旅拍第三套写真\n",
      "https://www.meitulu.com/item/10497.html;1-51;[YOUMI尤蜜荟] Vol.031 土肥圆矮挫穷 - 黑丝短裙OL诱惑 写真图片\n",
      "https://www.meitulu.com/item/10495.html;1-52;[YOUMI尤蜜荟] Vol.029 土肥圆矮挫穷 - 沙滩比基尼+韵味长裙 写真图片\n",
      "https://www.meitulu.com/item/10482.html;1-73;[XiuRen秀人网] No.729 土肥圆矮挫穷 - 天然丽人写真图片\n",
      "https://www.meitulu.com/item/10179.html;1-53;[XiuRen秀人网] No.703 土肥圆矮挫穷 - 野性豹纹+猫耳装扮 写真图片\n",
      "https://www.meitulu.com/item/10171.html;1-56;[XiuRen秀人网] No.695 天然丽人@土肥圆矮挫穷 写真图片\n",
      "https://www.meitulu.com/item/10069.html;1-19;[FEILIN嗲囡囡] Vol.075 丽质女神土肥圆矮挫穷浴室写真\n",
      "https://www.meitulu.com/item/9207.html;1-39;[XiuRen秀人网] No.628 土肥圆矮挫穷 - 大尺度写真\n",
      "https://www.meitulu.com/item/8995.html;1-49;[XiuRen秀人网] No.620 模特@土肥圆矮挫穷\n",
      "https://www.meitulu.com/item/8158.html;1-53;[尤蜜荟] 土肥圆矮 ~ 粉嫩兔女郎\n",
      "https://www.meitulu.com/item/7880.html;1-45;[尤蜜荟/推女神] 土肥圆矮 大理旅拍 第二刊 ~ \n",
      "https://www.meitulu.com/item/7609.html;1-46;[尤蜜荟] 土肥圆矮 大理旅拍 第一刊 ~ \n"
     ]
    }
   ],
   "source": [
    "total_url = \"https://www.meitulu.com/t/1197/\"\n",
    "total_url = \"https://www.meitulu.com/t/mufeifei/\"\n",
    "total_url = \"https://www.meitulu.com/t/yumi-youmei/\"\n",
    "total_url = \"https://www.meitulu.com/t/1148/\"\n",
    "total_url = \"https://www.meitulu.com/t/1385/\"\n",
    "total_url = \"https://www.meitulu.com/t/shiyijia-kittyjiang/\"\n",
    "total_url = \"https://www.meitulu.com/t/zhaoximi-kitty/\"\n",
    "total_url = \"https://www.meitulu.com/t/1248/\"\n",
    "total_url = \"https://www.meitulu.com/t/songguoer-victoria/\"\n",
    "total_url = \"https://www.meitulu.com/t/1197/\"\n",
    "total_url = \"https://www.meitulu.com/t/1197/2.html\"\n",
    "total_url = \"https://www.meitulu.com/t/yusiqi/\"\n",
    "total_url = \"https://www.meitulu.com/t/wangmanni/\"\n",
    "total_url = \"https://www.meitulu.com/t/zhouyanxi/\"\n",
    "total_url = \"https://www.meitulu.com/t/zhouyanxi/2.html\"\n",
    "\n",
    "html = requests.get(total_url)\n",
    "selector = etree.HTML(html.content)\n",
    "boxs = selector.xpath('/html/body/div[2]/div[4]/ul/li')\n",
    "regex = re.compile(r'\\d+')\n",
    "for li in boxs:\n",
    "    picture_url = li.xpath('a/@href')[0]\n",
    "    count_txt = li.xpath('p[1]/text()')[0]\n",
    "    match = regex.search(count_txt)\n",
    "    count = match.group()\n",
    "    title = li.xpath('p[@class=\"p_title\"]/a/text()')[0]\n",
    "    result = picture_url + ';' + '1-' + count + ';' + title\n",
    "    print(result)"
   ]
  },
  {
   "cell_type": "code",
   "execution_count": 9,
   "metadata": {},
   "outputs": [],
   "source": [
    "dest_dir = r'D:\\tool\\CAJ\\丝足\\土肥圆周妍希'\n",
    "fs = os.listdir(dest_dir)\n",
    "tmp_lines = []\n",
    "with open(\"urls.txt\", 'r', encoding='UTF-8') as file_lines:\n",
    "    lines = file_lines.readlines()\n",
    "    for line in lines:\n",
    "        dir_name = line.split(';')[2]\n",
    "        dir_name = re.sub('[\\/:*?\"<>|]', '', dir_name.strip())\n",
    "        if not(dir_name in fs):\n",
    "            tmp_lines.append(line)\n",
    "\n",
    "with open('urls.txt', 'w', encoding='utf-8') as file_obj:\n",
    "    file_obj.writelines(tmp_lines)"
   ]
  },
  {
   "cell_type": "code",
   "execution_count": 3,
   "metadata": {},
   "outputs": [
    {
     "name": "stdout",
     "output_type": "stream",
     "text": [
      "https://www.meitulu.com/item/19687.html;1-35;[Ugirls尤果圈] No.1587 李莉莉 - 全糖期待 写真套图\n",
      "https://www.meitulu.com/item/17699.html;1-35;[Ugirls爱尤物] No.1406 李莉莉 - 情难了\n",
      "https://www.meitulu.com/item/15497.html;1-35;[Ugirls尤果圈] No.1187 杨漫妮、宁夏、李莉莉、姜涵、Hasand、Mina、诗盈 - 8月精选 写真套图\n",
      "https://www.meitulu.com/item/15195.html;1-65;[Ugirls尤果网] U372 李莉莉 写真套图\n",
      "https://www.meitulu.com/item/14520.html;1-35;[尤果圈爱尤物] No.1106 李莉莉 - 一梦之美 写真套图\n"
     ]
    }
   ],
   "source": [
    "total_url = \"https://www.meitulu.com/search/%E9%99%B6%E5%96%9C%E4%B9%90\"\n",
    "total_url = \"https://www.meitulu.com/search/%E9%99%86%E8%90%B1%E8%90%B1\"\n",
    "total_url = \"https://www.meitulu.com/search/%E9%87%91%E6%A2%93%E9%A6%A8\"\n",
    "total_url = \"https://www.meitulu.com/search/%E6%B2%AB%E7%90%B3\"\n",
    "total_url = \"https://www.meitulu.com/search/%E5%AE%89%E6%9F%94\"\n",
    "total_url = \"https://www.meitulu.com/search/%E5%B0%8F%E7%90%AA\"\n",
    "total_url = \"https://www.meitulu.com/search/%E6%9D%8E%E8%8E%89%E8%8E%89\"\n",
    "\n",
    "html = requests.get(total_url)\n",
    "selector = etree.HTML(html.content)\n",
    "boxs = selector.xpath('/html/body/div[2]/div[2]/ul/li')\n",
    "regex = re.compile(r'\\d+')\n",
    "for li in boxs:\n",
    "    picture_url = li.xpath('a/@href')[0]\n",
    "    count_txt = li.xpath('p[1]/text()')[0]\n",
    "    match = regex.search(count_txt)\n",
    "    count = match.group()\n",
    "    title = li.xpath('p[@class=\"p_title\"]/a/text()')[0]\n",
    "    result = picture_url + ';' + '1-' + count + ';' + title\n",
    "    print(result)"
   ]
  },
  {
   "cell_type": "code",
   "execution_count": 4,
   "metadata": {},
   "outputs": [
    {
     "name": "stdout",
     "output_type": "stream",
     "text": [
      "https://www.mzitu.com/198025;1-59;一桌一床一沙发 女神Angela喜欢猫魅力释放性感满屋\n",
      "https://www.mzitu.com/196725;1-56;女神Angela喜欢猫秘书装秀美腿 黑丝短裙性感撩人\n",
      "https://www.mzitu.com/193567;1-58;气质美女Angela喜欢猫丝袜诱惑 芊芊美腿让你爱不释手\n",
      "https://www.mzitu.com/201405;1-55;妖艳美女Angela喜欢猫警花制服诱惑，黑丝短裙征服宅男\n",
      "https://www.mzitu.com/201072;1-62;风情女神Angela喜欢猫睡衣诱惑 床上风光令人销魂\n",
      "https://www.mzitu.com/191602;1-49;姿势好销魂！性感女神Angela喜欢猫饱满肥臀丰满圆润\n",
      "https://www.mzitu.com/190416;1-47;温柔女仆VS妩媚人妻 女模Angela喜欢猫角色扮演好诱人\n",
      "https://www.mzitu.com/187562;1-52;气质妹子Angela喜欢猫爆诱人床照 前凸后翘性感爆表\n",
      "https://www.mzitu.com/180977;1-50;媚眼红唇大长腿 宅男女神Angela喜欢猫性感写真清新唯美\n",
      "https://www.mzitu.com/175741;1-52;风情美人Angela喜欢猫性感写真，惹火娇躯韵味无穷\n",
      "https://www.mzitu.com/171956;1-55;晋升女神！极品美女Angela喜欢猫销魂床照曝光\n",
      "https://www.mzitu.com/3450;1-5;angelababy浪漫清纯图\n"
     ]
    }
   ],
   "source": [
    "total_url = \"https://www.mzitu.com/search/%E5%91%A8%E5%A6%8D%E5%B8%8C/\"\n",
    "total_url = \"https://www.mzitu.com/tag/luxuanxuan/\"\n",
    "total_url = \"https://www.mzitu.com/tag/azhu/\"\n",
    "total_url = \"https://www.mzitu.com/tag/taoxile/\"\n",
    "total_url = \"https://www.mzitu.com/search/%E5%B0%8F%E7%83%AD%E5%B7%B4/\"\n",
    "total_url = \"https://www.mzitu.com/search/Angela/\"\n",
    "host_headers = {\n",
    "            'Host': 'www.mzitu.com',\n",
    "            'Accept': '*/*',\n",
    "            'Accept-Encoding': 'gzip, deflate',\n",
    "            'Accept-Language': 'zh-CN,zh;q=0.9',\n",
    "            'Content-Type': 'text/html; charset=UTF-8',\n",
    "            'X-Requested-With': 'XMLHttpRequest',\n",
    "            'Referer': 'http://www.mzitu.com',\n",
    "            'User-Agent': 'Mozilla/5.0 (Windows NT 10.0; Win64; x64) AppleWebKit/537.36 (KHTML, like Gecko) Chrome/67.0.3396.87 Safari/537.36',\n",
    "        }\n",
    "html = requests.get(total_url, headers=host_headers)\n",
    "selector = etree.HTML(html.content)\n",
    "boxs = selector.xpath('/html/body/div[2]/div[1]/div[2]/ul/li[not(@class)]')\n",
    "regex = re.compile(r'\\d+')\n",
    "for li in boxs:\n",
    "    picture_url = li.xpath('a/@href')[0]\n",
    "    title_txt = li.xpath('span[1]/a/text()')[0]\n",
    "    html = requests.get(picture_url, headers=host_headers)\n",
    "    girl_selector = etree.HTML(html.text)\n",
    "    max_image = girl_selector.xpath('.//div[@class=\"pagenavi\"]/a/span/text()')[-2]\n",
    "#     match = regex.search(count_txt)\n",
    "#     count = match.group()\n",
    "#     title = li.xpath('p[@class=\"p_title\"]/a/text()')[0]\n",
    "    result = picture_url + ';' + '1-' + max_image + ';' + title_txt\n",
    "    print(result)"
   ]
  },
  {
   "cell_type": "code",
   "execution_count": null,
   "metadata": {},
   "outputs": [],
   "source": []
  }
 ],
 "metadata": {
  "kernelspec": {
   "display_name": "Python 3",
   "language": "python",
   "name": "python3"
  },
  "language_info": {
   "codemirror_mode": {
    "name": "ipython",
    "version": 3
   },
   "file_extension": ".py",
   "mimetype": "text/x-python",
   "name": "python",
   "nbconvert_exporter": "python",
   "pygments_lexer": "ipython3",
   "version": "3.7.1"
  }
 },
 "nbformat": 4,
 "nbformat_minor": 2
}
