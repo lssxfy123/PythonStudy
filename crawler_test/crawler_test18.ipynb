{
 "cells": [
  {
   "cell_type": "code",
   "execution_count": 1,
   "metadata": {},
   "outputs": [],
   "source": [
    "from lxml import etree\n",
    "import requests\n",
    "import time\n",
    "import re\n",
    "import os\n",
    "from ctypes import *"
   ]
  },
  {
   "cell_type": "code",
   "execution_count": 3,
   "metadata": {
    "scrolled": true
   },
   "outputs": [
    {
     "name": "stdout",
     "output_type": "stream",
     "text": [
      "https://www.meitulu.com/item/18775.html;1-42;[MiStar魅妍社] Vol.292 气质女神@穆菲菲土耳其旅拍第四套写真\n",
      "https://www.meitulu.com/item/18063.html;1-67;[UGIRLS尤果] U420 穆菲菲 写真套图\n",
      "https://www.meitulu.com/item/18011.html;1-40;[MiStar魅妍社] Vol.280 性感御姐@穆菲菲日本旅拍写真\n",
      "https://www.meitulu.com/item/17705.html;1-35;[Ugirls爱尤物] No.1412 穆菲菲 - 绿野仙踪\n",
      "https://www.meitulu.com/item/17652.html;1-50;[MiStar魅妍社] Vol.265 气质女神@穆菲菲土耳其旅拍第三套写真\n",
      "https://www.meitulu.com/item/16404.html;1-45;[MiStar魅妍社] VOL.245 气质女神@穆菲菲土耳其旅拍第二套写真\n",
      "https://www.meitulu.com/item/16301.html;1-40;[MiStar魅妍社] VOL.241 气质女神@穆菲菲土耳其旅拍写真\n",
      "https://www.meitulu.com/item/15457.html;1-40;[MiStar魅妍社] Vol.234 性感女神@穆菲菲 - 日本旅拍第二套写真\n",
      "https://www.meitulu.com/item/15118.html;1-40;[MiStar魅妍社] VOL.225 性感女神@穆菲菲日本旅拍\n",
      "https://www.meitulu.com/item/14277.html;1-41;[YouMi尤蜜荟] Vol.135 御姐@穆菲菲 - 马尔代夫旅拍海边主题写真\n",
      "https://www.meitulu.com/item/13944.html;1-40;[YouMi尤蜜荟] Vol.120 穆菲菲 - 妖媚且优雅的气质\n",
      "https://www.meitulu.com/item/13939.html;1-40;[YouMi尤蜜荟] Vol.115 御姐@穆菲菲 - 马尔代夫旅拍第五套写真\n",
      "https://www.meitulu.com/item/13757.html;1-42;[YouMi尤蜜荟] Vol.114 御姐@穆菲菲马尔代夫旅拍第四套写真\n",
      "https://www.meitulu.com/item/13753.html;1-50;[YouMi尤蜜荟] Vol.110 御姐女神@穆菲菲马尔代夫旅拍第三套写真\n",
      "https://www.meitulu.com/item/13747.html;1-40;[YouMi尤蜜荟] Vol.104 穆菲菲 - 马尔代夫旅拍第二套写真\n",
      "https://www.meitulu.com/item/13742.html;1-39;[YouMi尤蜜荟] Vol.099 女神@穆菲菲马尔代夫旅拍第一套写真\n",
      "https://www.meitulu.com/item/13680.html;1-49;[XINGYAN星颜社] Vol.009 气质女神@穆菲菲性感写真\n",
      "https://www.meitulu.com/item/13633.html;1-65;[ugirls尤果网] U336 穆菲菲 写真套图\n",
      "https://www.meitulu.com/item/12567.html;1-63;[Ugirls尤果网] U309 女神穆菲菲 写真套图\n",
      "https://www.meitulu.com/item/12540.html;1-49;[QingDouKe青豆客]  穆菲菲 - 好一个惊艳女神\n",
      "https://www.meitulu.com/item/12510.html;1-40;[花漾SHOW] VOL.007 气质美女@穆菲菲首套写真\n",
      "https://www.meitulu.com/item/12329.html;1-40;[Ugirls爱尤物] No.865 穆菲菲 - 闹中取静\n",
      "https://www.meitulu.com/item/11561.html;1-52;[Qingdouke青豆客] 穆菲菲  写真套图\n",
      "https://www.meitulu.com/item/10649.html;1-40;[Ugirls爱尤物] No.743 中超七美下天山 写真图片\n",
      "https://www.meitulu.com/item/10349.html;1-70;[Ugirls尤果网] U258 穆菲菲 写真套图\n",
      "https://www.meitulu.com/item/9763.html;1-16;[TouTiao头条女神] No.218 穆菲菲 - 内衣性感\n",
      "https://www.meitulu.com/item/9606.html;1-23;[TouTiao头条女神] No.207 穆菲菲 - 韩系恬美 情趣黑丝写真\n",
      "https://www.meitulu.com/item/9598.html;1-15;[TouTiao头条女神] No.202 穆菲菲 - 韩范恬美美腿\n"
     ]
    }
   ],
   "source": [
    "total_url = \"https://www.meitulu.com/t/mufeifei/\"\n",
    "total_url = \"https://www.meitulu.com/t/yumi-youmei/\"\n",
    "total_url = \"https://www.meitulu.com/t/1148/\"\n",
    "total_url = \"https://www.meitulu.com/t/1385/\"\n",
    "total_url = \"https://www.meitulu.com/t/shiyijia-kittyjiang/\"\n",
    "total_url = \"https://www.meitulu.com/t/zhaoximi-kitty/\"\n",
    "total_url = \"https://www.meitulu.com/t/1248/\"\n",
    "total_url = \"https://www.meitulu.com/t/songguoer-victoria/\"\n",
    "total_url = \"https://www.meitulu.com/t/1197/\"\n",
    "total_url = \"https://www.meitulu.com/t/1197/2.html\"\n",
    "total_url = \"https://www.meitulu.com/t/yusiqi/\"\n",
    "total_url = \"https://www.meitulu.com/t/wangmanni/\"\n",
    "total_url = \"https://www.meitulu.com/t/zhouyanxi/\"\n",
    "total_url = \"https://www.meitulu.com/t/zhouyanxi/2.html\"\n",
    "total_url = \"https://www.meitulu.com/t/1197/\"\n",
    "total_url = \"https://www.meitulu.com/t/1404/\"\n",
    "total_url = \"https://www.meitulu.com/t/mufeifei/\"\n",
    "\n",
    "html = requests.get(total_url)\n",
    "selector = etree.HTML(html.content)\n",
    "boxs = selector.xpath('/html/body/div[2]/div[4]/ul/li')\n",
    "regex = re.compile(r'\\d+')\n",
    "for li in boxs:\n",
    "    picture_url = li.xpath('a/@href')[0]\n",
    "    count_txt = li.xpath('p[1]/text()')[0]\n",
    "    match = regex.search(count_txt)\n",
    "    count = match.group()\n",
    "    title = li.xpath('p[@class=\"p_title\"]/a/text()')[0]\n",
    "    result = picture_url + ';' + '1-' + count + ';' + title\n",
    "    print(result)"
   ]
  },
  {
   "cell_type": "code",
   "execution_count": 9,
   "metadata": {},
   "outputs": [],
   "source": [
    "dest_dir = r'D:\\tool\\CAJ\\丝足\\土肥圆周妍希'\n",
    "fs = os.listdir(dest_dir)\n",
    "tmp_lines = []\n",
    "with open(\"urls.txt\", 'r', encoding='UTF-8') as file_lines:\n",
    "    lines = file_lines.readlines()\n",
    "    for line in lines:\n",
    "        dir_name = line.split(';')[2]\n",
    "        dir_name = re.sub('[\\/:*?\"<>|]', '', dir_name.strip())\n",
    "        if not(dir_name in fs):\n",
    "            tmp_lines.append(line)\n",
    "\n",
    "with open('urls.txt', 'w', encoding='utf-8') as file_obj:\n",
    "    file_obj.writelines(tmp_lines)"
   ]
  },
  {
   "cell_type": "code",
   "execution_count": 3,
   "metadata": {},
   "outputs": [
    {
     "name": "stdout",
     "output_type": "stream",
     "text": [
      "https://www.meitulu.com/item/19687.html;1-35;[Ugirls尤果圈] No.1587 李莉莉 - 全糖期待 写真套图\n",
      "https://www.meitulu.com/item/17699.html;1-35;[Ugirls爱尤物] No.1406 李莉莉 - 情难了\n",
      "https://www.meitulu.com/item/15497.html;1-35;[Ugirls尤果圈] No.1187 杨漫妮、宁夏、李莉莉、姜涵、Hasand、Mina、诗盈 - 8月精选 写真套图\n",
      "https://www.meitulu.com/item/15195.html;1-65;[Ugirls尤果网] U372 李莉莉 写真套图\n",
      "https://www.meitulu.com/item/14520.html;1-35;[尤果圈爱尤物] No.1106 李莉莉 - 一梦之美 写真套图\n"
     ]
    }
   ],
   "source": [
    "total_url = \"https://www.meitulu.com/search/%E9%99%B6%E5%96%9C%E4%B9%90\"\n",
    "total_url = \"https://www.meitulu.com/search/%E9%99%86%E8%90%B1%E8%90%B1\"\n",
    "total_url = \"https://www.meitulu.com/search/%E9%87%91%E6%A2%93%E9%A6%A8\"\n",
    "total_url = \"https://www.meitulu.com/search/%E6%B2%AB%E7%90%B3\"\n",
    "total_url = \"https://www.meitulu.com/search/%E5%AE%89%E6%9F%94\"\n",
    "total_url = \"https://www.meitulu.com/search/%E5%B0%8F%E7%90%AA\"\n",
    "total_url = \"https://www.meitulu.com/search/%E6%9D%8E%E8%8E%89%E8%8E%89\"\n",
    "\n",
    "html = requests.get(total_url)\n",
    "selector = etree.HTML(html.content)\n",
    "boxs = selector.xpath('/html/body/div[2]/div[2]/ul/li')\n",
    "regex = re.compile(r'\\d+')\n",
    "for li in boxs:\n",
    "    picture_url = li.xpath('a/@href')[0]\n",
    "    count_txt = li.xpath('p[1]/text()')[0]\n",
    "    match = regex.search(count_txt)\n",
    "    count = match.group()\n",
    "    title = li.xpath('p[@class=\"p_title\"]/a/text()')[0]\n",
    "    result = picture_url + ';' + '1-' + count + ';' + title\n",
    "    print(result)"
   ]
  },
  {
   "cell_type": "code",
   "execution_count": 4,
   "metadata": {},
   "outputs": [
    {
     "name": "stdout",
     "output_type": "stream",
     "text": [
      "https://www.mzitu.com/198025;1-59;一桌一床一沙发 女神Angela喜欢猫魅力释放性感满屋\n",
      "https://www.mzitu.com/196725;1-56;女神Angela喜欢猫秘书装秀美腿 黑丝短裙性感撩人\n",
      "https://www.mzitu.com/193567;1-58;气质美女Angela喜欢猫丝袜诱惑 芊芊美腿让你爱不释手\n",
      "https://www.mzitu.com/201405;1-55;妖艳美女Angela喜欢猫警花制服诱惑，黑丝短裙征服宅男\n",
      "https://www.mzitu.com/201072;1-62;风情女神Angela喜欢猫睡衣诱惑 床上风光令人销魂\n",
      "https://www.mzitu.com/191602;1-49;姿势好销魂！性感女神Angela喜欢猫饱满肥臀丰满圆润\n",
      "https://www.mzitu.com/190416;1-47;温柔女仆VS妩媚人妻 女模Angela喜欢猫角色扮演好诱人\n",
      "https://www.mzitu.com/187562;1-52;气质妹子Angela喜欢猫爆诱人床照 前凸后翘性感爆表\n",
      "https://www.mzitu.com/180977;1-50;媚眼红唇大长腿 宅男女神Angela喜欢猫性感写真清新唯美\n",
      "https://www.mzitu.com/175741;1-52;风情美人Angela喜欢猫性感写真，惹火娇躯韵味无穷\n",
      "https://www.mzitu.com/171956;1-55;晋升女神！极品美女Angela喜欢猫销魂床照曝光\n",
      "https://www.mzitu.com/3450;1-5;angelababy浪漫清纯图\n"
     ]
    }
   ],
   "source": [
    "total_url = \"https://www.mzitu.com/search/%E5%91%A8%E5%A6%8D%E5%B8%8C/\"\n",
    "total_url = \"https://www.mzitu.com/tag/luxuanxuan/\"\n",
    "total_url = \"https://www.mzitu.com/tag/azhu/\"\n",
    "total_url = \"https://www.mzitu.com/tag/taoxile/\"\n",
    "total_url = \"https://www.mzitu.com/search/%E5%B0%8F%E7%83%AD%E5%B7%B4/\"\n",
    "total_url = \"https://www.mzitu.com/search/Angela/\"\n",
    "host_headers = {\n",
    "            'Host': 'www.mzitu.com',\n",
    "            'Accept': '*/*',\n",
    "            'Accept-Encoding': 'gzip, deflate',\n",
    "            'Accept-Language': 'zh-CN,zh;q=0.9',\n",
    "            'Content-Type': 'text/html; charset=UTF-8',\n",
    "            'X-Requested-With': 'XMLHttpRequest',\n",
    "            'Referer': 'http://www.mzitu.com',\n",
    "            'User-Agent': 'Mozilla/5.0 (Windows NT 10.0; Win64; x64) AppleWebKit/537.36 (KHTML, like Gecko) Chrome/67.0.3396.87 Safari/537.36',\n",
    "        }\n",
    "html = requests.get(total_url, headers=host_headers)\n",
    "selector = etree.HTML(html.content)\n",
    "boxs = selector.xpath('/html/body/div[2]/div[1]/div[2]/ul/li[not(@class)]')\n",
    "regex = re.compile(r'\\d+')\n",
    "for li in boxs:\n",
    "    picture_url = li.xpath('a/@href')[0]\n",
    "    title_txt = li.xpath('span[1]/a/text()')[0]\n",
    "    html = requests.get(picture_url, headers=host_headers)\n",
    "    girl_selector = etree.HTML(html.text)\n",
    "    max_image = girl_selector.xpath('.//div[@class=\"pagenavi\"]/a/span/text()')[-2]\n",
    "#     match = regex.search(count_txt)\n",
    "#     count = match.group()\n",
    "#     title = li.xpath('p[@class=\"p_title\"]/a/text()')[0]\n",
    "    result = picture_url + ';' + '1-' + max_image + ';' + title_txt\n",
    "    print(result)"
   ]
  },
  {
   "cell_type": "code",
   "execution_count": null,
   "metadata": {},
   "outputs": [],
   "source": [
    "total_url = \"https://www.meitulu.com/search/%E9%99%B6%E5%96%9C%E4%B9%90\"\n",
    "total_url = \"https://www.meitulu.com/search/%E9%99%86%E8%90%B1%E8%90%B1\"\n",
    "total_url = \"https://www.meitulu.com/search/%E9%87%91%E6%A2%93%E9%A6%A8\"\n",
    "total_url = \"https://www.meitulu.com/search/%E6%B2%AB%E7%90%B3\"\n",
    "total_url = \"https://www.meitulu.com/search/%E5%AE%89%E6%9F%94\"\n",
    "total_url = \"https://www.meitulu.com/search/%E5%B0%8F%E7%90%AA\"\n",
    "total_url = \"https://www.meitulu.com/search/%E6%9D%8E%E8%8E%89%E8%8E%89\"\n",
    "\n",
    "html = requests.get(total_url)\n",
    "selector = etree.HTML(html.content)\n",
    "boxs = selector.xpath('/html/body/div[2]/div[2]/ul/li')\n",
    "regex = re.compile(r'\\d+')\n",
    "for li in boxs:\n",
    "    picture_url = li.xpath('a/@href')[0]\n",
    "    count_txt = li.xpath('p[1]/text()')[0]\n",
    "    match = regex.search(count_txt)\n",
    "    count = match.group()\n",
    "    title = li.xpath('p[@class=\"p_title\"]/a/text()')[0]\n",
    "    result = picture_url + ';' + '1-' + count + ';' + title\n",
    "    print(result)"
   ]
  }
 ],
 "metadata": {
  "kernelspec": {
   "display_name": "Python 3",
   "language": "python",
   "name": "python3"
  },
  "language_info": {
   "codemirror_mode": {
    "name": "ipython",
    "version": 3
   },
   "file_extension": ".py",
   "mimetype": "text/x-python",
   "name": "python",
   "nbconvert_exporter": "python",
   "pygments_lexer": "ipython3",
   "version": "3.7.1"
  }
 },
 "nbformat": 4,
 "nbformat_minor": 2
}
