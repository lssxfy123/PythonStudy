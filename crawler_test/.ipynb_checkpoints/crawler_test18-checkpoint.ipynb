{
 "cells": [
  {
   "cell_type": "code",
   "execution_count": 1,
   "metadata": {},
   "outputs": [],
   "source": [
    "from lxml import etree\n",
    "import requests\n",
    "import time\n",
    "import re\n",
    "import os\n",
    "from ctypes import *"
   ]
  },
  {
   "cell_type": "code",
   "execution_count": 4,
   "metadata": {
    "scrolled": true
   },
   "outputs": [
    {
     "name": "stdout",
     "output_type": "stream",
     "text": [
      "https://www.meitulu.com/item/11355.html;1-55;[MiStar魅妍社] Vol.171 王曼妮好Q - 旅拍的一系列片子\n",
      "https://www.meitulu.com/item/10550.html;1-46;[IMiss爱蜜社] Vol.163 王曼妮好Q - 街拍系列写真套图\n",
      "https://www.meitulu.com/item/10385.html;1-60;[IMiss爱蜜社] Vol.158 黄山旅拍六大女神合集写真\n",
      "https://www.meitulu.com/item/9365.html;1-40;[IMiss爱蜜社] Vol.141 王曼妮好Q - 街拍+泳装\n",
      "https://www.meitulu.com/item/9167.html;1-45;[IMISS爱蜜社] VOL.137 王曼妮好Q 写真套图\n",
      "https://www.meitulu.com/item/8699.html;1-20;[IMiss爱蜜社] Vol.131 格格污巫/王曼妮 - 模特合集 \n",
      "https://www.meitulu.com/item/6692.html;1-60;[IMiss爱蜜社] Vol.070 王曼妮&谭小雅 - 街拍小清新合集\n",
      "https://www.meitulu.com/item/1876.html;1-62;[TGOD推女神] 王曼妮zZ-《女神去哪儿》第11期\n"
     ]
    }
   ],
   "source": [
    "total_url = \"https://www.meitulu.com/t/1197/\"\n",
    "total_url = \"https://www.meitulu.com/t/zhouyanxi/\"\n",
    "total_url = \"https://www.meitulu.com/t/mufeifei/\"\n",
    "total_url = \"https://www.meitulu.com/t/yumi-youmei/\"\n",
    "total_url = \"https://www.meitulu.com/t/1148/\"\n",
    "total_url = \"https://www.meitulu.com/t/1385/\"\n",
    "total_url = \"https://www.meitulu.com/t/shiyijia-kittyjiang/\"\n",
    "total_url = \"https://www.meitulu.com/t/zhaoximi-kitty/\"\n",
    "total_url = \"https://www.meitulu.com/t/1248/\"\n",
    "total_url = \"https://www.meitulu.com/t/songguoer-victoria/\"\n",
    "total_url = \"https://www.meitulu.com/t/1197/\"\n",
    "total_url = \"https://www.meitulu.com/t/1197/2.html\"\n",
    "total_url = \"https://www.meitulu.com/t/yusiqi/\"\n",
    "total_url = \"https://www.meitulu.com/t/wangmanni/\"\n",
    "\n",
    "html = requests.get(total_url)\n",
    "selector = etree.HTML(html.content)\n",
    "boxs = selector.xpath('/html/body/div[2]/div[4]/ul/li')\n",
    "regex = re.compile(r'\\d+')\n",
    "for li in boxs:\n",
    "    picture_url = li.xpath('a/@href')[0]\n",
    "    count_txt = li.xpath('p[1]/text()')[0]\n",
    "    match = regex.search(count_txt)\n",
    "    count = match.group()\n",
    "    title = li.xpath('p[@class=\"p_title\"]/a/text()')[0]\n",
    "    result = picture_url + ';' + '1-' + count + ';' + title\n",
    "    print(result)"
   ]
  },
  {
   "cell_type": "code",
   "execution_count": 5,
   "metadata": {},
   "outputs": [],
   "source": [
    "dest_dir = r'D:\\tool\\CAJ\\丝足\\土肥圆周妍希'\n",
    "fs = os.listdir(dest_dir)\n",
    "tmp_lines = []\n",
    "with open(\"urls.txt\", 'r', encoding='UTF-8') as file_lines:\n",
    "    lines = file_lines.readlines()\n",
    "    for line in lines:\n",
    "        dir_name = line.split(';')[2]\n",
    "        dir_name = re.sub('[\\/:*?\"<>|]', '', dir_name.strip())\n",
    "        if not(dir_name in fs):\n",
    "            tmp_lines.append(line)\n",
    "\n",
    "with open('urls.txt', 'w', encoding='utf-8') as file_obj:\n",
    "    file_obj.writelines(tmp_lines)"
   ]
  },
  {
   "cell_type": "code",
   "execution_count": 3,
   "metadata": {},
   "outputs": [
    {
     "name": "stdout",
     "output_type": "stream",
     "text": [
      "https://www.meitulu.com/item/19687.html;1-35;[Ugirls尤果圈] No.1587 李莉莉 - 全糖期待 写真套图\n",
      "https://www.meitulu.com/item/17699.html;1-35;[Ugirls爱尤物] No.1406 李莉莉 - 情难了\n",
      "https://www.meitulu.com/item/15497.html;1-35;[Ugirls尤果圈] No.1187 杨漫妮、宁夏、李莉莉、姜涵、Hasand、Mina、诗盈 - 8月精选 写真套图\n",
      "https://www.meitulu.com/item/15195.html;1-65;[Ugirls尤果网] U372 李莉莉 写真套图\n",
      "https://www.meitulu.com/item/14520.html;1-35;[尤果圈爱尤物] No.1106 李莉莉 - 一梦之美 写真套图\n"
     ]
    }
   ],
   "source": [
    "total_url = \"https://www.meitulu.com/search/%E9%99%B6%E5%96%9C%E4%B9%90\"\n",
    "total_url = \"https://www.meitulu.com/search/%E9%99%86%E8%90%B1%E8%90%B1\"\n",
    "total_url = \"https://www.meitulu.com/search/%E9%87%91%E6%A2%93%E9%A6%A8\"\n",
    "total_url = \"https://www.meitulu.com/search/%E6%B2%AB%E7%90%B3\"\n",
    "total_url = \"https://www.meitulu.com/search/%E5%AE%89%E6%9F%94\"\n",
    "total_url = \"https://www.meitulu.com/search/%E5%B0%8F%E7%90%AA\"\n",
    "total_url = \"https://www.meitulu.com/search/%E6%9D%8E%E8%8E%89%E8%8E%89\"\n",
    "\n",
    "html = requests.get(total_url)\n",
    "selector = etree.HTML(html.content)\n",
    "boxs = selector.xpath('/html/body/div[2]/div[2]/ul/li')\n",
    "regex = re.compile(r'\\d+')\n",
    "for li in boxs:\n",
    "    picture_url = li.xpath('a/@href')[0]\n",
    "    count_txt = li.xpath('p[1]/text()')[0]\n",
    "    match = regex.search(count_txt)\n",
    "    count = match.group()\n",
    "    title = li.xpath('p[@class=\"p_title\"]/a/text()')[0]\n",
    "    result = picture_url + ';' + '1-' + count + ';' + title\n",
    "    print(result)"
   ]
  },
  {
   "cell_type": "code",
   "execution_count": 4,
   "metadata": {},
   "outputs": [
    {
     "name": "stdout",
     "output_type": "stream",
     "text": [
      "https://www.mzitu.com/198025;1-59;一桌一床一沙发 女神Angela喜欢猫魅力释放性感满屋\n",
      "https://www.mzitu.com/196725;1-56;女神Angela喜欢猫秘书装秀美腿 黑丝短裙性感撩人\n",
      "https://www.mzitu.com/193567;1-58;气质美女Angela喜欢猫丝袜诱惑 芊芊美腿让你爱不释手\n",
      "https://www.mzitu.com/201405;1-55;妖艳美女Angela喜欢猫警花制服诱惑，黑丝短裙征服宅男\n",
      "https://www.mzitu.com/201072;1-62;风情女神Angela喜欢猫睡衣诱惑 床上风光令人销魂\n",
      "https://www.mzitu.com/191602;1-49;姿势好销魂！性感女神Angela喜欢猫饱满肥臀丰满圆润\n",
      "https://www.mzitu.com/190416;1-47;温柔女仆VS妩媚人妻 女模Angela喜欢猫角色扮演好诱人\n",
      "https://www.mzitu.com/187562;1-52;气质妹子Angela喜欢猫爆诱人床照 前凸后翘性感爆表\n",
      "https://www.mzitu.com/180977;1-50;媚眼红唇大长腿 宅男女神Angela喜欢猫性感写真清新唯美\n",
      "https://www.mzitu.com/175741;1-52;风情美人Angela喜欢猫性感写真，惹火娇躯韵味无穷\n",
      "https://www.mzitu.com/171956;1-55;晋升女神！极品美女Angela喜欢猫销魂床照曝光\n",
      "https://www.mzitu.com/3450;1-5;angelababy浪漫清纯图\n"
     ]
    }
   ],
   "source": [
    "total_url = \"https://www.mzitu.com/search/%E5%91%A8%E5%A6%8D%E5%B8%8C/\"\n",
    "total_url = \"https://www.mzitu.com/tag/luxuanxuan/\"\n",
    "total_url = \"https://www.mzitu.com/tag/azhu/\"\n",
    "total_url = \"https://www.mzitu.com/tag/taoxile/\"\n",
    "total_url = \"https://www.mzitu.com/search/%E5%B0%8F%E7%83%AD%E5%B7%B4/\"\n",
    "total_url = \"https://www.mzitu.com/search/Angela/\"\n",
    "host_headers = {\n",
    "            'Host': 'www.mzitu.com',\n",
    "            'Accept': '*/*',\n",
    "            'Accept-Encoding': 'gzip, deflate',\n",
    "            'Accept-Language': 'zh-CN,zh;q=0.9',\n",
    "            'Content-Type': 'text/html; charset=UTF-8',\n",
    "            'X-Requested-With': 'XMLHttpRequest',\n",
    "            'Referer': 'http://www.mzitu.com',\n",
    "            'User-Agent': 'Mozilla/5.0 (Windows NT 10.0; Win64; x64) AppleWebKit/537.36 (KHTML, like Gecko) Chrome/67.0.3396.87 Safari/537.36',\n",
    "        }\n",
    "html = requests.get(total_url, headers=host_headers)\n",
    "selector = etree.HTML(html.content)\n",
    "boxs = selector.xpath('/html/body/div[2]/div[1]/div[2]/ul/li[not(@class)]')\n",
    "regex = re.compile(r'\\d+')\n",
    "for li in boxs:\n",
    "    picture_url = li.xpath('a/@href')[0]\n",
    "    title_txt = li.xpath('span[1]/a/text()')[0]\n",
    "    html = requests.get(picture_url, headers=host_headers)\n",
    "    girl_selector = etree.HTML(html.text)\n",
    "    max_image = girl_selector.xpath('.//div[@class=\"pagenavi\"]/a/span/text()')[-2]\n",
    "#     match = regex.search(count_txt)\n",
    "#     count = match.group()\n",
    "#     title = li.xpath('p[@class=\"p_title\"]/a/text()')[0]\n",
    "    result = picture_url + ';' + '1-' + max_image + ';' + title_txt\n",
    "    print(result)"
   ]
  },
  {
   "cell_type": "code",
   "execution_count": null,
   "metadata": {},
   "outputs": [],
   "source": []
  }
 ],
 "metadata": {
  "kernelspec": {
   "display_name": "Python 3",
   "language": "python",
   "name": "python3"
  },
  "language_info": {
   "codemirror_mode": {
    "name": "ipython",
    "version": 3
   },
   "file_extension": ".py",
   "mimetype": "text/x-python",
   "name": "python",
   "nbconvert_exporter": "python",
   "pygments_lexer": "ipython3",
   "version": "3.7.1"
  }
 },
 "nbformat": 4,
 "nbformat_minor": 2
}
