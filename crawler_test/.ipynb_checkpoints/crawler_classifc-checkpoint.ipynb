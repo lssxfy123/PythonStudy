{
 "cells": [
  {
   "cell_type": "code",
   "execution_count": 1,
   "metadata": {},
   "outputs": [],
   "source": [
    "from lxml import etree\n",
    "import requests\n",
    "import time\n",
    "import re\n",
    "import os\n",
    "import shutil"
   ]
  },
  {
   "cell_type": "code",
   "execution_count": 3,
   "metadata": {
    "scrolled": true
   },
   "outputs": [],
   "source": [
    "picture_dir = r'D:\\tool\\CAJ\\丝足'\n",
    "\n",
    "names = ['王曼妮']\n",
    "find_names = []\n",
    "files = os.listdir(picture_dir)\n",
    "for name in names:\n",
    "    find_names.clear();\n",
    "    if name.find('|'):\n",
    "        find_names = name.split('|')\n",
    "        dest_dir = os.path.join(picture_dir, find_names[0])\n",
    "    else:\n",
    "        dest_dir = os.path.join(picture_dir, name)\n",
    "        find_names.append(name)\n",
    "    \n",
    "    if not os.path.exists(dest_dir):\n",
    "        os.mkdir(dest_dir)\n",
    "    move_dirs =  [dir_name for dir_name in files if sum([dir_name.find(find_name) >= 0 for find_name in find_names])]\n",
    "    [shutil.move(os.path.join(picture_dir, move_dir), dest_dir) for move_dir in move_dirs]\n",
    "    [files.remove(move_dir) for move_dir in move_dirs]\n",
    "        \n",
    "\n"
   ]
  },
  {
   "cell_type": "code",
   "execution_count": null,
   "metadata": {},
   "outputs": [],
   "source": []
  }
 ],
 "metadata": {
  "kernelspec": {
   "display_name": "Python 3",
   "language": "python",
   "name": "python3"
  },
  "language_info": {
   "codemirror_mode": {
    "name": "ipython",
    "version": 3
   },
   "file_extension": ".py",
   "mimetype": "text/x-python",
   "name": "python",
   "nbconvert_exporter": "python",
   "pygments_lexer": "ipython3",
   "version": "3.7.1"
  }
 },
 "nbformat": 4,
 "nbformat_minor": 2
}
