{
 "cells": [
  {
   "cell_type": "code",
   "execution_count": 1,
   "metadata": {},
   "outputs": [],
   "source": [
    "import os\n",
    "import sys\n",
    "import re\n",
    "import datetime"
   ]
  },
  {
   "cell_type": "code",
   "execution_count": 16,
   "metadata": {},
   "outputs": [
    {
     "name": "stdout",
     "output_type": "stream",
     "text": [
      "exception:  C:\\Qt\\4.8.6\\src\\3rdparty\\ce-compat\\ce_time.c\n",
      "exception:  C:\\Qt\\4.8.6\\src\\3rdparty\\harfbuzz\\src\\harfbuzz-thai.c\n",
      "exception:  C:\\Qt\\4.8.6\\src\\3rdparty\\harfbuzz\\tests\\linebreaking\\main.cpp\n",
      "exception:  C:\\Qt\\4.8.6\\src\\3rdparty\\javascriptcore\\JavaScriptCore\\assembler\\ARMv7Assembler.h\n",
      "exception:  C:\\Qt\\4.8.6\\src\\3rdparty\\webkit\\Source\\JavaScriptCore\\dfg\\DFGRegisterBank.h\n",
      "exception:  C:\\Qt\\4.8.6\\src\\3rdparty\\webkit\\Source\\WebCore\\bindings\\js\\JSDOMImplementationCustom.cpp\n",
      "exception:  C:\\Qt\\4.8.6\\src\\3rdparty\\webkit\\Source\\WebCore\\platform\\DefaultLocalizationStrategy.cpp\n",
      "exception:  C:\\Qt\\4.8.6\\src\\3rdparty\\webkit\\Source\\WebKit\\qt\\tests\\qwebframe\\tst_qwebframe.cpp\n",
      "C:\\Qt\\4.8.6\\src\\corelib\\kernel\\qobject.cpp\n",
      "C:\\Qt\\4.8.6\\src\\corelib\\kernel\\qobject_p.h\n",
      "exception:  C:\\Qt\\4.8.6\\src\\gui\\text\\qtextengine.cpp\n"
     ]
    }
   ],
   "source": [
    "find_str_in_file(r'C:\\Qt\\4.8.6', 'QObjectConnectionListVector')"
   ]
  },
  {
   "cell_type": "code",
   "execution_count": 15,
   "metadata": {},
   "outputs": [],
   "source": [
    "def find_str_in_file(parent_path, target):\n",
    "    fs = os.listdir(parent_path)\n",
    "    fs = [file_path for file_path in fs if re.match(\"^[a-zA-Z]\", file_path) != None]\n",
    "    for fp in fs:\n",
    "        tmp_path = os.path.join(parent_path, fp)\n",
    "        if os.path.isdir(tmp_path):\n",
    "            traverse(tmp_path, target)"
   ]
  },
  {
   "cell_type": "code",
   "execution_count": 14,
   "metadata": {},
   "outputs": [],
   "source": [
    "def traverse(folder_path, target):\n",
    "    fs = os.listdir(folder_path)\n",
    "    for fp in fs:\n",
    "        tmp_path = os.path.join(folder_path, fp)\n",
    "        flag = False\n",
    "        if not(os.path.isdir(tmp_path)) and re.match(r'(.*)\\.[hc](pp)?$', tmp_path):\n",
    "            try:\n",
    "                with open(tmp_path, 'r', encoding='gbk') as fb:\n",
    "                    for line in fb:\n",
    "                        if line.find(target) > 0:\n",
    "                            print(tmp_path)\n",
    "                            break\n",
    "            except:\n",
    "                print(\"exception: \", tmp_path)\n",
    "        elif os.path.isdir(tmp_path):\n",
    "            traverse(tmp_path, target)\n",
    "                    "
   ]
  },
  {
   "cell_type": "code",
   "execution_count": null,
   "metadata": {},
   "outputs": [],
   "source": []
  }
 ],
 "metadata": {
  "kernelspec": {
   "display_name": "Python 3",
   "language": "python",
   "name": "python3"
  },
  "language_info": {
   "codemirror_mode": {
    "name": "ipython",
    "version": 3
   },
   "file_extension": ".py",
   "mimetype": "text/x-python",
   "name": "python",
   "nbconvert_exporter": "python",
   "pygments_lexer": "ipython3",
   "version": "3.7.1"
  }
 },
 "nbformat": 4,
 "nbformat_minor": 2
}
