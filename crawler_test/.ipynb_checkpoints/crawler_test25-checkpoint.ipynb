{
 "cells": [
  {
   "cell_type": "code",
   "execution_count": 3,
   "metadata": {},
   "outputs": [],
   "source": [
    "from selenium import webdriver\n",
    "from selenium.webdriver.chrome.options import Options\n",
    "from lxml import etree\n",
    "import requests\n",
    "import time\n",
    "import re\n",
    "import os\n",
    "from ctypes import *"
   ]
  },
  {
   "cell_type": "code",
   "execution_count": 4,
   "metadata": {},
   "outputs": [],
   "source": [
    "class PictureUrl:\n",
    "    def __init__(self, url_info, host_headers):\n",
    "        picture_url = url_info.split(';')[0]\n",
    "        self.title = url_info.split(';')[2]\n",
    "        self.start_number = url_info.split(';')[1].split('-')[0]\n",
    "        self.end_number = url_info.split(';')[1].split('-')[1]\n",
    "        self.save_path = \"d:/pictures/\"\n",
    "        self.urls = []\n",
    "        self.href = picture_url\n",
    "        self.is_found = True\n",
    "\n",
    "        self.host_headers = host_headers\n",
    "        self.item_number = re.findall('(\\d+)', self.href)[0]\n",
    "        file_path = self.save_path + re.sub('[\\/:*?\"<>|]', '', self.title.strip())\n",
    "        if not os.path.exists(file_path):\n",
    "            os.makedirs(file_path)\n",
    "        self.file_path = file_path\n",
    "\n",
    "    def get_image_url(self):\n",
    "        if self.is_found:\n",
    "            html = requests.get(self.href, headers=self.host_headers)\n",
    "            selector = etree.HTML(html.text)\n",
    "            image_prefix = selector.xpath('.//div[@class=\"content\"]/img/@src')[0]\n",
    "            index = image_prefix.rfind(r'/')\n",
    "            image_prefix = image_prefix[0:index+1]\n",
    "            time.sleep(3)\n",
    "            for j in range(int(self.start_number), int(self.end_number)):\n",
    "                url = image_prefix + str(j) + \".jpg\"\n",
    "                self.urls.append(url)"
   ]
  },
  {
   "cell_type": "code",
   "execution_count": 5,
   "metadata": {},
   "outputs": [],
   "source": [
    "class CrawlerPictures:\n",
    "    def __init__(self, urls_file):\n",
    "        self.urls_file = urls_file\n",
    "        self.max_page_number = 1\n",
    "        self.first_layer_urls = []\n",
    "        self.picture_urls = []\n",
    "        self.host_headers = {\n",
    "            'User-Agent': 'Mozilla/5.0 (Windows NT 10.0; Win64; x64) AppleWebKit/537.36 (KHTML, like Gecko) Chrome/67.0.3396.87 Safari/537.36',\n",
    "        }\n",
    "\n",
    "        self.picture_headers = {\n",
    "#             'Sec-Fetch-Dest': 'image',\n",
    "#             'Host':'t1.onvshen.com:85',\n",
    "#             'Accept': 'text/html,application/xhtml+xml,application/xml;q=0.9,image/webp,image/apng,*/*;q=0.8,application/signed-exchange;v=b3;q=0.9',\n",
    "#             'Accept-Encoding': 'gzip, deflate, br',\n",
    "#             'Accept-Language': 'zh-CN,zh;q=0.9',\n",
    "#             'Cache-Control': 'max-age=0',\n",
    "#             'Connection': 'keep-alive',\n",
    "#             'Sec-Fetch-Mode': 'navigate',\n",
    "#             'Sec-Fetch-Site': 'same-origin',\n",
    "#             'Sec-Fetch-User': '?1',\n",
    "#             'Upgrade-Insecure-Requests': '1',\n",
    "            'User-Agent': 'Mozilla/5.0 (Windows NT 10.0; Win64; x64) AppleWebKit/537.36 (KHTML, like Gecko) Chrome/67.0.3396.87 Safari/537.36',\n",
    "        }\n",
    "\n",
    "    # 获取第一层所有url\n",
    "    def get_first_layer_url(self):\n",
    "        with open(self.urls_file, 'r', encoding='UTF-8') as file_lines:\n",
    "            lines = file_lines.readlines()\n",
    "            for line in lines:\n",
    "                picture = PictureUrl(line, self.host_headers)\n",
    "                picture.get_image_url()\n",
    "                self.first_layer_urls.append(picture)\n",
    "\n",
    "    # 获取所有图片\n",
    "    def get_images(self):\n",
    "        print(\"start get images\")\n",
    "        for picture in self.first_layer_urls:\n",
    "            print(\"start get \" + picture.title)\n",
    "            for url in picture.urls:\n",
    "                self.get_image(url, picture.file_path)\n",
    "            time.sleep(2)\n",
    "            print(\"end get \" + picture.title)\n",
    "                \n",
    "    def get_image(self, url, file_path):\n",
    "        host = url.split(r'/')[2]\n",
    "        self.picture_headers['Host'] = host\n",
    "        image_html = requests.get(url, headers=self.picture_headers)\n",
    "        if image_html.status_code == 200:\n",
    "            file_name = file_path + '/' + url.split(r'/')[-1]\n",
    "            with open(file_name, 'wb') as file_obj:\n",
    "                file_obj.write(image_html.content)\n",
    "        else:\n",
    "            print(\"get image failed: \" + url)\n",
    "        #time.sleep(1)\n"
   ]
  },
  {
   "cell_type": "code",
   "execution_count": 6,
   "metadata": {},
   "outputs": [
    {
     "ename": "IndexError",
     "evalue": "list index out of range",
     "output_type": "error",
     "traceback": [
      "\u001b[1;31m---------------------------------------------------------------------------\u001b[0m",
      "\u001b[1;31mIndexError\u001b[0m                                Traceback (most recent call last)",
      "\u001b[1;32m<ipython-input-6-a1ba0375ff11>\u001b[0m in \u001b[0;36m<module>\u001b[1;34m\u001b[0m\n\u001b[0;32m      1\u001b[0m \u001b[0mcrawler_picture\u001b[0m \u001b[1;33m=\u001b[0m \u001b[0mCrawlerPictures\u001b[0m\u001b[1;33m(\u001b[0m\u001b[1;34m'urls_tj.txt'\u001b[0m\u001b[1;33m)\u001b[0m\u001b[1;33m\u001b[0m\u001b[1;33m\u001b[0m\u001b[0m\n\u001b[1;32m----> 2\u001b[1;33m \u001b[0mcrawler_picture\u001b[0m\u001b[1;33m.\u001b[0m\u001b[0mget_first_layer_url\u001b[0m\u001b[1;33m(\u001b[0m\u001b[1;33m)\u001b[0m\u001b[1;33m\u001b[0m\u001b[1;33m\u001b[0m\u001b[0m\n\u001b[0m\u001b[0;32m      3\u001b[0m \u001b[0mcrawler_picture\u001b[0m\u001b[1;33m.\u001b[0m\u001b[0mget_images\u001b[0m\u001b[1;33m(\u001b[0m\u001b[1;33m)\u001b[0m\u001b[1;33m\u001b[0m\u001b[1;33m\u001b[0m\u001b[0m\n",
      "\u001b[1;32m<ipython-input-5-88ffe226eeb2>\u001b[0m in \u001b[0;36mget_first_layer_url\u001b[1;34m(self)\u001b[0m\n\u001b[0;32m     30\u001b[0m             \u001b[1;32mfor\u001b[0m \u001b[0mline\u001b[0m \u001b[1;32min\u001b[0m \u001b[0mlines\u001b[0m\u001b[1;33m:\u001b[0m\u001b[1;33m\u001b[0m\u001b[1;33m\u001b[0m\u001b[0m\n\u001b[0;32m     31\u001b[0m                 \u001b[0mpicture\u001b[0m \u001b[1;33m=\u001b[0m \u001b[0mPictureUrl\u001b[0m\u001b[1;33m(\u001b[0m\u001b[0mline\u001b[0m\u001b[1;33m,\u001b[0m \u001b[0mself\u001b[0m\u001b[1;33m.\u001b[0m\u001b[0mhost_headers\u001b[0m\u001b[1;33m)\u001b[0m\u001b[1;33m\u001b[0m\u001b[1;33m\u001b[0m\u001b[0m\n\u001b[1;32m---> 32\u001b[1;33m                 \u001b[0mpicture\u001b[0m\u001b[1;33m.\u001b[0m\u001b[0mget_image_url\u001b[0m\u001b[1;33m(\u001b[0m\u001b[1;33m)\u001b[0m\u001b[1;33m\u001b[0m\u001b[1;33m\u001b[0m\u001b[0m\n\u001b[0m\u001b[0;32m     33\u001b[0m                 \u001b[0mself\u001b[0m\u001b[1;33m.\u001b[0m\u001b[0mfirst_layer_urls\u001b[0m\u001b[1;33m.\u001b[0m\u001b[0mappend\u001b[0m\u001b[1;33m(\u001b[0m\u001b[0mpicture\u001b[0m\u001b[1;33m)\u001b[0m\u001b[1;33m\u001b[0m\u001b[1;33m\u001b[0m\u001b[0m\n\u001b[0;32m     34\u001b[0m \u001b[1;33m\u001b[0m\u001b[0m\n",
      "\u001b[1;32m<ipython-input-4-1ae842fad6b0>\u001b[0m in \u001b[0;36mget_image_url\u001b[1;34m(self)\u001b[0m\n\u001b[0;32m     21\u001b[0m             \u001b[0mhtml\u001b[0m \u001b[1;33m=\u001b[0m \u001b[0mrequests\u001b[0m\u001b[1;33m.\u001b[0m\u001b[0mget\u001b[0m\u001b[1;33m(\u001b[0m\u001b[0mself\u001b[0m\u001b[1;33m.\u001b[0m\u001b[0mhref\u001b[0m\u001b[1;33m,\u001b[0m \u001b[0mheaders\u001b[0m\u001b[1;33m=\u001b[0m\u001b[0mself\u001b[0m\u001b[1;33m.\u001b[0m\u001b[0mhost_headers\u001b[0m\u001b[1;33m)\u001b[0m\u001b[1;33m\u001b[0m\u001b[1;33m\u001b[0m\u001b[0m\n\u001b[0;32m     22\u001b[0m             \u001b[0mselector\u001b[0m \u001b[1;33m=\u001b[0m \u001b[0metree\u001b[0m\u001b[1;33m.\u001b[0m\u001b[0mHTML\u001b[0m\u001b[1;33m(\u001b[0m\u001b[0mhtml\u001b[0m\u001b[1;33m.\u001b[0m\u001b[0mtext\u001b[0m\u001b[1;33m)\u001b[0m\u001b[1;33m\u001b[0m\u001b[1;33m\u001b[0m\u001b[0m\n\u001b[1;32m---> 23\u001b[1;33m             \u001b[0mimage_prefix\u001b[0m \u001b[1;33m=\u001b[0m \u001b[0mselector\u001b[0m\u001b[1;33m.\u001b[0m\u001b[0mxpath\u001b[0m\u001b[1;33m(\u001b[0m\u001b[1;34m'.//div[@class=\"content\"]/img/@original'\u001b[0m\u001b[1;33m)\u001b[0m\u001b[1;33m[\u001b[0m\u001b[1;36m0\u001b[0m\u001b[1;33m]\u001b[0m\u001b[1;33m\u001b[0m\u001b[1;33m\u001b[0m\u001b[0m\n\u001b[0m\u001b[0;32m     24\u001b[0m             \u001b[0mindex\u001b[0m \u001b[1;33m=\u001b[0m \u001b[0mimage_prefix\u001b[0m\u001b[1;33m.\u001b[0m\u001b[0mrfind\u001b[0m\u001b[1;33m(\u001b[0m\u001b[1;34mr'/'\u001b[0m\u001b[1;33m)\u001b[0m\u001b[1;33m\u001b[0m\u001b[1;33m\u001b[0m\u001b[0m\n\u001b[0;32m     25\u001b[0m             \u001b[0mimage_prefix\u001b[0m \u001b[1;33m=\u001b[0m \u001b[0mimage_prefix\u001b[0m\u001b[1;33m[\u001b[0m\u001b[1;36m0\u001b[0m\u001b[1;33m:\u001b[0m\u001b[0mindex\u001b[0m\u001b[1;33m+\u001b[0m\u001b[1;36m1\u001b[0m\u001b[1;33m]\u001b[0m\u001b[1;33m\u001b[0m\u001b[1;33m\u001b[0m\u001b[0m\n",
      "\u001b[1;31mIndexError\u001b[0m: list index out of range"
     ]
    }
   ],
   "source": [
    "crawler_picture = CrawlerPictures('urls_tj.txt')\n",
    "crawler_picture.get_first_layer_url()\n",
    "crawler_picture.get_images()"
   ]
  },
  {
   "cell_type": "code",
   "execution_count": 9,
   "metadata": {},
   "outputs": [
    {
     "name": "stdout",
     "output_type": "stream",
     "text": [
      "200\n",
      "['https://lns.hywly.com/a/1/34196/1.jpg', 'https://lns.hywly.com/a/1/34196/2.jpg', 'https://lns.hywly.com/a/1/34196/3.jpg', 'https://lns.hywly.com/a/1/34196/4.jpg', 'https://lns.hywly.com/a/1/34196/5.jpg']\n"
     ]
    }
   ],
   "source": [
    "url = \"https://www.tujigu.com/a/34196/\"\n",
    "\n",
    "# User-Agent: Mozilla/5.0 (Windows NT 10.0; Win64; x64) AppleWebKit/537.36 (KHTML, like Gecko) Chrome/80.0.3987.149 Safari/537.36\n",
    "host_headers = {\n",
    "    #'Referer': 'https://www.nvshens.net/g/32866/',\n",
    "#     'Sec-Fetch-Dest': 'document',\n",
    "#     'Host':'img.onvshen.com:85',\n",
    "#     'Accept': 'text/html,application/xhtml+xml,application/xml;q=0.9,image/webp,image/apng,*/*;q=0.8,application/signed-exchange;v=b3;q=0.9',\n",
    "#     'Accept-Encoding': 'gzip, deflate, br',\n",
    "#     'Accept-Language': 'zh-CN,zh;q=0.9',\n",
    "#     'Cache-Control': 'max-age=0',\n",
    "#     'Connection': 'keep-alive',\n",
    "#     #'Cookie': 'Hm_lvt_1bb490b9b92efa278bd96f00d3d8ebb4=1590409255; Hm_lvt_1752519ac23aa7d83b98d4602cffe1a2=1590409433; gallery_32866=1; gallery_undefined=1; records=%5B%7B%22id%22%3A%2227598%22%2C%22name%22%3A%22%u9676%u559C%u4E50%22%7D%2C%7B%22id%22%3A%2222204%22%2C%22name%22%3A%22%u5C0F%u70ED%u5DF4%22%7D%5D; gallery_32606=1; Hm_lpvt_1752519ac23aa7d83b98d4602cffe1a2=1590411200; Hm_lpvt_1bb490b9b92efa278bd96f00d3d8ebb4=1590411932',\n",
    "#     'Sec-Fetch-Mode': 'navigate',\n",
    "#     'Sec-Fetch-Site': 'none',\n",
    "#     'Sec-Fetch-User': '?1',\n",
    "#     'Upgrade-Insecure-Requests': '1',\n",
    "    'User-Agent': 'Mozilla/5.0 (Windows NT 10.0; Win64; x64) AppleWebKit/537.36 (KHTML, like Gecko) Chrome/67.0.3396.87 Safari/537.36',\n",
    "        }\n",
    "\n",
    "html = requests.get(url, headers=host_headers)\n",
    "print(html.status_code)\n",
    "selector = etree.HTML(html.text)\n",
    "image_prefix = selector.xpath('.//div[@class=\"content\"]/img/@src')\n",
    "print(image_prefix)"
   ]
  },
  {
   "cell_type": "code",
   "execution_count": 66,
   "metadata": {},
   "outputs": [
    {
     "name": "stdout",
     "output_type": "stream",
     "text": [
      "t1.onvshen.com:85\n",
      "\n"
     ]
    }
   ],
   "source": [
    "url = \"https://t1.onvshen.com:85/gallery/27598/32866/s/002.jpg\"\n",
    "\n",
    "print(url.split(r'/')[2])\n",
    "print()"
   ]
  },
  {
   "cell_type": "code",
   "execution_count": 50,
   "metadata": {},
   "outputs": [
    {
     "name": "stdout",
     "output_type": "stream",
     "text": [
      "005\n",
      "00005\n"
     ]
    }
   ],
   "source": [
    "n = 5\n",
    "n1 = \"5\"\n",
    "print(n1.zfill(3))\n",
    "print(format(n, \"05d\"))"
   ]
  },
  {
   "cell_type": "code",
   "execution_count": null,
   "metadata": {},
   "outputs": [],
   "source": []
  }
 ],
 "metadata": {
  "kernelspec": {
   "display_name": "Python 3",
   "language": "python",
   "name": "python3"
  },
  "language_info": {
   "codemirror_mode": {
    "name": "ipython",
    "version": 3
   },
   "file_extension": ".py",
   "mimetype": "text/x-python",
   "name": "python",
   "nbconvert_exporter": "python",
   "pygments_lexer": "ipython3",
   "version": "3.7.1"
  }
 },
 "nbformat": 4,
 "nbformat_minor": 2
}
