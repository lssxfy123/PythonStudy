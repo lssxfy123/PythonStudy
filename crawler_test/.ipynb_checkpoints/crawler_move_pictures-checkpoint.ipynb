{
 "cells": [
  {
   "cell_type": "code",
   "execution_count": 1,
   "metadata": {},
   "outputs": [],
   "source": [
    "from lxml import etree\n",
    "import requests\n",
    "import time\n",
    "import re\n",
    "import os\n",
    "import shutil\n",
    "from ctypes import *"
   ]
  },
  {
   "cell_type": "code",
   "execution_count": 7,
   "metadata": {
    "scrolled": true
   },
   "outputs": [],
   "source": [
    "pictures_dir = r'D:\\pictures'\n",
    "dest_dir = r'D:\\tool\\CAJ\\丝足'\n",
    "\n",
    "with open('urls.txt', 'r+', encoding='utf-8') as file_obj:\n",
    "    lines = file_obj.readlines()\n",
    "    tmp_lines = []\n",
    "    for line in lines:\n",
    "        picture_dir = line.split(';')[2]\n",
    "        count = line.split(';')[1].split('-')[1]\n",
    "        tmp_dest_dir = os.path.join(dest_dir, re.sub('[\\/:*?\"<>|]', '', picture_dir.strip()))\n",
    "        if os.path.exists(tmp_dest_dir):\n",
    "            continue\n",
    "        picture_dir = os.path.join(pictures_dir, re.sub('[\\/:*?\"<>|]', '', picture_dir.strip()))\n",
    "    \n",
    "        if not os.path.exists(picture_dir):\n",
    "            print('not exist ', picture_dir)\n",
    "            tmp_lines.append(line)\n",
    "        else:\n",
    "            fs = os.listdir(picture_dir)\n",
    "            if (len(fs) == int(count)):\n",
    "                shutil.move(picture_dir, dest_dir)\n",
    "            else:\n",
    "                tmp_lines.append(line)\n",
    "\n",
    "with open('urls.txt', 'w', encoding='utf-8') as file_obj:\n",
    "    file_obj.writelines(tmp_lines)\n",
    "\n"
   ]
  },
  {
   "cell_type": "code",
   "execution_count": 16,
   "metadata": {},
   "outputs": [],
   "source": [
    "with open('urls_mz.txt', 'r+', encoding='utf-8') as file_obj:\n",
    "    lines = file_obj.readlines()\n",
    "    tmp_lines = []\n",
    "    for line in lines:\n",
    "        picture_dir = line.split(';')[2]\n",
    "        count = line.split(';')[1].split('-')[1]\n",
    "        picture_dir = os.path.join(pictures_dir, re.sub('[\\/:*?\"<>|]', '', picture_dir.strip()))\n",
    "        if not os.path.exists(picture_dir):\n",
    "            print('not exist ', picture_dir)\n",
    "        else:\n",
    "            fs = os.listdir(picture_dir)\n",
    "            if (len(fs) == int(count)):\n",
    "                shutil.move(picture_dir, dest_dir)\n",
    "            else:\n",
    "                tmp_lines.append(line)\n",
    "\n",
    "with open('urls_mz.txt', 'w', encoding='utf-8') as file_obj:\n",
    "    file_obj.writelines(tmp_lines)"
   ]
  },
  {
   "cell_type": "code",
   "execution_count": null,
   "metadata": {},
   "outputs": [],
   "source": [
    "with open('urls_at.txt', 'r+', encoding='utf-8') as file_obj:\n",
    "    lines = file_obj.readlines()\n",
    "    tmp_lines = []\n",
    "    for line in lines:\n",
    "        picture_dir = line.split(';')[2]\n",
    "        count = line.split(';')[1].split('-')[1]\n",
    "        picture_dir = os.path.join(pictures_dir, re.sub('[\\/:*?\"<>|]', '', picture_dir.strip()))\n",
    "        if not os.path.exists(picture_dir):\n",
    "            print('not exist ', picture_dir)\n",
    "        else:\n",
    "            fs = os.listdir(picture_dir)\n",
    "            if (len(fs) == int(count)):\n",
    "                shutil.move(picture_dir, dest_dir)\n",
    "            else:\n",
    "                tmp_lines.append(line)\n",
    "\n",
    "with open('urls_at.txt', 'w', encoding='utf-8') as file_obj:\n",
    "    file_obj.writelines(tmp_lines)"
   ]
  }
 ],
 "metadata": {
  "kernelspec": {
   "display_name": "Python 3",
   "language": "python",
   "name": "python3"
  },
  "language_info": {
   "codemirror_mode": {
    "name": "ipython",
    "version": 3
   },
   "file_extension": ".py",
   "mimetype": "text/x-python",
   "name": "python",
   "nbconvert_exporter": "python",
   "pygments_lexer": "ipython3",
   "version": "3.7.1"
  }
 },
 "nbformat": 4,
 "nbformat_minor": 2
}
