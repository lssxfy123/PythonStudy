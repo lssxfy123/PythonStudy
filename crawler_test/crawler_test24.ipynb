{
 "cells": [
  {
   "cell_type": "code",
   "execution_count": 1,
   "metadata": {},
   "outputs": [],
   "source": [
    "from selenium import webdriver\n",
    "from selenium.webdriver.chrome.options import Options\n",
    "from lxml import etree\n",
    "import requests\n",
    "import time\n",
    "import re\n",
    "import os\n",
    "from ctypes import *"
   ]
  },
  {
   "cell_type": "code",
   "execution_count": 7,
   "metadata": {},
   "outputs": [],
   "source": [
    "url = \"https://www.f4mm.com/beauty/20200512/20492.html\"\n",
    "host_headers = {\n",
    "    'User-Agent': 'Mozilla/5.0 (Windows NT 10.0; Win64; x64) AppleWebKit/537.36 (KHTML, like Gecko) Chrome/67.0.3396.87 Safari/537.36',\n",
    "        }\n",
    "\n",
    "html = requests.get(url, headers=host_headers)\n",
    "selector = etree.HTML(html.text)\n",
    "image_urls = selector.xpath('.//div[@id=\"masonry\"]/div/img/@data-src')\n",
    "for image_url in image_urls:\n",
    "    image_html = requests.get(image_url, headers=host_headers)\n",
    "    if image_html.status_code == 200:\n",
    "        file_name = \"d:/pictures/\" + image_url.split(r'/')[-1]\n",
    "        with open(file_name, 'wb') as file_obj:\n",
    "            file_obj.write(image_html.content)\n",
    "    else:\n",
    "        break"
   ]
  },
  {
   "cell_type": "code",
   "execution_count": 64,
   "metadata": {},
   "outputs": [
    {
     "name": "stdout",
     "output_type": "stream",
     "text": [
      "200\n"
     ]
    }
   ],
   "source": [
    "url = \"https://img.onvshen.com:85/gallery/27598/32453/s/001.jpg\"\n",
    "\n",
    "# User-Agent: Mozilla/5.0 (Windows NT 10.0; Win64; x64) AppleWebKit/537.36 (KHTML, like Gecko) Chrome/80.0.3987.149 Safari/537.36\n",
    "host_headers = {\n",
    "    #'Referer': 'https://www.nvshens.net/g/32866/',\n",
    "    'Sec-Fetch-Dest': 'document',\n",
    "    'Host':'img.onvshen.com:85',\n",
    "    'Accept': 'text/html,application/xhtml+xml,application/xml;q=0.9,image/webp,image/apng,*/*;q=0.8,application/signed-exchange;v=b3;q=0.9',\n",
    "    'Accept-Encoding': 'gzip, deflate, br',\n",
    "    'Accept-Language': 'zh-CN,zh;q=0.9',\n",
    "    'Cache-Control': 'max-age=0',\n",
    "    'Connection': 'keep-alive',\n",
    "    #'Cookie': 'Hm_lvt_1bb490b9b92efa278bd96f00d3d8ebb4=1590409255; Hm_lvt_1752519ac23aa7d83b98d4602cffe1a2=1590409433; gallery_32866=1; gallery_undefined=1; records=%5B%7B%22id%22%3A%2227598%22%2C%22name%22%3A%22%u9676%u559C%u4E50%22%7D%2C%7B%22id%22%3A%2222204%22%2C%22name%22%3A%22%u5C0F%u70ED%u5DF4%22%7D%5D; gallery_32606=1; Hm_lpvt_1752519ac23aa7d83b98d4602cffe1a2=1590411200; Hm_lpvt_1bb490b9b92efa278bd96f00d3d8ebb4=1590411932',\n",
    "    'Sec-Fetch-Mode': 'navigate',\n",
    "    'Sec-Fetch-Site': 'none',\n",
    "    'Sec-Fetch-User': '?1',\n",
    "    'Upgrade-Insecure-Requests': '1',\n",
    "    'User-Agent': 'Mozilla/5.0 (Windows NT 10.0; Win64; x64) AppleWebKit/537.36 (KHTML, like Gecko) Chrome/67.0.3396.87 Safari/537.36',\n",
    "        }\n",
    "\n",
    "html = requests.get(url, headers=host_headers)\n",
    "print(html.status_code)\n",
    "\n",
    "file_name = r'D:\\pictures\\1.jpg'\n",
    "with open(file_name, 'wb') as file_obj:\n",
    "    file_obj.write(html.content)"
   ]
  },
  {
   "cell_type": "code",
   "execution_count": null,
   "metadata": {},
   "outputs": [],
   "source": []
  }
 ],
 "metadata": {
  "kernelspec": {
   "display_name": "Python 3",
   "language": "python",
   "name": "python3"
  },
  "language_info": {
   "codemirror_mode": {
    "name": "ipython",
    "version": 3
   },
   "file_extension": ".py",
   "mimetype": "text/x-python",
   "name": "python",
   "nbconvert_exporter": "python",
   "pygments_lexer": "ipython3",
   "version": "3.7.1"
  }
 },
 "nbformat": 4,
 "nbformat_minor": 2
}
