{
 "cells": [
  {
   "cell_type": "code",
   "execution_count": 1,
   "metadata": {},
   "outputs": [],
   "source": [
    "from selenium import webdriver\n",
    "from selenium.webdriver.chrome.options import Options\n",
    "from lxml import etree\n",
    "import requests\n",
    "import time\n",
    "import re\n",
    "import os\n",
    "from ctypes import *"
   ]
  },
  {
   "cell_type": "code",
   "execution_count": 2,
   "metadata": {},
   "outputs": [
    {
     "name": "stdout",
     "output_type": "stream",
     "text": [
      "http://d.quantuwang.co/2021/01/18/23921/;1-79;[XIUREN]秀人网 No.3017 唐安琪\n",
      "http://d.quantuwang.co/2021/01/11/23862/;1-46;[XIUREN]秀人网 No.2993 唐安琪\n",
      "http://d.quantuwang.co/2021/01/04/23739/;1-66;[XIUREN]秀人网 No.2968 唐安琪\n",
      "http://d.quantuwang.co/2020/12/22/23628/;1-78;[XIUREN]秀人网 No.2927 唐安琪\n",
      "http://d.quantuwang.co/2020/12/14/23536/;1-50;[XIUREN]秀人网 No.2893 唐安琪\n",
      "http://d.quantuwang.co/2020/12/07/23447/;1-61;[XIUREN]秀人网 No.2865 唐安琪\n",
      "http://d.quantuwang.co/2020/11/30/23344/;1-70;[XIUREN]秀人网 No.2840 唐安琪\n",
      "http://d.quantuwang.co/2020/11/23/23270/;1-62;[XIUREN]秀人网 No.2815 唐安琪\n",
      "http://d.quantuwang.co/2020/11/17/23250/;1-55;[XIUREN]秀人网 No.2795 唐安琪\n",
      "http://d.quantuwang.co/2020/11/10/23124/;1-71;[XIUREN]秀人网 No.2762 唐安琪\n",
      "http://d.quantuwang.co/2020/11/04/23101/;1-66;[XIUREN]秀人网 No.2739 唐安琪\n",
      "http://d.quantuwang.co/2020/10/30/23004/;1-75;[XIUREN]秀人网 No.2720 唐安琪\n"
     ]
    }
   ],
   "source": [
    "url = \"http://www.quantuwang.cc/t/552de7273733ea34.html\"\n",
    "url_header = \"http://www.quantuwang.cc\"\n",
    "host_headers = {\n",
    "    'User-Agent': 'Mozilla/5.0 (Windows NT 10.0; Win64; x64) AppleWebKit/537.36 (KHTML, like Gecko) Chrome/67.0.3396.87 Safari/537.36',\n",
    "        }\n",
    "\n",
    "html = requests.get(url, headers=host_headers)\n",
    "html.encoding = 'utf-8'\n",
    "selector = etree.HTML(html.text)\n",
    "image_htmls = selector.xpath('.//div[@class=\"box\"]/div[@class=\"left\"]/div[@class=\"index_left\"]//li/a/@href')\n",
    "image_htmls = [url_header + image_html for image_html in image_htmls]\n",
    "image_counts = []\n",
    "for image_html in image_htmls:\n",
    "    html1 = requests.get(image_html, headers=host_headers)\n",
    "    selector1 = etree.HTML(html1.text)\n",
    "    a = selector1.xpath('.//div[@class=\"box\"]/div[@class=\"left\"]/div[@class=\"index_left\"]/div[@class=\"c_page\"]/a')\n",
    "    count = len(a) + 1\n",
    "    image_counts.append(count)\n",
    "image_urls = selector.xpath('.//div[@class=\"box\"]/div[@class=\"left\"]/div[@class=\"index_left\"]//li//img/@src')\n",
    "image_alts = selector.xpath('.//div[@class=\"box\"]/div[@class=\"left\"]/div[@class=\"index_left\"]//li//img/@alt')\n",
    "image_urls = [image_urls[i].replace('0.jpg', ';') + \"1-\" + str(image_counts[i]) + \";\" + image_alts[i] for i in range(len(image_urls))]\n",
    "\n",
    "for image_url in image_urls:\n",
    "    print(image_url)\n"
   ]
  },
  {
   "cell_type": "code",
   "execution_count": 49,
   "metadata": {},
   "outputs": [
    {
     "data": {
      "text/plain": [
       "16"
      ]
     },
     "execution_count": 49,
     "metadata": {},
     "output_type": "execute_result"
    }
   ],
   "source": [
    "len(image_counts)\n",
    "len(image_urls)"
   ]
  },
  {
   "cell_type": "code",
   "execution_count": 37,
   "metadata": {},
   "outputs": [
    {
     "data": {
      "text/plain": [
       "'\\\\xe7\\\\xa7\\\\x80\\\\xe4\\\\xba\\\\xba\\\\xe7\\\\xbd\\\\x91 No.2759 \\\\xe6\\\\xb2\\\\x88\\\\xe6\\\\xa2\\\\xa6\\\\xe7\\\\x91\\\\xb6'"
      ]
     },
     "execution_count": 37,
     "metadata": {},
     "output_type": "execute_result"
    }
   ],
   "source": [
    "'ç§\\x80äººç½\\x91 No.2759 æ²\\x88æ¢¦ç\\x91¶'.encode('unicode_escape').decode('gbk')"
   ]
  },
  {
   "cell_type": "code",
   "execution_count": 36,
   "metadata": {},
   "outputs": [
    {
     "data": {
      "text/plain": [
       "'aaa'"
      ]
     },
     "execution_count": 36,
     "metadata": {},
     "output_type": "execute_result"
    }
   ],
   "source": [
    "'aaa0.jpg'.replace('0.jpg', '')"
   ]
  },
  {
   "cell_type": "code",
   "execution_count": 64,
   "metadata": {},
   "outputs": [
    {
     "name": "stdout",
     "output_type": "stream",
     "text": [
      "200\n"
     ]
    }
   ],
   "source": [
    "url = \"https://img.onvshen.com:85/gallery/27598/32453/s/001.jpg\"\n",
    "\n",
    "# User-Agent: Mozilla/5.0 (Windows NT 10.0; Win64; x64) AppleWebKit/537.36 (KHTML, like Gecko) Chrome/80.0.3987.149 Safari/537.36\n",
    "host_headers = {\n",
    "    #'Referer': 'https://www.nvshens.net/g/32866/',\n",
    "    'Sec-Fetch-Dest': 'document',\n",
    "    'Host':'img.onvshen.com:85',\n",
    "    'Accept': 'text/html,application/xhtml+xml,application/xml;q=0.9,image/webp,image/apng,*/*;q=0.8,application/signed-exchange;v=b3;q=0.9',\n",
    "    'Accept-Encoding': 'gzip, deflate, br',\n",
    "    'Accept-Language': 'zh-CN,zh;q=0.9',\n",
    "    'Cache-Control': 'max-age=0',\n",
    "    'Connection': 'keep-alive',\n",
    "    #'Cookie': 'Hm_lvt_1bb490b9b92efa278bd96f00d3d8ebb4=1590409255; Hm_lvt_1752519ac23aa7d83b98d4602cffe1a2=1590409433; gallery_32866=1; gallery_undefined=1; records=%5B%7B%22id%22%3A%2227598%22%2C%22name%22%3A%22%u9676%u559C%u4E50%22%7D%2C%7B%22id%22%3A%2222204%22%2C%22name%22%3A%22%u5C0F%u70ED%u5DF4%22%7D%5D; gallery_32606=1; Hm_lpvt_1752519ac23aa7d83b98d4602cffe1a2=1590411200; Hm_lpvt_1bb490b9b92efa278bd96f00d3d8ebb4=1590411932',\n",
    "    'Sec-Fetch-Mode': 'navigate',\n",
    "    'Sec-Fetch-Site': 'none',\n",
    "    'Sec-Fetch-User': '?1',\n",
    "    'Upgrade-Insecure-Requests': '1',\n",
    "    'User-Agent': 'Mozilla/5.0 (Windows NT 10.0; Win64; x64) AppleWebKit/537.36 (KHTML, like Gecko) Chrome/67.0.3396.87 Safari/537.36',\n",
    "        }\n",
    "\n",
    "html = requests.get(url, headers=host_headers)\n",
    "print(html.status_code)\n",
    "\n",
    "file_name = r'D:\\pictures\\1.jpg'\n",
    "with open(file_name, 'wb') as file_obj:\n",
    "    file_obj.write(html.content)"
   ]
  },
  {
   "cell_type": "code",
   "execution_count": null,
   "metadata": {},
   "outputs": [],
   "source": []
  }
 ],
 "metadata": {
  "kernelspec": {
   "display_name": "Python 3",
   "language": "python",
   "name": "python3"
  },
  "language_info": {
   "codemirror_mode": {
    "name": "ipython",
    "version": 3
   },
   "file_extension": ".py",
   "mimetype": "text/x-python",
   "name": "python",
   "nbconvert_exporter": "python",
   "pygments_lexer": "ipython3",
   "version": "3.7.1"
  }
 },
 "nbformat": 4,
 "nbformat_minor": 2
}
