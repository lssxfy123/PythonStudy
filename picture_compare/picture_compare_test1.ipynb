{
 "cells": [
  {
   "cell_type": "code",
   "execution_count": 2,
   "metadata": {},
   "outputs": [],
   "source": [
    "import numpy as np\n",
    "import cv2"
   ]
  },
  {
   "cell_type": "code",
   "execution_count": 3,
   "metadata": {},
   "outputs": [],
   "source": [
    "image1 = cv2.imread(\"0.jpg\")\n",
    "\n",
    "image2 = cv2.imread(\"1.jpg\")\n",
    "difference = cv2.subtract(image1, image2)"
   ]
  },
  {
   "cell_type": "code",
   "execution_count": 4,
   "metadata": {},
   "outputs": [
    {
     "name": "stdout",
     "output_type": "stream",
     "text": [
      "两张图片不一样\n"
     ]
    }
   ],
   "source": [
    "result = not np.any(difference) #if difference is all zeros it will return False\n",
    "\n",
    "if result:\n",
    "    print(\"两张图片一样\")\n",
    "else:\n",
    "    print (\"两张图片不一样\")\n"
   ]
  },
  {
   "cell_type": "code",
   "execution_count": 5,
   "metadata": {},
   "outputs": [],
   "source": [
    "image3 = cv2.imread(\"2.jpg\")\n",
    "difference = cv2.subtract(image1, image3)"
   ]
  },
  {
   "cell_type": "code",
   "execution_count": 6,
   "metadata": {},
   "outputs": [
    {
     "name": "stdout",
     "output_type": "stream",
     "text": [
      "两张图片一样\n"
     ]
    }
   ],
   "source": [
    "result = not np.any(difference) #if difference is all zeros it will return False\n",
    "\n",
    "if result:\n",
    "    print(\"两张图片一样\")\n",
    "else:\n",
    "    print (\"两张图片不一样\")"
   ]
  },
  {
   "cell_type": "code",
   "execution_count": null,
   "metadata": {},
   "outputs": [],
   "source": []
  }
 ],
 "metadata": {
  "kernelspec": {
   "display_name": "Python 3",
   "language": "python",
   "name": "python3"
  },
  "language_info": {
   "codemirror_mode": {
    "name": "ipython",
    "version": 3
   },
   "file_extension": ".py",
   "mimetype": "text/x-python",
   "name": "python",
   "nbconvert_exporter": "python",
   "pygments_lexer": "ipython3",
   "version": "3.7.1"
  }
 },
 "nbformat": 4,
 "nbformat_minor": 2
}
